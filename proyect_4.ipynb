{
 "cells": [
  {
   "cell_type": "markdown",
   "id": "2890d5fe",
   "metadata": {},
   "source": [
    "# ¡Hola Audrey! 😊\n",
    "\n",
    "Mi nombre es **Alejandro Castellanos** y hoy tengo el placer de ser el revisor de tu proyecto.\n",
    "\n",
    "Voy a revisar todo tu código con detalle, buscando tanto los puntos fuertes como aquellos en los que podrías mejorar. Te dejaré comentarios a lo largo del notebook, destacando lo que has hecho bien y sugiriendo ajustes donde sea necesario. Si encuentro algún error, no te preocupes, te lo haré saber de forma clara y te daré información útil para que puedas corregirlo en la próxima. Si en algún punto tienes comentarios, siéntete libre de dejarlos también. Al final del notebook, te dejaré un comentario general con mi valoración del proyecto. **¡Mi objetivo es que sigas aprendiendo y mejorando con cada paso!**\n",
    "\n",
    "\n",
    "Encontrarás mis comentarios dentro de cajas verdes, amarillas o rojas, es muy importante que no muevas, modifiques o borres mis comentarios, con el fin de tener un seguimiento adecuado de tu proceso.:\n",
    "\n",
    "\n",
    "<div class=\"alert alert-block alert-success\">\n",
    "<b>Comentario del revisor</b> <a class=“tocSkip”></a>\n",
    "Si todo está perfecto.\n",
    "</div>\n",
    "\n",
    "<div class=\"alert alert-block alert-warning\">\n",
    "<b>Comentario del revisor</b> <a class=“tocSkip”></a>\n",
    "Si tu código está bien pero se puede mejorar o hay algún detalle que le hace falta.\n",
    "</div>\n",
    "\n",
    "<div class=\"alert alert-block alert-danger\">\n",
    "<b>Comentario del revisor</b> <a class=“tocSkip”></a>\n",
    "Si de pronto hace falta algo o existe algún problema con tu código o conclusiones.\n",
    "</div>\n",
    "\n",
    "Puedes responderme de esta forma:\n",
    "<div class=\"alert alert-block alert-info\">\n",
    "<b>Respuesta del estudiante</b> <a class=“tocSkip”></a>\n",
    "</div>"
   ]
  },
  {
   "cell_type": "markdown",
   "id": "3Xg_RQfnafXz",
   "metadata": {
    "id": "3Xg_RQfnafXz"
   },
   "source": [
    "# ¡Llena ese carrito!"
   ]
  },
  {
   "cell_type": "markdown",
   "id": "mhIvmmkW414q",
   "metadata": {
    "id": "mhIvmmkW414q"
   },
   "source": [
    "# Introducción\n",
    "\n",
    "Instacart es una plataforma de entregas de comestibles donde la clientela puede registrar un pedido y hacer que se lo entreguen, similar a Uber Eats y Door Dash.\n",
    "El conjunto de datos que te hemos proporcionado tiene modificaciones del original. Redujimos el tamaño del conjunto para que tus cálculos se hicieran más rápido e introdujimos valores ausentes y duplicados. Tuvimos cuidado de conservar las distribuciones de los datos originales cuando hicimos los cambios.\n",
    "\n",
    "Debes completar tres pasos. Para cada uno de ellos, escribe una breve introducción que refleje con claridad cómo pretendes resolver cada paso, y escribe párrafos explicatorios que justifiquen tus decisiones al tiempo que avanzas en tu solución.  También escribe una conclusión que resuma tus hallazgos y elecciones.\n"
   ]
  },
  {
   "cell_type": "markdown",
   "id": "3MbyzpOQZ5Or",
   "metadata": {
    "id": "3MbyzpOQZ5Or"
   },
   "source": [
    "## Diccionario de datos\n",
    "\n",
    "Hay cinco tablas en el conjunto de datos, y tendrás que usarlas todas para hacer el preprocesamiento de datos y el análisis exploratorio de datos. A continuación se muestra un diccionario de datos que enumera las columnas de cada tabla y describe los datos que contienen.\n",
    "\n",
    "- `instacart_orders.csv`: cada fila corresponde a un pedido en la aplicación Instacart.\n",
    "    - `'order_id'`: número de ID que identifica de manera única cada pedido.\n",
    "    - `'user_id'`: número de ID que identifica de manera única la cuenta de cada cliente.\n",
    "    - `'order_number'`: el número de veces que este cliente ha hecho un pedido.\n",
    "    - `'order_dow'`: día de la semana en que se hizo el pedido (0 si es domingo).\n",
    "    - `'order_hour_of_day'`: hora del día en que se hizo el pedido.\n",
    "    - `'days_since_prior_order'`: número de días transcurridos desde que este cliente hizo su pedido anterior.\n",
    "- `products.csv`: cada fila corresponde a un producto único que pueden comprar los clientes.\n",
    "    - `'product_id'`: número ID que identifica de manera única cada producto.\n",
    "    - `'product_name'`: nombre del producto.\n",
    "    - `'aisle_id'`: número ID que identifica de manera única cada categoría de pasillo de víveres.\n",
    "    - `'department_id'`: número ID que identifica de manera única cada departamento de víveres.\n",
    "- `order_products.csv`: cada fila corresponde a un artículo pedido en un pedido.\n",
    "    - `'order_id'`: número de ID que identifica de manera única cada pedido.\n",
    "    - `'product_id'`: número ID que identifica de manera única cada producto.\n",
    "    - `'add_to_cart_order'`: el orden secuencial en el que se añadió cada artículo en el carrito.\n",
    "    - `'reordered'`: 0 si el cliente nunca ha pedido este producto antes, 1 si lo ha pedido.\n",
    "- `aisles.csv`\n",
    "    - `'aisle_id'`: número ID que identifica de manera única cada categoría de pasillo de víveres.\n",
    "    - `'aisle'`: nombre del pasillo.\n",
    "- `departments.csv`\n",
    "    - `'department_id'`: número ID que identifica de manera única cada departamento de víveres.\n",
    "    - `'department'`: nombre del departamento."
   ]
  },
  {
   "cell_type": "markdown",
   "id": "n3Ha_cNSZ8lK",
   "metadata": {
    "id": "n3Ha_cNSZ8lK"
   },
   "source": [
    "# Paso 1. Descripción de los datos\n",
    "\n",
    "Lee los archivos de datos (`/datasets/instacart_orders.csv`, `/datasets/products.csv`, `/datasets/aisles.csv`, `/datasets/departments.csv` y `/datasets/order_products.csv`) con `pd.read_csv()` usando los parámetros adecuados para leer los datos correctamente. Verifica la información para cada DataFrame creado.\n"
   ]
  },
  {
   "cell_type": "markdown",
   "id": "OmlQPLlyaAfR",
   "metadata": {
    "id": "OmlQPLlyaAfR"
   },
   "source": [
    "## Plan de solución\n",
    "\n",
    "Escribe aquí tu plan de solución para el Paso 1. Descripción de los datos.\n",
    "\n",
    "Comenzaremos por importar pandas para poder leer los archivos CSV y crearemos un dataframe para cada archivo, posteriormente leeremos los datasets y mostraremos la informacion de nuestros datos utilizando info(). y veremos los primeros 5 datos de nuestro dataframe."
   ]
  },
  {
   "cell_type": "code",
   "execution_count": 1,
   "id": "fbf1adab",
   "metadata": {
    "id": "fbf1adab"
   },
   "outputs": [],
   "source": [
    "# importar librerías\n",
    "\n",
    "import pandas as pd\n",
    "from matplotlib import pyplot as plt\n"
   ]
  },
  {
   "cell_type": "code",
   "execution_count": 2,
   "id": "ad36396d",
   "metadata": {
    "id": "ad36396d"
   },
   "outputs": [],
   "source": [
    "# leer conjuntos de datos en los DataFrames\n",
    "\n",
    "# Comence a leerlos sin separador y pude notar que los datos venian separados con ';'\n",
    "\n",
    "instacart_orders = pd.read_csv('/datasets/instacart_orders.csv',sep=';')\n",
    "products = pd.read_csv('/datasets/products.csv',sep=';')\n",
    "aisles = pd.read_csv('/datasets/aisles.csv',sep=';')\n",
    "departments = pd.read_csv('/datasets/departments.csv',sep=';')\n",
    "order_products = pd.read_csv('/datasets/order_products.csv',sep=';')"
   ]
  },
  {
   "cell_type": "markdown",
   "id": "381108fb",
   "metadata": {},
   "source": [
    "<div class=\"alert alert-block alert-success\">\n",
    "<b>Comentario del revisor (1ra Iteración)</b> <a class=“tocSkip”></a>\n",
    "    \n",
    "Buen trabajo importante las liberías necesarias y los datasets del proyecto.\n",
    "\n",
    "</div>"
   ]
  },
  {
   "cell_type": "code",
   "execution_count": 3,
   "id": "ad6a1efa",
   "metadata": {
    "id": "ad6a1efa"
   },
   "outputs": [
    {
     "data": {
      "text/html": [
       "<div>\n",
       "<style scoped>\n",
       "    .dataframe tbody tr th:only-of-type {\n",
       "        vertical-align: middle;\n",
       "    }\n",
       "\n",
       "    .dataframe tbody tr th {\n",
       "        vertical-align: top;\n",
       "    }\n",
       "\n",
       "    .dataframe thead th {\n",
       "        text-align: right;\n",
       "    }\n",
       "</style>\n",
       "<table border=\"1\" class=\"dataframe\">\n",
       "  <thead>\n",
       "    <tr style=\"text-align: right;\">\n",
       "      <th></th>\n",
       "      <th>order_id</th>\n",
       "      <th>user_id</th>\n",
       "      <th>order_number</th>\n",
       "      <th>order_dow</th>\n",
       "      <th>order_hour_of_day</th>\n",
       "      <th>days_since_prior_order</th>\n",
       "    </tr>\n",
       "  </thead>\n",
       "  <tbody>\n",
       "    <tr>\n",
       "      <th>0</th>\n",
       "      <td>1515936</td>\n",
       "      <td>183418</td>\n",
       "      <td>11</td>\n",
       "      <td>6</td>\n",
       "      <td>13</td>\n",
       "      <td>30.0</td>\n",
       "    </tr>\n",
       "    <tr>\n",
       "      <th>1</th>\n",
       "      <td>1690866</td>\n",
       "      <td>163593</td>\n",
       "      <td>5</td>\n",
       "      <td>5</td>\n",
       "      <td>12</td>\n",
       "      <td>9.0</td>\n",
       "    </tr>\n",
       "    <tr>\n",
       "      <th>2</th>\n",
       "      <td>1454967</td>\n",
       "      <td>39980</td>\n",
       "      <td>4</td>\n",
       "      <td>5</td>\n",
       "      <td>19</td>\n",
       "      <td>2.0</td>\n",
       "    </tr>\n",
       "    <tr>\n",
       "      <th>3</th>\n",
       "      <td>1768857</td>\n",
       "      <td>82516</td>\n",
       "      <td>56</td>\n",
       "      <td>0</td>\n",
       "      <td>20</td>\n",
       "      <td>10.0</td>\n",
       "    </tr>\n",
       "    <tr>\n",
       "      <th>4</th>\n",
       "      <td>3007858</td>\n",
       "      <td>196724</td>\n",
       "      <td>2</td>\n",
       "      <td>4</td>\n",
       "      <td>12</td>\n",
       "      <td>17.0</td>\n",
       "    </tr>\n",
       "  </tbody>\n",
       "</table>\n",
       "</div>"
      ],
      "text/plain": [
       "   order_id  user_id  order_number  order_dow  order_hour_of_day  \\\n",
       "0   1515936   183418            11          6                 13   \n",
       "1   1690866   163593             5          5                 12   \n",
       "2   1454967    39980             4          5                 19   \n",
       "3   1768857    82516            56          0                 20   \n",
       "4   3007858   196724             2          4                 12   \n",
       "\n",
       "   days_since_prior_order  \n",
       "0                    30.0  \n",
       "1                     9.0  \n",
       "2                     2.0  \n",
       "3                    10.0  \n",
       "4                    17.0  "
      ]
     },
     "metadata": {},
     "output_type": "display_data"
    },
    {
     "name": "stdout",
     "output_type": "stream",
     "text": [
      "<class 'pandas.core.frame.DataFrame'>\n",
      "RangeIndex: 478967 entries, 0 to 478966\n",
      "Data columns (total 6 columns):\n",
      " #   Column                  Non-Null Count   Dtype  \n",
      "---  ------                  --------------   -----  \n",
      " 0   order_id                478967 non-null  int64  \n",
      " 1   user_id                 478967 non-null  int64  \n",
      " 2   order_number            478967 non-null  int64  \n",
      " 3   order_dow               478967 non-null  int64  \n",
      " 4   order_hour_of_day       478967 non-null  int64  \n",
      " 5   days_since_prior_order  450148 non-null  float64\n",
      "dtypes: float64(1), int64(5)\n",
      "memory usage: 21.9 MB\n",
      "None\n"
     ]
    }
   ],
   "source": [
    "# mostrar información del DataFrame\n",
    "display(instacart_orders.head())\n",
    "print(instacart_orders.info(show_counts=True))"
   ]
  },
  {
   "cell_type": "code",
   "execution_count": 4,
   "id": "5130e05e",
   "metadata": {
    "id": "5130e05e"
   },
   "outputs": [
    {
     "name": "stdout",
     "output_type": "stream",
     "text": [
      "   product_id                                       product_name  aisle_id  \\\n",
      "0           1                         Chocolate Sandwich Cookies        61   \n",
      "1           2                                   All-Seasons Salt       104   \n",
      "2           3               Robust Golden Unsweetened Oolong Tea        94   \n",
      "3           4  Smart Ones Classic Favorites Mini Rigatoni Wit...        38   \n",
      "4           5                          Green Chile Anytime Sauce         5   \n",
      "\n",
      "   department_id  \n",
      "0             19  \n",
      "1             13  \n",
      "2              7  \n",
      "3              1  \n",
      "4             13  \n",
      "<class 'pandas.core.frame.DataFrame'>\n",
      "RangeIndex: 49694 entries, 0 to 49693\n",
      "Data columns (total 4 columns):\n",
      " #   Column         Non-Null Count  Dtype \n",
      "---  ------         --------------  ----- \n",
      " 0   product_id     49694 non-null  int64 \n",
      " 1   product_name   48436 non-null  object\n",
      " 2   aisle_id       49694 non-null  int64 \n",
      " 3   department_id  49694 non-null  int64 \n",
      "dtypes: int64(3), object(1)\n",
      "memory usage: 1.5+ MB\n",
      "None\n"
     ]
    }
   ],
   "source": [
    "# mostrar información del DataFrame\n",
    "print(products.head())\n",
    "print(products.info(show_counts=True))"
   ]
  },
  {
   "cell_type": "code",
   "execution_count": 5,
   "id": "d8370c05",
   "metadata": {
    "id": "d8370c05"
   },
   "outputs": [
    {
     "data": {
      "text/html": [
       "<div>\n",
       "<style scoped>\n",
       "    .dataframe tbody tr th:only-of-type {\n",
       "        vertical-align: middle;\n",
       "    }\n",
       "\n",
       "    .dataframe tbody tr th {\n",
       "        vertical-align: top;\n",
       "    }\n",
       "\n",
       "    .dataframe thead th {\n",
       "        text-align: right;\n",
       "    }\n",
       "</style>\n",
       "<table border=\"1\" class=\"dataframe\">\n",
       "  <thead>\n",
       "    <tr style=\"text-align: right;\">\n",
       "      <th></th>\n",
       "      <th>aisle_id</th>\n",
       "      <th>aisle</th>\n",
       "    </tr>\n",
       "  </thead>\n",
       "  <tbody>\n",
       "    <tr>\n",
       "      <th>0</th>\n",
       "      <td>1</td>\n",
       "      <td>prepared soups salads</td>\n",
       "    </tr>\n",
       "    <tr>\n",
       "      <th>1</th>\n",
       "      <td>2</td>\n",
       "      <td>specialty cheeses</td>\n",
       "    </tr>\n",
       "    <tr>\n",
       "      <th>2</th>\n",
       "      <td>3</td>\n",
       "      <td>energy granola bars</td>\n",
       "    </tr>\n",
       "    <tr>\n",
       "      <th>3</th>\n",
       "      <td>4</td>\n",
       "      <td>instant foods</td>\n",
       "    </tr>\n",
       "    <tr>\n",
       "      <th>4</th>\n",
       "      <td>5</td>\n",
       "      <td>marinades meat preparation</td>\n",
       "    </tr>\n",
       "  </tbody>\n",
       "</table>\n",
       "</div>"
      ],
      "text/plain": [
       "   aisle_id                       aisle\n",
       "0         1       prepared soups salads\n",
       "1         2           specialty cheeses\n",
       "2         3         energy granola bars\n",
       "3         4               instant foods\n",
       "4         5  marinades meat preparation"
      ]
     },
     "metadata": {},
     "output_type": "display_data"
    },
    {
     "name": "stdout",
     "output_type": "stream",
     "text": [
      "<class 'pandas.core.frame.DataFrame'>\n",
      "RangeIndex: 134 entries, 0 to 133\n",
      "Data columns (total 2 columns):\n",
      " #   Column    Non-Null Count  Dtype \n",
      "---  ------    --------------  ----- \n",
      " 0   aisle_id  134 non-null    int64 \n",
      " 1   aisle     134 non-null    object\n",
      "dtypes: int64(1), object(1)\n",
      "memory usage: 2.2+ KB\n",
      "None\n"
     ]
    }
   ],
   "source": [
    "# mostrar información del DataFrame\n",
    "display(aisles.head())\n",
    "print(aisles.info(show_counts=True))"
   ]
  },
  {
   "cell_type": "code",
   "execution_count": 6,
   "id": "59e2090f",
   "metadata": {
    "id": "59e2090f"
   },
   "outputs": [
    {
     "data": {
      "text/html": [
       "<div>\n",
       "<style scoped>\n",
       "    .dataframe tbody tr th:only-of-type {\n",
       "        vertical-align: middle;\n",
       "    }\n",
       "\n",
       "    .dataframe tbody tr th {\n",
       "        vertical-align: top;\n",
       "    }\n",
       "\n",
       "    .dataframe thead th {\n",
       "        text-align: right;\n",
       "    }\n",
       "</style>\n",
       "<table border=\"1\" class=\"dataframe\">\n",
       "  <thead>\n",
       "    <tr style=\"text-align: right;\">\n",
       "      <th></th>\n",
       "      <th>department_id</th>\n",
       "      <th>department</th>\n",
       "    </tr>\n",
       "  </thead>\n",
       "  <tbody>\n",
       "    <tr>\n",
       "      <th>0</th>\n",
       "      <td>1</td>\n",
       "      <td>frozen</td>\n",
       "    </tr>\n",
       "    <tr>\n",
       "      <th>1</th>\n",
       "      <td>2</td>\n",
       "      <td>other</td>\n",
       "    </tr>\n",
       "    <tr>\n",
       "      <th>2</th>\n",
       "      <td>3</td>\n",
       "      <td>bakery</td>\n",
       "    </tr>\n",
       "    <tr>\n",
       "      <th>3</th>\n",
       "      <td>4</td>\n",
       "      <td>produce</td>\n",
       "    </tr>\n",
       "    <tr>\n",
       "      <th>4</th>\n",
       "      <td>5</td>\n",
       "      <td>alcohol</td>\n",
       "    </tr>\n",
       "  </tbody>\n",
       "</table>\n",
       "</div>"
      ],
      "text/plain": [
       "   department_id department\n",
       "0              1     frozen\n",
       "1              2      other\n",
       "2              3     bakery\n",
       "3              4    produce\n",
       "4              5    alcohol"
      ]
     },
     "metadata": {},
     "output_type": "display_data"
    },
    {
     "name": "stdout",
     "output_type": "stream",
     "text": [
      "<class 'pandas.core.frame.DataFrame'>\n",
      "RangeIndex: 21 entries, 0 to 20\n",
      "Data columns (total 2 columns):\n",
      " #   Column         Non-Null Count  Dtype \n",
      "---  ------         --------------  ----- \n",
      " 0   department_id  21 non-null     int64 \n",
      " 1   department     21 non-null     object\n",
      "dtypes: int64(1), object(1)\n",
      "memory usage: 464.0+ bytes\n",
      "None\n"
     ]
    }
   ],
   "source": [
    "# mostrar información del DataFrame\n",
    "display(departments.head())\n",
    "print(departments.info(show_counts=True))"
   ]
  },
  {
   "cell_type": "code",
   "execution_count": 7,
   "id": "6fc81694",
   "metadata": {
    "id": "6fc81694"
   },
   "outputs": [
    {
     "data": {
      "text/html": [
       "<div>\n",
       "<style scoped>\n",
       "    .dataframe tbody tr th:only-of-type {\n",
       "        vertical-align: middle;\n",
       "    }\n",
       "\n",
       "    .dataframe tbody tr th {\n",
       "        vertical-align: top;\n",
       "    }\n",
       "\n",
       "    .dataframe thead th {\n",
       "        text-align: right;\n",
       "    }\n",
       "</style>\n",
       "<table border=\"1\" class=\"dataframe\">\n",
       "  <thead>\n",
       "    <tr style=\"text-align: right;\">\n",
       "      <th></th>\n",
       "      <th>order_id</th>\n",
       "      <th>product_id</th>\n",
       "      <th>add_to_cart_order</th>\n",
       "      <th>reordered</th>\n",
       "    </tr>\n",
       "  </thead>\n",
       "  <tbody>\n",
       "    <tr>\n",
       "      <th>0</th>\n",
       "      <td>2141543</td>\n",
       "      <td>11440</td>\n",
       "      <td>17.0</td>\n",
       "      <td>0</td>\n",
       "    </tr>\n",
       "    <tr>\n",
       "      <th>1</th>\n",
       "      <td>567889</td>\n",
       "      <td>1560</td>\n",
       "      <td>1.0</td>\n",
       "      <td>1</td>\n",
       "    </tr>\n",
       "    <tr>\n",
       "      <th>2</th>\n",
       "      <td>2261212</td>\n",
       "      <td>26683</td>\n",
       "      <td>1.0</td>\n",
       "      <td>1</td>\n",
       "    </tr>\n",
       "    <tr>\n",
       "      <th>3</th>\n",
       "      <td>491251</td>\n",
       "      <td>8670</td>\n",
       "      <td>35.0</td>\n",
       "      <td>1</td>\n",
       "    </tr>\n",
       "    <tr>\n",
       "      <th>4</th>\n",
       "      <td>2571142</td>\n",
       "      <td>1940</td>\n",
       "      <td>5.0</td>\n",
       "      <td>1</td>\n",
       "    </tr>\n",
       "  </tbody>\n",
       "</table>\n",
       "</div>"
      ],
      "text/plain": [
       "   order_id  product_id  add_to_cart_order  reordered\n",
       "0   2141543       11440               17.0          0\n",
       "1    567889        1560                1.0          1\n",
       "2   2261212       26683                1.0          1\n",
       "3    491251        8670               35.0          1\n",
       "4   2571142        1940                5.0          1"
      ]
     },
     "metadata": {},
     "output_type": "display_data"
    },
    {
     "name": "stdout",
     "output_type": "stream",
     "text": [
      "<class 'pandas.core.frame.DataFrame'>\n",
      "RangeIndex: 4545007 entries, 0 to 4545006\n",
      "Data columns (total 4 columns):\n",
      " #   Column             Non-Null Count    Dtype  \n",
      "---  ------             --------------    -----  \n",
      " 0   order_id           4545007 non-null  int64  \n",
      " 1   product_id         4545007 non-null  int64  \n",
      " 2   add_to_cart_order  4544171 non-null  float64\n",
      " 3   reordered          4545007 non-null  int64  \n",
      "dtypes: float64(1), int64(3)\n",
      "memory usage: 138.7 MB\n",
      "None\n"
     ]
    }
   ],
   "source": [
    "# mostrar información del DataFrame\n",
    "display(order_products.head())\n",
    "print(order_products.info(show_counts=True))   #Actualizado, Gracias"
   ]
  },
  {
   "cell_type": "markdown",
   "id": "t75BD19oaR5f",
   "metadata": {
    "id": "t75BD19oaR5f"
   },
   "source": [
    "## Conclusiones\n",
    "\n",
    "Escribe aquí tus conclusiones intermedias sobre el Paso 1. Descripción de los datos.\n",
    "\n",
    "Sobre nuestros 5 datasets podemos observar lo siguiente: \n",
    "\n",
    "*Tenemos datos tipo Object\n",
    "*Todos nuestros datasets son de una columna\n",
    "*Podemos ver que el separados de los datos es un ';' entonces cambiamos el delimitador desde la lectura de los archivos\n",
    "*Contamos con datos nulos en el dataset 'products' y en el dataset instacart_orders"
   ]
  },
  {
   "cell_type": "markdown",
   "id": "668f94fc",
   "metadata": {},
   "source": [
    "<div class=\"alert alert-block alert-warning\">\n",
    "<b>Comentario del revisor (1ra Iteración)</b> <a class=“tocSkip”></a>\n",
    "    \n",
    "Audrey excelente trabajo mostrando la información de los datasets. Ten en cuenta que si un dataset tiene muchas filas (como lo es el caso de **order_products**) la función `info` no mostrará la columna *Non-Null Count*, si quieres ver esta información debes usar lo siguiente:\n",
    "    \n",
    "    order_products.info(show_counts=True)\n",
    "\n",
    "</div>"
   ]
  },
  {
   "cell_type": "markdown",
   "id": "8RJHqxVmaVsF",
   "metadata": {
    "id": "8RJHqxVmaVsF"
   },
   "source": [
    "# Paso 2. Preprocesamiento de los datos\n",
    "\n",
    "Preprocesa los datos de la siguiente manera:\n",
    "\n",
    "- Verifica y corrige los tipos de datos (por ejemplo, asegúrate de que las columnas de ID sean números enteros).\n",
    "- Identifica y completa los valores ausentes.\n",
    "- Identifica y elimina los valores duplicados.\n",
    "\n",
    "Asegúrate de explicar qué tipos de valores ausentes y duplicados encontraste, cómo los completaste o eliminaste y por qué usaste esos métodos. ¿Por qué crees que estos valores ausentes y duplicados pueden haber estado presentes en el conjunto de datos?"
   ]
  },
  {
   "cell_type": "markdown",
   "id": "p6poABZQaZYb",
   "metadata": {
    "id": "p6poABZQaZYb"
   },
   "source": [
    "## Plan de solución\n",
    "\n",
    "Escribe aquí tu plan para el Paso 2. Preprocesamiento de los datos.\n",
    "\n",
    "Comenzaremos por encontrar los duplicados en cada dataframe intentando analizar las columnas y posteriormente los corregiremos y procederemos a checar los valores ausentes y eliminar los duplicados."
   ]
  },
  {
   "cell_type": "markdown",
   "id": "07357848-dc64-4156-9cc3-01ff4365226d",
   "metadata": {
    "id": "07357848-dc64-4156-9cc3-01ff4365226d"
   },
   "source": [
    "## Encuentra y elimina los valores duplicados (y describe cómo tomaste tus decisiones)."
   ]
  },
  {
   "cell_type": "markdown",
   "id": "f179f0a9",
   "metadata": {
    "id": "f179f0a9"
   },
   "source": [
    "### `instacart_orders` data frame"
   ]
  },
  {
   "cell_type": "code",
   "execution_count": 8,
   "id": "b99297a5-405a-463d-8535-9adc3da4ad74",
   "metadata": {
    "id": "b99297a5-405a-463d-8535-9adc3da4ad74"
   },
   "outputs": [
    {
     "name": "stdout",
     "output_type": "stream",
     "text": [
      "15\n"
     ]
    },
    {
     "data": {
      "text/html": [
       "<div>\n",
       "<style scoped>\n",
       "    .dataframe tbody tr th:only-of-type {\n",
       "        vertical-align: middle;\n",
       "    }\n",
       "\n",
       "    .dataframe tbody tr th {\n",
       "        vertical-align: top;\n",
       "    }\n",
       "\n",
       "    .dataframe thead th {\n",
       "        text-align: right;\n",
       "    }\n",
       "</style>\n",
       "<table border=\"1\" class=\"dataframe\">\n",
       "  <thead>\n",
       "    <tr style=\"text-align: right;\">\n",
       "      <th></th>\n",
       "      <th>order_id</th>\n",
       "      <th>user_id</th>\n",
       "      <th>order_number</th>\n",
       "      <th>order_dow</th>\n",
       "      <th>order_hour_of_day</th>\n",
       "      <th>days_since_prior_order</th>\n",
       "    </tr>\n",
       "  </thead>\n",
       "  <tbody>\n",
       "    <tr>\n",
       "      <th>145574</th>\n",
       "      <td>794638</td>\n",
       "      <td>50898</td>\n",
       "      <td>24</td>\n",
       "      <td>3</td>\n",
       "      <td>2</td>\n",
       "      <td>2.0</td>\n",
       "    </tr>\n",
       "    <tr>\n",
       "      <th>223105</th>\n",
       "      <td>2160484</td>\n",
       "      <td>107525</td>\n",
       "      <td>16</td>\n",
       "      <td>3</td>\n",
       "      <td>2</td>\n",
       "      <td>30.0</td>\n",
       "    </tr>\n",
       "    <tr>\n",
       "      <th>230807</th>\n",
       "      <td>1918001</td>\n",
       "      <td>188546</td>\n",
       "      <td>14</td>\n",
       "      <td>3</td>\n",
       "      <td>2</td>\n",
       "      <td>16.0</td>\n",
       "    </tr>\n",
       "    <tr>\n",
       "      <th>266232</th>\n",
       "      <td>1782114</td>\n",
       "      <td>106752</td>\n",
       "      <td>1</td>\n",
       "      <td>3</td>\n",
       "      <td>2</td>\n",
       "      <td>NaN</td>\n",
       "    </tr>\n",
       "    <tr>\n",
       "      <th>273805</th>\n",
       "      <td>1112182</td>\n",
       "      <td>202304</td>\n",
       "      <td>84</td>\n",
       "      <td>3</td>\n",
       "      <td>2</td>\n",
       "      <td>6.0</td>\n",
       "    </tr>\n",
       "    <tr>\n",
       "      <th>284038</th>\n",
       "      <td>2845099</td>\n",
       "      <td>31189</td>\n",
       "      <td>11</td>\n",
       "      <td>3</td>\n",
       "      <td>2</td>\n",
       "      <td>7.0</td>\n",
       "    </tr>\n",
       "    <tr>\n",
       "      <th>311713</th>\n",
       "      <td>1021560</td>\n",
       "      <td>53767</td>\n",
       "      <td>3</td>\n",
       "      <td>3</td>\n",
       "      <td>2</td>\n",
       "      <td>9.0</td>\n",
       "    </tr>\n",
       "    <tr>\n",
       "      <th>321100</th>\n",
       "      <td>408114</td>\n",
       "      <td>68324</td>\n",
       "      <td>4</td>\n",
       "      <td>3</td>\n",
       "      <td>2</td>\n",
       "      <td>18.0</td>\n",
       "    </tr>\n",
       "    <tr>\n",
       "      <th>323900</th>\n",
       "      <td>1919531</td>\n",
       "      <td>191501</td>\n",
       "      <td>32</td>\n",
       "      <td>3</td>\n",
       "      <td>2</td>\n",
       "      <td>7.0</td>\n",
       "    </tr>\n",
       "    <tr>\n",
       "      <th>345917</th>\n",
       "      <td>2232988</td>\n",
       "      <td>82565</td>\n",
       "      <td>1</td>\n",
       "      <td>3</td>\n",
       "      <td>2</td>\n",
       "      <td>NaN</td>\n",
       "    </tr>\n",
       "    <tr>\n",
       "      <th>371905</th>\n",
       "      <td>391768</td>\n",
       "      <td>57671</td>\n",
       "      <td>19</td>\n",
       "      <td>3</td>\n",
       "      <td>2</td>\n",
       "      <td>10.0</td>\n",
       "    </tr>\n",
       "    <tr>\n",
       "      <th>394347</th>\n",
       "      <td>467134</td>\n",
       "      <td>63189</td>\n",
       "      <td>21</td>\n",
       "      <td>3</td>\n",
       "      <td>2</td>\n",
       "      <td>2.0</td>\n",
       "    </tr>\n",
       "    <tr>\n",
       "      <th>411408</th>\n",
       "      <td>1286742</td>\n",
       "      <td>183220</td>\n",
       "      <td>48</td>\n",
       "      <td>3</td>\n",
       "      <td>2</td>\n",
       "      <td>4.0</td>\n",
       "    </tr>\n",
       "    <tr>\n",
       "      <th>415163</th>\n",
       "      <td>2282673</td>\n",
       "      <td>86751</td>\n",
       "      <td>49</td>\n",
       "      <td>3</td>\n",
       "      <td>2</td>\n",
       "      <td>2.0</td>\n",
       "    </tr>\n",
       "    <tr>\n",
       "      <th>441599</th>\n",
       "      <td>2125197</td>\n",
       "      <td>14050</td>\n",
       "      <td>48</td>\n",
       "      <td>3</td>\n",
       "      <td>2</td>\n",
       "      <td>3.0</td>\n",
       "    </tr>\n",
       "  </tbody>\n",
       "</table>\n",
       "</div>"
      ],
      "text/plain": [
       "        order_id  user_id  order_number  order_dow  order_hour_of_day  \\\n",
       "145574    794638    50898            24          3                  2   \n",
       "223105   2160484   107525            16          3                  2   \n",
       "230807   1918001   188546            14          3                  2   \n",
       "266232   1782114   106752             1          3                  2   \n",
       "273805   1112182   202304            84          3                  2   \n",
       "284038   2845099    31189            11          3                  2   \n",
       "311713   1021560    53767             3          3                  2   \n",
       "321100    408114    68324             4          3                  2   \n",
       "323900   1919531   191501            32          3                  2   \n",
       "345917   2232988    82565             1          3                  2   \n",
       "371905    391768    57671            19          3                  2   \n",
       "394347    467134    63189            21          3                  2   \n",
       "411408   1286742   183220            48          3                  2   \n",
       "415163   2282673    86751            49          3                  2   \n",
       "441599   2125197    14050            48          3                  2   \n",
       "\n",
       "        days_since_prior_order  \n",
       "145574                     2.0  \n",
       "223105                    30.0  \n",
       "230807                    16.0  \n",
       "266232                     NaN  \n",
       "273805                     6.0  \n",
       "284038                     7.0  \n",
       "311713                     9.0  \n",
       "321100                    18.0  \n",
       "323900                     7.0  \n",
       "345917                     NaN  \n",
       "371905                    10.0  \n",
       "394347                     2.0  \n",
       "411408                     4.0  \n",
       "415163                     2.0  \n",
       "441599                     3.0  "
      ]
     },
     "metadata": {},
     "output_type": "display_data"
    }
   ],
   "source": [
    "# Revisa si hay pedidos duplicados\n",
    "print(instacart_orders.duplicated().sum())\n",
    "display(instacart_orders[instacart_orders.duplicated()])"
   ]
  },
  {
   "cell_type": "markdown",
   "id": "PEkwUX_gvt5A",
   "metadata": {
    "id": "PEkwUX_gvt5A"
   },
   "source": [
    "¿Tienes líneas duplicadas? Si sí, ¿qué tienen en común?\n",
    "\n",
    "Contamos con 15 datos duplicados, todos del dia Miercoles a las 2am"
   ]
  },
  {
   "cell_type": "code",
   "execution_count": 9,
   "id": "0d44de5d",
   "metadata": {
    "id": "0d44de5d"
   },
   "outputs": [
    {
     "data": {
      "text/html": [
       "<div>\n",
       "<style scoped>\n",
       "    .dataframe tbody tr th:only-of-type {\n",
       "        vertical-align: middle;\n",
       "    }\n",
       "\n",
       "    .dataframe tbody tr th {\n",
       "        vertical-align: top;\n",
       "    }\n",
       "\n",
       "    .dataframe thead th {\n",
       "        text-align: right;\n",
       "    }\n",
       "</style>\n",
       "<table border=\"1\" class=\"dataframe\">\n",
       "  <thead>\n",
       "    <tr style=\"text-align: right;\">\n",
       "      <th></th>\n",
       "      <th>order_id</th>\n",
       "      <th>user_id</th>\n",
       "      <th>order_number</th>\n",
       "      <th>order_dow</th>\n",
       "      <th>order_hour_of_day</th>\n",
       "      <th>days_since_prior_order</th>\n",
       "    </tr>\n",
       "  </thead>\n",
       "  <tbody>\n",
       "    <tr>\n",
       "      <th>4838</th>\n",
       "      <td>2766110</td>\n",
       "      <td>162084</td>\n",
       "      <td>41</td>\n",
       "      <td>3</td>\n",
       "      <td>2</td>\n",
       "      <td>16.0</td>\n",
       "    </tr>\n",
       "    <tr>\n",
       "      <th>5156</th>\n",
       "      <td>2190225</td>\n",
       "      <td>138285</td>\n",
       "      <td>18</td>\n",
       "      <td>3</td>\n",
       "      <td>2</td>\n",
       "      <td>11.0</td>\n",
       "    </tr>\n",
       "    <tr>\n",
       "      <th>15506</th>\n",
       "      <td>553049</td>\n",
       "      <td>58599</td>\n",
       "      <td>13</td>\n",
       "      <td>3</td>\n",
       "      <td>2</td>\n",
       "      <td>7.0</td>\n",
       "    </tr>\n",
       "    <tr>\n",
       "      <th>18420</th>\n",
       "      <td>382357</td>\n",
       "      <td>120200</td>\n",
       "      <td>19</td>\n",
       "      <td>3</td>\n",
       "      <td>2</td>\n",
       "      <td>11.0</td>\n",
       "    </tr>\n",
       "    <tr>\n",
       "      <th>24691</th>\n",
       "      <td>690242</td>\n",
       "      <td>77357</td>\n",
       "      <td>2</td>\n",
       "      <td>3</td>\n",
       "      <td>2</td>\n",
       "      <td>9.0</td>\n",
       "    </tr>\n",
       "    <tr>\n",
       "      <th>...</th>\n",
       "      <td>...</td>\n",
       "      <td>...</td>\n",
       "      <td>...</td>\n",
       "      <td>...</td>\n",
       "      <td>...</td>\n",
       "      <td>...</td>\n",
       "    </tr>\n",
       "    <tr>\n",
       "      <th>457013</th>\n",
       "      <td>3384021</td>\n",
       "      <td>14881</td>\n",
       "      <td>6</td>\n",
       "      <td>3</td>\n",
       "      <td>2</td>\n",
       "      <td>30.0</td>\n",
       "    </tr>\n",
       "    <tr>\n",
       "      <th>458816</th>\n",
       "      <td>910166</td>\n",
       "      <td>164782</td>\n",
       "      <td>18</td>\n",
       "      <td>3</td>\n",
       "      <td>2</td>\n",
       "      <td>4.0</td>\n",
       "    </tr>\n",
       "    <tr>\n",
       "      <th>459635</th>\n",
       "      <td>1680532</td>\n",
       "      <td>106435</td>\n",
       "      <td>6</td>\n",
       "      <td>3</td>\n",
       "      <td>2</td>\n",
       "      <td>21.0</td>\n",
       "    </tr>\n",
       "    <tr>\n",
       "      <th>468324</th>\n",
       "      <td>222962</td>\n",
       "      <td>54979</td>\n",
       "      <td>59</td>\n",
       "      <td>3</td>\n",
       "      <td>2</td>\n",
       "      <td>3.0</td>\n",
       "    </tr>\n",
       "    <tr>\n",
       "      <th>477526</th>\n",
       "      <td>2592344</td>\n",
       "      <td>46860</td>\n",
       "      <td>38</td>\n",
       "      <td>3</td>\n",
       "      <td>2</td>\n",
       "      <td>3.0</td>\n",
       "    </tr>\n",
       "  </tbody>\n",
       "</table>\n",
       "<p>121 rows × 6 columns</p>\n",
       "</div>"
      ],
      "text/plain": [
       "        order_id  user_id  order_number  order_dow  order_hour_of_day  \\\n",
       "4838     2766110   162084            41          3                  2   \n",
       "5156     2190225   138285            18          3                  2   \n",
       "15506     553049    58599            13          3                  2   \n",
       "18420     382357   120200            19          3                  2   \n",
       "24691     690242    77357             2          3                  2   \n",
       "...          ...      ...           ...        ...                ...   \n",
       "457013   3384021    14881             6          3                  2   \n",
       "458816    910166   164782            18          3                  2   \n",
       "459635   1680532   106435             6          3                  2   \n",
       "468324    222962    54979            59          3                  2   \n",
       "477526   2592344    46860            38          3                  2   \n",
       "\n",
       "        days_since_prior_order  \n",
       "4838                      16.0  \n",
       "5156                      11.0  \n",
       "15506                      7.0  \n",
       "18420                     11.0  \n",
       "24691                      9.0  \n",
       "...                        ...  \n",
       "457013                    30.0  \n",
       "458816                     4.0  \n",
       "459635                    21.0  \n",
       "468324                     3.0  \n",
       "477526                     3.0  \n",
       "\n",
       "[121 rows x 6 columns]"
      ]
     },
     "metadata": {},
     "output_type": "display_data"
    }
   ],
   "source": [
    "# Basándote en tus hallazgos,\n",
    "# Verifica todos los pedidos que se hicieron el miércoles a las 2:00 a.m.\n",
    "miercoles = instacart_orders[(instacart_orders['order_dow'] == 3) & (instacart_orders['order_hour_of_day'] == 2)]\n",
    "display(miercoles)"
   ]
  },
  {
   "cell_type": "markdown",
   "id": "vu2OWyoqwOx5",
   "metadata": {
    "id": "vu2OWyoqwOx5"
   },
   "source": [
    "¿Qué sugiere este resultado? Tenemos las ordenes que se estan tomando como duplicados ya que ocurrieron a la misma hora en el mismo dia. Pero podemos observar que son 121 datos ocurridos el miercoles a las 2am por lo que habria eliminar los 15 datos repetidos y vemos que no todos los datos del miercoles son duplicados."
   ]
  },
  {
   "cell_type": "code",
   "execution_count": 10,
   "id": "480563c7",
   "metadata": {
    "id": "480563c7"
   },
   "outputs": [],
   "source": [
    "# Elimina los pedidos duplicados\n",
    "\n",
    "instacart_orders = instacart_orders.drop_duplicates().reset_index(drop=True)\n"
   ]
  },
  {
   "cell_type": "code",
   "execution_count": 11,
   "id": "0b2396a2",
   "metadata": {
    "id": "0b2396a2"
   },
   "outputs": [
    {
     "name": "stdout",
     "output_type": "stream",
     "text": [
      "0\n"
     ]
    }
   ],
   "source": [
    "# Vuelve a verificar si hay filas duplicadas\n",
    "print(instacart_orders.duplicated().sum())"
   ]
  },
  {
   "cell_type": "code",
   "execution_count": 12,
   "id": "f6113ef1",
   "metadata": {
    "id": "f6113ef1"
   },
   "outputs": [
    {
     "name": "stdout",
     "output_type": "stream",
     "text": [
      "0\n"
     ]
    }
   ],
   "source": [
    "# Vuelve a verificar si hay IDs duplicados de pedidos\n",
    "order_duplicated=instacart_orders['order_id'].duplicated().sum()\n",
    "print(order_duplicated)"
   ]
  },
  {
   "cell_type": "markdown",
   "id": "5e8905ae",
   "metadata": {
    "id": "5e8905ae"
   },
   "source": [
    "Describe brevemente tus hallazgos y lo que hiciste con ellos\n",
    "Logramos borrar los 15 duplicados logrando que nuestra tabla de instacart_duplicated este limpia."
   ]
  },
  {
   "cell_type": "markdown",
   "id": "aad2d247",
   "metadata": {},
   "source": [
    "<div class=\"alert alert-block alert-success\">\n",
    "<b>Comentario del revisor (1ra Iteración)</b> <a class=“tocSkip”></a>\n",
    "    \n",
    "Muy buen trabajo\n",
    "\n",
    "</div>"
   ]
  },
  {
   "cell_type": "markdown",
   "id": "45e6bc46",
   "metadata": {
    "id": "45e6bc46"
   },
   "source": [
    "### `products` data frame"
   ]
  },
  {
   "cell_type": "code",
   "execution_count": 13,
   "id": "5f526b5b-8175-46fa-a0fd-441767d50e64",
   "metadata": {
    "id": "5f526b5b-8175-46fa-a0fd-441767d50e64"
   },
   "outputs": [
    {
     "name": "stdout",
     "output_type": "stream",
     "text": [
      "0\n"
     ]
    }
   ],
   "source": [
    "# Verifica si hay filas totalmente duplicadas\n",
    "print(products.duplicated().sum())"
   ]
  },
  {
   "cell_type": "code",
   "execution_count": 14,
   "id": "88daa4f4",
   "metadata": {
    "id": "88daa4f4"
   },
   "outputs": [
    {
     "name": "stdout",
     "output_type": "stream",
     "text": [
      "0\n"
     ]
    }
   ],
   "source": [
    "# Verifica si hay IDs duplicadas de productos\n",
    "print(products['product_id'].duplicated().sum())"
   ]
  },
  {
   "cell_type": "code",
   "execution_count": 15,
   "id": "c773f0bf",
   "metadata": {
    "id": "c773f0bf"
   },
   "outputs": [
    {
     "name": "stdout",
     "output_type": "stream",
     "text": [
      "       product_id product_name  aisle_id  department_id\n",
      "71             72          NaN       100             21\n",
      "109           110          NaN       100             21\n",
      "296           297          NaN       100             21\n",
      "416           417          NaN       100             21\n",
      "436           437          NaN       100             21\n",
      "...           ...          ...       ...            ...\n",
      "49552       49553          NaN       100             21\n",
      "49574       49575          NaN       100             21\n",
      "49640       49641          NaN       100             21\n",
      "49663       49664          NaN       100             21\n",
      "49668       49669          NaN       100             21\n",
      "\n",
      "[1257 rows x 4 columns]\n",
      "1361\n"
     ]
    }
   ],
   "source": [
    "# Revisa si hay nombres duplicados de productos (convierte los nombres a letras mayúsculas para compararlos mejor)\n",
    "\n",
    "print(products[products['product_name'].duplicated()])\n",
    "duplicates_count = products['product_name'].str.upper().duplicated().sum()\n",
    "print(duplicates_count)\n"
   ]
  },
  {
   "cell_type": "code",
   "execution_count": 16,
   "id": "01efd02e",
   "metadata": {
    "id": "01efd02e"
   },
   "outputs": [
    {
     "data": {
      "text/plain": [
       "104"
      ]
     },
     "execution_count": 16,
     "metadata": {},
     "output_type": "execute_result"
    }
   ],
   "source": [
    "# Revisa si hay nombres duplicados de productos no faltantes\n",
    "\n",
    "products[~products['product_name'].isna()]['product_name'].str.upper().duplicated().sum()\n"
   ]
  },
  {
   "cell_type": "markdown",
   "id": "9da8d293",
   "metadata": {
    "id": "9da8d293"
   },
   "source": [
    "Describe brevemente tus hallazgos y lo que hiciste con ellos.\n",
    "\n",
    "Los duplicados eran valores NaN entonces utiliice isna() y el simbolo ~ para no contarlos. Pudimos ver que 1257 duplicados eran solo valores NaN pero al cambiar los nombres de los productos a mayusculas nuestros duplicados aumentaron a 1361 por lo que hay 104 duplicados por nombre."
   ]
  },
  {
   "cell_type": "markdown",
   "id": "a173efe7",
   "metadata": {},
   "source": [
    "<div class=\"alert alert-block alert-success\">\n",
    "<b>Comentario del revisor (1ra Iteración)</b> <a class=“tocSkip”></a>\n",
    "    \n",
    "Perfecto Audrey \n",
    "\n",
    "</div>"
   ]
  },
  {
   "cell_type": "markdown",
   "id": "60f30db1",
   "metadata": {
    "id": "60f30db1"
   },
   "source": [
    "### `departments` data frame"
   ]
  },
  {
   "cell_type": "code",
   "execution_count": 17,
   "id": "fb410ad4-0fbf-4b80-bb09-23fdea79afe3",
   "metadata": {
    "id": "fb410ad4-0fbf-4b80-bb09-23fdea79afe3"
   },
   "outputs": [
    {
     "name": "stdout",
     "output_type": "stream",
     "text": [
      "0\n",
      "   department_id department\n",
      "0              1     frozen\n",
      "1              2      other\n",
      "2              3     bakery\n",
      "3              4    produce\n",
      "4              5    alcohol\n"
     ]
    }
   ],
   "source": [
    "# Revisa si hay filas totalmente duplicadas\n",
    "print(departments.duplicated().sum())\n",
    "print(departments.head())"
   ]
  },
  {
   "cell_type": "code",
   "execution_count": 18,
   "id": "332b12bb",
   "metadata": {
    "id": "332b12bb"
   },
   "outputs": [
    {
     "name": "stdout",
     "output_type": "stream",
     "text": [
      "0\n"
     ]
    }
   ],
   "source": [
    "# Revisa si hay IDs duplicadas de productos\n",
    "print(departments['department_id'].duplicated().sum())"
   ]
  },
  {
   "cell_type": "markdown",
   "id": "bd30d78e",
   "metadata": {
    "id": "bd30d78e"
   },
   "source": [
    "Describe brevemente tus hallazgos y lo que hiciste con ellos."
   ]
  },
  {
   "cell_type": "markdown",
   "id": "889349c1",
   "metadata": {
    "id": "889349c1"
   },
   "source": [
    "### `aisles` data frame"
   ]
  },
  {
   "cell_type": "code",
   "execution_count": 19,
   "id": "9da89fb9-4679-40f5-ad0d-c34df753a3f8",
   "metadata": {
    "id": "9da89fb9-4679-40f5-ad0d-c34df753a3f8"
   },
   "outputs": [
    {
     "name": "stdout",
     "output_type": "stream",
     "text": [
      "0\n"
     ]
    }
   ],
   "source": [
    "# Revisa si hay filas totalmente duplicadas\n",
    "print(aisles.duplicated().sum())"
   ]
  },
  {
   "cell_type": "code",
   "execution_count": 20,
   "id": "da7c2822",
   "metadata": {
    "id": "da7c2822"
   },
   "outputs": [
    {
     "name": "stdout",
     "output_type": "stream",
     "text": [
      "0\n"
     ]
    }
   ],
   "source": [
    "# Revisa si hay IDs duplicadas de productos\n",
    "print(aisles['aisle_id'].duplicated().sum())"
   ]
  },
  {
   "cell_type": "markdown",
   "id": "ac63826f",
   "metadata": {
    "id": "ac63826f"
   },
   "source": [
    "Describe brevemente tus hallazgos y lo que hiciste con ellos.\n",
    "\n",
    "No encontramos datos duplicados en este dataframe ni en la columna de ID en especifico. "
   ]
  },
  {
   "cell_type": "markdown",
   "id": "274cd06a",
   "metadata": {
    "id": "274cd06a"
   },
   "source": [
    "### `order_products` data frame"
   ]
  },
  {
   "cell_type": "code",
   "execution_count": 21,
   "id": "52326689-84a8-4b8f-a881-7c68780f62c9",
   "metadata": {
    "id": "52326689-84a8-4b8f-a881-7c68780f62c9"
   },
   "outputs": [
    {
     "name": "stdout",
     "output_type": "stream",
     "text": [
      "<class 'pandas.core.frame.DataFrame'>\n",
      "RangeIndex: 4545007 entries, 0 to 4545006\n",
      "Data columns (total 4 columns):\n",
      " #   Column             Dtype  \n",
      "---  ------             -----  \n",
      " 0   order_id           int64  \n",
      " 1   product_id         int64  \n",
      " 2   add_to_cart_order  float64\n",
      " 3   reordered          int64  \n",
      "dtypes: float64(1), int64(3)\n",
      "memory usage: 138.7 MB\n",
      "None\n",
      "0\n"
     ]
    }
   ],
   "source": [
    "# Revisa si hay filas totalmente duplicadas\n",
    "print(order_products.info())\n",
    "print(order_products.duplicated().sum())\n"
   ]
  },
  {
   "cell_type": "code",
   "execution_count": 22,
   "id": "7b861391",
   "metadata": {
    "id": "7b861391"
   },
   "outputs": [
    {
     "name": "stdout",
     "output_type": "stream",
     "text": [
      "0\n"
     ]
    }
   ],
   "source": [
    "# Vuelve a verificar si hay cualquier otro duplicado engañoso\n",
    "print(order_products[['product_id', 'order_id']].duplicated().sum())"
   ]
  },
  {
   "cell_type": "markdown",
   "id": "0b890492",
   "metadata": {
    "id": "0b890492"
   },
   "source": [
    "Describe brevemente tus hallazgos y lo que hiciste con ellos.\n",
    "\n",
    "Buscamos duplicados generales y no tenemos pero para ser mas especificos y cuidadosos con el dataframe checamos duplicados en las columnas especificas de product_id y order_id"
   ]
  },
  {
   "cell_type": "markdown",
   "id": "ca1a6835",
   "metadata": {},
   "source": [
    "<div class=\"alert alert-block alert-success\">\n",
    "<b>Comentario del revisor (1ra Iteración)</b> <a class=“tocSkip”></a>\n",
    "    \n",
    "Excelente trabajo Audrey, has hecho una verificación correcta de los datasets.\n",
    "\n",
    "</div>"
   ]
  },
  {
   "cell_type": "markdown",
   "id": "1e46de76",
   "metadata": {
    "id": "1e46de76"
   },
   "source": [
    "## Encuentra y elimina los valores ausentes\n",
    "\n",
    "Al trabajar con valores duplicados, pudimos observar que también nos falta investigar valores ausentes:\n",
    "\n",
    "* La columna `'product_name'` de la tabla products.\n",
    "* La columna `'days_since_prior_order'` de la tabla orders.\n",
    "* La columna `'add_to_cart_order'` de la tabla order_productos."
   ]
  },
  {
   "cell_type": "markdown",
   "id": "c0aebd78",
   "metadata": {
    "id": "c0aebd78"
   },
   "source": [
    "### `products` data frame"
   ]
  },
  {
   "cell_type": "code",
   "execution_count": 23,
   "id": "fe4a8b0f",
   "metadata": {
    "id": "fe4a8b0f"
   },
   "outputs": [
    {
     "name": "stdout",
     "output_type": "stream",
     "text": [
      "1258\n",
      "product_id          0\n",
      "product_name     1258\n",
      "aisle_id            0\n",
      "department_id       0\n",
      "dtype: int64\n"
     ]
    }
   ],
   "source": [
    "# Encuentra los valores ausentes en la columna 'product_name'\n",
    "print(products['product_name'].isna().sum())\n",
    "print(products.isna().sum())"
   ]
  },
  {
   "cell_type": "markdown",
   "id": "-A6x1AbJhjkp",
   "metadata": {
    "id": "-A6x1AbJhjkp"
   },
   "source": [
    "Describe brevemente cuáles son tus hallazgos.\n",
    "\n",
    "Podemos ver que  contamos con valores ausentes en la columna product_name solamente con una cantidad de 1258"
   ]
  },
  {
   "cell_type": "code",
   "execution_count": 24,
   "id": "e96167bc",
   "metadata": {
    "id": "e96167bc"
   },
   "outputs": [
    {
     "name": "stdout",
     "output_type": "stream",
     "text": [
      "1258\n"
     ]
    }
   ],
   "source": [
    "#  ¿Todos los nombres de productos ausentes están relacionados con el pasillo con ID 100?\n",
    "print((products['product_name'].isna() & (products['aisle_id'] == 100)).sum())\n",
    "\n"
   ]
  },
  {
   "cell_type": "markdown",
   "id": "WRpIfXRphpSL",
   "metadata": {
    "id": "WRpIfXRphpSL"
   },
   "source": [
    "Describe brevemente cuáles son tus hallazgos.\n",
    "\n",
    "Podemos ver que en nuestro dataset los duplicados están relacionaddos con el pasillo 100 ya que contenemos el mismo numero de duplicados."
   ]
  },
  {
   "cell_type": "code",
   "execution_count": 25,
   "id": "8fd0a541",
   "metadata": {
    "id": "8fd0a541"
   },
   "outputs": [
    {
     "name": "stdout",
     "output_type": "stream",
     "text": [
      "1258\n"
     ]
    }
   ],
   "source": [
    "# ¿Todos los nombres de productos ausentes están relacionados con el departamento con ID 21?\n",
    "print((products['product_name'].isna() & (products['department_id'] == 21)).sum())\n"
   ]
  },
  {
   "cell_type": "markdown",
   "id": "qDpdYn1Fht_I",
   "metadata": {
    "id": "qDpdYn1Fht_I"
   },
   "source": [
    "Describe brevemente cuáles son tus hallazgos.\n",
    "\n",
    "Tambien podemos observar que los departamentos contienen el mismo numero de duplicados por lo que estariamos relacionando los duplicados con el pasillo 100 y el departamento 21"
   ]
  },
  {
   "cell_type": "code",
   "execution_count": 26,
   "id": "325c3464",
   "metadata": {
    "id": "325c3464"
   },
   "outputs": [
    {
     "name": "stdout",
     "output_type": "stream",
     "text": [
      "    department_id department\n",
      "20             21    missing\n",
      "    aisle_id    aisle\n",
      "99       100  missing\n"
     ]
    }
   ],
   "source": [
    "# Usa las tablas department y aisle para revisar los datos del pasillo con ID 100 y el departamento con ID 21.\n",
    "\n",
    "print(departments[departments['department_id'] == 21])\n",
    "print(aisles[aisles['aisle_id'] == 100])"
   ]
  },
  {
   "cell_type": "markdown",
   "id": "nqhSTUPhhvEJ",
   "metadata": {
    "id": "nqhSTUPhhvEJ"
   },
   "source": [
    "Describe brevemente cuáles son tus hallazgos.\n",
    "\n",
    "No contamos con departamento con id 21 y pasillo con id 100 por lo que nuestros datos con informacion faltante pertencen a estos dos departamentos"
   ]
  },
  {
   "cell_type": "code",
   "execution_count": 27,
   "id": "6b295120",
   "metadata": {
    "id": "6b295120"
   },
   "outputs": [
    {
     "name": "stdout",
     "output_type": "stream",
     "text": [
      "0\n"
     ]
    }
   ],
   "source": [
    "# Completa los nombres de productos ausentes con 'Unknown'\n",
    "products['product_name'] = products['product_name'].fillna('Unknown')\n",
    "print(products['product_name'].isna().sum())"
   ]
  },
  {
   "cell_type": "markdown",
   "id": "fc70e5ad",
   "metadata": {
    "id": "fc70e5ad"
   },
   "source": [
    "Describe brevemente tus hallazgos y lo que hiciste con ellos. \n",
    "Logramos llenar nuestros nombres de producto con valores ausentes con la palabra Unknown"
   ]
  },
  {
   "cell_type": "markdown",
   "id": "7eb45c86",
   "metadata": {
    "id": "7eb45c86"
   },
   "source": [
    "### `orders` data frame"
   ]
  },
  {
   "cell_type": "code",
   "execution_count": 28,
   "id": "93e41d96",
   "metadata": {
    "id": "93e41d96"
   },
   "outputs": [
    {
     "name": "stdout",
     "output_type": "stream",
     "text": [
      "order_id                      0\n",
      "user_id                       0\n",
      "order_number                  0\n",
      "order_dow                     0\n",
      "order_hour_of_day             0\n",
      "days_since_prior_order    28817\n",
      "dtype: int64\n"
     ]
    }
   ],
   "source": [
    "# Encuentra los valores ausentes\n",
    "\n",
    "print(instacart_orders.isna().sum())"
   ]
  },
  {
   "cell_type": "code",
   "execution_count": 29,
   "id": "166e5a86",
   "metadata": {
    "id": "166e5a86"
   },
   "outputs": [
    {
     "name": "stdout",
     "output_type": "stream",
     "text": [
      "order_id                  0\n",
      "user_id                   0\n",
      "order_number              0\n",
      "order_dow                 0\n",
      "order_hour_of_day         0\n",
      "days_since_prior_order    0\n",
      "dtype: int64\n"
     ]
    }
   ],
   "source": [
    "# ¿Hay algún valor ausente que no sea el primer pedido del cliente?\n",
    "instacart_orders['days_since_prior_order']=instacart_orders['days_since_prior_order'].fillna('0')\n",
    "print(instacart_orders.isna().sum())"
   ]
  },
  {
   "cell_type": "markdown",
   "id": "4e23d089",
   "metadata": {
    "id": "4e23d089"
   },
   "source": [
    "Describe brevemente tus hallazgos y lo que hiciste con ellos.\n",
    "\n",
    "La unica columna donde podemos ver valores ausentes en en day_since_prior_order ya que no existe un valor antecedente al dia 1 por lo que llenamos esos valores ausentes con 0"
   ]
  },
  {
   "cell_type": "markdown",
   "id": "69dc9ca4",
   "metadata": {
    "id": "69dc9ca4"
   },
   "source": [
    "### `order_products` data frame"
   ]
  },
  {
   "cell_type": "code",
   "execution_count": 30,
   "id": "b8240253",
   "metadata": {
    "id": "b8240253"
   },
   "outputs": [
    {
     "name": "stdout",
     "output_type": "stream",
     "text": [
      "order_id               0\n",
      "product_id             0\n",
      "add_to_cart_order    836\n",
      "reordered              0\n",
      "dtype: int64\n"
     ]
    }
   ],
   "source": [
    "# Encuentra los valores ausentes\n",
    "\n",
    "print(order_products.isna().sum())"
   ]
  },
  {
   "cell_type": "code",
   "execution_count": 31,
   "id": "9a78e5ee",
   "metadata": {
    "id": "9a78e5ee"
   },
   "outputs": [
    {
     "name": "stdout",
     "output_type": "stream",
     "text": [
      "1.0\n",
      "64.0\n"
     ]
    }
   ],
   "source": [
    "# ¿Cuáles son los valores mínimos y máximos en esta columna?\n",
    "min_value = order_products['add_to_cart_order'].min()\n",
    "print(min_value)\n",
    "max_value = order_products['add_to_cart_order'].max()\n",
    "print(max_value)"
   ]
  },
  {
   "cell_type": "markdown",
   "id": "-Z2Ja215jW78",
   "metadata": {
    "id": "-Z2Ja215jW78"
   },
   "source": [
    "Describe brevemente cuáles son tus hallazgos.\n",
    "\n",
    "El valor minimo es de 1 producto  \n",
    "El valor máximo es de 64 productos"
   ]
  },
  {
   "cell_type": "code",
   "execution_count": 32,
   "id": "ab9d0c2b",
   "metadata": {
    "id": "ab9d0c2b"
   },
   "outputs": [
    {
     "name": "stdout",
     "output_type": "stream",
     "text": [
      "         order_id  product_id  add_to_cart_order  reordered\n",
      "737       2449164        5068                NaN          0\n",
      "9926      1968313       43867                NaN          0\n",
      "14394     2926893       11688                NaN          0\n",
      "16418     1717990        4142                NaN          0\n",
      "30114     1959075       42828                NaN          1\n",
      "...           ...         ...                ...        ...\n",
      "4505662   1800005        7411                NaN          0\n",
      "4511400   1633337         260                NaN          0\n",
      "4517562    404157        9517                NaN          0\n",
      "4534112   1673227       17835                NaN          0\n",
      "4535739   1832957       17949                NaN          1\n",
      "\n",
      "[836 rows x 4 columns]\n"
     ]
    }
   ],
   "source": [
    "# Guarda todas las IDs de pedidos que tengan un valor ausente en 'add_to_cart_order'\n",
    "missing_orders = order_products[order_products['add_to_cart_order'].isna()]\n",
    "print(missing_orders)"
   ]
  },
  {
   "cell_type": "code",
   "execution_count": 33,
   "id": "54c31695",
   "metadata": {
    "id": "54c31695"
   },
   "outputs": [
    {
     "name": "stdout",
     "output_type": "stream",
     "text": [
      "order_id\n",
      "9310        65\n",
      "747668      65\n",
      "1598369     65\n",
      "1677118     65\n",
      "2170451     65\n",
      "          ... \n",
      "1959075     98\n",
      "171934     104\n",
      "2136777    108\n",
      "3308010    115\n",
      "61355      127\n",
      "Name: product_id, Length: 70, dtype: int64\n"
     ]
    }
   ],
   "source": [
    "# ¿Todos los pedidos con valores ausentes tienen más de 64 productos?\n",
    "# Agrupa todos los pedidos con datos ausentes por su ID de pedido.\n",
    "# Cuenta el número de 'product_id' en cada pedido y revisa el valor mínimo del conteo\n",
    "\n",
    "product_counts = order_products[order_products['order_id'].isin(missing_orders['order_id'])].groupby('order_id')['product_id'].count().sort_values()\n",
    "print(product_counts)"
   ]
  },
  {
   "cell_type": "markdown",
   "id": "p9V6pddtjglj",
   "metadata": {
    "id": "p9V6pddtjglj"
   },
   "source": [
    "Describe brevemente cuáles son tus hallazgos. \n",
    "\n",
    "Se confirma la primera pregunta ya que los valores ausentes tienen mas de 64 productos"
   ]
  },
  {
   "cell_type": "code",
   "execution_count": 34,
   "id": "7a987d08",
   "metadata": {
    "id": "7a987d08"
   },
   "outputs": [
    {
     "name": "stdout",
     "output_type": "stream",
     "text": [
      "order_id             0\n",
      "product_id           0\n",
      "add_to_cart_order    0\n",
      "reordered            0\n",
      "dtype: int64\n"
     ]
    }
   ],
   "source": [
    "# Remplaza los valores ausentes en la columna 'add_to_cart? con 999 y convierte la columna al tipo entero.\n",
    "order_products['add_to_cart_order']=order_products['add_to_cart_order'].fillna(999).astype('int')\n",
    "print(order_products.isna().sum())"
   ]
  },
  {
   "cell_type": "markdown",
   "id": "fea4bcc7",
   "metadata": {
    "id": "fea4bcc7"
   },
   "source": [
    "Describe brevemente tus hallazgos y lo que hiciste con ellos.\n",
    "\n",
    "remplazamos los valores ausentes a 999"
   ]
  },
  {
   "cell_type": "markdown",
   "id": "RnplPFY1gSrb",
   "metadata": {
    "id": "RnplPFY1gSrb"
   },
   "source": [
    "## Conclusiones\n",
    "\n",
    "Escribe aquí tus conclusiones intermedias sobre el Paso 2. Preprocesamiento de los datos\n",
    "\n",
    "Pudimos analizar varios valores ausentes y duplicados en diferentes datasets y logramos analizar varias columnas y la razon de los datos faltantes/datos duplicados para futuros analisis.  \n"
   ]
  },
  {
   "cell_type": "markdown",
   "id": "f2bcb4c2",
   "metadata": {},
   "source": [
    "<div class=\"alert alert-block alert-success\">\n",
    "<b>Comentario del revisor (1ra Iteración)</b> <a class=“tocSkip”></a>\n",
    "    \n",
    "Gran trabajo con el manejo de los datos faltantes.\n",
    "\n",
    "</div>"
   ]
  },
  {
   "cell_type": "markdown",
   "id": "UjrOIwTcz3ri",
   "metadata": {
    "id": "UjrOIwTcz3ri"
   },
   "source": [
    "# Paso 3. Análisis de los datos\n",
    "\n",
    "Una vez los datos estén procesados y listos, haz el siguiente análisis:"
   ]
  },
  {
   "cell_type": "markdown",
   "id": "turkish-kidney",
   "metadata": {
    "id": "turkish-kidney"
   },
   "source": [
    "# [A] Fácil (deben completarse todos para aprobar)\n",
    "\n",
    "1. Verifica que los valores en las columnas `'order_hour_of_day'` y `'order_dow'` en la tabla orders sean razonables (es decir, `'order_hour_of_day'` oscile entre 0 y 23 y `'order_dow'` oscile entre 0 y 6).\n",
    "2. Crea un gráfico que muestre el número de personas que hacen pedidos dependiendo de la hora del día.\n",
    "3. Crea un gráfico que muestre qué día de la semana la gente hace sus compras.\n",
    "4. Crea un gráfico que muestre el tiempo que la gente espera hasta hacer su siguiente pedido, y comenta sobre los valores mínimos y máximos."
   ]
  },
  {
   "cell_type": "markdown",
   "id": "short-capability",
   "metadata": {
    "id": "short-capability"
   },
   "source": [
    "### [A1] Verifica que los valores sean sensibles"
   ]
  },
  {
   "cell_type": "code",
   "execution_count": 35,
   "id": "growing-fruit",
   "metadata": {
    "id": "growing-fruit"
   },
   "outputs": [
    {
     "name": "stdout",
     "output_type": "stream",
     "text": [
      "           order_dow  order_hour_of_day\n",
      "count  478952.000000      478952.000000\n",
      "mean        2.775051          13.447034\n",
      "std         2.045901           4.224567\n",
      "min         0.000000           0.000000\n",
      "25%         1.000000          10.000000\n",
      "50%         3.000000          13.000000\n",
      "75%         5.000000          16.000000\n",
      "max         6.000000          23.000000\n"
     ]
    }
   ],
   "source": [
    "print(instacart_orders.iloc[:,3:5].describe())"
   ]
  },
  {
   "cell_type": "code",
   "execution_count": 36,
   "id": "accessory-malaysia",
   "metadata": {
    "id": "accessory-malaysia"
   },
   "outputs": [
    {
     "name": "stdout",
     "output_type": "stream",
     "text": [
      "<class 'pandas.core.frame.DataFrame'>\n",
      "RangeIndex: 478952 entries, 0 to 478951\n",
      "Data columns (total 6 columns):\n",
      " #   Column                  Non-Null Count   Dtype \n",
      "---  ------                  --------------   ----- \n",
      " 0   order_id                478952 non-null  int64 \n",
      " 1   user_id                 478952 non-null  int64 \n",
      " 2   order_number            478952 non-null  int64 \n",
      " 3   order_dow               478952 non-null  int64 \n",
      " 4   order_hour_of_day       478952 non-null  int64 \n",
      " 5   days_since_prior_order  478952 non-null  object\n",
      "dtypes: int64(5), object(1)\n",
      "memory usage: 21.9+ MB\n",
      "None\n"
     ]
    }
   ],
   "source": [
    "print(instacart_orders.info())"
   ]
  },
  {
   "cell_type": "markdown",
   "id": "hmR2GNQ6lCsX",
   "metadata": {
    "id": "hmR2GNQ6lCsX"
   },
   "source": [
    "Escribe aquí tus conclusiones Los datos son sensibles podemos ver que los valores maximos son 6 y 23  para cada columna"
   ]
  },
  {
   "cell_type": "markdown",
   "id": "894c65af",
   "metadata": {},
   "source": [
    "<div class=\"alert alert-block alert-success\">\n",
    "<b>Comentario del revisor (1ra Iteración)</b> <a class=“tocSkip”></a>\n",
    "    \n",
    "Bien hecho Audrey\n",
    "\n",
    "</div>"
   ]
  },
  {
   "cell_type": "markdown",
   "id": "a6743a70",
   "metadata": {
    "id": "a6743a70"
   },
   "source": [
    "### [A2] Para cada hora del día, ¿cuántas personas hacen órdenes?"
   ]
  },
  {
   "cell_type": "code",
   "execution_count": 37,
   "id": "a36cca27",
   "metadata": {
    "id": "a36cca27"
   },
   "outputs": [
    {
     "data": {
      "image/png": "[encoded data removed]",
      "text/plain": [
       "<Figure size 640x480 with 1 Axes>"
      ]
     },
     "metadata": {},
     "output_type": "display_data"
    }
   ],
   "source": [
    "hourly_orders=instacart_orders['order_hour_of_day'].value_counts().sort_index()\n",
    "hourly_orders.plot(title='Ordenes por Hora', xlabel='Hora',ylabel='Numero de ordenes',kind='bar',color='purple')\n",
    "plt.show()"
   ]
  },
  {
   "cell_type": "markdown",
   "id": "11270eed",
   "metadata": {
    "id": "11270eed"
   },
   "source": [
    "Escribe aquí tus conclusiones\n",
    "Podemos ver que los horarios con mas numero de ordenes es entre las 9am y las 5pm."
   ]
  },
  {
   "cell_type": "markdown",
   "id": "046f32f3",
   "metadata": {},
   "source": [
    "<div class=\"alert alert-block alert-success\">\n",
    "<b>Comentario del revisor (1ra Iteración)</b> <a class=“tocSkip”></a>\n",
    "    \n",
    "La gráfica obtenida está muy bien.\n",
    "</div>"
   ]
  },
  {
   "cell_type": "markdown",
   "id": "documented-command",
   "metadata": {
    "id": "documented-command"
   },
   "source": [
    "### [A3] ¿Qué día de la semana compran víveres las personas?"
   ]
  },
  {
   "cell_type": "code",
   "execution_count": 38,
   "id": "chief-digit",
   "metadata": {
    "id": "chief-digit"
   },
   "outputs": [
    {
     "data": {
      "image/png": "[encoded data removed]",
      "text/plain": [
       "<Figure size 640x480 with 1 Axes>"
      ]
     },
     "metadata": {},
     "output_type": "display_data"
    }
   ],
   "source": [
    "dia_semana=instacart_orders['order_dow'].value_counts().sort_index()\n",
    "dia_semana.plot(title='Compras por dias de la semana',xlabel='Dia de la semana',ylabel='Numero de compras',kind='bar',color='purple')\n",
    "plt.show()"
   ]
  },
  {
   "cell_type": "markdown",
   "id": "dominant-lightning",
   "metadata": {
    "id": "dominant-lightning"
   },
   "source": [
    "Escribe aquí tus conclusiones\n",
    "\n",
    "Domingo y lunes son los dias con  mas pedidos"
   ]
  },
  {
   "cell_type": "markdown",
   "id": "476f7048",
   "metadata": {},
   "source": [
    "<div class=\"alert alert-block alert-success\">\n",
    "<b>Comentario del revisor (1ra Iteración)</b> <a class=“tocSkip”></a>\n",
    "    \n",
    "Excelente Audrey\n",
    "\n",
    "</div>"
   ]
  },
  {
   "cell_type": "markdown",
   "id": "cutting-concert",
   "metadata": {
    "id": "cutting-concert"
   },
   "source": [
    "### [A4] ¿Cuánto tiempo esperan las personas hasta hacer otro pedido? Comenta sobre los valores mínimos y máximos."
   ]
  },
  {
   "cell_type": "code",
   "execution_count": 39,
   "id": "c231f523",
   "metadata": {
    "id": "c231f523"
   },
   "outputs": [
    {
     "data": {
      "image/png": "[encoded data removed]",
      "text/plain": [
       "<Figure size 640x480 with 1 Axes>"
      ]
     },
     "metadata": {},
     "output_type": "display_data"
    }
   ],
   "source": [
    "instacart_orders['days_since_prior_order'] = pd.to_numeric(instacart_orders['days_since_prior_order'], errors='coerce').fillna(0).astype(int)\n",
    "# mi columna estaba como object\n",
    "dias_spedido=instacart_orders['days_since_prior_order'].value_counts().sort_index()\n",
    "dias_spedido.plot(kind='bar',xlabel='Dias sin pedido',ylabel='Numero de ordenes',color='purple')\n",
    "plt.show()"
   ]
  },
  {
   "cell_type": "markdown",
   "id": "discrete-vertex",
   "metadata": {
    "id": "discrete-vertex"
   },
   "source": [
    "Escribe aquí tus conclusiones\n",
    "\n",
    "La gente se queda tarda maximo 30 dias sin hacer pedido o 7 dias sin hacer pedido"
   ]
  },
  {
   "cell_type": "markdown",
   "id": "add3d61e",
   "metadata": {},
   "source": [
    "<div class=\"alert alert-block alert-success\">\n",
    "<b>Comentario del revisor (1ra Iteración)</b> <a class=“tocSkip”></a>\n",
    "    \n",
    "Excelente trabajo Audrey.\n",
    "\n",
    "</div>"
   ]
  },
  {
   "cell_type": "markdown",
   "id": "tight-staff",
   "metadata": {
    "id": "tight-staff"
   },
   "source": [
    "# [B] Intermedio (deben completarse todos para aprobar)\n",
    "\n",
    "1. ¿Existe alguna diferencia entre las distribuciones `'order_hour_of_day'` de los miércoles y los sábados? Traza gráficos de barra de `'order_hour_of_day'` para ambos días en la misma figura y describe las diferencias que observes.\n",
    "2. Grafica la distribución para el número de órdenes que hacen los clientes (es decir, cuántos clientes hicieron solo 1 pedido, cuántos hicieron 2, cuántos 3, y así sucesivamente...).\n",
    "3. ¿Cuáles son los 20 principales productos que se piden con más frecuencia (muestra su identificación y nombre)?"
   ]
  },
  {
   "cell_type": "markdown",
   "id": "packed-classic",
   "metadata": {
    "id": "packed-classic"
   },
   "source": [
    "### [B1] Diferencia entre miércoles y sábados para  `'order_hour_of_day'`. Traza gráficos de barra para los dos días y describe las diferencias que veas."
   ]
  },
  {
   "cell_type": "code",
   "execution_count": 40,
   "id": "d89b8403",
   "metadata": {
    "id": "d89b8403"
   },
   "outputs": [
    {
     "data": {
      "image/png": "[encoded data removed]",
      "text/plain": [
       "<Figure size 640x480 with 1 Axes>"
      ]
     },
     "metadata": {},
     "output_type": "display_data"
    }
   ],
   "source": [
    "dias = instacart_orders[(instacart_orders['order_dow'] == 3) | (instacart_orders['order_dow'] == 6)]\n",
    "\n",
    "instacart_df = pd.DataFrame({\n",
    "    'Miercoles': instacart_orders[instacart_orders[\"order_dow\"]==3][\"order_hour_of_day\"].value_counts().sort_index(),\n",
    "    'Sabado': instacart_orders[instacart_orders[\"order_dow\"]==6][\"order_hour_of_day\"].value_counts().sort_index()\n",
    "})\n",
    "\n",
    "instacart_df.plot(kind='bar',xlabel='Hora del dia',ylabel='Ordenes',color=['purple','orange'])\n",
    "plt.show()\n",
    "\n",
    "# Podemos ver que tienen una tendencia parecida"
   ]
  },
  {
   "cell_type": "markdown",
   "id": "charitable-congo",
   "metadata": {
    "id": "charitable-congo"
   },
   "source": [
    "Escribe aquí tus conclusiones\n",
    "\n",
    "Podemos ver que tienen una tendencia parecida ambos dias.Pero siempre el sabado lo podemos ver con mas numero de ordenes"
   ]
  },
  {
   "cell_type": "markdown",
   "id": "2ebe9477",
   "metadata": {},
   "source": [
    "<div class=\"alert alert-block alert-success\">\n",
    "<b>Comentario del revisor (1ra Iteración)</b> <a class=“tocSkip”></a>\n",
    "    \n",
    "Has obtenido la gráfica correcta.\n",
    "\n",
    "</div>"
   ]
  },
  {
   "cell_type": "markdown",
   "id": "e3891143",
   "metadata": {
    "id": "e3891143"
   },
   "source": [
    "### [B2] ¿Cuál es la distribución para el número de pedidos por cliente?"
   ]
  },
  {
   "cell_type": "code",
   "execution_count": 41,
   "id": "d8c26c23",
   "metadata": {
    "id": "d8c26c23"
   },
   "outputs": [
    {
     "data": {
      "image/png": "[encoded data removed]",
      "text/plain": [
       "<Figure size 640x480 with 1 Axes>"
      ]
     },
     "metadata": {},
     "output_type": "display_data"
    }
   ],
   "source": [
    "ord_cliente = instacart_orders.groupby('user_id')['order_id'].count()\n",
    "\n",
    "ord_cliente.plot(kind='hist', color='purple', bins=20, alpha=0.7) ##actualizado\n",
    "plt.xlim(0, 40)\n",
    "plt.xlabel('Numero de ordenes') \n",
    "plt.ylabel('Frecuencia')\n",
    "plt.title('Numero de ordenes por cliente') \n",
    "\n",
    "plt.show()\n"
   ]
  },
  {
   "cell_type": "markdown",
   "id": "d2eff7d5",
   "metadata": {
    "id": "d2eff7d5"
   },
   "source": [
    "Escribe aquí tus conclusiones\n",
    "\n",
    "Vemos que los usuarios regularmente realizan un pedido como minimo."
   ]
  },
  {
   "cell_type": "markdown",
   "id": "4ffc0f59",
   "metadata": {},
   "source": [
    "<div class=\"alert alert-block alert-warning\">\n",
    "<b>Comentario del revisor (1ra Iteración)</b> <a class=“tocSkip”></a>\n",
    "    \n",
    "El histograma obtenido está bien, aunque si queremos obtener más información podríamos aumentar la cantidad de barras/bins, para tener una mejor visualización de la distribución.\n",
    "\n",
    "</div>"
   ]
  },
  {
   "cell_type": "markdown",
   "id": "54a0319c",
   "metadata": {
    "id": "54a0319c"
   },
   "source": [
    "### [B3] ¿Cuáles son los 20 productos más populares (muestra su ID y nombre)?"
   ]
  },
  {
   "cell_type": "code",
   "execution_count": 42,
   "id": "exterior-arizona",
   "metadata": {
    "id": "exterior-arizona",
    "scrolled": true
   },
   "outputs": [
    {
     "data": {
      "text/html": [
       "<div>\n",
       "<style scoped>\n",
       "    .dataframe tbody tr th:only-of-type {\n",
       "        vertical-align: middle;\n",
       "    }\n",
       "\n",
       "    .dataframe tbody tr th {\n",
       "        vertical-align: top;\n",
       "    }\n",
       "\n",
       "    .dataframe thead th {\n",
       "        text-align: right;\n",
       "    }\n",
       "</style>\n",
       "<table border=\"1\" class=\"dataframe\">\n",
       "  <thead>\n",
       "    <tr style=\"text-align: right;\">\n",
       "      <th></th>\n",
       "      <th>order_id</th>\n",
       "      <th>product_id</th>\n",
       "      <th>add_to_cart_order</th>\n",
       "      <th>reordered</th>\n",
       "    </tr>\n",
       "  </thead>\n",
       "  <tbody>\n",
       "    <tr>\n",
       "      <th>0</th>\n",
       "      <td>2141543</td>\n",
       "      <td>11440</td>\n",
       "      <td>17</td>\n",
       "      <td>0</td>\n",
       "    </tr>\n",
       "    <tr>\n",
       "      <th>1</th>\n",
       "      <td>567889</td>\n",
       "      <td>1560</td>\n",
       "      <td>1</td>\n",
       "      <td>1</td>\n",
       "    </tr>\n",
       "    <tr>\n",
       "      <th>2</th>\n",
       "      <td>2261212</td>\n",
       "      <td>26683</td>\n",
       "      <td>1</td>\n",
       "      <td>1</td>\n",
       "    </tr>\n",
       "    <tr>\n",
       "      <th>3</th>\n",
       "      <td>491251</td>\n",
       "      <td>8670</td>\n",
       "      <td>35</td>\n",
       "      <td>1</td>\n",
       "    </tr>\n",
       "    <tr>\n",
       "      <th>4</th>\n",
       "      <td>2571142</td>\n",
       "      <td>1940</td>\n",
       "      <td>5</td>\n",
       "      <td>1</td>\n",
       "    </tr>\n",
       "  </tbody>\n",
       "</table>\n",
       "</div>"
      ],
      "text/plain": [
       "   order_id  product_id  add_to_cart_order  reordered\n",
       "0   2141543       11440                 17          0\n",
       "1    567889        1560                  1          1\n",
       "2   2261212       26683                  1          1\n",
       "3    491251        8670                 35          1\n",
       "4   2571142        1940                  5          1"
      ]
     },
     "metadata": {},
     "output_type": "display_data"
    },
    {
     "name": "stdout",
     "output_type": "stream",
     "text": [
      "\n"
     ]
    },
    {
     "data": {
      "text/html": [
       "<div>\n",
       "<style scoped>\n",
       "    .dataframe tbody tr th:only-of-type {\n",
       "        vertical-align: middle;\n",
       "    }\n",
       "\n",
       "    .dataframe tbody tr th {\n",
       "        vertical-align: top;\n",
       "    }\n",
       "\n",
       "    .dataframe thead th {\n",
       "        text-align: right;\n",
       "    }\n",
       "</style>\n",
       "<table border=\"1\" class=\"dataframe\">\n",
       "  <thead>\n",
       "    <tr style=\"text-align: right;\">\n",
       "      <th></th>\n",
       "      <th>product_id</th>\n",
       "      <th>product_name</th>\n",
       "      <th>aisle_id</th>\n",
       "      <th>department_id</th>\n",
       "    </tr>\n",
       "  </thead>\n",
       "  <tbody>\n",
       "    <tr>\n",
       "      <th>0</th>\n",
       "      <td>1</td>\n",
       "      <td>Chocolate Sandwich Cookies</td>\n",
       "      <td>61</td>\n",
       "      <td>19</td>\n",
       "    </tr>\n",
       "    <tr>\n",
       "      <th>1</th>\n",
       "      <td>2</td>\n",
       "      <td>All-Seasons Salt</td>\n",
       "      <td>104</td>\n",
       "      <td>13</td>\n",
       "    </tr>\n",
       "    <tr>\n",
       "      <th>2</th>\n",
       "      <td>3</td>\n",
       "      <td>Robust Golden Unsweetened Oolong Tea</td>\n",
       "      <td>94</td>\n",
       "      <td>7</td>\n",
       "    </tr>\n",
       "    <tr>\n",
       "      <th>3</th>\n",
       "      <td>4</td>\n",
       "      <td>Smart Ones Classic Favorites Mini Rigatoni Wit...</td>\n",
       "      <td>38</td>\n",
       "      <td>1</td>\n",
       "    </tr>\n",
       "    <tr>\n",
       "      <th>4</th>\n",
       "      <td>5</td>\n",
       "      <td>Green Chile Anytime Sauce</td>\n",
       "      <td>5</td>\n",
       "      <td>13</td>\n",
       "    </tr>\n",
       "  </tbody>\n",
       "</table>\n",
       "</div>"
      ],
      "text/plain": [
       "   product_id                                       product_name  aisle_id  \\\n",
       "0           1                         Chocolate Sandwich Cookies        61   \n",
       "1           2                                   All-Seasons Salt       104   \n",
       "2           3               Robust Golden Unsweetened Oolong Tea        94   \n",
       "3           4  Smart Ones Classic Favorites Mini Rigatoni Wit...        38   \n",
       "4           5                          Green Chile Anytime Sauce         5   \n",
       "\n",
       "   department_id  \n",
       "0             19  \n",
       "1             13  \n",
       "2              7  \n",
       "3              1  \n",
       "4             13  "
      ]
     },
     "metadata": {},
     "output_type": "display_data"
    }
   ],
   "source": [
    "display(order_products.head())\n",
    "print()\n",
    "display(products.head())"
   ]
  },
  {
   "cell_type": "code",
   "execution_count": 43,
   "id": "universal-facial",
   "metadata": {
    "id": "universal-facial"
   },
   "outputs": [
    {
     "name": "stdout",
     "output_type": "stream",
     "text": [
      "product_id  product_name                                          \n",
      "24852       Banana                                                    66050\n",
      "13176       Bag of Organic Bananas                                    53297\n",
      "21137       Organic Strawberries                                      37039\n",
      "21903       Organic Baby Spinach                                      33971\n",
      "47209       Organic Hass Avocado                                      29773\n",
      "                                                                      ...  \n",
      "5836        Arctic D Cod Liver Oil Lemon                                  1\n",
      "43573       Whisk- 10 Inch                                                1\n",
      "43570       Queso Cotija                                                  1\n",
      "36174       Whole Pinto Beans                                             1\n",
      "41403       Extra Rich & Thick Spaghetti Sauce Spices & Seasonings        1\n",
      "Name: order_id, Length: 45573, dtype: int64\n"
     ]
    }
   ],
   "source": [
    "products_id = products.merge(order_products, on='product_id')\n",
    "popular = products_id.groupby(['product_id', 'product_name'])['order_id'].count().sort_values(ascending=False)\n",
    "print(popular)\n"
   ]
  },
  {
   "cell_type": "code",
   "execution_count": 44,
   "id": "bbcdd20b",
   "metadata": {
    "id": "bbcdd20b"
   },
   "outputs": [
    {
     "name": "stdout",
     "output_type": "stream",
     "text": [
      "product_id  product_name            \n",
      "24852       Banana                      66050\n",
      "13176       Bag of Organic Bananas      53297\n",
      "21137       Organic Strawberries        37039\n",
      "21903       Organic Baby Spinach        33971\n",
      "47209       Organic Hass Avocado        29773\n",
      "47766       Organic Avocado             24689\n",
      "47626       Large Lemon                 21495\n",
      "16797       Strawberries                20018\n",
      "26209       Limes                       19690\n",
      "27845       Organic Whole Milk          19600\n",
      "27966       Organic Raspberries         19197\n",
      "22935       Organic Yellow Onion        15898\n",
      "24964       Organic Garlic              15292\n",
      "45007       Organic Zucchini            14584\n",
      "39275       Organic Blueberries         13879\n",
      "49683       Cucumber Kirby              13675\n",
      "28204       Organic Fuji Apple          12544\n",
      "5876        Organic Lemon               12232\n",
      "8277        Apple Honeycrisp Organic    11993\n",
      "40706       Organic Grape Tomatoes      11781\n",
      "Name: order_id, dtype: int64\n"
     ]
    },
    {
     "data": {
      "text/plain": [
       "<function matplotlib.pyplot.show(close=None, block=None)>"
      ]
     },
     "execution_count": 44,
     "metadata": {},
     "output_type": "execute_result"
    },
    {
     "data": {
      "image/png": "[encoded data removed]",
      "text/plain": [
       "<Figure size 640x480 with 1 Axes>"
      ]
     },
     "metadata": {},
     "output_type": "display_data"
    }
   ],
   "source": [
    "popular_20=popular.head(20)\n",
    "print(popular_20)\n",
    "\n",
    "popular_20.plot(kind='bar',xlabel='Producto',ylabel='Ordenes',color='purple')\n",
    "plt.show"
   ]
  },
  {
   "cell_type": "markdown",
   "id": "7df00f47",
   "metadata": {
    "id": "7df00f47"
   },
   "source": [
    "Escribe aquí tus conclusiones\n",
    "La banana es el producto mas ordenado."
   ]
  },
  {
   "cell_type": "markdown",
   "id": "5b6c47b5",
   "metadata": {},
   "source": [
    "<div class=\"alert alert-block alert-success\">\n",
    "<b>Comentario del revisor (1ra Iteración)</b> <a class=“tocSkip”></a>\n",
    "    \n",
    "La información obtenida es la correcta. Buen trabajo Audrey\n",
    "\n",
    "</div>"
   ]
  },
  {
   "cell_type": "markdown",
   "id": "gross-theme",
   "metadata": {
    "id": "gross-theme"
   },
   "source": [
    "# [C] Difícil (deben completarse todos para aprobar)\n",
    "\n",
    "1. ¿Cuántos artículos suelen comprar las personas en un pedido? ¿Cómo es la distribución?\n",
    "2. ¿Cuáles son los 20 principales artículos que vuelven a pedirse con mayor frecuencia (muestra sus nombres e IDs de los productos)?\n",
    "3. Para cada producto, ¿cuál es la tasa de repetición del pedido (número de repeticiones de pedido/total de pedidos?\n",
    "4. Para cada cliente, ¿qué proporción de los productos que pidió ya los había pedido? Calcula la tasa de repetición de pedido para cada usuario en lugar de para cada producto.\n",
    "5. ¿Cuáles son los 20 principales artículos que la gente pone primero en sus carritos (muestra las IDs de los productos, sus nombres, y el número de veces en que fueron el primer artículo en añadirse al carrito)?"
   ]
  },
  {
   "cell_type": "markdown",
   "id": "romantic-deposit",
   "metadata": {
    "id": "romantic-deposit"
   },
   "source": [
    "### [C1] ¿Cuántos artículos compran normalmente las personas en un pedido? ¿Cómo es la distribución?"
   ]
  },
  {
   "cell_type": "code",
   "execution_count": 45,
   "id": "virtual-punch",
   "metadata": {
    "id": "virtual-punch"
   },
   "outputs": [],
   "source": [
    "juntar_data = instacart_orders.merge(products_id, on=\"order_id\")"
   ]
  },
  {
   "cell_type": "code",
   "execution_count": 46,
   "id": "sensitive-breathing",
   "metadata": {
    "id": "sensitive-breathing"
   },
   "outputs": [
    {
     "data": {
      "text/plain": [
       "count    450046.000000\n",
       "mean         10.098983\n",
       "std           7.540206\n",
       "min           1.000000\n",
       "25%           5.000000\n",
       "50%           8.000000\n",
       "75%          14.000000\n",
       "max         127.000000\n",
       "Name: product_id, dtype: float64"
      ]
     },
     "execution_count": 46,
     "metadata": {},
     "output_type": "execute_result"
    }
   ],
   "source": [
    "arti_pers = juntar_data.groupby(\"order_id\")[\"product_id\"].count().sort_values(ascending=False)\n",
    "arti_pers.describe()"
   ]
  },
  {
   "cell_type": "code",
   "execution_count": 47,
   "id": "completed-frank",
   "metadata": {
    "id": "completed-frank"
   },
   "outputs": [
    {
     "data": {
      "text/plain": [
       "Text(0.5, 1.0, 'Numero de articulos')"
      ]
     },
     "execution_count": 47,
     "metadata": {},
     "output_type": "execute_result"
    },
    {
     "data": {
      "image/png": "[encoded data removed]",
      "text/plain": [
       "<Figure size 640x480 with 1 Axes>"
      ]
     },
     "metadata": {},
     "output_type": "display_data"
    }
   ],
   "source": [
    "arti_pers.plot(kind='hist',xlabel='Numero de articulos',color='purple',bins=20) ## actualizado\n",
    "plt.show\n",
    "\n",
    "arti_pers.plot(kind='hist', color='purple', bins=30) \n",
    "plt.xlim(0, 40) \n",
    "plt.xlabel('Numero de articulos') \n",
    "plt.ylabel('Frecuencia') \n",
    "plt.title('Numero de articulos')"
   ]
  },
  {
   "cell_type": "markdown",
   "id": "designed-mortality",
   "metadata": {
    "id": "designed-mortality"
   },
   "source": [
    "Escribe aquí tus conclusiones\n",
    "\n",
    "En promedio los clientes llevan 10 productos por pedido"
   ]
  },
  {
   "cell_type": "markdown",
   "id": "1a14883a",
   "metadata": {},
   "source": [
    "<div class=\"alert alert-block alert-warning\">\n",
    "<b>Comentario del revisor (1ra Iteración)</b> <a class=“tocSkip”></a>\n",
    "    \n",
    "Acá sucede lo mismo del histograma anterior, ya que las barras/bins son muy grandes no se logra apreciar en detalle la distribución. Te sugiero aumentar la cantidad de barras de la distribución y reducir el eje X hasta 40, ya que como logras ver, la mayoría de los datos están en un rango de 1 a 40. También es importante incluir el nombre de ambos ejes y el título de la gráfica.\n",
    "\n",
    "</div>"
   ]
  },
  {
   "cell_type": "markdown",
   "id": "5e6b5537",
   "metadata": {
    "id": "5e6b5537"
   },
   "source": [
    "### [C2] ¿Cuáles son los 20 principales artículos que vuelven a pedirse con mayor frecuencia (muestra sus nombres e IDs de los productos)?"
   ]
  },
  {
   "cell_type": "code",
   "execution_count": 48,
   "id": "9374e55a",
   "metadata": {
    "id": "9374e55a"
   },
   "outputs": [
    {
     "data": {
      "text/plain": [
       "product_id  product_name            \n",
       "24852       Banana                      55763\n",
       "13176       Bag of Organic Bananas      44450\n",
       "21137       Organic Strawberries        28639\n",
       "21903       Organic Baby Spinach        26233\n",
       "47209       Organic Hass Avocado        23629\n",
       "47766       Organic Avocado             18743\n",
       "27845       Organic Whole Milk          16251\n",
       "47626       Large Lemon                 15044\n",
       "27966       Organic Raspberries         14748\n",
       "16797       Strawberries                13945\n",
       "26209       Limes                       13327\n",
       "22935       Organic Yellow Onion        11145\n",
       "24964       Organic Garlic              10411\n",
       "45007       Organic Zucchini            10076\n",
       "49683       Cucumber Kirby               9538\n",
       "28204       Organic Fuji Apple           8989\n",
       "8277        Apple Honeycrisp Organic     8836\n",
       "39275       Organic Blueberries          8799\n",
       "5876        Organic Lemon                8412\n",
       "49235       Organic Half & Half          8389\n",
       "Name: reordered, dtype: int64"
      ]
     },
     "execution_count": 48,
     "metadata": {},
     "output_type": "execute_result"
    }
   ],
   "source": [
    "mejores_reorden = products_id[products_id['reordered'] == 1].groupby(['product_id', 'product_name'])['reordered'].sum().sort_values(ascending=False)\n",
    "mejores_reorden_20=(mejores_reorden.head(20))\n",
    "mejores_reorden_20\n"
   ]
  },
  {
   "cell_type": "code",
   "execution_count": 49,
   "id": "possible-change",
   "metadata": {
    "id": "possible-change",
    "scrolled": true
   },
   "outputs": [
    {
     "data": {
      "image/png": "[encoded data removed]",
      "text/plain": [
       "<Figure size 640x480 with 1 Axes>"
      ]
     },
     "metadata": {},
     "output_type": "display_data"
    }
   ],
   "source": [
    "mejores_reorden_20.plot(kind='bar', xlabel='Producto', ylabel='Reordenes',color='purple')\n",
    "plt.show()\n"
   ]
  },
  {
   "cell_type": "markdown",
   "id": "80e70c74",
   "metadata": {
    "id": "80e70c74"
   },
   "source": [
    "Escribe aquí tus conclusiones\n",
    "\n",
    "Podemos ver que el platano y sus variaciones tambien estan en los primeros lugares"
   ]
  },
  {
   "cell_type": "markdown",
   "id": "15d9023f",
   "metadata": {},
   "source": [
    "<div class=\"alert alert-block alert-danger\">\n",
    "<b>Comentario del revisor (1ra Iteración)</b> <a class=“tocSkip”></a>\n",
    "    \n",
    "Tu idea es buena para obtener la información necesaria, pero al usar la función `count`, estás contando los datos que no son NaN, en este caso para la columna **reordered**, tenemos valores de 0 y 1, y todos se están contando, pero realmente solo nos interesa los artículos donde se cumpla que `reordered = 1`. Incluye esta condición en tu código y podrás ver cómo los valores cambian y corresponden a la inforamción que se está pidiendo.\n",
    "</div>"
   ]
  },
  {
   "cell_type": "markdown",
   "id": "decc05c8",
   "metadata": {},
   "source": [
    "<div class=\"alert alert-block alert-success\">\n",
    "<b>Comentario del revisor (2da Iteración)</b> <a class=“tocSkip”></a>\n",
    "    \n",
    "Buen trabajo con los ajustes Audrey\n",
    "\n",
    "</div>"
   ]
  },
  {
   "cell_type": "markdown",
   "id": "9d312b14",
   "metadata": {
    "id": "9d312b14"
   },
   "source": [
    "### [C3] Para cada producto, ¿cuál es la proporción de las veces que se pide y que se vuelve a pedir?"
   ]
  },
  {
   "cell_type": "code",
   "execution_count": 50,
   "id": "8ae9f4b1",
   "metadata": {
    "id": "8ae9f4b1"
   },
   "outputs": [
    {
     "data": {
      "text/plain": [
       "product_id  product_name                                                     \n",
       "1           Chocolate Sandwich Cookies                                           0.564286\n",
       "2           All-Seasons Salt                                                     0.000000\n",
       "3           Robust Golden Unsweetened Oolong Tea                                 0.738095\n",
       "4           Smart Ones Classic Favorites Mini Rigatoni With Vodka Cream Sauce    0.510204\n",
       "7           Pure Coconut Water With Orange                                       0.500000\n",
       "                                                                                   ...   \n",
       "49690       HIGH PERFORMANCE ENERGY DRINK                                        0.800000\n",
       "49691       ORIGINAL PANCAKE & WAFFLE MIX                                        0.430556\n",
       "49692       ORGANIC INSTANT OATMEAL LIGHT MAPLE BROWN SUGAR                      0.416667\n",
       "49693       SPRING WATER BODY WASH                                               0.440000\n",
       "49694       BURRITO- STEAK & CHEESE                                              0.333333\n",
       "Name: reordered, Length: 45573, dtype: float64"
      ]
     },
     "execution_count": 50,
     "metadata": {},
     "output_type": "execute_result"
    }
   ],
   "source": [
    "products_id.groupby([\"product_id\",\"product_name\"])[\"reordered\"].mean()"
   ]
  },
  {
   "cell_type": "markdown",
   "id": "I10dEIAyldcO",
   "metadata": {
    "id": "I10dEIAyldcO"
   },
   "source": [
    "Escribe aquí tus conclusiones \n",
    "Podemos ver que el producto 'HIGH PERFORMANCE ENERGY DRINK' tiene una gran proporcion de reorden ya que se vuelve a pedir casi el 80% de las veces. "
   ]
  },
  {
   "cell_type": "markdown",
   "id": "b886d60e",
   "metadata": {},
   "source": [
    "<div class=\"alert alert-block alert-success\">\n",
    "<b>Comentario del revisor (1ra Iteración)</b> <a class=“tocSkip”></a>\n",
    "    \n",
    "Perfecto Audrey\n",
    "\n",
    "</div>"
   ]
  },
  {
   "cell_type": "markdown",
   "id": "subject-boxing",
   "metadata": {
    "id": "subject-boxing"
   },
   "source": [
    "### [C4] Para cada cliente, ¿qué proporción de sus productos ya los había pedido?"
   ]
  },
  {
   "cell_type": "code",
   "execution_count": 51,
   "id": "medical-couple",
   "metadata": {
    "id": "medical-couple",
    "scrolled": true
   },
   "outputs": [
    {
     "data": {
      "text/plain": [
       "user_id\n",
       "2         0.038462\n",
       "4         0.000000\n",
       "5         0.666667\n",
       "6         0.000000\n",
       "7         0.928571\n",
       "            ...   \n",
       "206203    0.222222\n",
       "206206    0.714286\n",
       "206207    0.891304\n",
       "206208    0.696000\n",
       "206209    0.320000\n",
       "Name: reordered, Length: 149626, dtype: float64"
      ]
     },
     "execution_count": 51,
     "metadata": {},
     "output_type": "execute_result"
    }
   ],
   "source": [
    "prop_reorder= juntar_data.groupby([\"user_id\"])[\"reordered\"].mean()\n",
    "prop_reorder"
   ]
  },
  {
   "cell_type": "markdown",
   "id": "BgJSvXDsleXz",
   "metadata": {
    "id": "BgJSvXDsleXz"
   },
   "source": [
    "Escribe aquí tus conclusiones\n",
    "\n",
    "la gente vuelve  a repetir sus productos muy diferente pero el porcentaje mas grande que vemos es del cliente con ID 206207 quien ha reordenado un 89% de las veces sus productos. El promedio seria de un 49% que cada cliente vuelve a pedir sus productos"
   ]
  },
  {
   "cell_type": "markdown",
   "id": "014add27",
   "metadata": {},
   "source": [
    "<div class=\"alert alert-block alert-success\">\n",
    "<b>Comentario del revisor (1ra Iteración)</b> <a class=“tocSkip”></a>\n",
    "    \n",
    "Muy buen trabajo!!\n",
    "\n",
    "</div>"
   ]
  },
  {
   "cell_type": "markdown",
   "id": "92d35137",
   "metadata": {
    "id": "92d35137"
   },
   "source": [
    "### [C5] ¿Cuáles son los 20 principales artículos que las personas ponen primero en sus carritos?"
   ]
  },
  {
   "cell_type": "code",
   "execution_count": 52,
   "id": "0ae57274",
   "metadata": {
    "id": "0ae57274",
    "scrolled": true
   },
   "outputs": [
    {
     "name": "stdout",
     "output_type": "stream",
     "text": [
      "product_id  product_name               \n",
      "24852       Banana                         15562\n",
      "13176       Bag of Organic Bananas         11026\n",
      "27845       Organic Whole Milk              4363\n",
      "21137       Organic Strawberries            3946\n",
      "47209       Organic Hass Avocado            3390\n",
      "21903       Organic Baby Spinach            3336\n",
      "47766       Organic Avocado                 3044\n",
      "19660       Spring Water                    2336\n",
      "16797       Strawberries                    2308\n",
      "27966       Organic Raspberries             2024\n",
      "44632       Sparkling Water Grapefruit      1914\n",
      "49235       Organic Half & Half             1797\n",
      "47626       Large Lemon                     1737\n",
      "196         Soda                            1733\n",
      "38689       Organic Reduced Fat Milk        1397\n",
      "26209       Limes                           1370\n",
      "12341       Hass Avocados                   1340\n",
      "5785        Organic Reduced Fat 2% Milk     1310\n",
      "27086       Half & Half                     1309\n",
      "43352       Raspberries                     1246\n",
      "Name: add_to_cart_order, dtype: int64\n"
     ]
    }
   ],
   "source": [
    "top_primeros = juntar_data[juntar_data[\"add_to_cart_order\"] == 1].groupby([\"product_id\", \"product_name\"])[\"add_to_cart_order\"].count().sort_values(ascending=False).head(20)\n",
    "print(top_primeros)\n"
   ]
  },
  {
   "cell_type": "code",
   "execution_count": 53,
   "id": "08e41ec2",
   "metadata": {
    "id": "08e41ec2"
   },
   "outputs": [
    {
     "data": {
      "text/plain": [
       "<AxesSubplot:xlabel='Productos', ylabel='Veces que se agregaron primero'>"
      ]
     },
     "execution_count": 53,
     "metadata": {},
     "output_type": "execute_result"
    },
    {
     "data": {
      "image/png": "[encoded data removed]",
      "text/plain": [
       "<Figure size 640x480 with 1 Axes>"
      ]
     },
     "metadata": {},
     "output_type": "display_data"
    }
   ],
   "source": [
    "top_primeros.plot(kind='bar',xlabel='Productos',ylabel='Veces que se agregaron primero',color='purple')"
   ]
  },
  {
   "cell_type": "markdown",
   "id": "28ce9872",
   "metadata": {
    "id": "28ce9872"
   },
   "source": [
    "Escribe aquí tus conclusiones\n",
    "\n",
    "Vemos que las frutas son altamente requeridas, en especial las organicas"
   ]
  },
  {
   "cell_type": "markdown",
   "id": "71b1429c",
   "metadata": {},
   "source": [
    "<div class=\"alert alert-block alert-success\">\n",
    "<b>Comentario del revisor (1ra Iteración)</b> <a class=“tocSkip”></a>\n",
    "    \n",
    "Magnifíco trabajo!\n",
    "\n",
    "</div>"
   ]
  },
  {
   "cell_type": "markdown",
   "id": "uITbFCEoDosC",
   "metadata": {
    "id": "uITbFCEoDosC"
   },
   "source": [
    "### Conclusion general del proyecto:"
   ]
  },
  {
   "cell_type": "markdown",
   "id": "62b91b2d",
   "metadata": {
    "id": "Nk-4GS7mDwqY"
   },
   "source": [
    "Para el negocio de instacart podriamos enviar un recordatorio/notificacion a los clientes que pasan mas de 30 dias sin pedido. Tambien vemos muy buena demanda en las frutas por lo que es recomendabe siempre tener la cantidad que satisfaga la demanda y por ultimo seria recomendable dar una promocion los dias jueves ya que es el dia con ordenes mas bajo."
   ]
  },
  {
   "cell_type": "markdown",
   "id": "8102681c",
   "metadata": {},
   "source": [
    "-----"
   ]
  },
  {
   "cell_type": "markdown",
   "id": "0ae15c3e",
   "metadata": {},
   "source": [
    "<div class=\"alert alert-block alert-warning\">\n",
    "<b>Comentario General del revisor (1ra Iteración)</b> <a class=“tocSkip”></a>\n",
    "    \n",
    "Audrey, tu desempeño en este proyecto del programa de data scientist ha sido realmente impresionante. Tu Análisis Exploratorio de Datos (EDA) fue excelente, demostrando una sólida comprensión de los conceptos fundamentales y una habilidad notable para extraer insights valiosos. Es particularmente notable cómo has respondido de manera sobresaliente a la mayoría de las preguntas, incluyendo tus propias apreciaciones, lo cual añade un valor significativo a tu análisis. Esta práctica no solo enriquece tu proyecto, sino que también refleja tu capacidad para pensar críticamente sobre los datos. Sin embargo, te sugiero revisar una de las preguntas donde es necesario considerar únicamente los productos que fueron reordenados. Este pequeño ajuste elevará aún más la calidad de tu trabajo y te hará cumplir con todos los objetivos de tu proyecto. Estaré atento a tu próxima iteración ✅\n",
    "\n",
    "</div>"
   ]
  },
  {
   "cell_type": "markdown",
   "id": "5d0cd3f8",
   "metadata": {},
   "source": [
    "<div class=\"alert alert-block alert-success\">\n",
    "<b>Comentario General del revisor (2da Iteración)</b> <a class=“tocSkip”></a>\n",
    "    \n",
    "\n",
    "\n",
    "</div>"
   ]
  }
 ],
 "metadata": {
  "ExecuteTimeLog": [
   {
    "duration": 292,
    "start_time": "2024-10-08T23:51:25.622Z"
   },
   {
    "duration": 528,
    "start_time": "2024-10-08T23:51:35.602Z"
   },
   {
    "duration": 2,
    "start_time": "2024-10-08T23:53:37.151Z"
   },
   {
    "duration": 318,
    "start_time": "2024-10-08T23:57:16.381Z"
   },
   {
    "duration": 2216,
    "start_time": "2024-10-09T00:04:57.726Z"
   },
   {
    "duration": 5,
    "start_time": "2024-10-09T00:06:07.504Z"
   },
   {
    "duration": 22,
    "start_time": "2024-10-09T00:06:18.552Z"
   },
   {
    "duration": 37,
    "start_time": "2024-10-09T00:07:18.106Z"
   },
   {
    "duration": 3,
    "start_time": "2024-10-09T00:07:33.323Z"
   },
   {
    "duration": 20,
    "start_time": "2024-10-09T00:07:57.558Z"
   },
   {
    "duration": 10,
    "start_time": "2024-10-09T00:08:00.205Z"
   },
   {
    "duration": 8,
    "start_time": "2024-10-09T00:08:04.097Z"
   },
   {
    "duration": 7,
    "start_time": "2024-10-09T00:08:07.064Z"
   },
   {
    "duration": 7,
    "start_time": "2024-10-09T00:08:09.430Z"
   },
   {
    "duration": 909,
    "start_time": "2024-10-09T00:09:13.546Z"
   },
   {
    "duration": 11,
    "start_time": "2024-10-09T00:09:15.926Z"
   },
   {
    "duration": 10,
    "start_time": "2024-10-09T00:09:18.746Z"
   },
   {
    "duration": 7,
    "start_time": "2024-10-09T00:09:20.769Z"
   },
   {
    "duration": 9,
    "start_time": "2024-10-09T00:09:22.447Z"
   },
   {
    "duration": 7,
    "start_time": "2024-10-09T00:09:24.247Z"
   },
   {
    "duration": 81,
    "start_time": "2024-10-09T00:12:53.678Z"
   },
   {
    "duration": 154,
    "start_time": "2024-10-09T00:13:39.164Z"
   },
   {
    "duration": 194,
    "start_time": "2024-10-09T00:13:50.760Z"
   },
   {
    "duration": 15,
    "start_time": "2024-10-09T00:14:44.885Z"
   },
   {
    "duration": 99,
    "start_time": "2024-10-09T00:15:15.312Z"
   },
   {
    "duration": 87,
    "start_time": "2024-10-09T00:15:19.773Z"
   },
   {
    "duration": 72,
    "start_time": "2024-10-09T00:16:44.571Z"
   },
   {
    "duration": 24,
    "start_time": "2024-10-09T00:16:59.076Z"
   },
   {
    "duration": 76,
    "start_time": "2024-10-09T00:18:12.006Z"
   },
   {
    "duration": 76,
    "start_time": "2024-10-09T00:18:28.087Z"
   },
   {
    "duration": 68,
    "start_time": "2024-10-09T00:18:29.968Z"
   },
   {
    "duration": 24,
    "start_time": "2024-10-09T00:18:34.126Z"
   },
   {
    "duration": 11,
    "start_time": "2024-10-09T00:19:32.526Z"
   },
   {
    "duration": 3,
    "start_time": "2024-10-09T00:19:46.811Z"
   },
   {
    "duration": 18,
    "start_time": "2024-10-09T00:21:12.516Z"
   },
   {
    "duration": 17,
    "start_time": "2024-10-09T00:22:48.971Z"
   },
   {
    "duration": 13,
    "start_time": "2024-10-09T00:24:24.269Z"
   },
   {
    "duration": 5,
    "start_time": "2024-10-09T00:24:43.985Z"
   },
   {
    "duration": 12,
    "start_time": "2024-10-09T00:24:47.979Z"
   },
   {
    "duration": 12,
    "start_time": "2024-10-09T00:25:13.890Z"
   },
   {
    "duration": 14,
    "start_time": "2024-10-09T00:26:28.646Z"
   },
   {
    "duration": 137,
    "start_time": "2024-10-09T00:29:15.779Z"
   },
   {
    "duration": 7,
    "start_time": "2024-10-09T00:29:53.899Z"
   },
   {
    "duration": 25,
    "start_time": "2024-10-09T00:30:06.799Z"
   },
   {
    "duration": 7,
    "start_time": "2024-10-09T00:30:15.556Z"
   },
   {
    "duration": 27,
    "start_time": "2024-10-09T00:30:17.988Z"
   },
   {
    "duration": 13,
    "start_time": "2024-10-09T00:30:35.394Z"
   },
   {
    "duration": 11,
    "start_time": "2024-10-09T00:30:44.191Z"
   },
   {
    "duration": 23,
    "start_time": "2024-10-09T00:30:53.811Z"
   },
   {
    "duration": 23,
    "start_time": "2024-10-09T00:30:56.025Z"
   },
   {
    "duration": 11,
    "start_time": "2024-10-09T00:30:59.035Z"
   },
   {
    "duration": 11,
    "start_time": "2024-10-09T00:31:12.655Z"
   },
   {
    "duration": 11,
    "start_time": "2024-10-09T00:31:26.261Z"
   },
   {
    "duration": 3,
    "start_time": "2024-10-09T00:31:35.121Z"
   },
   {
    "duration": 826,
    "start_time": "2024-10-09T00:31:36.889Z"
   },
   {
    "duration": 10,
    "start_time": "2024-10-09T00:31:39.471Z"
   },
   {
    "duration": 10,
    "start_time": "2024-10-09T00:31:41.729Z"
   },
   {
    "duration": 8,
    "start_time": "2024-10-09T00:31:43.968Z"
   },
   {
    "duration": 8,
    "start_time": "2024-10-09T00:31:45.610Z"
   },
   {
    "duration": 8,
    "start_time": "2024-10-09T00:31:47.334Z"
   },
   {
    "duration": 162,
    "start_time": "2024-10-09T00:31:51.176Z"
   },
   {
    "duration": 9,
    "start_time": "2024-10-09T00:31:54.807Z"
   },
   {
    "duration": 84,
    "start_time": "2024-10-09T00:31:58.275Z"
   },
   {
    "duration": 67,
    "start_time": "2024-10-09T00:32:01.830Z"
   },
   {
    "duration": 22,
    "start_time": "2024-10-09T00:32:11.181Z"
   },
   {
    "duration": 18,
    "start_time": "2024-10-09T00:32:16.273Z"
   },
   {
    "duration": 4,
    "start_time": "2024-10-09T00:32:23.943Z"
   },
   {
    "duration": 18,
    "start_time": "2024-10-09T00:32:28.768Z"
   },
   {
    "duration": 8,
    "start_time": "2024-10-09T00:33:53.930Z"
   },
   {
    "duration": 8,
    "start_time": "2024-10-09T01:05:34.590Z"
   },
   {
    "duration": 25,
    "start_time": "2024-10-09T01:05:49.078Z"
   },
   {
    "duration": 23,
    "start_time": "2024-10-09T01:07:35.227Z"
   },
   {
    "duration": 24,
    "start_time": "2024-10-09T01:08:42.318Z"
   },
   {
    "duration": 24,
    "start_time": "2024-10-09T01:10:46.867Z"
   },
   {
    "duration": 4,
    "start_time": "2024-10-09T01:11:15.779Z"
   },
   {
    "duration": 23,
    "start_time": "2024-10-09T01:11:20.204Z"
   },
   {
    "duration": 8,
    "start_time": "2024-10-09T01:13:13.153Z"
   },
   {
    "duration": 5,
    "start_time": "2024-10-09T01:13:44.627Z"
   },
   {
    "duration": 15,
    "start_time": "2024-10-09T01:14:00.733Z"
   },
   {
    "duration": 5,
    "start_time": "2024-10-09T01:16:30.394Z"
   },
   {
    "duration": 8,
    "start_time": "2024-10-09T01:16:49.318Z"
   },
   {
    "duration": 13,
    "start_time": "2024-10-09T01:17:41.172Z"
   },
   {
    "duration": 7,
    "start_time": "2024-10-09T01:18:12.565Z"
   },
   {
    "duration": 19,
    "start_time": "2024-10-09T01:22:02.331Z"
   },
   {
    "duration": 4,
    "start_time": "2024-10-09T01:22:18.554Z"
   },
   {
    "duration": 25,
    "start_time": "2024-10-09T01:31:18.575Z"
   },
   {
    "duration": 9,
    "start_time": "2024-10-09T01:31:26.460Z"
   },
   {
    "duration": 3,
    "start_time": "2024-10-09T01:41:39.002Z"
   },
   {
    "duration": 5,
    "start_time": "2024-10-09T01:42:00.613Z"
   },
   {
    "duration": 12,
    "start_time": "2024-10-09T01:42:17.409Z"
   },
   {
    "duration": 5,
    "start_time": "2024-10-09T01:42:21.300Z"
   },
   {
    "duration": 3,
    "start_time": "2024-10-09T01:43:33.194Z"
   },
   {
    "duration": 3,
    "start_time": "2024-10-09T01:44:22.025Z"
   },
   {
    "duration": 13,
    "start_time": "2024-10-09T01:44:36.878Z"
   },
   {
    "duration": 12,
    "start_time": "2024-10-09T01:44:44.140Z"
   },
   {
    "duration": 3,
    "start_time": "2024-10-09T01:44:50.277Z"
   },
   {
    "duration": 4,
    "start_time": "2024-10-09T01:45:26.020Z"
   },
   {
    "duration": 3,
    "start_time": "2024-10-09T01:46:02.378Z"
   },
   {
    "duration": 691,
    "start_time": "2024-10-09T01:48:22.357Z"
   },
   {
    "duration": 678,
    "start_time": "2024-10-09T01:48:43.148Z"
   },
   {
    "duration": 32,
    "start_time": "2024-10-09T01:55:03.054Z"
   },
   {
    "duration": 12,
    "start_time": "2024-10-09T01:55:25.726Z"
   },
   {
    "duration": 611,
    "start_time": "2024-10-09T01:56:10.325Z"
   },
   {
    "duration": 5,
    "start_time": "2024-10-09T01:57:50.938Z"
   },
   {
    "duration": 5,
    "start_time": "2024-10-09T01:57:56.060Z"
   },
   {
    "duration": 5,
    "start_time": "2024-10-09T01:58:34.200Z"
   },
   {
    "duration": 9,
    "start_time": "2024-10-09T01:58:53.047Z"
   },
   {
    "duration": 4,
    "start_time": "2024-10-09T02:00:02.441Z"
   },
   {
    "duration": 5,
    "start_time": "2024-10-09T02:02:19.919Z"
   },
   {
    "duration": 7,
    "start_time": "2024-10-09T02:03:40.298Z"
   },
   {
    "duration": 14,
    "start_time": "2024-10-09T02:05:35.790Z"
   },
   {
    "duration": 5,
    "start_time": "2024-10-09T02:05:56.898Z"
   },
   {
    "duration": 14,
    "start_time": "2024-10-09T02:06:40.345Z"
   },
   {
    "duration": 5,
    "start_time": "2024-10-09T02:07:01.008Z"
   },
   {
    "duration": 4,
    "start_time": "2024-10-09T02:07:16.144Z"
   },
   {
    "duration": 4,
    "start_time": "2024-10-09T02:07:36.918Z"
   },
   {
    "duration": 4,
    "start_time": "2024-10-09T02:07:43.564Z"
   },
   {
    "duration": 4,
    "start_time": "2024-10-09T02:10:15.744Z"
   },
   {
    "duration": 10,
    "start_time": "2024-10-09T02:10:31.067Z"
   },
   {
    "duration": 3,
    "start_time": "2024-10-09T02:10:42.179Z"
   },
   {
    "duration": 5,
    "start_time": "2024-10-09T02:11:31.955Z"
   },
   {
    "duration": 4,
    "start_time": "2024-10-09T02:13:13.161Z"
   },
   {
    "duration": 39,
    "start_time": "2024-10-09T02:13:29.155Z"
   },
   {
    "duration": 39,
    "start_time": "2024-10-09T02:13:54.271Z"
   },
   {
    "duration": 26,
    "start_time": "2024-10-09T02:13:57.310Z"
   },
   {
    "duration": 26,
    "start_time": "2024-10-09T02:14:03.304Z"
   },
   {
    "duration": 27,
    "start_time": "2024-10-09T02:15:17.322Z"
   },
   {
    "duration": 27,
    "start_time": "2024-10-09T02:15:58.374Z"
   },
   {
    "duration": 4,
    "start_time": "2024-10-09T02:16:03.399Z"
   },
   {
    "duration": 27,
    "start_time": "2024-10-09T02:16:06.277Z"
   },
   {
    "duration": 2,
    "start_time": "2024-10-09T02:16:17.924Z"
   },
   {
    "duration": 10,
    "start_time": "2024-10-09T02:16:32.278Z"
   },
   {
    "duration": 11,
    "start_time": "2024-10-09T02:16:34.017Z"
   },
   {
    "duration": 9,
    "start_time": "2024-10-09T02:16:39.246Z"
   },
   {
    "duration": 11,
    "start_time": "2024-10-09T02:16:43.335Z"
   },
   {
    "duration": 8,
    "start_time": "2024-10-09T02:16:48.145Z"
   },
   {
    "duration": 7,
    "start_time": "2024-10-09T02:16:50.200Z"
   },
   {
    "duration": 7,
    "start_time": "2024-10-09T02:16:52.545Z"
   },
   {
    "duration": 149,
    "start_time": "2024-10-09T02:16:56.541Z"
   },
   {
    "duration": 305,
    "start_time": "2024-10-09T02:17:24.698Z"
   },
   {
    "duration": 866,
    "start_time": "2024-10-09T02:17:27.176Z"
   },
   {
    "duration": 12,
    "start_time": "2024-10-09T02:17:31.662Z"
   },
   {
    "duration": 9,
    "start_time": "2024-10-09T02:17:34.378Z"
   },
   {
    "duration": 7,
    "start_time": "2024-10-09T02:17:36.484Z"
   },
   {
    "duration": 7,
    "start_time": "2024-10-09T02:17:38.658Z"
   },
   {
    "duration": 6,
    "start_time": "2024-10-09T02:17:40.993Z"
   },
   {
    "duration": 195,
    "start_time": "2024-10-09T02:17:46.820Z"
   },
   {
    "duration": 11,
    "start_time": "2024-10-09T02:17:50.544Z"
   },
   {
    "duration": 104,
    "start_time": "2024-10-09T02:17:53.492Z"
   },
   {
    "duration": 89,
    "start_time": "2024-10-09T02:17:58.100Z"
   },
   {
    "duration": 31,
    "start_time": "2024-10-09T02:18:00.195Z"
   },
   {
    "duration": 19,
    "start_time": "2024-10-09T02:18:03.206Z"
   },
   {
    "duration": 3,
    "start_time": "2024-10-09T02:18:05.392Z"
   },
   {
    "duration": 7,
    "start_time": "2024-10-09T02:18:07.718Z"
   },
   {
    "duration": 5,
    "start_time": "2024-10-09T02:18:10.959Z"
   },
   {
    "duration": 4,
    "start_time": "2024-10-09T02:18:13.052Z"
   },
   {
    "duration": 4,
    "start_time": "2024-10-09T02:18:15.088Z"
   },
   {
    "duration": 3,
    "start_time": "2024-10-09T02:18:17.031Z"
   },
   {
    "duration": 751,
    "start_time": "2024-10-09T02:18:19.614Z"
   },
   {
    "duration": 696,
    "start_time": "2024-10-09T02:18:22.158Z"
   },
   {
    "duration": 8,
    "start_time": "2024-10-09T02:18:26.660Z"
   },
   {
    "duration": 6,
    "start_time": "2024-10-09T02:18:29.734Z"
   },
   {
    "duration": 6,
    "start_time": "2024-10-09T02:18:36.183Z"
   },
   {
    "duration": 4,
    "start_time": "2024-10-09T02:18:39.872Z"
   },
   {
    "duration": 9,
    "start_time": "2024-10-09T02:18:45.023Z"
   },
   {
    "duration": 10,
    "start_time": "2024-10-09T02:19:07.731Z"
   },
   {
    "duration": 5,
    "start_time": "2024-10-09T02:19:19.802Z"
   },
   {
    "duration": 4,
    "start_time": "2024-10-09T02:24:52.607Z"
   },
   {
    "duration": 6,
    "start_time": "2024-10-09T02:25:16.239Z"
   },
   {
    "duration": 6,
    "start_time": "2024-10-09T02:26:01.312Z"
   },
   {
    "duration": 7,
    "start_time": "2024-10-09T02:28:18.218Z"
   },
   {
    "duration": 173,
    "start_time": "2024-10-09T02:29:20.482Z"
   },
   {
    "duration": 10,
    "start_time": "2024-10-09T02:29:50.076Z"
   },
   {
    "duration": 15,
    "start_time": "2024-10-09T02:29:58.578Z"
   },
   {
    "duration": 12,
    "start_time": "2024-10-09T02:31:58.523Z"
   },
   {
    "duration": 12,
    "start_time": "2024-10-09T02:32:53.011Z"
   },
   {
    "duration": 6,
    "start_time": "2024-10-09T02:33:05.152Z"
   },
   {
    "duration": 3,
    "start_time": "2024-10-09T02:38:51.280Z"
   },
   {
    "duration": 375,
    "start_time": "2024-10-09T02:38:57.422Z"
   },
   {
    "duration": 4,
    "start_time": "2024-10-09T02:39:09.181Z"
   },
   {
    "duration": 4,
    "start_time": "2024-10-09T02:39:21.714Z"
   },
   {
    "duration": 4,
    "start_time": "2024-10-09T02:39:24.947Z"
   },
   {
    "duration": 6,
    "start_time": "2024-10-09T02:39:37.085Z"
   },
   {
    "duration": 2,
    "start_time": "2024-10-09T02:39:55.992Z"
   },
   {
    "duration": 15,
    "start_time": "2024-10-09T02:40:18.506Z"
   },
   {
    "duration": 17,
    "start_time": "2024-10-09T02:40:47.792Z"
   },
   {
    "duration": 31,
    "start_time": "2024-10-09T02:40:59.699Z"
   },
   {
    "duration": 40,
    "start_time": "2024-10-09T02:42:21.696Z"
   },
   {
    "duration": 3,
    "start_time": "2024-10-09T02:42:36.647Z"
   },
   {
    "duration": 36,
    "start_time": "2024-10-09T02:42:41.576Z"
   },
   {
    "duration": 9,
    "start_time": "2024-10-09T02:46:16.591Z"
   },
   {
    "duration": 7,
    "start_time": "2024-10-09T02:46:23.662Z"
   },
   {
    "duration": 12,
    "start_time": "2024-10-09T02:47:31.455Z"
   },
   {
    "duration": 27,
    "start_time": "2024-10-09T02:47:37.503Z"
   },
   {
    "duration": 29,
    "start_time": "2024-10-09T02:47:44.975Z"
   },
   {
    "duration": 5,
    "start_time": "2024-10-09T02:48:44.872Z"
   },
   {
    "duration": 7,
    "start_time": "2024-10-09T02:48:51.742Z"
   },
   {
    "duration": 18,
    "start_time": "2024-10-09T02:54:54.179Z"
   },
   {
    "duration": 3,
    "start_time": "2024-10-09T02:55:11.849Z"
   },
   {
    "duration": 50,
    "start_time": "2024-10-09T03:00:26.324Z"
   },
   {
    "duration": 64,
    "start_time": "2024-10-09T03:00:32.666Z"
   },
   {
    "duration": 18,
    "start_time": "2024-10-09T03:01:05.018Z"
   },
   {
    "duration": 4,
    "start_time": "2024-10-09T03:01:56.635Z"
   },
   {
    "duration": 6,
    "start_time": "2024-10-09T03:12:03.690Z"
   },
   {
    "duration": 5,
    "start_time": "2024-10-09T03:12:12.628Z"
   },
   {
    "duration": 4,
    "start_time": "2024-10-09T03:13:43.326Z"
   },
   {
    "duration": 4,
    "start_time": "2024-10-09T03:14:28.819Z"
   },
   {
    "duration": 26,
    "start_time": "2024-10-09T03:15:40.339Z"
   },
   {
    "duration": 3,
    "start_time": "2024-10-09T03:16:17.917Z"
   },
   {
    "duration": 4,
    "start_time": "2024-10-09T03:16:20.709Z"
   },
   {
    "duration": 3,
    "start_time": "2024-10-09T03:16:28.101Z"
   },
   {
    "duration": 38,
    "start_time": "2024-10-09T03:16:40.080Z"
   },
   {
    "duration": 10,
    "start_time": "2024-10-09T03:17:03.208Z"
   },
   {
    "duration": 955,
    "start_time": "2024-10-09T03:17:19.571Z"
   },
   {
    "duration": 9,
    "start_time": "2024-10-09T03:17:34.910Z"
   },
   {
    "duration": 4,
    "start_time": "2024-10-09T03:18:45.150Z"
   },
   {
    "duration": 22,
    "start_time": "2024-10-09T03:33:21.060Z"
   },
   {
    "duration": 17,
    "start_time": "2024-10-09T03:35:00.439Z"
   },
   {
    "duration": 30,
    "start_time": "2024-10-09T03:35:28.228Z"
   },
   {
    "duration": 3,
    "start_time": "2024-10-09T03:40:54.988Z"
   },
   {
    "duration": 22,
    "start_time": "2024-10-09T03:41:03.805Z"
   },
   {
    "duration": 27,
    "start_time": "2024-10-09T03:41:32.439Z"
   },
   {
    "duration": 35,
    "start_time": "2024-10-09T03:42:10.218Z"
   },
   {
    "duration": 12,
    "start_time": "2024-10-09T03:53:34.999Z"
   },
   {
    "duration": 17,
    "start_time": "2024-10-09T03:54:31.390Z"
   },
   {
    "duration": 5,
    "start_time": "2024-10-09T03:54:37.120Z"
   },
   {
    "duration": 12,
    "start_time": "2024-10-09T04:11:03.758Z"
   },
   {
    "duration": 14,
    "start_time": "2024-10-09T04:11:17.775Z"
   },
   {
    "duration": 26,
    "start_time": "2024-10-09T04:11:36.630Z"
   },
   {
    "duration": 2203,
    "start_time": "2024-10-09T04:13:16.254Z"
   },
   {
    "duration": 3,
    "start_time": "2024-10-09T04:13:49.581Z"
   },
   {
    "duration": 155,
    "start_time": "2024-10-09T04:13:59.875Z"
   },
   {
    "duration": 228,
    "start_time": "2024-10-09T04:14:31.508Z"
   },
   {
    "duration": 114,
    "start_time": "2024-10-09T04:16:57.340Z"
   },
   {
    "duration": 116,
    "start_time": "2024-10-09T04:17:46.896Z"
   },
   {
    "duration": 13,
    "start_time": "2024-10-09T04:19:18.175Z"
   },
   {
    "duration": 136,
    "start_time": "2024-10-09T04:19:25.821Z"
   },
   {
    "duration": 489,
    "start_time": "2024-10-09T04:20:20.096Z"
   },
   {
    "duration": 75,
    "start_time": "2024-10-09T04:20:56.644Z"
   },
   {
    "duration": 72,
    "start_time": "2024-10-09T04:21:09.747Z"
   },
   {
    "duration": 229,
    "start_time": "2024-10-09T04:23:13.354Z"
   },
   {
    "duration": 194,
    "start_time": "2024-10-09T04:23:50.094Z"
   },
   {
    "duration": 15,
    "start_time": "2024-10-09T04:24:22.872Z"
   },
   {
    "duration": 14,
    "start_time": "2024-10-09T04:24:57.490Z"
   },
   {
    "duration": 193,
    "start_time": "2024-10-09T04:25:05.706Z"
   },
   {
    "duration": 201,
    "start_time": "2024-10-09T04:28:38.677Z"
   },
   {
    "duration": 174,
    "start_time": "2024-10-09T04:37:26.550Z"
   },
   {
    "duration": 437,
    "start_time": "2024-10-09T04:37:39.660Z"
   },
   {
    "duration": 1063,
    "start_time": "2024-10-09T04:37:43.313Z"
   },
   {
    "duration": 11,
    "start_time": "2024-10-09T04:37:45.396Z"
   },
   {
    "duration": 10,
    "start_time": "2024-10-09T04:37:48.467Z"
   },
   {
    "duration": 8,
    "start_time": "2024-10-09T04:37:50.510Z"
   },
   {
    "duration": 10,
    "start_time": "2024-10-09T04:37:52.863Z"
   },
   {
    "duration": 7,
    "start_time": "2024-10-09T04:37:55.225Z"
   },
   {
    "duration": 203,
    "start_time": "2024-10-09T04:38:03.203Z"
   },
   {
    "duration": 12,
    "start_time": "2024-10-09T04:38:07.518Z"
   },
   {
    "duration": 110,
    "start_time": "2024-10-09T04:38:11.250Z"
   },
   {
    "duration": 87,
    "start_time": "2024-10-09T04:38:13.625Z"
   },
   {
    "duration": 29,
    "start_time": "2024-10-09T04:38:15.608Z"
   },
   {
    "duration": 11,
    "start_time": "2024-10-09T04:38:22.568Z"
   },
   {
    "duration": 3,
    "start_time": "2024-10-09T04:38:24.312Z"
   },
   {
    "duration": 16,
    "start_time": "2024-10-09T04:38:28.304Z"
   },
   {
    "duration": 5,
    "start_time": "2024-10-09T04:38:31.884Z"
   },
   {
    "duration": 3,
    "start_time": "2024-10-09T04:38:35.306Z"
   },
   {
    "duration": 3,
    "start_time": "2024-10-09T04:38:37.312Z"
   },
   {
    "duration": 3,
    "start_time": "2024-10-09T04:38:39.457Z"
   },
   {
    "duration": 776,
    "start_time": "2024-10-09T04:38:42.632Z"
   },
   {
    "duration": 722,
    "start_time": "2024-10-09T04:38:46.019Z"
   },
   {
    "duration": 8,
    "start_time": "2024-10-09T04:38:49.391Z"
   },
   {
    "duration": 6,
    "start_time": "2024-10-09T04:38:51.965Z"
   },
   {
    "duration": 5,
    "start_time": "2024-10-09T04:38:56.149Z"
   },
   {
    "duration": 7,
    "start_time": "2024-10-09T04:38:58.210Z"
   },
   {
    "duration": 7,
    "start_time": "2024-10-09T04:39:01.483Z"
   },
   {
    "duration": 5,
    "start_time": "2024-10-09T04:39:03.628Z"
   },
   {
    "duration": 43,
    "start_time": "2024-10-09T04:39:06.179Z"
   },
   {
    "duration": 18,
    "start_time": "2024-10-09T04:39:08.948Z"
   },
   {
    "duration": 31,
    "start_time": "2024-10-09T04:39:11.192Z"
   },
   {
    "duration": 14,
    "start_time": "2024-10-09T04:39:14.180Z"
   },
   {
    "duration": 22,
    "start_time": "2024-10-09T04:39:16.825Z"
   },
   {
    "duration": 39,
    "start_time": "2024-10-09T04:39:19.299Z"
   },
   {
    "duration": 27,
    "start_time": "2024-10-09T04:39:22.772Z"
   },
   {
    "duration": 437,
    "start_time": "2024-10-09T04:42:30.810Z"
   },
   {
    "duration": 1094,
    "start_time": "2024-10-09T04:42:31.250Z"
   },
   {
    "duration": 11,
    "start_time": "2024-10-09T04:42:32.346Z"
   },
   {
    "duration": 11,
    "start_time": "2024-10-09T04:42:32.369Z"
   },
   {
    "duration": 8,
    "start_time": "2024-10-09T04:42:32.381Z"
   },
   {
    "duration": 8,
    "start_time": "2024-10-09T04:42:32.390Z"
   },
   {
    "duration": 6,
    "start_time": "2024-10-09T04:42:32.400Z"
   },
   {
    "duration": 225,
    "start_time": "2024-10-09T04:42:32.408Z"
   },
   {
    "duration": 10,
    "start_time": "2024-10-09T04:42:32.635Z"
   },
   {
    "duration": 121,
    "start_time": "2024-10-09T04:42:32.649Z"
   },
   {
    "duration": 88,
    "start_time": "2024-10-09T04:42:32.771Z"
   },
   {
    "duration": 29,
    "start_time": "2024-10-09T04:42:32.869Z"
   },
   {
    "duration": 12,
    "start_time": "2024-10-09T04:42:32.899Z"
   },
   {
    "duration": 3,
    "start_time": "2024-10-09T04:42:32.912Z"
   },
   {
    "duration": 25,
    "start_time": "2024-10-09T04:42:32.917Z"
   },
   {
    "duration": 39,
    "start_time": "2024-10-09T04:42:32.943Z"
   },
   {
    "duration": 4,
    "start_time": "2024-10-09T04:42:32.984Z"
   },
   {
    "duration": 3,
    "start_time": "2024-10-09T04:42:32.990Z"
   },
   {
    "duration": 4,
    "start_time": "2024-10-09T04:42:32.995Z"
   },
   {
    "duration": 4,
    "start_time": "2024-10-09T04:42:33.000Z"
   },
   {
    "duration": 782,
    "start_time": "2024-10-09T04:42:33.006Z"
   },
   {
    "duration": 693,
    "start_time": "2024-10-09T04:42:33.790Z"
   },
   {
    "duration": 8,
    "start_time": "2024-10-09T04:42:34.485Z"
   },
   {
    "duration": 5,
    "start_time": "2024-10-09T04:42:34.494Z"
   },
   {
    "duration": 5,
    "start_time": "2024-10-09T04:42:34.501Z"
   },
   {
    "duration": 6,
    "start_time": "2024-10-09T04:42:34.507Z"
   },
   {
    "duration": 7,
    "start_time": "2024-10-09T04:42:34.515Z"
   },
   {
    "duration": 5,
    "start_time": "2024-10-09T04:42:34.526Z"
   },
   {
    "duration": 76,
    "start_time": "2024-10-09T04:42:34.532Z"
   },
   {
    "duration": 20,
    "start_time": "2024-10-09T04:42:34.610Z"
   },
   {
    "duration": 46,
    "start_time": "2024-10-09T04:42:34.632Z"
   },
   {
    "duration": 15,
    "start_time": "2024-10-09T04:42:34.679Z"
   },
   {
    "duration": 22,
    "start_time": "2024-10-09T04:42:34.697Z"
   },
   {
    "duration": 59,
    "start_time": "2024-10-09T04:42:34.720Z"
   },
   {
    "duration": 25,
    "start_time": "2024-10-09T04:42:34.781Z"
   },
   {
    "duration": 161,
    "start_time": "2024-10-09T13:17:13.325Z"
   },
   {
    "duration": 2211,
    "start_time": "2024-10-09T13:17:39.983Z"
   },
   {
    "duration": 1096,
    "start_time": "2024-10-09T13:17:42.196Z"
   },
   {
    "duration": 12,
    "start_time": "2024-10-09T13:17:43.293Z"
   },
   {
    "duration": 21,
    "start_time": "2024-10-09T13:17:43.309Z"
   },
   {
    "duration": 8,
    "start_time": "2024-10-09T13:17:43.332Z"
   },
   {
    "duration": 7,
    "start_time": "2024-10-09T13:17:43.342Z"
   },
   {
    "duration": 6,
    "start_time": "2024-10-09T13:17:43.351Z"
   },
   {
    "duration": 225,
    "start_time": "2024-10-09T13:17:43.360Z"
   },
   {
    "duration": 10,
    "start_time": "2024-10-09T13:17:43.588Z"
   },
   {
    "duration": 123,
    "start_time": "2024-10-09T13:17:43.601Z"
   },
   {
    "duration": 97,
    "start_time": "2024-10-09T13:17:43.726Z"
   },
   {
    "duration": 29,
    "start_time": "2024-10-09T13:17:43.831Z"
   },
   {
    "duration": 11,
    "start_time": "2024-10-09T13:17:43.862Z"
   },
   {
    "duration": 4,
    "start_time": "2024-10-09T13:17:43.875Z"
   },
   {
    "duration": 24,
    "start_time": "2024-10-09T13:17:43.880Z"
   },
   {
    "duration": 40,
    "start_time": "2024-10-09T13:17:43.906Z"
   },
   {
    "duration": 4,
    "start_time": "2024-10-09T13:17:43.949Z"
   },
   {
    "duration": 3,
    "start_time": "2024-10-09T13:17:43.955Z"
   },
   {
    "duration": 4,
    "start_time": "2024-10-09T13:17:43.959Z"
   },
   {
    "duration": 3,
    "start_time": "2024-10-09T13:17:43.965Z"
   },
   {
    "duration": 857,
    "start_time": "2024-10-09T13:17:43.969Z"
   },
   {
    "duration": 752,
    "start_time": "2024-10-09T13:17:44.827Z"
   },
   {
    "duration": 8,
    "start_time": "2024-10-09T13:17:45.581Z"
   },
   {
    "duration": 5,
    "start_time": "2024-10-09T13:17:45.591Z"
   },
   {
    "duration": 4,
    "start_time": "2024-10-09T13:17:45.598Z"
   },
   {
    "duration": 31,
    "start_time": "2024-10-09T13:17:45.604Z"
   },
   {
    "duration": 8,
    "start_time": "2024-10-09T13:17:45.637Z"
   },
   {
    "duration": 6,
    "start_time": "2024-10-09T13:17:45.648Z"
   },
   {
    "duration": 40,
    "start_time": "2024-10-09T13:17:45.655Z"
   },
   {
    "duration": 40,
    "start_time": "2024-10-09T13:17:45.697Z"
   },
   {
    "duration": 33,
    "start_time": "2024-10-09T13:17:45.739Z"
   },
   {
    "duration": 17,
    "start_time": "2024-10-09T13:17:45.775Z"
   },
   {
    "duration": 46,
    "start_time": "2024-10-09T13:17:45.794Z"
   },
   {
    "duration": 41,
    "start_time": "2024-10-09T13:17:45.843Z"
   },
   {
    "duration": 45,
    "start_time": "2024-10-09T13:17:45.886Z"
   },
   {
    "duration": 466,
    "start_time": "2024-10-09T13:21:49.460Z"
   },
   {
    "duration": 1124,
    "start_time": "2024-10-09T13:21:52.053Z"
   },
   {
    "duration": 12,
    "start_time": "2024-10-09T13:21:54.582Z"
   },
   {
    "duration": 10,
    "start_time": "2024-10-09T13:21:56.834Z"
   },
   {
    "duration": 8,
    "start_time": "2024-10-09T13:21:58.823Z"
   },
   {
    "duration": 8,
    "start_time": "2024-10-09T13:22:00.818Z"
   },
   {
    "duration": 8,
    "start_time": "2024-10-09T13:22:02.627Z"
   },
   {
    "duration": 211,
    "start_time": "2024-10-09T13:22:05.362Z"
   },
   {
    "duration": 12,
    "start_time": "2024-10-09T13:22:08.065Z"
   },
   {
    "duration": 112,
    "start_time": "2024-10-09T13:22:10.696Z"
   },
   {
    "duration": 91,
    "start_time": "2024-10-09T13:22:12.364Z"
   },
   {
    "duration": 29,
    "start_time": "2024-10-09T13:22:14.420Z"
   },
   {
    "duration": 13,
    "start_time": "2024-10-09T13:22:16.355Z"
   },
   {
    "duration": 3,
    "start_time": "2024-10-09T13:22:18.200Z"
   },
   {
    "duration": 25,
    "start_time": "2024-10-09T13:22:20.095Z"
   },
   {
    "duration": 16,
    "start_time": "2024-10-09T13:22:22.247Z"
   },
   {
    "duration": 5,
    "start_time": "2024-10-09T13:22:24.636Z"
   },
   {
    "duration": 4,
    "start_time": "2024-10-09T13:22:26.809Z"
   },
   {
    "duration": 4,
    "start_time": "2024-10-09T13:22:28.696Z"
   },
   {
    "duration": 4,
    "start_time": "2024-10-09T13:22:30.659Z"
   },
   {
    "duration": 794,
    "start_time": "2024-10-09T13:22:32.877Z"
   },
   {
    "duration": 742,
    "start_time": "2024-10-09T13:22:35.183Z"
   },
   {
    "duration": 8,
    "start_time": "2024-10-09T13:22:38.615Z"
   },
   {
    "duration": 5,
    "start_time": "2024-10-09T13:22:40.657Z"
   },
   {
    "duration": 6,
    "start_time": "2024-10-09T13:22:42.649Z"
   },
   {
    "duration": 7,
    "start_time": "2024-10-09T13:22:44.669Z"
   },
   {
    "duration": 9,
    "start_time": "2024-10-09T13:22:46.474Z"
   },
   {
    "duration": 7,
    "start_time": "2024-10-09T13:22:48.471Z"
   },
   {
    "duration": 43,
    "start_time": "2024-10-09T13:22:50.544Z"
   },
   {
    "duration": 16,
    "start_time": "2024-10-09T13:22:55.794Z"
   },
   {
    "duration": 34,
    "start_time": "2024-10-09T13:22:58.573Z"
   },
   {
    "duration": 15,
    "start_time": "2024-10-09T13:23:01.273Z"
   },
   {
    "duration": 22,
    "start_time": "2024-10-09T13:23:04.204Z"
   },
   {
    "duration": 41,
    "start_time": "2024-10-09T13:23:06.389Z"
   },
   {
    "duration": 27,
    "start_time": "2024-10-09T13:23:10.720Z"
   },
   {
    "duration": 162,
    "start_time": "2024-10-09T13:25:32.227Z"
   },
   {
    "duration": 13,
    "start_time": "2024-10-09T13:25:41.930Z"
   },
   {
    "duration": 441,
    "start_time": "2024-10-09T13:26:13.212Z"
   },
   {
    "duration": 1108,
    "start_time": "2024-10-09T13:26:13.655Z"
   },
   {
    "duration": 11,
    "start_time": "2024-10-09T13:26:14.765Z"
   },
   {
    "duration": 9,
    "start_time": "2024-10-09T13:26:14.779Z"
   },
   {
    "duration": 8,
    "start_time": "2024-10-09T13:26:14.790Z"
   },
   {
    "duration": 33,
    "start_time": "2024-10-09T13:26:14.799Z"
   },
   {
    "duration": 8,
    "start_time": "2024-10-09T13:26:14.834Z"
   },
   {
    "duration": 223,
    "start_time": "2024-10-09T13:26:14.844Z"
   },
   {
    "duration": 10,
    "start_time": "2024-10-09T13:26:15.070Z"
   },
   {
    "duration": 121,
    "start_time": "2024-10-09T13:26:15.084Z"
   },
   {
    "duration": 93,
    "start_time": "2024-10-09T13:26:15.207Z"
   },
   {
    "duration": 40,
    "start_time": "2024-10-09T13:26:15.302Z"
   },
   {
    "duration": 13,
    "start_time": "2024-10-09T13:26:15.344Z"
   },
   {
    "duration": 4,
    "start_time": "2024-10-09T13:26:15.359Z"
   },
   {
    "duration": 24,
    "start_time": "2024-10-09T13:26:15.365Z"
   },
   {
    "duration": 40,
    "start_time": "2024-10-09T13:26:15.391Z"
   },
   {
    "duration": 5,
    "start_time": "2024-10-09T13:26:15.433Z"
   },
   {
    "duration": 3,
    "start_time": "2024-10-09T13:26:15.440Z"
   },
   {
    "duration": 4,
    "start_time": "2024-10-09T13:26:15.445Z"
   },
   {
    "duration": 3,
    "start_time": "2024-10-09T13:26:15.451Z"
   },
   {
    "duration": 863,
    "start_time": "2024-10-09T13:26:15.456Z"
   },
   {
    "duration": 777,
    "start_time": "2024-10-09T13:26:16.321Z"
   },
   {
    "duration": 9,
    "start_time": "2024-10-09T13:26:17.100Z"
   },
   {
    "duration": 5,
    "start_time": "2024-10-09T13:26:17.111Z"
   },
   {
    "duration": 5,
    "start_time": "2024-10-09T13:26:17.132Z"
   },
   {
    "duration": 7,
    "start_time": "2024-10-09T13:26:17.139Z"
   },
   {
    "duration": 8,
    "start_time": "2024-10-09T13:26:17.149Z"
   },
   {
    "duration": 5,
    "start_time": "2024-10-09T13:26:17.161Z"
   },
   {
    "duration": 72,
    "start_time": "2024-10-09T13:26:17.168Z"
   },
   {
    "duration": 16,
    "start_time": "2024-10-09T13:26:17.242Z"
   },
   {
    "duration": 35,
    "start_time": "2024-10-09T13:26:17.259Z"
   },
   {
    "duration": 39,
    "start_time": "2024-10-09T13:26:17.296Z"
   },
   {
    "duration": 22,
    "start_time": "2024-10-09T13:26:17.337Z"
   },
   {
    "duration": 46,
    "start_time": "2024-10-09T13:26:17.361Z"
   },
   {
    "duration": 48,
    "start_time": "2024-10-09T13:26:17.409Z"
   },
   {
    "duration": 429,
    "start_time": "2024-10-09T13:27:04.094Z"
   },
   {
    "duration": 947,
    "start_time": "2024-10-09T13:27:04.525Z"
   },
   {
    "duration": 13,
    "start_time": "2024-10-09T13:27:05.473Z"
   },
   {
    "duration": 11,
    "start_time": "2024-10-09T13:27:05.488Z"
   },
   {
    "duration": 8,
    "start_time": "2024-10-09T13:27:05.501Z"
   },
   {
    "duration": 29,
    "start_time": "2024-10-09T13:27:05.510Z"
   },
   {
    "duration": 7,
    "start_time": "2024-10-09T13:27:05.541Z"
   },
   {
    "duration": 228,
    "start_time": "2024-10-09T13:27:05.550Z"
   },
   {
    "duration": 11,
    "start_time": "2024-10-09T13:27:05.780Z"
   },
   {
    "duration": 137,
    "start_time": "2024-10-09T13:27:05.795Z"
   },
   {
    "duration": 90,
    "start_time": "2024-10-09T13:27:05.933Z"
   },
   {
    "duration": 27,
    "start_time": "2024-10-09T13:27:06.032Z"
   },
   {
    "duration": 11,
    "start_time": "2024-10-09T13:27:06.061Z"
   },
   {
    "duration": 3,
    "start_time": "2024-10-09T13:27:06.074Z"
   },
   {
    "duration": 24,
    "start_time": "2024-10-09T13:27:06.079Z"
   },
   {
    "duration": 19,
    "start_time": "2024-10-09T13:27:06.131Z"
   },
   {
    "duration": 6,
    "start_time": "2024-10-09T13:27:06.152Z"
   },
   {
    "duration": 3,
    "start_time": "2024-10-09T13:27:06.160Z"
   },
   {
    "duration": 4,
    "start_time": "2024-10-09T13:27:06.165Z"
   },
   {
    "duration": 3,
    "start_time": "2024-10-09T13:27:06.172Z"
   },
   {
    "duration": 866,
    "start_time": "2024-10-09T13:27:06.177Z"
   },
   {
    "duration": 773,
    "start_time": "2024-10-09T13:27:07.045Z"
   },
   {
    "duration": 15,
    "start_time": "2024-10-09T13:27:07.821Z"
   },
   {
    "duration": 7,
    "start_time": "2024-10-09T13:27:07.838Z"
   },
   {
    "duration": 6,
    "start_time": "2024-10-09T13:27:07.847Z"
   },
   {
    "duration": 7,
    "start_time": "2024-10-09T13:27:07.855Z"
   },
   {
    "duration": 8,
    "start_time": "2024-10-09T13:27:07.863Z"
   },
   {
    "duration": 6,
    "start_time": "2024-10-09T13:27:07.875Z"
   },
   {
    "duration": 87,
    "start_time": "2024-10-09T13:27:07.883Z"
   },
   {
    "duration": 19,
    "start_time": "2024-10-09T13:27:07.972Z"
   },
   {
    "duration": 53,
    "start_time": "2024-10-09T13:27:07.993Z"
   },
   {
    "duration": 15,
    "start_time": "2024-10-09T13:27:08.048Z"
   },
   {
    "duration": 23,
    "start_time": "2024-10-09T13:27:08.065Z"
   },
   {
    "duration": 62,
    "start_time": "2024-10-09T13:27:08.090Z"
   },
   {
    "duration": 27,
    "start_time": "2024-10-09T13:27:08.154Z"
   },
   {
    "duration": 161,
    "start_time": "2024-10-09T13:30:11.372Z"
   },
   {
    "duration": 453,
    "start_time": "2024-10-09T13:30:34.661Z"
   },
   {
    "duration": 1107,
    "start_time": "2024-10-09T13:30:35.116Z"
   },
   {
    "duration": 15,
    "start_time": "2024-10-09T13:30:36.225Z"
   },
   {
    "duration": 9,
    "start_time": "2024-10-09T13:30:36.242Z"
   },
   {
    "duration": 8,
    "start_time": "2024-10-09T13:30:36.254Z"
   },
   {
    "duration": 9,
    "start_time": "2024-10-09T13:30:36.263Z"
   },
   {
    "duration": 7,
    "start_time": "2024-10-09T13:30:36.274Z"
   },
   {
    "duration": 244,
    "start_time": "2024-10-09T13:30:36.282Z"
   },
   {
    "duration": 11,
    "start_time": "2024-10-09T13:30:36.531Z"
   },
   {
    "duration": 124,
    "start_time": "2024-10-09T13:30:36.543Z"
   },
   {
    "duration": 105,
    "start_time": "2024-10-09T13:30:36.669Z"
   },
   {
    "duration": 32,
    "start_time": "2024-10-09T13:30:36.775Z"
   },
   {
    "duration": 26,
    "start_time": "2024-10-09T13:30:36.809Z"
   },
   {
    "duration": 3,
    "start_time": "2024-10-09T13:30:36.839Z"
   },
   {
    "duration": 26,
    "start_time": "2024-10-09T13:30:36.844Z"
   },
   {
    "duration": 16,
    "start_time": "2024-10-09T13:30:36.872Z"
   },
   {
    "duration": 5,
    "start_time": "2024-10-09T13:30:36.890Z"
   },
   {
    "duration": 34,
    "start_time": "2024-10-09T13:30:36.897Z"
   },
   {
    "duration": 5,
    "start_time": "2024-10-09T13:30:36.933Z"
   },
   {
    "duration": 3,
    "start_time": "2024-10-09T13:30:36.940Z"
   },
   {
    "duration": 853,
    "start_time": "2024-10-09T13:30:36.945Z"
   },
   {
    "duration": 785,
    "start_time": "2024-10-09T13:30:37.800Z"
   },
   {
    "duration": 8,
    "start_time": "2024-10-09T13:30:38.587Z"
   },
   {
    "duration": 5,
    "start_time": "2024-10-09T13:30:38.597Z"
   },
   {
    "duration": 6,
    "start_time": "2024-10-09T13:30:38.603Z"
   },
   {
    "duration": 6,
    "start_time": "2024-10-09T13:30:38.631Z"
   },
   {
    "duration": 7,
    "start_time": "2024-10-09T13:30:38.639Z"
   },
   {
    "duration": 5,
    "start_time": "2024-10-09T13:30:38.648Z"
   },
   {
    "duration": 44,
    "start_time": "2024-10-09T13:30:38.655Z"
   },
   {
    "duration": 52,
    "start_time": "2024-10-09T13:30:38.700Z"
   },
   {
    "duration": 36,
    "start_time": "2024-10-09T13:30:38.753Z"
   },
   {
    "duration": 16,
    "start_time": "2024-10-09T13:30:38.790Z"
   },
   {
    "duration": 22,
    "start_time": "2024-10-09T13:30:38.832Z"
   },
   {
    "duration": 40,
    "start_time": "2024-10-09T13:30:38.856Z"
   },
   {
    "duration": 49,
    "start_time": "2024-10-09T13:30:38.898Z"
   },
   {
    "duration": 460,
    "start_time": "2024-10-09T13:33:44.688Z"
   },
   {
    "duration": 1080,
    "start_time": "2024-10-09T13:33:45.151Z"
   },
   {
    "duration": 11,
    "start_time": "2024-10-09T13:33:46.233Z"
   },
   {
    "duration": 9,
    "start_time": "2024-10-09T13:33:46.247Z"
   },
   {
    "duration": 7,
    "start_time": "2024-10-09T13:33:46.258Z"
   },
   {
    "duration": 7,
    "start_time": "2024-10-09T13:33:46.267Z"
   },
   {
    "duration": 7,
    "start_time": "2024-10-09T13:33:46.275Z"
   },
   {
    "duration": 235,
    "start_time": "2024-10-09T13:33:46.284Z"
   },
   {
    "duration": 17,
    "start_time": "2024-10-09T13:33:46.521Z"
   },
   {
    "duration": 125,
    "start_time": "2024-10-09T13:33:46.541Z"
   },
   {
    "duration": 99,
    "start_time": "2024-10-09T13:33:46.668Z"
   },
   {
    "duration": 30,
    "start_time": "2024-10-09T13:33:46.769Z"
   },
   {
    "duration": 30,
    "start_time": "2024-10-09T13:33:46.801Z"
   },
   {
    "duration": 3,
    "start_time": "2024-10-09T13:33:46.833Z"
   },
   {
    "duration": 26,
    "start_time": "2024-10-09T13:33:46.838Z"
   },
   {
    "duration": 16,
    "start_time": "2024-10-09T13:33:46.866Z"
   },
   {
    "duration": 5,
    "start_time": "2024-10-09T13:33:46.883Z"
   },
   {
    "duration": 4,
    "start_time": "2024-10-09T13:33:46.889Z"
   },
   {
    "duration": 3,
    "start_time": "2024-10-09T13:33:46.895Z"
   },
   {
    "duration": 3,
    "start_time": "2024-10-09T13:33:46.932Z"
   },
   {
    "duration": 844,
    "start_time": "2024-10-09T13:33:46.937Z"
   },
   {
    "duration": 792,
    "start_time": "2024-10-09T13:33:47.783Z"
   },
   {
    "duration": 9,
    "start_time": "2024-10-09T13:33:48.577Z"
   },
   {
    "duration": 5,
    "start_time": "2024-10-09T13:33:48.588Z"
   },
   {
    "duration": 5,
    "start_time": "2024-10-09T13:33:48.595Z"
   },
   {
    "duration": 29,
    "start_time": "2024-10-09T13:33:48.602Z"
   },
   {
    "duration": 9,
    "start_time": "2024-10-09T13:33:48.634Z"
   },
   {
    "duration": 6,
    "start_time": "2024-10-09T13:33:48.647Z"
   },
   {
    "duration": 44,
    "start_time": "2024-10-09T13:33:48.655Z"
   },
   {
    "duration": 42,
    "start_time": "2024-10-09T13:33:48.701Z"
   },
   {
    "duration": 35,
    "start_time": "2024-10-09T13:33:48.745Z"
   },
   {
    "duration": 15,
    "start_time": "2024-10-09T13:33:48.781Z"
   },
   {
    "duration": 45,
    "start_time": "2024-10-09T13:33:48.798Z"
   },
   {
    "duration": 42,
    "start_time": "2024-10-09T13:33:48.845Z"
   },
   {
    "duration": 45,
    "start_time": "2024-10-09T13:33:48.889Z"
   },
   {
    "duration": 164,
    "start_time": "2024-10-09T13:35:59.593Z"
   },
   {
    "duration": 452,
    "start_time": "2024-10-09T13:36:09.679Z"
   },
   {
    "duration": 1107,
    "start_time": "2024-10-09T13:36:10.133Z"
   },
   {
    "duration": 12,
    "start_time": "2024-10-09T13:36:11.241Z"
   },
   {
    "duration": 9,
    "start_time": "2024-10-09T13:36:11.256Z"
   },
   {
    "duration": 8,
    "start_time": "2024-10-09T13:36:11.266Z"
   },
   {
    "duration": 8,
    "start_time": "2024-10-09T13:36:11.278Z"
   },
   {
    "duration": 7,
    "start_time": "2024-10-09T13:36:11.287Z"
   },
   {
    "duration": 243,
    "start_time": "2024-10-09T13:36:11.295Z"
   },
   {
    "duration": 14,
    "start_time": "2024-10-09T13:36:11.540Z"
   },
   {
    "duration": 131,
    "start_time": "2024-10-09T13:36:11.558Z"
   },
   {
    "duration": 108,
    "start_time": "2024-10-09T13:36:11.692Z"
   },
   {
    "duration": 38,
    "start_time": "2024-10-09T13:36:11.802Z"
   },
   {
    "duration": 13,
    "start_time": "2024-10-09T13:36:11.842Z"
   },
   {
    "duration": 3,
    "start_time": "2024-10-09T13:36:11.857Z"
   },
   {
    "duration": 26,
    "start_time": "2024-10-09T13:36:11.862Z"
   },
   {
    "duration": 15,
    "start_time": "2024-10-09T13:36:11.890Z"
   },
   {
    "duration": 5,
    "start_time": "2024-10-09T13:36:11.932Z"
   },
   {
    "duration": 4,
    "start_time": "2024-10-09T13:36:11.939Z"
   },
   {
    "duration": 5,
    "start_time": "2024-10-09T13:36:11.944Z"
   },
   {
    "duration": 10,
    "start_time": "2024-10-09T13:36:11.951Z"
   },
   {
    "duration": 854,
    "start_time": "2024-10-09T13:36:11.965Z"
   },
   {
    "duration": 766,
    "start_time": "2024-10-09T13:36:12.821Z"
   },
   {
    "duration": 8,
    "start_time": "2024-10-09T13:36:13.589Z"
   },
   {
    "duration": 6,
    "start_time": "2024-10-09T13:36:13.599Z"
   },
   {
    "duration": 27,
    "start_time": "2024-10-09T13:36:13.607Z"
   },
   {
    "duration": 6,
    "start_time": "2024-10-09T13:36:13.637Z"
   },
   {
    "duration": 7,
    "start_time": "2024-10-09T13:36:13.645Z"
   },
   {
    "duration": 5,
    "start_time": "2024-10-09T13:36:13.656Z"
   },
   {
    "duration": 44,
    "start_time": "2024-10-09T13:36:13.663Z"
   },
   {
    "duration": 37,
    "start_time": "2024-10-09T13:36:13.708Z"
   },
   {
    "duration": 35,
    "start_time": "2024-10-09T13:36:13.747Z"
   },
   {
    "duration": 15,
    "start_time": "2024-10-09T13:36:13.784Z"
   },
   {
    "duration": 48,
    "start_time": "2024-10-09T13:36:13.802Z"
   },
   {
    "duration": 41,
    "start_time": "2024-10-09T13:36:13.852Z"
   },
   {
    "duration": 44,
    "start_time": "2024-10-09T13:36:13.895Z"
   },
   {
    "duration": 4,
    "start_time": "2024-10-09T13:36:13.941Z"
   },
   {
    "duration": 162,
    "start_time": "2024-10-09T13:40:24.833Z"
   },
   {
    "duration": 473,
    "start_time": "2024-10-09T13:40:37.775Z"
   },
   {
    "duration": 1096,
    "start_time": "2024-10-09T13:40:38.251Z"
   },
   {
    "duration": 13,
    "start_time": "2024-10-09T13:40:39.348Z"
   },
   {
    "duration": 10,
    "start_time": "2024-10-09T13:40:39.363Z"
   },
   {
    "duration": 8,
    "start_time": "2024-10-09T13:40:39.375Z"
   },
   {
    "duration": 8,
    "start_time": "2024-10-09T13:40:39.385Z"
   },
   {
    "duration": 6,
    "start_time": "2024-10-09T13:40:39.395Z"
   },
   {
    "duration": 217,
    "start_time": "2024-10-09T13:40:39.431Z"
   },
   {
    "duration": 11,
    "start_time": "2024-10-09T13:40:39.650Z"
   },
   {
    "duration": 127,
    "start_time": "2024-10-09T13:40:39.665Z"
   },
   {
    "duration": 103,
    "start_time": "2024-10-09T13:40:39.794Z"
   },
   {
    "duration": 44,
    "start_time": "2024-10-09T13:40:39.898Z"
   },
   {
    "duration": 11,
    "start_time": "2024-10-09T13:40:39.944Z"
   },
   {
    "duration": 3,
    "start_time": "2024-10-09T13:40:39.957Z"
   },
   {
    "duration": 25,
    "start_time": "2024-10-09T13:40:39.962Z"
   },
   {
    "duration": 14,
    "start_time": "2024-10-09T13:40:39.988Z"
   },
   {
    "duration": 29,
    "start_time": "2024-10-09T13:40:40.004Z"
   },
   {
    "duration": 3,
    "start_time": "2024-10-09T13:40:40.036Z"
   },
   {
    "duration": 4,
    "start_time": "2024-10-09T13:40:40.041Z"
   },
   {
    "duration": 3,
    "start_time": "2024-10-09T13:40:40.046Z"
   },
   {
    "duration": 841,
    "start_time": "2024-10-09T13:40:40.051Z"
   },
   {
    "duration": 756,
    "start_time": "2024-10-09T13:40:40.894Z"
   },
   {
    "duration": 8,
    "start_time": "2024-10-09T13:40:41.651Z"
   },
   {
    "duration": 6,
    "start_time": "2024-10-09T13:40:41.661Z"
   },
   {
    "duration": 6,
    "start_time": "2024-10-09T13:40:41.668Z"
   },
   {
    "duration": 6,
    "start_time": "2024-10-09T13:40:41.677Z"
   },
   {
    "duration": 7,
    "start_time": "2024-10-09T13:40:41.685Z"
   },
   {
    "duration": 6,
    "start_time": "2024-10-09T13:40:41.731Z"
   },
   {
    "duration": 41,
    "start_time": "2024-10-09T13:40:41.739Z"
   },
   {
    "duration": 15,
    "start_time": "2024-10-09T13:40:41.782Z"
   },
   {
    "duration": 52,
    "start_time": "2024-10-09T13:40:41.799Z"
   },
   {
    "duration": 15,
    "start_time": "2024-10-09T13:40:41.853Z"
   },
   {
    "duration": 22,
    "start_time": "2024-10-09T13:40:41.870Z"
   },
   {
    "duration": 69,
    "start_time": "2024-10-09T13:40:41.894Z"
   },
   {
    "duration": 28,
    "start_time": "2024-10-09T13:40:41.965Z"
   },
   {
    "duration": 487,
    "start_time": "2024-10-09T13:43:21.767Z"
   },
   {
    "duration": 1112,
    "start_time": "2024-10-09T13:43:22.256Z"
   },
   {
    "duration": 13,
    "start_time": "2024-10-09T13:43:23.370Z"
   },
   {
    "duration": 10,
    "start_time": "2024-10-09T13:43:23.385Z"
   },
   {
    "duration": 8,
    "start_time": "2024-10-09T13:43:23.397Z"
   },
   {
    "duration": 33,
    "start_time": "2024-10-09T13:43:23.406Z"
   },
   {
    "duration": 7,
    "start_time": "2024-10-09T13:43:23.441Z"
   },
   {
    "duration": 225,
    "start_time": "2024-10-09T13:43:23.451Z"
   },
   {
    "duration": 11,
    "start_time": "2024-10-09T13:43:23.678Z"
   },
   {
    "duration": 118,
    "start_time": "2024-10-09T13:43:23.692Z"
   },
   {
    "duration": 99,
    "start_time": "2024-10-09T13:43:23.812Z"
   },
   {
    "duration": 37,
    "start_time": "2024-10-09T13:43:23.913Z"
   },
   {
    "duration": 13,
    "start_time": "2024-10-09T13:43:23.951Z"
   },
   {
    "duration": 3,
    "start_time": "2024-10-09T13:43:23.966Z"
   },
   {
    "duration": 26,
    "start_time": "2024-10-09T13:43:23.971Z"
   },
   {
    "duration": 40,
    "start_time": "2024-10-09T13:43:24.000Z"
   },
   {
    "duration": 5,
    "start_time": "2024-10-09T13:43:24.042Z"
   },
   {
    "duration": 3,
    "start_time": "2024-10-09T13:43:24.049Z"
   },
   {
    "duration": 4,
    "start_time": "2024-10-09T13:43:24.054Z"
   },
   {
    "duration": 3,
    "start_time": "2024-10-09T13:43:24.060Z"
   },
   {
    "duration": 854,
    "start_time": "2024-10-09T13:43:24.066Z"
   },
   {
    "duration": 733,
    "start_time": "2024-10-09T13:43:24.922Z"
   },
   {
    "duration": 8,
    "start_time": "2024-10-09T13:43:25.657Z"
   },
   {
    "duration": 5,
    "start_time": "2024-10-09T13:43:25.667Z"
   },
   {
    "duration": 5,
    "start_time": "2024-10-09T13:43:25.674Z"
   },
   {
    "duration": 5,
    "start_time": "2024-10-09T13:43:25.681Z"
   },
   {
    "duration": 7,
    "start_time": "2024-10-09T13:43:25.688Z"
   },
   {
    "duration": 8,
    "start_time": "2024-10-09T13:43:25.731Z"
   },
   {
    "duration": 43,
    "start_time": "2024-10-09T13:43:25.741Z"
   },
   {
    "duration": 15,
    "start_time": "2024-10-09T13:43:25.786Z"
   },
   {
    "duration": 52,
    "start_time": "2024-10-09T13:43:25.803Z"
   },
   {
    "duration": 14,
    "start_time": "2024-10-09T13:43:25.857Z"
   },
   {
    "duration": 21,
    "start_time": "2024-10-09T13:43:25.872Z"
   },
   {
    "duration": 65,
    "start_time": "2024-10-09T13:43:25.896Z"
   },
   {
    "duration": 27,
    "start_time": "2024-10-09T13:43:25.963Z"
   },
   {
    "duration": 494,
    "start_time": "2024-10-09T13:51:21.308Z"
   },
   {
    "duration": 483,
    "start_time": "2024-10-09T13:51:31.076Z"
   },
   {
    "duration": 1080,
    "start_time": "2024-10-09T13:51:31.562Z"
   },
   {
    "duration": 12,
    "start_time": "2024-10-09T13:51:32.643Z"
   },
   {
    "duration": 10,
    "start_time": "2024-10-09T13:51:32.657Z"
   },
   {
    "duration": 8,
    "start_time": "2024-10-09T13:51:32.668Z"
   },
   {
    "duration": 8,
    "start_time": "2024-10-09T13:51:32.677Z"
   },
   {
    "duration": 6,
    "start_time": "2024-10-09T13:51:32.688Z"
   },
   {
    "duration": 244,
    "start_time": "2024-10-09T13:51:32.697Z"
   },
   {
    "duration": 11,
    "start_time": "2024-10-09T13:51:32.943Z"
   },
   {
    "duration": 122,
    "start_time": "2024-10-09T13:51:32.957Z"
   },
   {
    "duration": 102,
    "start_time": "2024-10-09T13:51:33.081Z"
   },
   {
    "duration": 30,
    "start_time": "2024-10-09T13:51:33.185Z"
   },
   {
    "duration": 21,
    "start_time": "2024-10-09T13:51:33.216Z"
   },
   {
    "duration": 3,
    "start_time": "2024-10-09T13:51:33.239Z"
   },
   {
    "duration": 23,
    "start_time": "2024-10-09T13:51:33.244Z"
   },
   {
    "duration": 15,
    "start_time": "2024-10-09T13:51:33.269Z"
   },
   {
    "duration": 5,
    "start_time": "2024-10-09T13:51:33.285Z"
   },
   {
    "duration": 3,
    "start_time": "2024-10-09T13:51:33.292Z"
   },
   {
    "duration": 37,
    "start_time": "2024-10-09T13:51:33.297Z"
   },
   {
    "duration": 3,
    "start_time": "2024-10-09T13:51:33.336Z"
   },
   {
    "duration": 837,
    "start_time": "2024-10-09T13:51:33.341Z"
   },
   {
    "duration": 754,
    "start_time": "2024-10-09T13:51:34.180Z"
   },
   {
    "duration": 8,
    "start_time": "2024-10-09T13:51:34.936Z"
   },
   {
    "duration": 6,
    "start_time": "2024-10-09T13:51:34.946Z"
   },
   {
    "duration": 5,
    "start_time": "2024-10-09T13:51:34.954Z"
   },
   {
    "duration": 7,
    "start_time": "2024-10-09T13:51:34.961Z"
   },
   {
    "duration": 9,
    "start_time": "2024-10-09T13:51:34.970Z"
   },
   {
    "duration": 5,
    "start_time": "2024-10-09T13:51:34.982Z"
   },
   {
    "duration": 87,
    "start_time": "2024-10-09T13:51:34.989Z"
   },
   {
    "duration": 18,
    "start_time": "2024-10-09T13:51:35.078Z"
   },
   {
    "duration": 51,
    "start_time": "2024-10-09T13:51:35.099Z"
   },
   {
    "duration": 15,
    "start_time": "2024-10-09T13:51:35.151Z"
   },
   {
    "duration": 23,
    "start_time": "2024-10-09T13:51:35.167Z"
   },
   {
    "duration": 64,
    "start_time": "2024-10-09T13:51:35.191Z"
   },
   {
    "duration": 30,
    "start_time": "2024-10-09T13:51:35.257Z"
   },
   {
    "duration": 449,
    "start_time": "2024-10-09T13:53:56.783Z"
   },
   {
    "duration": 1116,
    "start_time": "2024-10-09T13:53:57.234Z"
   },
   {
    "duration": 11,
    "start_time": "2024-10-09T13:53:58.352Z"
   },
   {
    "duration": 10,
    "start_time": "2024-10-09T13:53:58.366Z"
   },
   {
    "duration": 8,
    "start_time": "2024-10-09T13:53:58.378Z"
   },
   {
    "duration": 9,
    "start_time": "2024-10-09T13:53:58.388Z"
   },
   {
    "duration": 37,
    "start_time": "2024-10-09T13:53:58.399Z"
   },
   {
    "duration": 227,
    "start_time": "2024-10-09T13:53:58.439Z"
   },
   {
    "duration": 12,
    "start_time": "2024-10-09T13:53:58.669Z"
   },
   {
    "duration": 139,
    "start_time": "2024-10-09T13:53:58.685Z"
   },
   {
    "duration": 107,
    "start_time": "2024-10-09T13:53:58.826Z"
   },
   {
    "duration": 32,
    "start_time": "2024-10-09T13:53:58.935Z"
   },
   {
    "duration": 14,
    "start_time": "2024-10-09T13:53:58.969Z"
   },
   {
    "duration": 3,
    "start_time": "2024-10-09T13:53:58.985Z"
   },
   {
    "duration": 54,
    "start_time": "2024-10-09T13:53:58.990Z"
   },
   {
    "duration": 15,
    "start_time": "2024-10-09T13:53:59.046Z"
   },
   {
    "duration": 5,
    "start_time": "2024-10-09T13:53:59.063Z"
   },
   {
    "duration": 4,
    "start_time": "2024-10-09T13:53:59.069Z"
   },
   {
    "duration": 4,
    "start_time": "2024-10-09T13:53:59.075Z"
   },
   {
    "duration": 4,
    "start_time": "2024-10-09T13:53:59.080Z"
   },
   {
    "duration": 879,
    "start_time": "2024-10-09T13:53:59.086Z"
   },
   {
    "duration": 736,
    "start_time": "2024-10-09T13:53:59.966Z"
   },
   {
    "duration": 9,
    "start_time": "2024-10-09T13:54:00.704Z"
   },
   {
    "duration": 18,
    "start_time": "2024-10-09T13:54:00.715Z"
   },
   {
    "duration": 6,
    "start_time": "2024-10-09T13:54:00.735Z"
   },
   {
    "duration": 7,
    "start_time": "2024-10-09T13:54:00.743Z"
   },
   {
    "duration": 8,
    "start_time": "2024-10-09T13:54:00.751Z"
   },
   {
    "duration": 5,
    "start_time": "2024-10-09T13:54:00.763Z"
   },
   {
    "duration": 72,
    "start_time": "2024-10-09T13:54:00.770Z"
   },
   {
    "duration": 16,
    "start_time": "2024-10-09T13:54:00.844Z"
   },
   {
    "duration": 32,
    "start_time": "2024-10-09T13:54:00.861Z"
   },
   {
    "duration": 38,
    "start_time": "2024-10-09T13:54:00.895Z"
   },
   {
    "duration": 21,
    "start_time": "2024-10-09T13:54:00.935Z"
   },
   {
    "duration": 40,
    "start_time": "2024-10-09T13:54:00.958Z"
   },
   {
    "duration": 50,
    "start_time": "2024-10-09T13:54:01.001Z"
   },
   {
    "duration": 477,
    "start_time": "2024-10-09T13:57:03.334Z"
   },
   {
    "duration": 1114,
    "start_time": "2024-10-09T13:57:03.813Z"
   },
   {
    "duration": 12,
    "start_time": "2024-10-09T13:57:04.931Z"
   },
   {
    "duration": 11,
    "start_time": "2024-10-09T13:57:04.946Z"
   },
   {
    "duration": 8,
    "start_time": "2024-10-09T13:57:04.959Z"
   },
   {
    "duration": 8,
    "start_time": "2024-10-09T13:57:04.970Z"
   },
   {
    "duration": 7,
    "start_time": "2024-10-09T13:57:04.980Z"
   },
   {
    "duration": 259,
    "start_time": "2024-10-09T13:57:04.989Z"
   },
   {
    "duration": 12,
    "start_time": "2024-10-09T13:57:05.250Z"
   },
   {
    "duration": 132,
    "start_time": "2024-10-09T13:57:05.265Z"
   },
   {
    "duration": 103,
    "start_time": "2024-10-09T13:57:05.399Z"
   },
   {
    "duration": 41,
    "start_time": "2024-10-09T13:57:05.504Z"
   },
   {
    "duration": 14,
    "start_time": "2024-10-09T13:57:05.547Z"
   },
   {
    "duration": 4,
    "start_time": "2024-10-09T13:57:05.563Z"
   },
   {
    "duration": 27,
    "start_time": "2024-10-09T13:57:05.568Z"
   },
   {
    "duration": 42,
    "start_time": "2024-10-09T13:57:05.596Z"
   },
   {
    "duration": 5,
    "start_time": "2024-10-09T13:57:05.640Z"
   },
   {
    "duration": 4,
    "start_time": "2024-10-09T13:57:05.647Z"
   },
   {
    "duration": 4,
    "start_time": "2024-10-09T13:57:05.652Z"
   },
   {
    "duration": 3,
    "start_time": "2024-10-09T13:57:05.658Z"
   },
   {
    "duration": 922,
    "start_time": "2024-10-09T13:57:05.663Z"
   },
   {
    "duration": 826,
    "start_time": "2024-10-09T13:57:06.587Z"
   },
   {
    "duration": 8,
    "start_time": "2024-10-09T13:57:07.414Z"
   },
   {
    "duration": 5,
    "start_time": "2024-10-09T13:57:07.432Z"
   },
   {
    "duration": 6,
    "start_time": "2024-10-09T13:57:07.439Z"
   },
   {
    "duration": 7,
    "start_time": "2024-10-09T13:57:07.446Z"
   },
   {
    "duration": 7,
    "start_time": "2024-10-09T13:57:07.455Z"
   },
   {
    "duration": 5,
    "start_time": "2024-10-09T13:57:07.466Z"
   },
   {
    "duration": 78,
    "start_time": "2024-10-09T13:57:07.472Z"
   },
   {
    "duration": 22,
    "start_time": "2024-10-09T13:57:07.551Z"
   },
   {
    "duration": 30,
    "start_time": "2024-10-09T13:57:07.575Z"
   },
   {
    "duration": 30,
    "start_time": "2024-10-09T13:57:07.607Z"
   },
   {
    "duration": 32,
    "start_time": "2024-10-09T13:57:07.639Z"
   },
   {
    "duration": 42,
    "start_time": "2024-10-09T13:57:07.673Z"
   },
   {
    "duration": 31,
    "start_time": "2024-10-09T13:57:07.732Z"
   },
   {
    "duration": 450,
    "start_time": "2024-10-09T13:59:26.093Z"
   },
   {
    "duration": 1109,
    "start_time": "2024-10-09T13:59:26.546Z"
   },
   {
    "duration": 15,
    "start_time": "2024-10-09T13:59:27.659Z"
   },
   {
    "duration": 11,
    "start_time": "2024-10-09T13:59:27.680Z"
   },
   {
    "duration": 9,
    "start_time": "2024-10-09T13:59:27.693Z"
   },
   {
    "duration": 36,
    "start_time": "2024-10-09T13:59:27.704Z"
   },
   {
    "duration": 7,
    "start_time": "2024-10-09T13:59:27.742Z"
   },
   {
    "duration": 233,
    "start_time": "2024-10-09T13:59:27.752Z"
   },
   {
    "duration": 12,
    "start_time": "2024-10-09T13:59:27.987Z"
   },
   {
    "duration": 138,
    "start_time": "2024-10-09T13:59:28.003Z"
   },
   {
    "duration": 102,
    "start_time": "2024-10-09T13:59:28.144Z"
   },
   {
    "duration": 29,
    "start_time": "2024-10-09T13:59:28.248Z"
   },
   {
    "duration": 13,
    "start_time": "2024-10-09T13:59:28.280Z"
   },
   {
    "duration": 4,
    "start_time": "2024-10-09T13:59:28.294Z"
   },
   {
    "duration": 52,
    "start_time": "2024-10-09T13:59:28.299Z"
   },
   {
    "duration": 15,
    "start_time": "2024-10-09T13:59:28.353Z"
   },
   {
    "duration": 4,
    "start_time": "2024-10-09T13:59:28.370Z"
   },
   {
    "duration": 4,
    "start_time": "2024-10-09T13:59:28.376Z"
   },
   {
    "duration": 4,
    "start_time": "2024-10-09T13:59:28.382Z"
   },
   {
    "duration": 4,
    "start_time": "2024-10-09T13:59:28.388Z"
   },
   {
    "duration": 867,
    "start_time": "2024-10-09T13:59:28.394Z"
   },
   {
    "duration": 757,
    "start_time": "2024-10-09T13:59:29.263Z"
   },
   {
    "duration": 11,
    "start_time": "2024-10-09T13:59:30.022Z"
   },
   {
    "duration": 5,
    "start_time": "2024-10-09T13:59:30.035Z"
   },
   {
    "duration": 6,
    "start_time": "2024-10-09T13:59:30.042Z"
   },
   {
    "duration": 6,
    "start_time": "2024-10-09T13:59:30.049Z"
   },
   {
    "duration": 8,
    "start_time": "2024-10-09T13:59:30.057Z"
   },
   {
    "duration": 8,
    "start_time": "2024-10-09T13:59:30.069Z"
   },
   {
    "duration": 84,
    "start_time": "2024-10-09T13:59:30.079Z"
   },
   {
    "duration": 18,
    "start_time": "2024-10-09T13:59:30.165Z"
   },
   {
    "duration": 47,
    "start_time": "2024-10-09T13:59:30.185Z"
   },
   {
    "duration": 14,
    "start_time": "2024-10-09T13:59:30.234Z"
   },
   {
    "duration": 22,
    "start_time": "2024-10-09T13:59:30.250Z"
   },
   {
    "duration": 61,
    "start_time": "2024-10-09T13:59:30.274Z"
   },
   {
    "duration": 30,
    "start_time": "2024-10-09T13:59:30.336Z"
   },
   {
    "duration": 179,
    "start_time": "2024-10-09T14:52:50.239Z"
   },
   {
    "duration": 2262,
    "start_time": "2024-10-09T14:52:53.311Z"
   },
   {
    "duration": 1168,
    "start_time": "2024-10-09T14:52:55.650Z"
   },
   {
    "duration": 13,
    "start_time": "2024-10-09T14:53:15.046Z"
   },
   {
    "duration": 10,
    "start_time": "2024-10-09T14:53:20.050Z"
   },
   {
    "duration": 10,
    "start_time": "2024-10-09T14:53:22.555Z"
   },
   {
    "duration": 8,
    "start_time": "2024-10-09T14:53:25.240Z"
   },
   {
    "duration": 18,
    "start_time": "2024-10-09T14:53:27.415Z"
   },
   {
    "duration": 15,
    "start_time": "2024-10-09T14:54:03.607Z"
   },
   {
    "duration": 17,
    "start_time": "2024-10-09T14:54:11.990Z"
   },
   {
    "duration": 18,
    "start_time": "2024-10-09T14:54:28.408Z"
   },
   {
    "duration": 63,
    "start_time": "2024-10-09T14:54:39.702Z"
   },
   {
    "duration": 11,
    "start_time": "2024-10-09T14:54:48.577Z"
   },
   {
    "duration": 13,
    "start_time": "2024-10-09T14:55:01.597Z"
   },
   {
    "duration": 13,
    "start_time": "2024-10-09T14:55:11.427Z"
   },
   {
    "duration": 13,
    "start_time": "2024-10-09T14:59:25.120Z"
   },
   {
    "duration": 13,
    "start_time": "2024-10-09T14:59:31.081Z"
   },
   {
    "duration": 461,
    "start_time": "2024-10-09T14:59:44.257Z"
   },
   {
    "duration": 935,
    "start_time": "2024-10-09T14:59:44.720Z"
   },
   {
    "duration": 18,
    "start_time": "2024-10-09T14:59:45.657Z"
   },
   {
    "duration": 13,
    "start_time": "2024-10-09T14:59:45.678Z"
   },
   {
    "duration": 27,
    "start_time": "2024-10-09T14:59:45.692Z"
   },
   {
    "duration": 10,
    "start_time": "2024-10-09T14:59:45.721Z"
   },
   {
    "duration": 11,
    "start_time": "2024-10-09T14:59:45.733Z"
   },
   {
    "duration": 224,
    "start_time": "2024-10-09T14:59:45.746Z"
   },
   {
    "duration": 12,
    "start_time": "2024-10-09T14:59:45.972Z"
   },
   {
    "duration": 198,
    "start_time": "2024-10-09T14:59:45.989Z"
   },
   {
    "duration": 0,
    "start_time": "2024-10-09T14:59:46.190Z"
   },
   {
    "duration": 0,
    "start_time": "2024-10-09T14:59:46.191Z"
   },
   {
    "duration": 0,
    "start_time": "2024-10-09T14:59:46.192Z"
   },
   {
    "duration": 0,
    "start_time": "2024-10-09T14:59:46.194Z"
   },
   {
    "duration": 0,
    "start_time": "2024-10-09T14:59:46.195Z"
   },
   {
    "duration": 0,
    "start_time": "2024-10-09T14:59:46.209Z"
   },
   {
    "duration": 0,
    "start_time": "2024-10-09T14:59:46.210Z"
   },
   {
    "duration": 0,
    "start_time": "2024-10-09T14:59:46.211Z"
   },
   {
    "duration": 0,
    "start_time": "2024-10-09T14:59:46.212Z"
   },
   {
    "duration": 0,
    "start_time": "2024-10-09T14:59:46.213Z"
   },
   {
    "duration": 0,
    "start_time": "2024-10-09T14:59:46.214Z"
   },
   {
    "duration": 0,
    "start_time": "2024-10-09T14:59:46.215Z"
   },
   {
    "duration": 0,
    "start_time": "2024-10-09T14:59:46.216Z"
   },
   {
    "duration": 0,
    "start_time": "2024-10-09T14:59:46.217Z"
   },
   {
    "duration": 0,
    "start_time": "2024-10-09T14:59:46.218Z"
   },
   {
    "duration": 0,
    "start_time": "2024-10-09T14:59:46.219Z"
   },
   {
    "duration": 0,
    "start_time": "2024-10-09T14:59:46.220Z"
   },
   {
    "duration": 0,
    "start_time": "2024-10-09T14:59:46.222Z"
   },
   {
    "duration": 0,
    "start_time": "2024-10-09T14:59:46.223Z"
   },
   {
    "duration": 0,
    "start_time": "2024-10-09T14:59:46.224Z"
   },
   {
    "duration": 0,
    "start_time": "2024-10-09T14:59:46.225Z"
   },
   {
    "duration": 0,
    "start_time": "2024-10-09T14:59:46.226Z"
   },
   {
    "duration": 0,
    "start_time": "2024-10-09T14:59:46.227Z"
   },
   {
    "duration": 0,
    "start_time": "2024-10-09T14:59:46.228Z"
   },
   {
    "duration": 0,
    "start_time": "2024-10-09T14:59:46.229Z"
   },
   {
    "duration": 0,
    "start_time": "2024-10-09T14:59:46.230Z"
   },
   {
    "duration": 0,
    "start_time": "2024-10-09T14:59:46.231Z"
   },
   {
    "duration": 0,
    "start_time": "2024-10-09T14:59:46.232Z"
   },
   {
    "duration": 0,
    "start_time": "2024-10-09T14:59:46.233Z"
   },
   {
    "duration": 0,
    "start_time": "2024-10-09T14:59:46.235Z"
   },
   {
    "duration": 0,
    "start_time": "2024-10-09T14:59:46.236Z"
   },
   {
    "duration": 0,
    "start_time": "2024-10-09T14:59:46.237Z"
   },
   {
    "duration": 16,
    "start_time": "2024-10-09T15:00:04.246Z"
   },
   {
    "duration": 121,
    "start_time": "2024-10-09T15:01:16.062Z"
   },
   {
    "duration": 87,
    "start_time": "2024-10-09T15:01:20.607Z"
   },
   {
    "duration": 106,
    "start_time": "2024-10-09T15:01:32.517Z"
   },
   {
    "duration": 107,
    "start_time": "2024-10-09T15:01:34.032Z"
   },
   {
    "duration": 98,
    "start_time": "2024-10-09T15:01:45.900Z"
   },
   {
    "duration": 87,
    "start_time": "2024-10-09T15:01:47.661Z"
   },
   {
    "duration": 11,
    "start_time": "2024-10-09T15:01:54.290Z"
   },
   {
    "duration": 145,
    "start_time": "2024-10-09T15:01:57.220Z"
   },
   {
    "duration": 96,
    "start_time": "2024-10-09T15:01:58.750Z"
   },
   {
    "duration": 30,
    "start_time": "2024-10-09T15:02:01.581Z"
   },
   {
    "duration": 203,
    "start_time": "2024-10-09T15:02:07.708Z"
   },
   {
    "duration": 11,
    "start_time": "2024-10-09T15:02:11.333Z"
   },
   {
    "duration": 109,
    "start_time": "2024-10-09T15:02:14.050Z"
   },
   {
    "duration": 83,
    "start_time": "2024-10-09T15:02:15.747Z"
   },
   {
    "duration": 31,
    "start_time": "2024-10-09T15:02:17.552Z"
   },
   {
    "duration": 117,
    "start_time": "2024-10-09T15:03:29.347Z"
   },
   {
    "duration": 101,
    "start_time": "2024-10-09T15:03:31.595Z"
   },
   {
    "duration": 26,
    "start_time": "2024-10-09T15:03:33.395Z"
   },
   {
    "duration": 17,
    "start_time": "2024-10-09T15:03:45.352Z"
   },
   {
    "duration": 4,
    "start_time": "2024-10-09T15:03:51.795Z"
   },
   {
    "duration": 36,
    "start_time": "2024-10-09T15:04:06.119Z"
   },
   {
    "duration": 18,
    "start_time": "2024-10-09T15:04:13.024Z"
   },
   {
    "duration": 35,
    "start_time": "2024-10-09T15:05:23.904Z"
   },
   {
    "duration": 34,
    "start_time": "2024-10-09T15:05:57.308Z"
   },
   {
    "duration": 5,
    "start_time": "2024-10-09T15:06:26.792Z"
   },
   {
    "duration": 4,
    "start_time": "2024-10-09T15:06:35.256Z"
   },
   {
    "duration": 3,
    "start_time": "2024-10-09T15:06:39.096Z"
   },
   {
    "duration": 4,
    "start_time": "2024-10-09T15:06:41.146Z"
   },
   {
    "duration": 740,
    "start_time": "2024-10-09T15:06:48.639Z"
   },
   {
    "duration": 668,
    "start_time": "2024-10-09T15:07:12.441Z"
   },
   {
    "duration": 9,
    "start_time": "2024-10-09T15:07:20.297Z"
   },
   {
    "duration": 6,
    "start_time": "2024-10-09T15:08:20.825Z"
   },
   {
    "duration": 3,
    "start_time": "2024-10-09T15:09:03.230Z"
   },
   {
    "duration": 9,
    "start_time": "2024-10-09T15:09:09.670Z"
   },
   {
    "duration": 6,
    "start_time": "2024-10-09T15:09:24.307Z"
   },
   {
    "duration": 6,
    "start_time": "2024-10-09T15:09:29.229Z"
   },
   {
    "duration": 9,
    "start_time": "2024-10-09T15:10:49.302Z"
   },
   {
    "duration": 11,
    "start_time": "2024-10-09T15:10:54.720Z"
   },
   {
    "duration": 8,
    "start_time": "2024-10-09T15:12:05.966Z"
   },
   {
    "duration": 6,
    "start_time": "2024-10-09T15:12:10.701Z"
   },
   {
    "duration": 43,
    "start_time": "2024-10-09T15:12:14.423Z"
   },
   {
    "duration": 30,
    "start_time": "2024-10-09T15:12:57.574Z"
   },
   {
    "duration": 19,
    "start_time": "2024-10-09T15:13:03.517Z"
   },
   {
    "duration": 7,
    "start_time": "2024-10-09T15:13:13.567Z"
   },
   {
    "duration": 16,
    "start_time": "2024-10-09T15:13:19.564Z"
   },
   {
    "duration": 30,
    "start_time": "2024-10-09T15:13:22.470Z"
   },
   {
    "duration": 13,
    "start_time": "2024-10-09T15:13:45.536Z"
   },
   {
    "duration": 242,
    "start_time": "2024-10-09T15:14:10.613Z"
   },
   {
    "duration": 11,
    "start_time": "2024-10-09T15:15:15.719Z"
   },
   {
    "duration": 26,
    "start_time": "2024-10-09T15:15:33.448Z"
   },
   {
    "duration": 38,
    "start_time": "2024-10-09T15:16:34.861Z"
   },
   {
    "duration": 31,
    "start_time": "2024-10-09T15:16:48.815Z"
   },
   {
    "duration": 27,
    "start_time": "2024-10-09T15:17:08.225Z"
   },
   {
    "duration": 463,
    "start_time": "2024-10-09T15:30:21.145Z"
   },
   {
    "duration": 1080,
    "start_time": "2024-10-09T15:30:21.611Z"
   },
   {
    "duration": 23,
    "start_time": "2024-10-09T15:30:22.693Z"
   },
   {
    "duration": 13,
    "start_time": "2024-10-09T15:30:22.718Z"
   },
   {
    "duration": 9,
    "start_time": "2024-10-09T15:30:22.734Z"
   },
   {
    "duration": 10,
    "start_time": "2024-10-09T15:30:22.745Z"
   },
   {
    "duration": 11,
    "start_time": "2024-10-09T15:30:22.757Z"
   },
   {
    "duration": 233,
    "start_time": "2024-10-09T15:30:22.769Z"
   },
   {
    "duration": 12,
    "start_time": "2024-10-09T15:30:23.008Z"
   },
   {
    "duration": 118,
    "start_time": "2024-10-09T15:30:23.022Z"
   },
   {
    "duration": 98,
    "start_time": "2024-10-09T15:30:23.142Z"
   },
   {
    "duration": 28,
    "start_time": "2024-10-09T15:30:23.241Z"
   },
   {
    "duration": 11,
    "start_time": "2024-10-09T15:30:23.271Z"
   },
   {
    "duration": 3,
    "start_time": "2024-10-09T15:30:23.285Z"
   },
   {
    "duration": 25,
    "start_time": "2024-10-09T15:30:23.309Z"
   },
   {
    "duration": 21,
    "start_time": "2024-10-09T15:30:23.335Z"
   },
   {
    "duration": 5,
    "start_time": "2024-10-09T15:30:23.358Z"
   },
   {
    "duration": 4,
    "start_time": "2024-10-09T15:30:23.364Z"
   },
   {
    "duration": 3,
    "start_time": "2024-10-09T15:30:23.370Z"
   },
   {
    "duration": 2,
    "start_time": "2024-10-09T15:30:23.375Z"
   },
   {
    "duration": 778,
    "start_time": "2024-10-09T15:30:23.409Z"
   },
   {
    "duration": 713,
    "start_time": "2024-10-09T15:30:24.190Z"
   },
   {
    "duration": 7,
    "start_time": "2024-10-09T15:30:24.909Z"
   },
   {
    "duration": 5,
    "start_time": "2024-10-09T15:30:24.918Z"
   },
   {
    "duration": 5,
    "start_time": "2024-10-09T15:30:24.925Z"
   },
   {
    "duration": 6,
    "start_time": "2024-10-09T15:30:24.932Z"
   },
   {
    "duration": 7,
    "start_time": "2024-10-09T15:30:24.940Z"
   },
   {
    "duration": 6,
    "start_time": "2024-10-09T15:30:24.949Z"
   },
   {
    "duration": 82,
    "start_time": "2024-10-09T15:30:24.957Z"
   },
   {
    "duration": 15,
    "start_time": "2024-10-09T15:30:25.041Z"
   },
   {
    "duration": 31,
    "start_time": "2024-10-09T15:30:25.058Z"
   },
   {
    "duration": 33,
    "start_time": "2024-10-09T15:30:25.090Z"
   },
   {
    "duration": 25,
    "start_time": "2024-10-09T15:30:25.125Z"
   },
   {
    "duration": 58,
    "start_time": "2024-10-09T15:30:25.151Z"
   },
   {
    "duration": 192,
    "start_time": "2024-10-09T15:30:39.406Z"
   },
   {
    "duration": 13,
    "start_time": "2024-10-09T15:30:45.630Z"
   },
   {
    "duration": 11,
    "start_time": "2024-10-09T15:30:57.347Z"
   },
   {
    "duration": 12,
    "start_time": "2024-10-09T15:31:08.100Z"
   },
   {
    "duration": 2,
    "start_time": "2024-10-09T15:31:17.312Z"
   },
   {
    "duration": 849,
    "start_time": "2024-10-09T15:31:19.146Z"
   },
   {
    "duration": 15,
    "start_time": "2024-10-09T15:31:21.229Z"
   },
   {
    "duration": 12,
    "start_time": "2024-10-09T15:31:23.091Z"
   },
   {
    "duration": 14,
    "start_time": "2024-10-09T15:31:24.786Z"
   },
   {
    "duration": 12,
    "start_time": "2024-10-09T15:31:26.831Z"
   },
   {
    "duration": 145,
    "start_time": "2024-10-09T15:31:30.381Z"
   },
   {
    "duration": 10,
    "start_time": "2024-10-09T15:31:33.245Z"
   },
   {
    "duration": 83,
    "start_time": "2024-10-09T15:31:35.777Z"
   },
   {
    "duration": 78,
    "start_time": "2024-10-09T15:31:37.587Z"
   },
   {
    "duration": 25,
    "start_time": "2024-10-09T15:31:39.522Z"
   },
   {
    "duration": 14,
    "start_time": "2024-10-09T15:31:41.225Z"
   },
   {
    "duration": 4,
    "start_time": "2024-10-09T15:31:43.023Z"
   },
   {
    "duration": 30,
    "start_time": "2024-10-09T15:31:44.561Z"
   },
   {
    "duration": 24,
    "start_time": "2024-10-09T15:31:46.846Z"
   },
   {
    "duration": 5,
    "start_time": "2024-10-09T15:31:48.737Z"
   },
   {
    "duration": 4,
    "start_time": "2024-10-09T15:31:50.411Z"
   },
   {
    "duration": 4,
    "start_time": "2024-10-09T15:31:52.260Z"
   },
   {
    "duration": 4,
    "start_time": "2024-10-09T15:31:53.711Z"
   },
   {
    "duration": 736,
    "start_time": "2024-10-09T15:31:55.836Z"
   },
   {
    "duration": 717,
    "start_time": "2024-10-09T15:31:57.927Z"
   },
   {
    "duration": 9,
    "start_time": "2024-10-09T15:32:00.918Z"
   },
   {
    "duration": 5,
    "start_time": "2024-10-09T15:32:02.774Z"
   },
   {
    "duration": 7,
    "start_time": "2024-10-09T15:32:05.434Z"
   },
   {
    "duration": 6,
    "start_time": "2024-10-09T15:32:07.365Z"
   },
   {
    "duration": 9,
    "start_time": "2024-10-09T15:32:09.009Z"
   },
   {
    "duration": 9,
    "start_time": "2024-10-09T15:32:11.698Z"
   },
   {
    "duration": 7,
    "start_time": "2024-10-09T15:32:13.360Z"
   },
   {
    "duration": 36,
    "start_time": "2024-10-09T15:32:14.896Z"
   },
   {
    "duration": 16,
    "start_time": "2024-10-09T15:32:17.454Z"
   },
   {
    "duration": 40,
    "start_time": "2024-10-09T15:32:19.142Z"
   },
   {
    "duration": 12,
    "start_time": "2024-10-09T15:32:20.821Z"
   },
   {
    "duration": 22,
    "start_time": "2024-10-09T15:32:23.120Z"
   },
   {
    "duration": 41,
    "start_time": "2024-10-09T15:32:24.825Z"
   },
   {
    "duration": 14,
    "start_time": "2024-10-09T15:32:28.201Z"
   },
   {
    "duration": 27,
    "start_time": "2024-10-09T15:32:34.112Z"
   },
   {
    "duration": 5,
    "start_time": "2024-10-09T15:32:59.527Z"
   },
   {
    "duration": 1071,
    "start_time": "2024-10-09T15:43:35.022Z"
   },
   {
    "duration": 592,
    "start_time": "2024-10-09T15:43:49.120Z"
   },
   {
    "duration": 661,
    "start_time": "2024-10-09T15:44:08.870Z"
   },
   {
    "duration": 0,
    "start_time": "2024-10-09T15:46:55.123Z"
   },
   {
    "duration": 0,
    "start_time": "2024-10-09T15:49:00.451Z"
   },
   {
    "duration": 32,
    "start_time": "2024-10-09T15:49:13.179Z"
   },
   {
    "duration": 32,
    "start_time": "2024-10-09T15:49:18.698Z"
   },
   {
    "duration": 17,
    "start_time": "2024-10-09T15:49:20.778Z"
   },
   {
    "duration": 15,
    "start_time": "2024-10-09T15:49:22.691Z"
   },
   {
    "duration": 6,
    "start_time": "2024-10-09T15:49:31.221Z"
   },
   {
    "duration": 16,
    "start_time": "2024-10-09T15:49:33.813Z"
   },
   {
    "duration": 180,
    "start_time": "2024-10-09T15:50:04.910Z"
   },
   {
    "duration": 7,
    "start_time": "2024-10-09T15:55:50.975Z"
   },
   {
    "duration": 8,
    "start_time": "2024-10-09T15:56:00.706Z"
   },
   {
    "duration": 179,
    "start_time": "2024-10-09T15:57:06.513Z"
   },
   {
    "duration": 172,
    "start_time": "2024-10-09T15:58:52.623Z"
   },
   {
    "duration": 179,
    "start_time": "2024-10-09T16:02:17.746Z"
   },
   {
    "duration": 175,
    "start_time": "2024-10-09T16:04:07.894Z"
   },
   {
    "duration": 7,
    "start_time": "2024-10-09T16:05:07.858Z"
   },
   {
    "duration": 7,
    "start_time": "2024-10-09T16:05:51.162Z"
   },
   {
    "duration": 21,
    "start_time": "2024-10-09T16:07:45.124Z"
   },
   {
    "duration": 118,
    "start_time": "2024-10-09T16:07:58.917Z"
   },
   {
    "duration": 117,
    "start_time": "2024-10-09T16:10:01.093Z"
   },
   {
    "duration": 144,
    "start_time": "2024-10-09T16:11:17.766Z"
   },
   {
    "duration": 117,
    "start_time": "2024-10-09T16:11:29.996Z"
   },
   {
    "duration": 115,
    "start_time": "2024-10-09T16:11:58.417Z"
   },
   {
    "duration": 46,
    "start_time": "2024-10-09T16:14:39.918Z"
   },
   {
    "duration": 48,
    "start_time": "2024-10-09T16:14:52.845Z"
   },
   {
    "duration": 455,
    "start_time": "2024-10-09T16:15:11.239Z"
   },
   {
    "duration": 30,
    "start_time": "2024-10-09T16:15:29.947Z"
   },
   {
    "duration": 78,
    "start_time": "2024-10-09T16:24:01.051Z"
   },
   {
    "duration": 16,
    "start_time": "2024-10-09T16:24:13.145Z"
   },
   {
    "duration": 15,
    "start_time": "2024-10-09T16:24:28.298Z"
   },
   {
    "duration": 277,
    "start_time": "2024-10-09T16:25:58.730Z"
   },
   {
    "duration": 256,
    "start_time": "2024-10-09T16:26:12.710Z"
   },
   {
    "duration": 377,
    "start_time": "2024-10-09T16:26:24.113Z"
   },
   {
    "duration": 282,
    "start_time": "2024-10-09T16:26:37.976Z"
   },
   {
    "duration": 254,
    "start_time": "2024-10-09T16:28:05.608Z"
   },
   {
    "duration": 252,
    "start_time": "2024-10-09T16:46:01.429Z"
   },
   {
    "duration": 35,
    "start_time": "2024-10-09T16:53:47.693Z"
   },
   {
    "duration": 49,
    "start_time": "2024-10-09T16:53:57.753Z"
   },
   {
    "duration": 23,
    "start_time": "2024-10-09T16:54:11.417Z"
   },
   {
    "duration": 29,
    "start_time": "2024-10-09T16:54:23.412Z"
   },
   {
    "duration": 21,
    "start_time": "2024-10-09T16:54:29.023Z"
   },
   {
    "duration": 7,
    "start_time": "2024-10-09T16:56:52.783Z"
   },
   {
    "duration": 8,
    "start_time": "2024-10-09T17:02:13.118Z"
   },
   {
    "duration": 5,
    "start_time": "2024-10-09T17:02:22.315Z"
   },
   {
    "duration": 49,
    "start_time": "2024-10-09T17:03:23.256Z"
   },
   {
    "duration": 53,
    "start_time": "2024-10-09T17:03:31.242Z"
   },
   {
    "duration": 278,
    "start_time": "2024-10-09T17:03:46.077Z"
   },
   {
    "duration": 273,
    "start_time": "2024-10-09T17:10:06.597Z"
   },
   {
    "duration": 311,
    "start_time": "2024-10-09T17:10:40.697Z"
   },
   {
    "duration": 311,
    "start_time": "2024-10-09T17:10:51.760Z"
   },
   {
    "duration": 306,
    "start_time": "2024-10-09T17:11:00.324Z"
   },
   {
    "duration": 310,
    "start_time": "2024-10-09T17:11:11.222Z"
   },
   {
    "duration": 19,
    "start_time": "2024-10-09T17:14:06.828Z"
   },
   {
    "duration": 540,
    "start_time": "2024-10-09T17:15:28.779Z"
   },
   {
    "duration": 1275,
    "start_time": "2024-10-09T17:15:29.322Z"
   },
   {
    "duration": 25,
    "start_time": "2024-10-09T17:15:30.599Z"
   },
   {
    "duration": 15,
    "start_time": "2024-10-09T17:15:30.627Z"
   },
   {
    "duration": 14,
    "start_time": "2024-10-09T17:15:30.644Z"
   },
   {
    "duration": 13,
    "start_time": "2024-10-09T17:15:30.661Z"
   },
   {
    "duration": 33,
    "start_time": "2024-10-09T17:15:30.677Z"
   },
   {
    "duration": 229,
    "start_time": "2024-10-09T17:15:30.711Z"
   },
   {
    "duration": 12,
    "start_time": "2024-10-09T17:15:30.944Z"
   },
   {
    "duration": 124,
    "start_time": "2024-10-09T17:15:30.960Z"
   },
   {
    "duration": 100,
    "start_time": "2024-10-09T17:15:31.088Z"
   },
   {
    "duration": 35,
    "start_time": "2024-10-09T17:15:31.190Z"
   },
   {
    "duration": 15,
    "start_time": "2024-10-09T17:15:31.227Z"
   },
   {
    "duration": 3,
    "start_time": "2024-10-09T17:15:31.245Z"
   },
   {
    "duration": 25,
    "start_time": "2024-10-09T17:15:31.251Z"
   },
   {
    "duration": 46,
    "start_time": "2024-10-09T17:15:31.278Z"
   },
   {
    "duration": 6,
    "start_time": "2024-10-09T17:15:31.326Z"
   },
   {
    "duration": 4,
    "start_time": "2024-10-09T17:15:31.336Z"
   },
   {
    "duration": 4,
    "start_time": "2024-10-09T17:15:31.342Z"
   },
   {
    "duration": 3,
    "start_time": "2024-10-09T17:15:31.348Z"
   },
   {
    "duration": 870,
    "start_time": "2024-10-09T17:15:31.353Z"
   },
   {
    "duration": 862,
    "start_time": "2024-10-09T17:15:32.225Z"
   },
   {
    "duration": 11,
    "start_time": "2024-10-09T17:15:33.090Z"
   },
   {
    "duration": 10,
    "start_time": "2024-10-09T17:15:33.102Z"
   },
   {
    "duration": 7,
    "start_time": "2024-10-09T17:15:33.113Z"
   },
   {
    "duration": 9,
    "start_time": "2024-10-09T17:15:33.121Z"
   },
   {
    "duration": 9,
    "start_time": "2024-10-09T17:15:33.132Z"
   },
   {
    "duration": 6,
    "start_time": "2024-10-09T17:15:33.147Z"
   },
   {
    "duration": 80,
    "start_time": "2024-10-09T17:15:33.155Z"
   },
   {
    "duration": 16,
    "start_time": "2024-10-09T17:15:33.237Z"
   },
   {
    "duration": 33,
    "start_time": "2024-10-09T17:15:33.255Z"
   },
   {
    "duration": 32,
    "start_time": "2024-10-09T17:15:33.291Z"
   },
   {
    "duration": 24,
    "start_time": "2024-10-09T17:15:33.326Z"
   },
   {
    "duration": 57,
    "start_time": "2024-10-09T17:15:33.352Z"
   },
   {
    "duration": 30,
    "start_time": "2024-10-09T17:15:33.411Z"
   },
   {
    "duration": 19,
    "start_time": "2024-10-09T17:15:33.443Z"
   },
   {
    "duration": 206,
    "start_time": "2024-10-09T17:15:33.466Z"
   },
   {
    "duration": 123,
    "start_time": "2024-10-09T17:15:33.675Z"
   },
   {
    "duration": 245,
    "start_time": "2024-10-09T17:15:33.800Z"
   },
   {
    "duration": 270,
    "start_time": "2024-10-09T17:15:34.047Z"
   },
   {
    "duration": 172,
    "start_time": "2024-10-09T17:15:42.469Z"
   },
   {
    "duration": 541,
    "start_time": "2024-10-09T17:17:07.063Z"
   },
   {
    "duration": 1424,
    "start_time": "2024-10-09T17:17:07.606Z"
   },
   {
    "duration": 22,
    "start_time": "2024-10-09T17:17:09.032Z"
   },
   {
    "duration": 16,
    "start_time": "2024-10-09T17:17:09.056Z"
   },
   {
    "duration": 35,
    "start_time": "2024-10-09T17:17:09.074Z"
   },
   {
    "duration": 13,
    "start_time": "2024-10-09T17:17:09.111Z"
   },
   {
    "duration": 11,
    "start_time": "2024-10-09T17:17:09.126Z"
   },
   {
    "duration": 298,
    "start_time": "2024-10-09T17:17:09.139Z"
   },
   {
    "duration": 16,
    "start_time": "2024-10-09T17:17:09.439Z"
   },
   {
    "duration": 178,
    "start_time": "2024-10-09T17:17:09.461Z"
   },
   {
    "duration": 156,
    "start_time": "2024-10-09T17:17:09.645Z"
   },
   {
    "duration": 68,
    "start_time": "2024-10-09T17:17:09.806Z"
   },
   {
    "duration": 22,
    "start_time": "2024-10-09T17:17:09.881Z"
   },
   {
    "duration": 20,
    "start_time": "2024-10-09T17:17:09.909Z"
   },
   {
    "duration": 57,
    "start_time": "2024-10-09T17:17:09.934Z"
   },
   {
    "duration": 41,
    "start_time": "2024-10-09T17:17:09.997Z"
   },
   {
    "duration": 8,
    "start_time": "2024-10-09T17:17:10.044Z"
   },
   {
    "duration": 7,
    "start_time": "2024-10-09T17:17:10.057Z"
   },
   {
    "duration": 6,
    "start_time": "2024-10-09T17:17:10.069Z"
   },
   {
    "duration": 6,
    "start_time": "2024-10-09T17:17:10.081Z"
   },
   {
    "duration": 1240,
    "start_time": "2024-10-09T17:17:10.091Z"
   },
   {
    "duration": 1068,
    "start_time": "2024-10-09T17:17:11.334Z"
   },
   {
    "duration": 11,
    "start_time": "2024-10-09T17:17:12.409Z"
   },
   {
    "duration": 6,
    "start_time": "2024-10-09T17:17:12.422Z"
   },
   {
    "duration": 6,
    "start_time": "2024-10-09T17:17:12.430Z"
   },
   {
    "duration": 6,
    "start_time": "2024-10-09T17:17:12.438Z"
   },
   {
    "duration": 10,
    "start_time": "2024-10-09T17:17:12.446Z"
   },
   {
    "duration": 7,
    "start_time": "2024-10-09T17:17:12.461Z"
   },
   {
    "duration": 89,
    "start_time": "2024-10-09T17:17:12.470Z"
   },
   {
    "duration": 25,
    "start_time": "2024-10-09T17:17:12.561Z"
   },
   {
    "duration": 58,
    "start_time": "2024-10-09T17:17:12.588Z"
   },
   {
    "duration": 18,
    "start_time": "2024-10-09T17:17:12.648Z"
   },
   {
    "duration": 49,
    "start_time": "2024-10-09T17:17:12.668Z"
   },
   {
    "duration": 55,
    "start_time": "2024-10-09T17:17:12.719Z"
   },
   {
    "duration": 43,
    "start_time": "2024-10-09T17:17:12.776Z"
   },
   {
    "duration": 28,
    "start_time": "2024-10-09T17:17:12.821Z"
   },
   {
    "duration": 264,
    "start_time": "2024-10-09T17:17:12.851Z"
   },
   {
    "duration": 164,
    "start_time": "2024-10-09T17:17:13.118Z"
   },
   {
    "duration": 296,
    "start_time": "2024-10-09T17:17:13.288Z"
   },
   {
    "duration": 285,
    "start_time": "2024-10-09T17:17:13.586Z"
   },
   {
    "duration": 201,
    "start_time": "2024-10-09T17:17:14.058Z"
   },
   {
    "duration": 172,
    "start_time": "2024-10-09T17:18:14.230Z"
   },
   {
    "duration": 187,
    "start_time": "2024-10-09T17:18:25.694Z"
   },
   {
    "duration": 268,
    "start_time": "2024-10-09T17:20:51.005Z"
   },
   {
    "duration": 15,
    "start_time": "2024-10-09T17:21:18.567Z"
   },
   {
    "duration": 5,
    "start_time": "2024-10-09T17:21:23.052Z"
   },
   {
    "duration": 18,
    "start_time": "2024-10-09T17:22:00.427Z"
   },
   {
    "duration": 18,
    "start_time": "2024-10-09T17:25:15.810Z"
   },
   {
    "duration": 20,
    "start_time": "2024-10-09T17:25:39.570Z"
   },
   {
    "duration": 165,
    "start_time": "2024-10-09T17:26:17.352Z"
   },
   {
    "duration": 29,
    "start_time": "2024-10-09T17:26:32.203Z"
   },
   {
    "duration": 14,
    "start_time": "2024-10-09T17:28:22.904Z"
   },
   {
    "duration": 5,
    "start_time": "2024-10-09T17:28:51.775Z"
   },
   {
    "duration": 6,
    "start_time": "2024-10-09T17:30:04.373Z"
   },
   {
    "duration": 6,
    "start_time": "2024-10-09T17:31:46.990Z"
   },
   {
    "duration": 10,
    "start_time": "2024-10-09T17:32:02.748Z"
   },
   {
    "duration": 4,
    "start_time": "2024-10-09T17:33:41.256Z"
   },
   {
    "duration": 5,
    "start_time": "2024-10-09T17:33:47.549Z"
   },
   {
    "duration": 367,
    "start_time": "2024-10-09T17:34:02.657Z"
   },
   {
    "duration": 50,
    "start_time": "2024-10-09T17:34:45.569Z"
   },
   {
    "duration": 604,
    "start_time": "2024-10-09T17:35:24.373Z"
   },
   {
    "duration": 3,
    "start_time": "2024-10-09T17:40:44.173Z"
   },
   {
    "duration": 569,
    "start_time": "2024-10-09T17:40:53.084Z"
   },
   {
    "duration": 16,
    "start_time": "2024-10-09T17:41:16.330Z"
   },
   {
    "duration": 14,
    "start_time": "2024-10-09T17:41:29.841Z"
   },
   {
    "duration": 1031,
    "start_time": "2024-10-09T17:43:05.693Z"
   },
   {
    "duration": 1027,
    "start_time": "2024-10-09T17:43:44.192Z"
   },
   {
    "duration": 1002,
    "start_time": "2024-10-09T17:43:52.177Z"
   },
   {
    "duration": 1009,
    "start_time": "2024-10-09T17:44:03.252Z"
   },
   {
    "duration": 1029,
    "start_time": "2024-10-09T17:45:04.369Z"
   },
   {
    "duration": 1004,
    "start_time": "2024-10-09T17:45:16.042Z"
   },
   {
    "duration": 4,
    "start_time": "2024-10-09T17:46:01.003Z"
   },
   {
    "duration": 1060,
    "start_time": "2024-10-09T17:46:06.737Z"
   },
   {
    "duration": 6,
    "start_time": "2024-10-09T17:48:48.637Z"
   },
   {
    "duration": 242,
    "start_time": "2024-10-09T17:52:06.980Z"
   },
   {
    "duration": 208,
    "start_time": "2024-10-09T17:54:58.979Z"
   },
   {
    "duration": 307,
    "start_time": "2024-10-09T17:55:59.833Z"
   },
   {
    "duration": 1034,
    "start_time": "2024-10-09T18:08:41.294Z"
   },
   {
    "duration": 15,
    "start_time": "2024-10-09T18:10:47.931Z"
   },
   {
    "duration": 1514,
    "start_time": "2024-10-09T18:10:53.946Z"
   },
   {
    "duration": 13,
    "start_time": "2024-10-09T18:11:35.675Z"
   },
   {
    "duration": 1469,
    "start_time": "2024-10-09T18:11:38.618Z"
   },
   {
    "duration": 189,
    "start_time": "2024-10-09T18:11:40.308Z"
   },
   {
    "duration": 9,
    "start_time": "2024-10-09T18:11:58.737Z"
   },
   {
    "duration": 4,
    "start_time": "2024-10-09T18:12:23.000Z"
   },
   {
    "duration": 3,
    "start_time": "2024-10-09T18:12:33.010Z"
   },
   {
    "duration": 15,
    "start_time": "2024-10-09T18:13:01.897Z"
   },
   {
    "duration": 4,
    "start_time": "2024-10-09T18:13:58.512Z"
   },
   {
    "duration": 12,
    "start_time": "2024-10-09T18:14:02.181Z"
   },
   {
    "duration": 3,
    "start_time": "2024-10-09T18:14:10.837Z"
   },
   {
    "duration": 15,
    "start_time": "2024-10-09T18:14:12.753Z"
   },
   {
    "duration": 131,
    "start_time": "2024-10-09T18:14:49.908Z"
   },
   {
    "duration": 130,
    "start_time": "2024-10-09T18:15:18.493Z"
   },
   {
    "duration": 193,
    "start_time": "2024-10-09T18:15:46.134Z"
   },
   {
    "duration": 200,
    "start_time": "2024-10-09T18:15:54.807Z"
   },
   {
    "duration": 192,
    "start_time": "2024-10-09T18:16:02.431Z"
   },
   {
    "duration": 201,
    "start_time": "2024-10-09T18:16:11.099Z"
   },
   {
    "duration": 190,
    "start_time": "2024-10-09T18:16:48.770Z"
   },
   {
    "duration": 209,
    "start_time": "2024-10-09T18:16:56.334Z"
   },
   {
    "duration": 213,
    "start_time": "2024-10-09T18:17:33.937Z"
   },
   {
    "duration": 227,
    "start_time": "2024-10-09T18:18:19.765Z"
   },
   {
    "duration": 126,
    "start_time": "2024-10-09T18:19:27.829Z"
   },
   {
    "duration": 475,
    "start_time": "2024-10-09T18:24:24.868Z"
   },
   {
    "duration": 1096,
    "start_time": "2024-10-09T18:25:58.132Z"
   },
   {
    "duration": 220,
    "start_time": "2024-10-09T18:26:08.520Z"
   },
   {
    "duration": 5,
    "start_time": "2024-10-09T18:26:15.234Z"
   },
   {
    "duration": 240,
    "start_time": "2024-10-09T18:26:17.247Z"
   },
   {
    "duration": 454,
    "start_time": "2024-10-09T18:27:48.102Z"
   },
   {
    "duration": 990,
    "start_time": "2024-10-09T18:27:48.558Z"
   },
   {
    "duration": 17,
    "start_time": "2024-10-09T18:27:49.550Z"
   },
   {
    "duration": 14,
    "start_time": "2024-10-09T18:27:49.570Z"
   },
   {
    "duration": 51,
    "start_time": "2024-10-09T18:27:49.585Z"
   },
   {
    "duration": 11,
    "start_time": "2024-10-09T18:27:49.638Z"
   },
   {
    "duration": 11,
    "start_time": "2024-10-09T18:27:49.651Z"
   },
   {
    "duration": 224,
    "start_time": "2024-10-09T18:27:49.664Z"
   },
   {
    "duration": 30,
    "start_time": "2024-10-09T18:27:49.890Z"
   },
   {
    "duration": 125,
    "start_time": "2024-10-09T18:27:49.934Z"
   },
   {
    "duration": 95,
    "start_time": "2024-10-09T18:27:50.061Z"
   },
   {
    "duration": 29,
    "start_time": "2024-10-09T18:27:50.157Z"
   },
   {
    "duration": 25,
    "start_time": "2024-10-09T18:27:50.187Z"
   },
   {
    "duration": 4,
    "start_time": "2024-10-09T18:27:50.213Z"
   },
   {
    "duration": 42,
    "start_time": "2024-10-09T18:27:50.218Z"
   },
   {
    "duration": 25,
    "start_time": "2024-10-09T18:27:50.262Z"
   },
   {
    "duration": 5,
    "start_time": "2024-10-09T18:27:50.289Z"
   },
   {
    "duration": 3,
    "start_time": "2024-10-09T18:27:50.296Z"
   },
   {
    "duration": 31,
    "start_time": "2024-10-09T18:27:50.301Z"
   },
   {
    "duration": 4,
    "start_time": "2024-10-09T18:27:50.338Z"
   },
   {
    "duration": 886,
    "start_time": "2024-10-09T18:27:50.343Z"
   },
   {
    "duration": 762,
    "start_time": "2024-10-09T18:27:51.230Z"
   },
   {
    "duration": 18,
    "start_time": "2024-10-09T18:27:51.994Z"
   },
   {
    "duration": 9,
    "start_time": "2024-10-09T18:27:52.028Z"
   },
   {
    "duration": 5,
    "start_time": "2024-10-09T18:27:52.039Z"
   },
   {
    "duration": 5,
    "start_time": "2024-10-09T18:27:52.046Z"
   },
   {
    "duration": 7,
    "start_time": "2024-10-09T18:27:52.053Z"
   },
   {
    "duration": 6,
    "start_time": "2024-10-09T18:27:52.065Z"
   },
   {
    "duration": 64,
    "start_time": "2024-10-09T18:27:52.072Z"
   },
   {
    "duration": 16,
    "start_time": "2024-10-09T18:27:52.138Z"
   },
   {
    "duration": 31,
    "start_time": "2024-10-09T18:27:52.155Z"
   },
   {
    "duration": 33,
    "start_time": "2024-10-09T18:27:52.189Z"
   },
   {
    "duration": 27,
    "start_time": "2024-10-09T18:27:52.224Z"
   },
   {
    "duration": 40,
    "start_time": "2024-10-09T18:27:52.253Z"
   },
   {
    "duration": 45,
    "start_time": "2024-10-09T18:27:52.295Z"
   },
   {
    "duration": 19,
    "start_time": "2024-10-09T18:27:52.341Z"
   },
   {
    "duration": 204,
    "start_time": "2024-10-09T18:27:52.363Z"
   },
   {
    "duration": 135,
    "start_time": "2024-10-09T18:27:52.569Z"
   },
   {
    "duration": 246,
    "start_time": "2024-10-09T18:27:52.706Z"
   },
   {
    "duration": 235,
    "start_time": "2024-10-09T18:27:52.955Z"
   },
   {
    "duration": 152,
    "start_time": "2024-10-09T18:27:53.192Z"
   },
   {
    "duration": 10,
    "start_time": "2024-10-09T18:27:53.346Z"
   },
   {
    "duration": 1102,
    "start_time": "2024-10-09T18:27:53.358Z"
   },
   {
    "duration": 247,
    "start_time": "2024-10-09T18:27:54.462Z"
   },
   {
    "duration": 1551,
    "start_time": "2024-10-09T18:27:54.710Z"
   },
   {
    "duration": 239,
    "start_time": "2024-10-09T18:27:56.263Z"
   },
   {
    "duration": 137,
    "start_time": "2024-10-09T18:27:56.513Z"
   },
   {
    "duration": 485,
    "start_time": "2024-10-09T18:27:56.651Z"
   },
   {
    "duration": 126,
    "start_time": "2024-10-09T18:27:57.138Z"
   },
   {
    "duration": 455,
    "start_time": "2024-10-09T18:30:14.685Z"
   },
   {
    "duration": 1016,
    "start_time": "2024-10-09T18:30:15.142Z"
   },
   {
    "duration": 19,
    "start_time": "2024-10-09T18:30:16.159Z"
   },
   {
    "duration": 44,
    "start_time": "2024-10-09T18:30:16.180Z"
   },
   {
    "duration": 11,
    "start_time": "2024-10-09T18:30:16.233Z"
   },
   {
    "duration": 11,
    "start_time": "2024-10-09T18:30:16.245Z"
   },
   {
    "duration": 11,
    "start_time": "2024-10-09T18:30:16.257Z"
   },
   {
    "duration": 220,
    "start_time": "2024-10-09T18:30:16.270Z"
   },
   {
    "duration": 26,
    "start_time": "2024-10-09T18:30:16.493Z"
   },
   {
    "duration": 126,
    "start_time": "2024-10-09T18:30:16.522Z"
   },
   {
    "duration": 96,
    "start_time": "2024-10-09T18:30:16.650Z"
   },
   {
    "duration": 28,
    "start_time": "2024-10-09T18:30:16.747Z"
   },
   {
    "duration": 12,
    "start_time": "2024-10-09T18:30:16.777Z"
   },
   {
    "duration": 3,
    "start_time": "2024-10-09T18:30:16.791Z"
   },
   {
    "duration": 36,
    "start_time": "2024-10-09T18:30:16.812Z"
   },
   {
    "duration": 21,
    "start_time": "2024-10-09T18:30:16.850Z"
   },
   {
    "duration": 5,
    "start_time": "2024-10-09T18:30:16.872Z"
   },
   {
    "duration": 4,
    "start_time": "2024-10-09T18:30:16.878Z"
   },
   {
    "duration": 4,
    "start_time": "2024-10-09T18:30:16.883Z"
   },
   {
    "duration": 22,
    "start_time": "2024-10-09T18:30:16.889Z"
   },
   {
    "duration": 883,
    "start_time": "2024-10-09T18:30:16.912Z"
   },
   {
    "duration": 764,
    "start_time": "2024-10-09T18:30:17.797Z"
   },
   {
    "duration": 9,
    "start_time": "2024-10-09T18:30:18.563Z"
   },
   {
    "duration": 6,
    "start_time": "2024-10-09T18:30:18.573Z"
   },
   {
    "duration": 5,
    "start_time": "2024-10-09T18:30:18.580Z"
   },
   {
    "duration": 7,
    "start_time": "2024-10-09T18:30:18.612Z"
   },
   {
    "duration": 13,
    "start_time": "2024-10-09T18:30:18.624Z"
   },
   {
    "duration": 7,
    "start_time": "2024-10-09T18:30:18.642Z"
   },
   {
    "duration": 43,
    "start_time": "2024-10-09T18:30:18.651Z"
   },
   {
    "duration": 36,
    "start_time": "2024-10-09T18:30:18.696Z"
   },
   {
    "duration": 33,
    "start_time": "2024-10-09T18:30:18.734Z"
   },
   {
    "duration": 14,
    "start_time": "2024-10-09T18:30:18.769Z"
   },
   {
    "duration": 40,
    "start_time": "2024-10-09T18:30:18.785Z"
   },
   {
    "duration": 44,
    "start_time": "2024-10-09T18:30:18.829Z"
   },
   {
    "duration": 40,
    "start_time": "2024-10-09T18:30:18.875Z"
   },
   {
    "duration": 25,
    "start_time": "2024-10-09T18:30:18.917Z"
   },
   {
    "duration": 210,
    "start_time": "2024-10-09T18:30:18.944Z"
   },
   {
    "duration": 130,
    "start_time": "2024-10-09T18:30:19.155Z"
   },
   {
    "duration": 249,
    "start_time": "2024-10-09T18:30:19.287Z"
   },
   {
    "duration": 259,
    "start_time": "2024-10-09T18:30:19.537Z"
   },
   {
    "duration": 156,
    "start_time": "2024-10-09T18:30:19.798Z"
   },
   {
    "duration": 10,
    "start_time": "2024-10-09T18:30:19.955Z"
   },
   {
    "duration": 1110,
    "start_time": "2024-10-09T18:30:19.967Z"
   },
   {
    "duration": 245,
    "start_time": "2024-10-09T18:30:21.079Z"
   },
   {
    "duration": 1522,
    "start_time": "2024-10-09T18:30:21.325Z"
   },
   {
    "duration": 238,
    "start_time": "2024-10-09T18:30:22.849Z"
   },
   {
    "duration": 142,
    "start_time": "2024-10-09T18:30:23.088Z"
   },
   {
    "duration": 451,
    "start_time": "2024-10-09T18:30:23.233Z"
   },
   {
    "duration": 113,
    "start_time": "2024-10-09T18:31:04.592Z"
   },
   {
    "duration": 303,
    "start_time": "2024-10-09T18:31:12.192Z"
   },
   {
    "duration": 212,
    "start_time": "2024-10-09T18:31:26.664Z"
   },
   {
    "duration": 461,
    "start_time": "2024-10-09T18:33:30.039Z"
   },
   {
    "duration": 489,
    "start_time": "2024-10-09T18:35:35.051Z"
   },
   {
    "duration": 1019,
    "start_time": "2024-10-09T18:35:35.542Z"
   },
   {
    "duration": 19,
    "start_time": "2024-10-09T18:35:36.563Z"
   },
   {
    "duration": 49,
    "start_time": "2024-10-09T18:35:36.584Z"
   },
   {
    "duration": 10,
    "start_time": "2024-10-09T18:35:36.636Z"
   },
   {
    "duration": 10,
    "start_time": "2024-10-09T18:35:36.648Z"
   },
   {
    "duration": 11,
    "start_time": "2024-10-09T18:35:36.660Z"
   },
   {
    "duration": 217,
    "start_time": "2024-10-09T18:35:36.672Z"
   },
   {
    "duration": 25,
    "start_time": "2024-10-09T18:35:36.891Z"
   },
   {
    "duration": 122,
    "start_time": "2024-10-09T18:35:36.918Z"
   },
   {
    "duration": 100,
    "start_time": "2024-10-09T18:35:37.042Z"
   },
   {
    "duration": 28,
    "start_time": "2024-10-09T18:35:37.144Z"
   },
   {
    "duration": 21,
    "start_time": "2024-10-09T18:35:37.173Z"
   },
   {
    "duration": 6,
    "start_time": "2024-10-09T18:35:37.196Z"
   },
   {
    "duration": 36,
    "start_time": "2024-10-09T18:35:37.213Z"
   },
   {
    "duration": 24,
    "start_time": "2024-10-09T18:35:37.250Z"
   },
   {
    "duration": 7,
    "start_time": "2024-10-09T18:35:37.277Z"
   },
   {
    "duration": 3,
    "start_time": "2024-10-09T18:35:37.287Z"
   },
   {
    "duration": 35,
    "start_time": "2024-10-09T18:35:37.292Z"
   },
   {
    "duration": 6,
    "start_time": "2024-10-09T18:35:37.329Z"
   },
   {
    "duration": 865,
    "start_time": "2024-10-09T18:35:37.337Z"
   },
   {
    "duration": 736,
    "start_time": "2024-10-09T18:35:38.204Z"
   },
   {
    "duration": 8,
    "start_time": "2024-10-09T18:35:38.945Z"
   },
   {
    "duration": 6,
    "start_time": "2024-10-09T18:35:38.955Z"
   },
   {
    "duration": 6,
    "start_time": "2024-10-09T18:35:38.962Z"
   },
   {
    "duration": 6,
    "start_time": "2024-10-09T18:35:38.970Z"
   },
   {
    "duration": 42,
    "start_time": "2024-10-09T18:35:38.978Z"
   },
   {
    "duration": 6,
    "start_time": "2024-10-09T18:35:39.033Z"
   },
   {
    "duration": 42,
    "start_time": "2024-10-09T18:35:39.041Z"
   },
   {
    "duration": 15,
    "start_time": "2024-10-09T18:35:39.085Z"
   },
   {
    "duration": 44,
    "start_time": "2024-10-09T18:35:39.102Z"
   },
   {
    "duration": 15,
    "start_time": "2024-10-09T18:35:39.148Z"
   },
   {
    "duration": 23,
    "start_time": "2024-10-09T18:35:39.164Z"
   },
   {
    "duration": 65,
    "start_time": "2024-10-09T18:35:39.189Z"
   },
   {
    "duration": 27,
    "start_time": "2024-10-09T18:35:39.256Z"
   },
   {
    "duration": 43,
    "start_time": "2024-10-09T18:35:39.285Z"
   },
   {
    "duration": 200,
    "start_time": "2024-10-09T18:35:39.339Z"
   },
   {
    "duration": 126,
    "start_time": "2024-10-09T18:35:39.540Z"
   },
   {
    "duration": 267,
    "start_time": "2024-10-09T18:35:39.668Z"
   },
   {
    "duration": 258,
    "start_time": "2024-10-09T18:35:39.937Z"
   },
   {
    "duration": 160,
    "start_time": "2024-10-09T18:35:40.198Z"
   },
   {
    "duration": 11,
    "start_time": "2024-10-09T18:35:40.361Z"
   },
   {
    "duration": 1119,
    "start_time": "2024-10-09T18:35:40.374Z"
   },
   {
    "duration": 259,
    "start_time": "2024-10-09T18:35:41.495Z"
   },
   {
    "duration": 1582,
    "start_time": "2024-10-09T18:35:41.756Z"
   },
   {
    "duration": 233,
    "start_time": "2024-10-09T18:35:43.339Z"
   },
   {
    "duration": 166,
    "start_time": "2024-10-09T18:35:43.574Z"
   },
   {
    "duration": 590,
    "start_time": "2024-10-09T18:35:43.742Z"
   },
   {
    "duration": 231,
    "start_time": "2024-10-09T18:35:44.334Z"
   },
   {
    "duration": 488,
    "start_time": "2024-10-09T18:35:44.567Z"
   },
   {
    "duration": 633,
    "start_time": "2024-10-09T18:38:10.105Z"
   },
   {
    "duration": 6,
    "start_time": "2024-10-09T18:38:42.129Z"
   },
   {
    "duration": 1474,
    "start_time": "2024-10-09T18:39:32.791Z"
   },
   {
    "duration": 128,
    "start_time": "2024-10-09T18:40:00.147Z"
   },
   {
    "duration": 812,
    "start_time": "2024-10-09T18:40:10.847Z"
   },
   {
    "duration": 486,
    "start_time": "2024-10-09T18:40:17.329Z"
   },
   {
    "duration": 262,
    "start_time": "2024-10-09T18:44:03.107Z"
   },
   {
    "duration": 173,
    "start_time": "2024-10-09T18:44:07.933Z"
   },
   {
    "duration": 154,
    "start_time": "2024-10-09T18:44:41.053Z"
   },
   {
    "duration": 223,
    "start_time": "2024-10-09T18:44:59.417Z"
   },
   {
    "duration": 243,
    "start_time": "2024-10-09T18:45:51.590Z"
   },
   {
    "duration": 252,
    "start_time": "2024-10-09T18:46:02.195Z"
   },
   {
    "duration": 210,
    "start_time": "2024-10-09T18:46:59.430Z"
   },
   {
    "duration": 13,
    "start_time": "2024-10-09T18:47:48.530Z"
   },
   {
    "duration": 118,
    "start_time": "2024-10-09T18:47:52.437Z"
   },
   {
    "duration": 115,
    "start_time": "2024-10-09T18:47:54.539Z"
   },
   {
    "duration": 138,
    "start_time": "2024-10-09T18:48:27.499Z"
   },
   {
    "duration": 124,
    "start_time": "2024-10-09T18:48:52.489Z"
   },
   {
    "duration": 110,
    "start_time": "2024-10-09T18:50:14.853Z"
   },
   {
    "duration": 459,
    "start_time": "2024-10-09T18:50:36.681Z"
   },
   {
    "duration": 460,
    "start_time": "2024-10-09T18:52:02.376Z"
   },
   {
    "duration": 1008,
    "start_time": "2024-10-09T18:52:02.839Z"
   },
   {
    "duration": 17,
    "start_time": "2024-10-09T18:52:03.850Z"
   },
   {
    "duration": 13,
    "start_time": "2024-10-09T18:52:03.870Z"
   },
   {
    "duration": 52,
    "start_time": "2024-10-09T18:52:03.886Z"
   },
   {
    "duration": 11,
    "start_time": "2024-10-09T18:52:03.939Z"
   },
   {
    "duration": 11,
    "start_time": "2024-10-09T18:52:03.952Z"
   },
   {
    "duration": 226,
    "start_time": "2024-10-09T18:52:03.964Z"
   },
   {
    "duration": 11,
    "start_time": "2024-10-09T18:52:04.192Z"
   },
   {
    "duration": 137,
    "start_time": "2024-10-09T18:52:04.204Z"
   },
   {
    "duration": 101,
    "start_time": "2024-10-09T18:52:04.343Z"
   },
   {
    "duration": 31,
    "start_time": "2024-10-09T18:52:04.446Z"
   },
   {
    "duration": 12,
    "start_time": "2024-10-09T18:52:04.479Z"
   },
   {
    "duration": 9,
    "start_time": "2024-10-09T18:52:04.511Z"
   },
   {
    "duration": 29,
    "start_time": "2024-10-09T18:52:04.537Z"
   },
   {
    "duration": 25,
    "start_time": "2024-10-09T18:52:04.567Z"
   },
   {
    "duration": 5,
    "start_time": "2024-10-09T18:52:04.593Z"
   },
   {
    "duration": 3,
    "start_time": "2024-10-09T18:52:04.600Z"
   },
   {
    "duration": 8,
    "start_time": "2024-10-09T18:52:04.625Z"
   },
   {
    "duration": 3,
    "start_time": "2024-10-09T18:52:04.635Z"
   },
   {
    "duration": 899,
    "start_time": "2024-10-09T18:52:04.640Z"
   },
   {
    "duration": 791,
    "start_time": "2024-10-09T18:52:05.541Z"
   },
   {
    "duration": 13,
    "start_time": "2024-10-09T18:52:06.333Z"
   },
   {
    "duration": 6,
    "start_time": "2024-10-09T18:52:06.347Z"
   },
   {
    "duration": 6,
    "start_time": "2024-10-09T18:52:06.355Z"
   },
   {
    "duration": 7,
    "start_time": "2024-10-09T18:52:06.363Z"
   },
   {
    "duration": 8,
    "start_time": "2024-10-09T18:52:06.372Z"
   },
   {
    "duration": 17,
    "start_time": "2024-10-09T18:52:06.420Z"
   },
   {
    "duration": 41,
    "start_time": "2024-10-09T18:52:06.439Z"
   },
   {
    "duration": 16,
    "start_time": "2024-10-09T18:52:06.483Z"
   },
   {
    "duration": 46,
    "start_time": "2024-10-09T18:52:06.500Z"
   },
   {
    "duration": 17,
    "start_time": "2024-10-09T18:52:06.548Z"
   },
   {
    "duration": 21,
    "start_time": "2024-10-09T18:52:06.567Z"
   },
   {
    "duration": 59,
    "start_time": "2024-10-09T18:52:06.589Z"
   },
   {
    "duration": 26,
    "start_time": "2024-10-09T18:52:06.650Z"
   },
   {
    "duration": 58,
    "start_time": "2024-10-09T18:52:06.678Z"
   },
   {
    "duration": 196,
    "start_time": "2024-10-09T18:52:06.738Z"
   },
   {
    "duration": 123,
    "start_time": "2024-10-09T18:52:06.935Z"
   },
   {
    "duration": 285,
    "start_time": "2024-10-09T18:52:07.060Z"
   },
   {
    "duration": 235,
    "start_time": "2024-10-09T18:52:07.347Z"
   },
   {
    "duration": 163,
    "start_time": "2024-10-09T18:52:07.587Z"
   },
   {
    "duration": 10,
    "start_time": "2024-10-09T18:52:07.752Z"
   },
   {
    "duration": 1118,
    "start_time": "2024-10-09T18:52:07.764Z"
   },
   {
    "duration": 249,
    "start_time": "2024-10-09T18:52:08.884Z"
   },
   {
    "duration": 1594,
    "start_time": "2024-10-09T18:52:09.135Z"
   },
   {
    "duration": 231,
    "start_time": "2024-10-09T18:52:10.730Z"
   },
   {
    "duration": 137,
    "start_time": "2024-10-09T18:52:10.963Z"
   },
   {
    "duration": 468,
    "start_time": "2024-10-09T18:52:11.102Z"
   },
   {
    "duration": 273,
    "start_time": "2024-10-09T18:52:11.572Z"
   },
   {
    "duration": 268,
    "start_time": "2024-10-09T18:53:24.072Z"
   },
   {
    "duration": 294,
    "start_time": "2024-10-09T18:53:24.342Z"
   },
   {
    "duration": 443,
    "start_time": "2024-10-09T18:54:02.885Z"
   },
   {
    "duration": 998,
    "start_time": "2024-10-09T18:54:03.335Z"
   },
   {
    "duration": 17,
    "start_time": "2024-10-09T18:54:04.334Z"
   },
   {
    "duration": 13,
    "start_time": "2024-10-09T18:54:04.354Z"
   },
   {
    "duration": 11,
    "start_time": "2024-10-09T18:54:04.369Z"
   },
   {
    "duration": 11,
    "start_time": "2024-10-09T18:54:04.382Z"
   },
   {
    "duration": 11,
    "start_time": "2024-10-09T18:54:04.417Z"
   },
   {
    "duration": 223,
    "start_time": "2024-10-09T18:54:04.430Z"
   },
   {
    "duration": 11,
    "start_time": "2024-10-09T18:54:04.655Z"
   },
   {
    "duration": 158,
    "start_time": "2024-10-09T18:54:04.670Z"
   },
   {
    "duration": 104,
    "start_time": "2024-10-09T18:54:04.837Z"
   },
   {
    "duration": 32,
    "start_time": "2024-10-09T18:54:04.943Z"
   },
   {
    "duration": 13,
    "start_time": "2024-10-09T18:54:04.977Z"
   },
   {
    "duration": 3,
    "start_time": "2024-10-09T18:54:04.991Z"
   },
   {
    "duration": 31,
    "start_time": "2024-10-09T18:54:05.009Z"
   },
   {
    "duration": 24,
    "start_time": "2024-10-09T18:54:05.042Z"
   },
   {
    "duration": 5,
    "start_time": "2024-10-09T18:54:05.067Z"
   },
   {
    "duration": 3,
    "start_time": "2024-10-09T18:54:05.074Z"
   },
   {
    "duration": 33,
    "start_time": "2024-10-09T18:54:05.079Z"
   },
   {
    "duration": 9,
    "start_time": "2024-10-09T18:54:05.113Z"
   },
   {
    "duration": 863,
    "start_time": "2024-10-09T18:54:05.124Z"
   },
   {
    "duration": 769,
    "start_time": "2024-10-09T18:54:05.989Z"
   },
   {
    "duration": 8,
    "start_time": "2024-10-09T18:54:06.760Z"
   },
   {
    "duration": 5,
    "start_time": "2024-10-09T18:54:06.771Z"
   },
   {
    "duration": 5,
    "start_time": "2024-10-09T18:54:06.778Z"
   },
   {
    "duration": 21,
    "start_time": "2024-10-09T18:54:06.812Z"
   },
   {
    "duration": 8,
    "start_time": "2024-10-09T18:54:06.835Z"
   },
   {
    "duration": 5,
    "start_time": "2024-10-09T18:54:06.847Z"
   },
   {
    "duration": 40,
    "start_time": "2024-10-09T18:54:06.854Z"
   },
   {
    "duration": 36,
    "start_time": "2024-10-09T18:54:06.896Z"
   },
   {
    "duration": 39,
    "start_time": "2024-10-09T18:54:06.933Z"
   },
   {
    "duration": 16,
    "start_time": "2024-10-09T18:54:06.975Z"
   },
   {
    "duration": 36,
    "start_time": "2024-10-09T18:54:06.993Z"
   },
   {
    "duration": 42,
    "start_time": "2024-10-09T18:54:07.031Z"
   },
   {
    "duration": 61,
    "start_time": "2024-10-09T18:54:07.075Z"
   },
   {
    "duration": 19,
    "start_time": "2024-10-09T18:54:07.138Z"
   },
   {
    "duration": 226,
    "start_time": "2024-10-09T18:54:07.158Z"
   },
   {
    "duration": 151,
    "start_time": "2024-10-09T18:54:07.386Z"
   },
   {
    "duration": 239,
    "start_time": "2024-10-09T18:54:07.539Z"
   },
   {
    "duration": 259,
    "start_time": "2024-10-09T18:54:07.781Z"
   },
   {
    "duration": 151,
    "start_time": "2024-10-09T18:54:08.041Z"
   },
   {
    "duration": 19,
    "start_time": "2024-10-09T18:54:08.194Z"
   },
   {
    "duration": 1083,
    "start_time": "2024-10-09T18:54:08.214Z"
   },
   {
    "duration": 243,
    "start_time": "2024-10-09T18:54:09.298Z"
   },
   {
    "duration": 1616,
    "start_time": "2024-10-09T18:54:09.543Z"
   },
   {
    "duration": 240,
    "start_time": "2024-10-09T18:54:11.161Z"
   },
   {
    "duration": 140,
    "start_time": "2024-10-09T18:54:11.403Z"
   },
   {
    "duration": 487,
    "start_time": "2024-10-09T18:54:11.545Z"
   },
   {
    "duration": 216,
    "start_time": "2024-10-09T18:54:12.035Z"
   },
   {
    "duration": 462,
    "start_time": "2024-10-09T18:54:12.253Z"
   },
   {
    "duration": 120,
    "start_time": "2024-10-09T18:54:12.716Z"
   },
   {
    "duration": 172,
    "start_time": "2024-10-09T18:54:12.840Z"
   },
   {
    "duration": 246,
    "start_time": "2024-10-09T18:54:13.016Z"
   },
   {
    "duration": 236,
    "start_time": "2024-10-09T18:54:13.264Z"
   },
   {
    "duration": 467,
    "start_time": "2024-10-09T18:56:20.078Z"
   },
   {
    "duration": 1014,
    "start_time": "2024-10-09T18:56:20.547Z"
   },
   {
    "duration": 22,
    "start_time": "2024-10-09T18:56:21.563Z"
   },
   {
    "duration": 48,
    "start_time": "2024-10-09T18:56:21.589Z"
   },
   {
    "duration": 16,
    "start_time": "2024-10-09T18:56:21.639Z"
   },
   {
    "duration": 13,
    "start_time": "2024-10-09T18:56:21.657Z"
   },
   {
    "duration": 15,
    "start_time": "2024-10-09T18:56:21.673Z"
   },
   {
    "duration": 259,
    "start_time": "2024-10-09T18:56:21.690Z"
   },
   {
    "duration": 12,
    "start_time": "2024-10-09T18:56:21.951Z"
   },
   {
    "duration": 161,
    "start_time": "2024-10-09T18:56:21.967Z"
   },
   {
    "duration": 103,
    "start_time": "2024-10-09T18:56:22.137Z"
   },
   {
    "duration": 33,
    "start_time": "2024-10-09T18:56:22.242Z"
   },
   {
    "duration": 14,
    "start_time": "2024-10-09T18:56:22.277Z"
   },
   {
    "duration": 35,
    "start_time": "2024-10-09T18:56:22.293Z"
   },
   {
    "duration": 28,
    "start_time": "2024-10-09T18:56:22.333Z"
   },
   {
    "duration": 24,
    "start_time": "2024-10-09T18:56:22.363Z"
   },
   {
    "duration": 4,
    "start_time": "2024-10-09T18:56:22.389Z"
   },
   {
    "duration": 3,
    "start_time": "2024-10-09T18:56:22.395Z"
   },
   {
    "duration": 32,
    "start_time": "2024-10-09T18:56:22.400Z"
   },
   {
    "duration": 4,
    "start_time": "2024-10-09T18:56:22.434Z"
   },
   {
    "duration": 918,
    "start_time": "2024-10-09T18:56:22.440Z"
   },
   {
    "duration": 839,
    "start_time": "2024-10-09T18:56:23.359Z"
   },
   {
    "duration": 32,
    "start_time": "2024-10-09T18:56:24.200Z"
   },
   {
    "duration": 6,
    "start_time": "2024-10-09T18:56:24.243Z"
   },
   {
    "duration": 6,
    "start_time": "2024-10-09T18:56:24.251Z"
   },
   {
    "duration": 7,
    "start_time": "2024-10-09T18:56:24.259Z"
   },
   {
    "duration": 8,
    "start_time": "2024-10-09T18:56:24.268Z"
   },
   {
    "duration": 6,
    "start_time": "2024-10-09T18:56:24.281Z"
   },
   {
    "duration": 67,
    "start_time": "2024-10-09T18:56:24.289Z"
   },
   {
    "duration": 19,
    "start_time": "2024-10-09T18:56:24.358Z"
   },
   {
    "duration": 57,
    "start_time": "2024-10-09T18:56:24.379Z"
   },
   {
    "duration": 15,
    "start_time": "2024-10-09T18:56:24.439Z"
   },
   {
    "duration": 22,
    "start_time": "2024-10-09T18:56:24.456Z"
   },
   {
    "duration": 61,
    "start_time": "2024-10-09T18:56:24.480Z"
   },
   {
    "duration": 30,
    "start_time": "2024-10-09T18:56:24.543Z"
   },
   {
    "duration": 53,
    "start_time": "2024-10-09T18:56:24.575Z"
   },
   {
    "duration": 211,
    "start_time": "2024-10-09T18:56:24.629Z"
   },
   {
    "duration": 139,
    "start_time": "2024-10-09T18:56:24.842Z"
   },
   {
    "duration": 254,
    "start_time": "2024-10-09T18:56:24.985Z"
   },
   {
    "duration": 245,
    "start_time": "2024-10-09T18:56:25.241Z"
   },
   {
    "duration": 155,
    "start_time": "2024-10-09T18:56:25.488Z"
   },
   {
    "duration": 12,
    "start_time": "2024-10-09T18:56:25.645Z"
   },
   {
    "duration": 1119,
    "start_time": "2024-10-09T18:56:25.658Z"
   },
   {
    "duration": 257,
    "start_time": "2024-10-09T18:56:26.778Z"
   },
   {
    "duration": 1660,
    "start_time": "2024-10-09T18:56:27.037Z"
   },
   {
    "duration": 244,
    "start_time": "2024-10-09T18:56:28.698Z"
   },
   {
    "duration": 142,
    "start_time": "2024-10-09T18:56:28.944Z"
   },
   {
    "duration": 488,
    "start_time": "2024-10-09T18:56:29.088Z"
   },
   {
    "duration": 220,
    "start_time": "2024-10-09T18:56:29.577Z"
   },
   {
    "duration": 504,
    "start_time": "2024-10-09T18:56:29.799Z"
   },
   {
    "duration": 523,
    "start_time": "2024-10-09T18:56:30.312Z"
   },
   {
    "duration": 0,
    "start_time": "2024-10-09T18:56:30.837Z"
   },
   {
    "duration": 0,
    "start_time": "2024-10-09T18:56:30.840Z"
   },
   {
    "duration": 0,
    "start_time": "2024-10-09T18:56:30.841Z"
   },
   {
    "duration": 476,
    "start_time": "2024-10-09T18:57:55.785Z"
   },
   {
    "duration": 988,
    "start_time": "2024-10-09T18:57:56.264Z"
   },
   {
    "duration": 17,
    "start_time": "2024-10-09T18:57:57.254Z"
   },
   {
    "duration": 22,
    "start_time": "2024-10-09T18:57:57.273Z"
   },
   {
    "duration": 36,
    "start_time": "2024-10-09T18:57:57.318Z"
   },
   {
    "duration": 13,
    "start_time": "2024-10-09T18:57:57.355Z"
   },
   {
    "duration": 11,
    "start_time": "2024-10-09T18:57:57.370Z"
   },
   {
    "duration": 222,
    "start_time": "2024-10-09T18:57:57.383Z"
   },
   {
    "duration": 21,
    "start_time": "2024-10-09T18:57:57.606Z"
   },
   {
    "duration": 130,
    "start_time": "2024-10-09T18:57:57.629Z"
   },
   {
    "duration": 102,
    "start_time": "2024-10-09T18:57:57.760Z"
   },
   {
    "duration": 29,
    "start_time": "2024-10-09T18:57:57.864Z"
   },
   {
    "duration": 29,
    "start_time": "2024-10-09T18:57:57.895Z"
   },
   {
    "duration": 5,
    "start_time": "2024-10-09T18:57:57.927Z"
   },
   {
    "duration": 30,
    "start_time": "2024-10-09T18:57:57.934Z"
   },
   {
    "duration": 23,
    "start_time": "2024-10-09T18:57:57.966Z"
   },
   {
    "duration": 4,
    "start_time": "2024-10-09T18:57:57.991Z"
   },
   {
    "duration": 15,
    "start_time": "2024-10-09T18:57:58.021Z"
   },
   {
    "duration": 4,
    "start_time": "2024-10-09T18:57:58.037Z"
   },
   {
    "duration": 3,
    "start_time": "2024-10-09T18:57:58.043Z"
   },
   {
    "duration": 910,
    "start_time": "2024-10-09T18:57:58.047Z"
   },
   {
    "duration": 781,
    "start_time": "2024-10-09T18:57:58.959Z"
   },
   {
    "duration": 9,
    "start_time": "2024-10-09T18:57:59.741Z"
   },
   {
    "duration": 9,
    "start_time": "2024-10-09T18:57:59.752Z"
   },
   {
    "duration": 6,
    "start_time": "2024-10-09T18:57:59.763Z"
   },
   {
    "duration": 8,
    "start_time": "2024-10-09T18:57:59.771Z"
   },
   {
    "duration": 51,
    "start_time": "2024-10-09T18:57:59.781Z"
   },
   {
    "duration": 5,
    "start_time": "2024-10-09T18:57:59.837Z"
   },
   {
    "duration": 42,
    "start_time": "2024-10-09T18:57:59.844Z"
   },
   {
    "duration": 17,
    "start_time": "2024-10-09T18:57:59.887Z"
   },
   {
    "duration": 48,
    "start_time": "2024-10-09T18:57:59.906Z"
   },
   {
    "duration": 16,
    "start_time": "2024-10-09T18:57:59.956Z"
   },
   {
    "duration": 22,
    "start_time": "2024-10-09T18:57:59.973Z"
   },
   {
    "duration": 61,
    "start_time": "2024-10-09T18:57:59.997Z"
   },
   {
    "duration": 29,
    "start_time": "2024-10-09T18:58:00.060Z"
   },
   {
    "duration": 35,
    "start_time": "2024-10-09T18:58:00.090Z"
   },
   {
    "duration": 210,
    "start_time": "2024-10-09T18:58:00.126Z"
   },
   {
    "duration": 136,
    "start_time": "2024-10-09T18:58:00.338Z"
   },
   {
    "duration": 262,
    "start_time": "2024-10-09T18:58:00.476Z"
   },
   {
    "duration": 236,
    "start_time": "2024-10-09T18:58:00.740Z"
   },
   {
    "duration": 158,
    "start_time": "2024-10-09T18:58:00.980Z"
   },
   {
    "duration": 10,
    "start_time": "2024-10-09T18:58:01.141Z"
   },
   {
    "duration": 1094,
    "start_time": "2024-10-09T18:58:01.153Z"
   },
   {
    "duration": 241,
    "start_time": "2024-10-09T18:58:02.248Z"
   },
   {
    "duration": 1512,
    "start_time": "2024-10-09T18:58:02.491Z"
   },
   {
    "duration": 252,
    "start_time": "2024-10-09T18:58:04.005Z"
   },
   {
    "duration": 136,
    "start_time": "2024-10-09T18:58:04.259Z"
   },
   {
    "duration": 482,
    "start_time": "2024-10-09T18:58:04.396Z"
   },
   {
    "duration": 294,
    "start_time": "2024-10-09T18:58:04.879Z"
   },
   {
    "duration": 467,
    "start_time": "2024-10-09T18:58:05.174Z"
   },
   {
    "duration": 495,
    "start_time": "2024-10-09T18:58:37.058Z"
   },
   {
    "duration": 1027,
    "start_time": "2024-10-09T18:58:37.555Z"
   },
   {
    "duration": 36,
    "start_time": "2024-10-09T18:58:38.584Z"
   },
   {
    "duration": 15,
    "start_time": "2024-10-09T18:58:38.633Z"
   },
   {
    "duration": 11,
    "start_time": "2024-10-09T18:58:38.650Z"
   },
   {
    "duration": 11,
    "start_time": "2024-10-09T18:58:38.663Z"
   },
   {
    "duration": 11,
    "start_time": "2024-10-09T18:58:38.675Z"
   },
   {
    "duration": 229,
    "start_time": "2024-10-09T18:58:38.687Z"
   },
   {
    "duration": 11,
    "start_time": "2024-10-09T18:58:38.936Z"
   },
   {
    "duration": 132,
    "start_time": "2024-10-09T18:58:38.950Z"
   },
   {
    "duration": 103,
    "start_time": "2024-10-09T18:58:39.084Z"
   },
   {
    "duration": 43,
    "start_time": "2024-10-09T18:58:39.189Z"
   },
   {
    "duration": 19,
    "start_time": "2024-10-09T18:58:39.233Z"
   },
   {
    "duration": 4,
    "start_time": "2024-10-09T18:58:39.254Z"
   },
   {
    "duration": 30,
    "start_time": "2024-10-09T18:58:39.260Z"
   },
   {
    "duration": 40,
    "start_time": "2024-10-09T18:58:39.292Z"
   },
   {
    "duration": 5,
    "start_time": "2024-10-09T18:58:39.333Z"
   },
   {
    "duration": 3,
    "start_time": "2024-10-09T18:58:39.339Z"
   },
   {
    "duration": 4,
    "start_time": "2024-10-09T18:58:39.344Z"
   },
   {
    "duration": 4,
    "start_time": "2024-10-09T18:58:39.349Z"
   },
   {
    "duration": 880,
    "start_time": "2024-10-09T18:58:39.354Z"
   },
   {
    "duration": 790,
    "start_time": "2024-10-09T18:58:40.238Z"
   },
   {
    "duration": 9,
    "start_time": "2024-10-09T18:58:41.032Z"
   },
   {
    "duration": 5,
    "start_time": "2024-10-09T18:58:41.043Z"
   },
   {
    "duration": 4,
    "start_time": "2024-10-09T18:58:41.050Z"
   },
   {
    "duration": 6,
    "start_time": "2024-10-09T18:58:41.056Z"
   },
   {
    "duration": 7,
    "start_time": "2024-10-09T18:58:41.063Z"
   },
   {
    "duration": 6,
    "start_time": "2024-10-09T18:58:41.075Z"
   },
   {
    "duration": 69,
    "start_time": "2024-10-09T18:58:41.083Z"
   },
   {
    "duration": 17,
    "start_time": "2024-10-09T18:58:41.154Z"
   },
   {
    "duration": 63,
    "start_time": "2024-10-09T18:58:41.173Z"
   },
   {
    "duration": 16,
    "start_time": "2024-10-09T18:58:41.241Z"
   },
   {
    "duration": 22,
    "start_time": "2024-10-09T18:58:41.259Z"
   },
   {
    "duration": 55,
    "start_time": "2024-10-09T18:58:41.283Z"
   },
   {
    "duration": 27,
    "start_time": "2024-10-09T18:58:41.340Z"
   },
   {
    "duration": 19,
    "start_time": "2024-10-09T18:58:41.369Z"
   },
   {
    "duration": 248,
    "start_time": "2024-10-09T18:58:41.390Z"
   },
   {
    "duration": 123,
    "start_time": "2024-10-09T18:58:41.640Z"
   },
   {
    "duration": 247,
    "start_time": "2024-10-09T18:58:41.765Z"
   },
   {
    "duration": 255,
    "start_time": "2024-10-09T18:58:42.029Z"
   },
   {
    "duration": 152,
    "start_time": "2024-10-09T18:58:42.286Z"
   },
   {
    "duration": 10,
    "start_time": "2024-10-09T18:58:42.441Z"
   },
   {
    "duration": 1083,
    "start_time": "2024-10-09T18:58:42.453Z"
   },
   {
    "duration": 232,
    "start_time": "2024-10-09T18:58:43.537Z"
   },
   {
    "duration": 1602,
    "start_time": "2024-10-09T18:58:43.771Z"
   },
   {
    "duration": 235,
    "start_time": "2024-10-09T18:58:45.375Z"
   },
   {
    "duration": 136,
    "start_time": "2024-10-09T18:58:45.615Z"
   },
   {
    "duration": 485,
    "start_time": "2024-10-09T18:58:45.753Z"
   },
   {
    "duration": 207,
    "start_time": "2024-10-09T18:58:46.240Z"
   },
   {
    "duration": 445,
    "start_time": "2024-10-09T18:58:46.449Z"
   },
   {
    "duration": 116,
    "start_time": "2024-10-09T18:58:46.897Z"
   },
   {
    "duration": 275,
    "start_time": "2024-10-09T18:58:47.016Z"
   },
   {
    "duration": 288,
    "start_time": "2024-10-09T18:58:47.293Z"
   },
   {
    "duration": 4,
    "start_time": "2024-10-09T18:58:47.583Z"
   },
   {
    "duration": 126,
    "start_time": "2024-10-09T18:59:24.745Z"
   },
   {
    "duration": 154,
    "start_time": "2024-10-09T19:11:06.489Z"
   },
   {
    "duration": 146,
    "start_time": "2024-10-09T19:11:15.824Z"
   },
   {
    "duration": 208,
    "start_time": "2024-10-09T19:11:38.033Z"
   },
   {
    "duration": 2198,
    "start_time": "2024-10-09T21:14:35.099Z"
   },
   {
    "duration": 1003,
    "start_time": "2024-10-09T21:14:37.299Z"
   },
   {
    "duration": 18,
    "start_time": "2024-10-09T21:14:38.304Z"
   },
   {
    "duration": 12,
    "start_time": "2024-10-09T21:14:38.325Z"
   },
   {
    "duration": 32,
    "start_time": "2024-10-09T21:14:38.339Z"
   },
   {
    "duration": 11,
    "start_time": "2024-10-09T21:14:38.373Z"
   },
   {
    "duration": 10,
    "start_time": "2024-10-09T21:14:38.385Z"
   },
   {
    "duration": 208,
    "start_time": "2024-10-09T21:14:38.397Z"
   },
   {
    "duration": 10,
    "start_time": "2024-10-09T21:14:38.607Z"
   },
   {
    "duration": 116,
    "start_time": "2024-10-09T21:14:38.620Z"
   },
   {
    "duration": 95,
    "start_time": "2024-10-09T21:14:38.738Z"
   },
   {
    "duration": 35,
    "start_time": "2024-10-09T21:14:38.835Z"
   },
   {
    "duration": 14,
    "start_time": "2024-10-09T21:14:38.872Z"
   },
   {
    "duration": 3,
    "start_time": "2024-10-09T21:14:38.888Z"
   },
   {
    "duration": 23,
    "start_time": "2024-10-09T21:14:38.893Z"
   },
   {
    "duration": 20,
    "start_time": "2024-10-09T21:14:38.917Z"
   },
   {
    "duration": 5,
    "start_time": "2024-10-09T21:14:38.970Z"
   },
   {
    "duration": 3,
    "start_time": "2024-10-09T21:14:38.976Z"
   },
   {
    "duration": 4,
    "start_time": "2024-10-09T21:14:38.981Z"
   },
   {
    "duration": 3,
    "start_time": "2024-10-09T21:14:38.989Z"
   },
   {
    "duration": 785,
    "start_time": "2024-10-09T21:14:38.994Z"
   },
   {
    "duration": 678,
    "start_time": "2024-10-09T21:14:39.781Z"
   },
   {
    "duration": 11,
    "start_time": "2024-10-09T21:14:40.461Z"
   },
   {
    "duration": 5,
    "start_time": "2024-10-09T21:14:40.474Z"
   },
   {
    "duration": 6,
    "start_time": "2024-10-09T21:14:40.480Z"
   },
   {
    "duration": 6,
    "start_time": "2024-10-09T21:14:40.488Z"
   },
   {
    "duration": 7,
    "start_time": "2024-10-09T21:14:40.496Z"
   },
   {
    "duration": 6,
    "start_time": "2024-10-09T21:14:40.507Z"
   },
   {
    "duration": 79,
    "start_time": "2024-10-09T21:14:40.514Z"
   },
   {
    "duration": 14,
    "start_time": "2024-10-09T21:14:40.595Z"
   },
   {
    "duration": 30,
    "start_time": "2024-10-09T21:14:40.611Z"
   },
   {
    "duration": 30,
    "start_time": "2024-10-09T21:14:40.643Z"
   },
   {
    "duration": 21,
    "start_time": "2024-10-09T21:14:40.676Z"
   },
   {
    "duration": 38,
    "start_time": "2024-10-09T21:14:40.698Z"
   },
   {
    "duration": 53,
    "start_time": "2024-10-09T21:14:40.738Z"
   },
   {
    "duration": 18,
    "start_time": "2024-10-09T21:14:40.792Z"
   },
   {
    "duration": 199,
    "start_time": "2024-10-09T21:14:40.811Z"
   },
   {
    "duration": 162,
    "start_time": "2024-10-09T21:14:41.012Z"
   },
   {
    "duration": 241,
    "start_time": "2024-10-09T21:14:41.176Z"
   },
   {
    "duration": 220,
    "start_time": "2024-10-09T21:14:41.418Z"
   },
   {
    "duration": 145,
    "start_time": "2024-10-09T21:14:41.640Z"
   },
   {
    "duration": 11,
    "start_time": "2024-10-09T21:14:41.786Z"
   },
   {
    "duration": 996,
    "start_time": "2024-10-09T21:14:41.798Z"
   },
   {
    "duration": 231,
    "start_time": "2024-10-09T21:14:42.796Z"
   },
   {
    "duration": 1381,
    "start_time": "2024-10-09T21:14:43.029Z"
   },
   {
    "duration": 231,
    "start_time": "2024-10-09T21:14:44.412Z"
   },
   {
    "duration": 129,
    "start_time": "2024-10-09T21:14:44.645Z"
   },
   {
    "duration": 445,
    "start_time": "2024-10-09T21:14:44.776Z"
   },
   {
    "duration": 201,
    "start_time": "2024-10-09T21:14:45.223Z"
   },
   {
    "duration": 437,
    "start_time": "2024-10-09T21:14:45.426Z"
   },
   {
    "duration": 107,
    "start_time": "2024-10-09T21:14:45.866Z"
   },
   {
    "duration": 223,
    "start_time": "2024-10-09T21:14:45.975Z"
   },
   {
    "duration": 235,
    "start_time": "2024-10-09T21:14:46.199Z"
   },
   {
    "duration": 5,
    "start_time": "2024-10-09T21:20:34.790Z"
   },
   {
    "duration": 4,
    "start_time": "2024-10-09T21:34:41.896Z"
   },
   {
    "duration": 216,
    "start_time": "2024-10-09T22:23:47.472Z"
   },
   {
    "duration": 12,
    "start_time": "2024-10-09T22:24:25.474Z"
   },
   {
    "duration": 2197,
    "start_time": "2024-10-09T22:24:28.846Z"
   },
   {
    "duration": 1101,
    "start_time": "2024-10-09T22:24:32.033Z"
   },
   {
    "duration": 33,
    "start_time": "2024-10-09T22:24:35.649Z"
   },
   {
    "duration": 21,
    "start_time": "2024-10-09T22:24:50.366Z"
   },
   {
    "duration": 7,
    "start_time": "2024-10-09T22:25:49.484Z"
   },
   {
    "duration": 20,
    "start_time": "2024-10-09T22:26:01.822Z"
   },
   {
    "duration": 14,
    "start_time": "2024-10-09T22:26:14.267Z"
   },
   {
    "duration": 13,
    "start_time": "2024-10-09T22:26:46.965Z"
   },
   {
    "duration": 34,
    "start_time": "2024-10-09T22:27:07.223Z"
   },
   {
    "duration": 36,
    "start_time": "2024-10-09T22:27:21.033Z"
   },
   {
    "duration": 37,
    "start_time": "2024-10-09T22:27:36.291Z"
   },
   {
    "duration": 169,
    "start_time": "2024-10-09T22:30:01.550Z"
   },
   {
    "duration": 161,
    "start_time": "2024-10-09T22:30:08.494Z"
   },
   {
    "duration": 165,
    "start_time": "2024-10-09T22:30:14.514Z"
   },
   {
    "duration": 44,
    "start_time": "2024-10-09T22:31:56.881Z"
   },
   {
    "duration": 443,
    "start_time": "2024-10-09T22:32:30.329Z"
   },
   {
    "duration": 899,
    "start_time": "2024-10-09T22:32:30.774Z"
   },
   {
    "duration": 17,
    "start_time": "2024-10-09T22:32:31.675Z"
   },
   {
    "duration": 10,
    "start_time": "2024-10-09T22:32:31.694Z"
   },
   {
    "duration": 26,
    "start_time": "2024-10-09T22:32:31.706Z"
   },
   {
    "duration": 26,
    "start_time": "2024-10-09T22:32:31.734Z"
   },
   {
    "duration": 27,
    "start_time": "2024-10-09T22:32:31.762Z"
   },
   {
    "duration": 186,
    "start_time": "2024-10-09T22:32:31.791Z"
   },
   {
    "duration": 11,
    "start_time": "2024-10-09T22:32:31.978Z"
   },
   {
    "duration": 100,
    "start_time": "2024-10-09T22:32:31.992Z"
   },
   {
    "duration": 82,
    "start_time": "2024-10-09T22:32:32.094Z"
   },
   {
    "duration": 25,
    "start_time": "2024-10-09T22:32:32.178Z"
   },
   {
    "duration": 24,
    "start_time": "2024-10-09T22:32:32.205Z"
   },
   {
    "duration": 3,
    "start_time": "2024-10-09T22:32:32.231Z"
   },
   {
    "duration": 22,
    "start_time": "2024-10-09T22:32:32.236Z"
   },
   {
    "duration": 20,
    "start_time": "2024-10-09T22:32:32.260Z"
   },
   {
    "duration": 4,
    "start_time": "2024-10-09T22:32:32.282Z"
   },
   {
    "duration": 36,
    "start_time": "2024-10-09T22:32:32.288Z"
   },
   {
    "duration": 3,
    "start_time": "2024-10-09T22:32:32.326Z"
   },
   {
    "duration": 3,
    "start_time": "2024-10-09T22:32:32.331Z"
   },
   {
    "duration": 756,
    "start_time": "2024-10-09T22:32:32.336Z"
   },
   {
    "duration": 663,
    "start_time": "2024-10-09T22:32:33.094Z"
   },
   {
    "duration": 7,
    "start_time": "2024-10-09T22:32:33.759Z"
   },
   {
    "duration": 7,
    "start_time": "2024-10-09T22:32:33.767Z"
   },
   {
    "duration": 5,
    "start_time": "2024-10-09T22:32:33.776Z"
   },
   {
    "duration": 6,
    "start_time": "2024-10-09T22:32:33.782Z"
   },
   {
    "duration": 6,
    "start_time": "2024-10-09T22:32:33.790Z"
   },
   {
    "duration": 7,
    "start_time": "2024-10-09T22:32:33.825Z"
   },
   {
    "duration": 46,
    "start_time": "2024-10-09T22:32:33.833Z"
   },
   {
    "duration": 17,
    "start_time": "2024-10-09T22:32:33.881Z"
   },
   {
    "duration": 50,
    "start_time": "2024-10-09T22:32:33.899Z"
   },
   {
    "duration": 13,
    "start_time": "2024-10-09T22:32:33.951Z"
   },
   {
    "duration": 21,
    "start_time": "2024-10-09T22:32:33.966Z"
   },
   {
    "duration": 62,
    "start_time": "2024-10-09T22:32:33.989Z"
   },
   {
    "duration": 26,
    "start_time": "2024-10-09T22:32:34.053Z"
   },
   {
    "duration": 17,
    "start_time": "2024-10-09T22:32:34.081Z"
   },
   {
    "duration": 202,
    "start_time": "2024-10-09T22:32:34.100Z"
   },
   {
    "duration": 121,
    "start_time": "2024-10-09T22:32:34.304Z"
   },
   {
    "duration": 220,
    "start_time": "2024-10-09T22:32:34.427Z"
   },
   {
    "duration": 223,
    "start_time": "2024-10-09T22:32:34.650Z"
   },
   {
    "duration": 164,
    "start_time": "2024-10-09T22:32:34.875Z"
   },
   {
    "duration": 9,
    "start_time": "2024-10-09T22:32:35.041Z"
   },
   {
    "duration": 972,
    "start_time": "2024-10-09T22:32:35.052Z"
   },
   {
    "duration": 227,
    "start_time": "2024-10-09T22:32:36.026Z"
   },
   {
    "duration": 1281,
    "start_time": "2024-10-09T22:32:36.255Z"
   },
   {
    "duration": 208,
    "start_time": "2024-10-09T22:32:37.538Z"
   },
   {
    "duration": 150,
    "start_time": "2024-10-09T22:32:37.748Z"
   },
   {
    "duration": 440,
    "start_time": "2024-10-09T22:32:37.900Z"
   },
   {
    "duration": 247,
    "start_time": "2024-10-09T22:32:38.342Z"
   },
   {
    "duration": 426,
    "start_time": "2024-10-09T22:32:38.591Z"
   },
   {
    "duration": 107,
    "start_time": "2024-10-09T22:32:39.018Z"
   },
   {
    "duration": 224,
    "start_time": "2024-10-09T22:32:39.127Z"
   },
   {
    "duration": 216,
    "start_time": "2024-10-09T22:32:39.353Z"
   },
   {
    "duration": 137,
    "start_time": "2024-10-09T22:32:54.376Z"
   },
   {
    "duration": 138,
    "start_time": "2024-10-09T22:33:41.389Z"
   },
   {
    "duration": 121,
    "start_time": "2024-10-09T22:33:46.610Z"
   },
   {
    "duration": 134,
    "start_time": "2024-10-09T22:33:51.942Z"
   },
   {
    "duration": 162,
    "start_time": "2024-10-09T22:33:56.104Z"
   },
   {
    "duration": 136,
    "start_time": "2024-10-09T22:34:01.252Z"
   },
   {
    "duration": 147,
    "start_time": "2024-10-09T22:34:16.630Z"
   },
   {
    "duration": 149,
    "start_time": "2024-10-09T22:35:43.089Z"
   },
   {
    "duration": 189,
    "start_time": "2024-10-09T22:36:13.245Z"
   },
   {
    "duration": 153,
    "start_time": "2024-10-09T22:36:19.208Z"
   },
   {
    "duration": 140,
    "start_time": "2024-10-09T22:36:34.160Z"
   },
   {
    "duration": 559,
    "start_time": "2024-10-09T22:52:51.056Z"
   },
   {
    "duration": 421,
    "start_time": "2024-10-09T22:53:35.269Z"
   },
   {
    "duration": 41,
    "start_time": "2024-10-09T22:53:57.364Z"
   },
   {
    "duration": 4,
    "start_time": "2024-10-09T22:54:50.394Z"
   },
   {
    "duration": 44,
    "start_time": "2024-10-09T22:55:37.603Z"
   },
   {
    "duration": 193,
    "start_time": "2024-10-09T22:56:13.456Z"
   },
   {
    "duration": 36,
    "start_time": "2024-10-09T22:57:29.934Z"
   },
   {
    "duration": 422,
    "start_time": "2024-10-09T22:59:25.022Z"
   },
   {
    "duration": 190,
    "start_time": "2024-10-09T22:59:28.863Z"
   },
   {
    "duration": 143,
    "start_time": "2024-10-09T23:00:55.165Z"
   },
   {
    "duration": 209,
    "start_time": "2024-10-09T23:01:28.864Z"
   },
   {
    "duration": 131,
    "start_time": "2024-10-09T23:01:35.064Z"
   },
   {
    "duration": 133,
    "start_time": "2024-10-09T23:01:42.426Z"
   },
   {
    "duration": 137,
    "start_time": "2024-10-09T23:01:52.627Z"
   },
   {
    "duration": 151,
    "start_time": "2024-10-09T23:03:14.945Z"
   },
   {
    "duration": 129,
    "start_time": "2024-10-09T23:03:20.631Z"
   },
   {
    "duration": 193,
    "start_time": "2024-10-09T23:09:48.493Z"
   },
   {
    "duration": 192,
    "start_time": "2024-10-09T23:09:53.421Z"
   },
   {
    "duration": 322,
    "start_time": "2024-10-09T23:11:55.977Z"
   },
   {
    "duration": 295,
    "start_time": "2024-10-09T23:12:05.894Z"
   },
   {
    "duration": 376,
    "start_time": "2024-10-09T23:12:32.453Z"
   },
   {
    "duration": 291,
    "start_time": "2024-10-09T23:12:48.807Z"
   },
   {
    "duration": 313,
    "start_time": "2024-10-09T23:12:57.993Z"
   },
   {
    "duration": 121,
    "start_time": "2024-10-09T23:13:10.235Z"
   },
   {
    "duration": 189,
    "start_time": "2024-10-09T23:13:32.692Z"
   },
   {
    "duration": 185,
    "start_time": "2024-10-09T23:13:54.214Z"
   },
   {
    "duration": 187,
    "start_time": "2024-10-09T23:14:00.055Z"
   },
   {
    "duration": 173,
    "start_time": "2024-10-10T14:01:27.679Z"
   },
   {
    "duration": 2193,
    "start_time": "2024-10-10T14:01:39.554Z"
   },
   {
    "duration": 1062,
    "start_time": "2024-10-10T14:01:41.750Z"
   },
   {
    "duration": 18,
    "start_time": "2024-10-10T14:01:42.814Z"
   },
   {
    "duration": 11,
    "start_time": "2024-10-10T14:01:42.834Z"
   },
   {
    "duration": 11,
    "start_time": "2024-10-10T14:01:42.846Z"
   },
   {
    "duration": 11,
    "start_time": "2024-10-10T14:01:42.859Z"
   },
   {
    "duration": 62,
    "start_time": "2024-10-10T14:01:42.871Z"
   },
   {
    "duration": 185,
    "start_time": "2024-10-10T14:01:42.935Z"
   },
   {
    "duration": 11,
    "start_time": "2024-10-10T14:01:43.123Z"
   },
   {
    "duration": 111,
    "start_time": "2024-10-10T14:01:43.137Z"
   },
   {
    "duration": 96,
    "start_time": "2024-10-10T14:01:43.249Z"
   },
   {
    "duration": 30,
    "start_time": "2024-10-10T14:01:43.347Z"
   },
   {
    "duration": 13,
    "start_time": "2024-10-10T14:01:43.380Z"
   },
   {
    "duration": 3,
    "start_time": "2024-10-10T14:01:43.409Z"
   },
   {
    "duration": 26,
    "start_time": "2024-10-10T14:01:43.415Z"
   },
   {
    "duration": 24,
    "start_time": "2024-10-10T14:01:43.443Z"
   },
   {
    "duration": 5,
    "start_time": "2024-10-10T14:01:43.469Z"
   },
   {
    "duration": 4,
    "start_time": "2024-10-10T14:01:43.475Z"
   },
   {
    "duration": 30,
    "start_time": "2024-10-10T14:01:43.480Z"
   },
   {
    "duration": 3,
    "start_time": "2024-10-10T14:01:43.512Z"
   },
   {
    "duration": 820,
    "start_time": "2024-10-10T14:01:43.517Z"
   },
   {
    "duration": 736,
    "start_time": "2024-10-10T14:01:44.339Z"
   },
   {
    "duration": 9,
    "start_time": "2024-10-10T14:01:45.077Z"
   },
   {
    "duration": 5,
    "start_time": "2024-10-10T14:01:45.088Z"
   },
   {
    "duration": 19,
    "start_time": "2024-10-10T14:01:45.095Z"
   },
   {
    "duration": 7,
    "start_time": "2024-10-10T14:01:45.115Z"
   },
   {
    "duration": 8,
    "start_time": "2024-10-10T14:01:45.123Z"
   },
   {
    "duration": 5,
    "start_time": "2024-10-10T14:01:45.136Z"
   },
   {
    "duration": 71,
    "start_time": "2024-10-10T14:01:45.143Z"
   },
   {
    "duration": 18,
    "start_time": "2024-10-10T14:01:45.216Z"
   },
   {
    "duration": 30,
    "start_time": "2024-10-10T14:01:45.236Z"
   },
   {
    "duration": 14,
    "start_time": "2024-10-10T14:01:45.268Z"
   },
   {
    "duration": 22,
    "start_time": "2024-10-10T14:01:45.310Z"
   },
   {
    "duration": 40,
    "start_time": "2024-10-10T14:01:45.334Z"
   },
   {
    "duration": 45,
    "start_time": "2024-10-10T14:01:45.376Z"
   },
   {
    "duration": 20,
    "start_time": "2024-10-10T14:01:45.423Z"
   },
   {
    "duration": 204,
    "start_time": "2024-10-10T14:01:45.446Z"
   },
   {
    "duration": 123,
    "start_time": "2024-10-10T14:01:45.652Z"
   },
   {
    "duration": 265,
    "start_time": "2024-10-10T14:01:45.777Z"
   },
   {
    "duration": 227,
    "start_time": "2024-10-10T14:01:46.044Z"
   },
   {
    "duration": 199,
    "start_time": "2024-10-10T14:01:46.273Z"
   },
   {
    "duration": 0,
    "start_time": "2024-10-10T14:01:46.474Z"
   },
   {
    "duration": 0,
    "start_time": "2024-10-10T14:01:46.476Z"
   },
   {
    "duration": 0,
    "start_time": "2024-10-10T14:01:46.477Z"
   },
   {
    "duration": 0,
    "start_time": "2024-10-10T14:01:46.478Z"
   },
   {
    "duration": 0,
    "start_time": "2024-10-10T14:01:46.480Z"
   },
   {
    "duration": 0,
    "start_time": "2024-10-10T14:01:46.482Z"
   },
   {
    "duration": 0,
    "start_time": "2024-10-10T14:01:46.483Z"
   },
   {
    "duration": 0,
    "start_time": "2024-10-10T14:01:46.484Z"
   },
   {
    "duration": 0,
    "start_time": "2024-10-10T14:01:46.485Z"
   },
   {
    "duration": 0,
    "start_time": "2024-10-10T14:01:46.486Z"
   },
   {
    "duration": 0,
    "start_time": "2024-10-10T14:01:46.509Z"
   },
   {
    "duration": 0,
    "start_time": "2024-10-10T14:01:46.510Z"
   },
   {
    "duration": 444,
    "start_time": "2024-10-10T14:05:00.780Z"
   },
   {
    "duration": 18,
    "start_time": "2024-10-10T14:05:47.200Z"
   },
   {
    "duration": 10,
    "start_time": "2024-10-10T14:05:58.915Z"
   },
   {
    "duration": 992,
    "start_time": "2024-10-10T14:06:01.722Z"
   },
   {
    "duration": 227,
    "start_time": "2024-10-10T14:06:05.139Z"
   },
   {
    "duration": 1468,
    "start_time": "2024-10-10T14:06:10.031Z"
   },
   {
    "duration": 230,
    "start_time": "2024-10-10T14:06:14.693Z"
   },
   {
    "duration": 1539,
    "start_time": "2024-10-10T14:06:16.870Z"
   },
   {
    "duration": 199,
    "start_time": "2024-10-10T14:06:19.260Z"
   },
   {
    "duration": 219,
    "start_time": "2024-10-10T14:12:54.532Z"
   },
   {
    "duration": 443,
    "start_time": "2024-10-10T14:31:35.227Z"
   },
   {
    "duration": 1160,
    "start_time": "2024-10-10T14:31:35.672Z"
   },
   {
    "duration": 18,
    "start_time": "2024-10-10T14:31:36.836Z"
   },
   {
    "duration": 26,
    "start_time": "2024-10-10T14:31:36.857Z"
   },
   {
    "duration": 14,
    "start_time": "2024-10-10T14:31:36.885Z"
   },
   {
    "duration": 14,
    "start_time": "2024-10-10T14:31:36.901Z"
   },
   {
    "duration": 31,
    "start_time": "2024-10-10T14:31:36.916Z"
   },
   {
    "duration": 209,
    "start_time": "2024-10-10T14:31:36.949Z"
   },
   {
    "duration": 34,
    "start_time": "2024-10-10T14:31:37.160Z"
   },
   {
    "duration": 102,
    "start_time": "2024-10-10T14:31:37.198Z"
   },
   {
    "duration": 93,
    "start_time": "2024-10-10T14:31:37.301Z"
   },
   {
    "duration": 29,
    "start_time": "2024-10-10T14:31:37.396Z"
   },
   {
    "duration": 12,
    "start_time": "2024-10-10T14:31:37.426Z"
   },
   {
    "duration": 3,
    "start_time": "2024-10-10T14:31:37.440Z"
   },
   {
    "duration": 30,
    "start_time": "2024-10-10T14:31:37.471Z"
   },
   {
    "duration": 22,
    "start_time": "2024-10-10T14:31:37.503Z"
   },
   {
    "duration": 5,
    "start_time": "2024-10-10T14:31:37.527Z"
   },
   {
    "duration": 4,
    "start_time": "2024-10-10T14:31:37.534Z"
   },
   {
    "duration": 30,
    "start_time": "2024-10-10T14:31:37.540Z"
   },
   {
    "duration": 4,
    "start_time": "2024-10-10T14:31:37.573Z"
   },
   {
    "duration": 819,
    "start_time": "2024-10-10T14:31:37.578Z"
   },
   {
    "duration": 738,
    "start_time": "2024-10-10T14:31:38.399Z"
   },
   {
    "duration": 9,
    "start_time": "2024-10-10T14:31:39.139Z"
   },
   {
    "duration": 6,
    "start_time": "2024-10-10T14:31:39.150Z"
   },
   {
    "duration": 5,
    "start_time": "2024-10-10T14:31:39.172Z"
   },
   {
    "duration": 6,
    "start_time": "2024-10-10T14:31:39.179Z"
   },
   {
    "duration": 7,
    "start_time": "2024-10-10T14:31:39.188Z"
   },
   {
    "duration": 6,
    "start_time": "2024-10-10T14:31:39.200Z"
   },
   {
    "duration": 74,
    "start_time": "2024-10-10T14:31:39.207Z"
   },
   {
    "duration": 15,
    "start_time": "2024-10-10T14:31:39.283Z"
   },
   {
    "duration": 45,
    "start_time": "2024-10-10T14:31:39.300Z"
   },
   {
    "duration": 36,
    "start_time": "2024-10-10T14:31:39.346Z"
   },
   {
    "duration": 31,
    "start_time": "2024-10-10T14:31:39.384Z"
   },
   {
    "duration": 57,
    "start_time": "2024-10-10T14:31:39.417Z"
   },
   {
    "duration": 35,
    "start_time": "2024-10-10T14:31:39.477Z"
   },
   {
    "duration": 18,
    "start_time": "2024-10-10T14:31:39.514Z"
   },
   {
    "duration": 248,
    "start_time": "2024-10-10T14:31:39.534Z"
   },
   {
    "duration": 137,
    "start_time": "2024-10-10T14:31:39.784Z"
   },
   {
    "duration": 226,
    "start_time": "2024-10-10T14:31:39.924Z"
   },
   {
    "duration": 235,
    "start_time": "2024-10-10T14:31:40.152Z"
   },
   {
    "duration": 169,
    "start_time": "2024-10-10T14:31:40.389Z"
   },
   {
    "duration": 23,
    "start_time": "2024-10-10T14:31:40.560Z"
   },
   {
    "duration": 1066,
    "start_time": "2024-10-10T14:31:40.585Z"
   },
   {
    "duration": 249,
    "start_time": "2024-10-10T14:31:41.653Z"
   },
   {
    "duration": 1551,
    "start_time": "2024-10-10T14:31:41.905Z"
   },
   {
    "duration": 226,
    "start_time": "2024-10-10T14:31:43.458Z"
   },
   {
    "duration": 218,
    "start_time": "2024-10-10T14:31:43.686Z"
   },
   {
    "duration": 429,
    "start_time": "2024-10-10T14:31:43.906Z"
   },
   {
    "duration": 282,
    "start_time": "2024-10-10T14:31:44.337Z"
   },
   {
    "duration": 470,
    "start_time": "2024-10-10T14:31:44.622Z"
   },
   {
    "duration": 114,
    "start_time": "2024-10-10T14:31:45.094Z"
   },
   {
    "duration": 246,
    "start_time": "2024-10-10T14:31:45.211Z"
   },
   {
    "duration": 229,
    "start_time": "2024-10-10T14:31:45.460Z"
   }
  ],
  "colab": {
   "provenance": []
  },
  "kernelspec": {
   "display_name": "Python 3 (ipykernel)",
   "language": "python",
   "name": "python3"
  },
  "language_info": {
   "codemirror_mode": {
    "name": "ipython",
    "version": 3
   },
   "file_extension": ".py",
   "mimetype": "text/x-python",
   "name": "python",
   "nbconvert_exporter": "python",
   "pygments_lexer": "ipython3",
   "version": "3.9.19"
  },
  "toc": {
   "base_numbering": 1,
   "nav_menu": {},
   "number_sections": true,
   "sideBar": true,
   "skip_h1_title": true,
   "title_cell": "Table of Contents",
   "title_sidebar": "Contents",
   "toc_cell": false,
   "toc_position": {},
   "toc_section_display": true,
   "toc_window_display": false
  },
  "vscode": {
   "interpreter": {
    "hash": "01a7be9ec63e704a62cefc5fe7a4756944464ee731be31632bdf42a4cb4688cf"
   }
  }
 },
 "nbformat": 4,
 "nbformat_minor": 5
}
