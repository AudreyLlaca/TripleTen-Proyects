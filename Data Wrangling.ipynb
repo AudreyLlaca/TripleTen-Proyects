{
 "cells": [
  {
   "cell_type": "markdown",
   "metadata": {},
   "source": [
    "# ¡Hola Audrey!\n",
    "\n",
    "Mi nombre es Ezequiel Ferrario, soy code reviewer en Tripleten y tengo el agrado de revisar el proyecto que entregaste.\n",
    "\n",
    "Para simular la dinámica de un ambiente de trabajo, si veo algún error, en primer instancia solo los señalaré, dándote la oportunidad de encontrarlos y corregirlos por tu cuenta. En un trabajo real, el líder de tu equipo hará una dinámica similar. En caso de que no puedas resolver la tarea, te daré una información más precisa en la próxima revisión.\n",
    "\n",
    "Encontrarás mis comentarios más abajo - **por favor, no los muevas, no los modifiques ni los borres**.\n",
    "\n",
    "¿Cómo lo voy a hacer? Voy a leer detenidamente cada una de las implementaciones que has llevado a cabo para cumplir con lo solicitado. Verás los comentarios de esta forma:\n",
    "\n",
    "<div class=\"alert alert-block alert-success\">\n",
    "<b>Comentario del revisor</b> <a class=\"tocSkip\"></a>\n",
    "\n",
    "Si todo está perfecto.\n",
    "</div>\n",
    "\n",
    "\n",
    "<div class=\"alert alert-block alert-warning\">\n",
    "<b>Comentario del revisor</b> <a class=\"tocSkip\"></a>\n",
    "\n",
    "Si tu código está bien pero se puede mejorar o hay algún detalle que le hace falta. Se aceptan uno o dos comentarios de este tipo en el borrador, pero si hay más, deberá hacer las correcciones. Es como una tarea de prueba al solicitar un trabajo: muchos pequeños errores pueden hacer que un candidato sea rechazado.\n",
    "</div>\n",
    "\n",
    "<div class=\"alert alert-block alert-danger\">\n",
    "\n",
    "<b>Comentario del revisor</b> <a class=\"tocSkip\"></a>\n",
    "\n",
    "Si de pronto hace falta algo o existe algún problema con tu código o conclusiones.\n",
    "</div>\n",
    "\n",
    "Puedes responderme de esta forma:\n",
    "\n",
    "<div class=\"alert alert-block alert-info\">\n",
    "<b>Respuesta del estudiante</b> <a class=\"tocSkip\"></a>\n",
    "\n",
    "Hola, muchas gracias por tus comentarios y la revisión.        \n",
    "</div>\n",
    "\n",
    "¡Empecemos!"
   ]
  },
  {
   "cell_type": "markdown",
   "metadata": {},
   "source": [
    "-------------\n",
    "\n",
    "<div class=\"alert alert-block alert-success\">\n",
    "\n",
    "<b>Comentario general #1</b> <a class=\"tocSkip\"></a>\n",
    "\n",
    "\n",
    "Audrey, el proyecto entregado es excelente.\n",
    "    \n",
    "  Abarcaste muy bien todos los puntos y supiste que metodos utilziar tanto para limpiar el dataset como para lograr las extracciones.\n",
    "    \n",
    "  La extraccion final fue muy buena y quiero destacar todos tus analisis que fueron precisos y minuciosos lo que le agrego valor a todo el trabajo.\n",
    "    \n",
    "  Dicho esto, el proyecto queda **aprobado**.\n",
    "    \n",
    "  Exitos en lo que viene.\n",
    "    \n",
    "  Saludos.\n",
    "    \n",
    "</div>\n",
    "\n",
    "------------"
   ]
  },
  {
   "cell_type": "markdown",
   "metadata": {
    "id": "E0vqbgi9ay0H"
   },
   "source": [
    "# Déjame escuchar la música"
   ]
  },
  {
   "cell_type": "markdown",
   "metadata": {
    "id": "fhq_eyov_Zcs"
   },
   "source": [
    "# Contenido <a id='back'></a>\n",
    "\n",
    "* [Introducción](#intro)\n",
    "* [Etapa 1. Descripción de los datos](#data_review)\n",
    "    * [Conclusiones](#data_review_conclusions)\n",
    "* [Etapa 2. Preprocesamiento de datos](#data_preprocessing)\n",
    "    * [2.1 Estilo del encabezado](#header_style)\n",
    "    * [2.2 Valores ausentes](#missing_values)\n",
    "    * [2.3 Duplicados](#duplicates)\n",
    "    * [2.4 Conclusiones](#data_preprocessing_conclusions)\n",
    "* [Etapa 3. Prueba de hipótesis](#hypothesis)\n",
    "    * [3.1 Hipótesis 1: actividad de los usuarios y las usuarias en las dos ciudades](#activity)\n",
    "* [Conclusiones](#end)"
   ]
  },
  {
   "cell_type": "markdown",
   "metadata": {},
   "source": [
    "<div class=\"alert alert-block alert-warning\">\n",
    "\n",
    "<b>Comentario del revisor</b> <a class=\"tocSkip\"></a>\n",
    "\n",
    "Muy bien la tabla de contenidos pero debe estar linkeada a las secciones (al clickear debe llevarnos a esa seccion) de esta menera es mas facil desplazarse.\n",
    "\n",
    "Como consejo, si realizas bien todas las secciones (con su respectivo #) podes generarlo automáticamente desde jupyter lab. Para hacerlo, en la pestaña de herramientas de jupyter lab clickeas en el **botón de los puntos y barras**  (Table of contents) te generara automáticamente una tabla de contenidos linkeable y estética. A la **derecha** del seleccionador del tipo de celda (code/markdown)\n",
    "</div>"
   ]
  },
  {
   "cell_type": "markdown",
   "metadata": {
    "id": "VUC88oWjTJw2"
   },
   "source": [
    "## Introducción <a id='intro'></a>\n",
    "Como analista de datos, tu trabajo consiste en analizar datos para extraer información valiosa y tomar decisiones basadas en ellos. Esto implica diferentes etapas, como la descripción general de los datos, el preprocesamiento y la prueba de hipótesis.\n",
    "\n",
    "Siempre que investigamos, necesitamos formular hipótesis que después podamos probar. A veces aceptamos estas hipótesis; otras veces, las rechazamos. Para tomar las decisiones correctas, una empresa debe ser capaz de entender si está haciendo las suposiciones correctas.\n",
    "\n",
    "En este proyecto, compararás las preferencias musicales de las ciudades de Springfield y Shelbyville. Estudiarás datos reales de transmisión de música online para probar la hipótesis a continuación y comparar el comportamiento de los usuarios y las usuarias de estas dos ciudades.\n",
    "\n",
    "### Objetivo:\n",
    "Prueba la hipótesis:\n",
    "1. La actividad de los usuarios y las usuarias difiere según el día de la semana y dependiendo de la ciudad.\n",
    "\n",
    "\n",
    "### Etapas\n",
    "Los datos del comportamiento del usuario se almacenan en el archivo `/datasets/music_project_en.csv`. No hay ninguna información sobre la calidad de los datos, así que necesitarás examinarlos antes de probar la hipótesis.\n",
    "\n",
    "Primero, evaluarás la calidad de los datos y verás si los problemas son significativos. Entonces, durante el preprocesamiento de datos, tomarás en cuenta los problemas más críticos.\n",
    "\n",
    "Tu proyecto consistirá en tres etapas:\n",
    " 1. Descripción de los datos.\n",
    " 2. Preprocesamiento de datos.\n",
    " 3. Prueba de hipótesis.\n",
    "\n",
    "\n",
    "\n",
    "\n",
    "\n",
    "\n"
   ]
  },
  {
   "cell_type": "markdown",
   "metadata": {
    "id": "hDt6pg-Rw-1U"
   },
   "source": [
    "[Volver a Contenidos](#back)"
   ]
  },
  {
   "cell_type": "markdown",
   "metadata": {
    "id": "Ml1hmfXC_Zcs"
   },
   "source": [
    "## Etapa 1. Descripción de los datos <a id='data_review'></a>\n",
    "\n",
    "Abre los datos y examínalos."
   ]
  },
  {
   "cell_type": "markdown",
   "metadata": {
    "id": "57eAOGIz_Zcs"
   },
   "source": [
    "Necesitarás `pandas`, así que impórtalo."
   ]
  },
  {
   "cell_type": "code",
   "execution_count": 2,
   "metadata": {
    "id": "AXN7PHPN_Zcs"
   },
   "outputs": [],
   "source": [
    "# Importar pandas\n",
    "import pandas as pd\n"
   ]
  },
  {
   "cell_type": "markdown",
   "metadata": {
    "id": "SG23P8tt_Zcs"
   },
   "source": [
    "Lee el archivo `music_project_en.csv` de la carpeta `/datasets/` y guárdalo en la variable `df`:"
   ]
  },
  {
   "cell_type": "code",
   "execution_count": 3,
   "metadata": {
    "id": "fFVu7vqh_Zct"
   },
   "outputs": [],
   "source": [
    "# Leer el archivo y almacenarlo en df\n",
    "df=pd.read_csv('/datasets/music_project_en.csv')"
   ]
  },
  {
   "cell_type": "markdown",
   "metadata": {
    "id": "rDoOMd3uTqnZ"
   },
   "source": [
    "Muestra las 10 primeras filas de la tabla:"
   ]
  },
  {
   "cell_type": "code",
   "execution_count": 4,
   "metadata": {
    "id": "oWTVX3gW_Zct"
   },
   "outputs": [
    {
     "data": {
      "text/html": [
       "<div>\n",
       "<style scoped>\n",
       "    .dataframe tbody tr th:only-of-type {\n",
       "        vertical-align: middle;\n",
       "    }\n",
       "\n",
       "    .dataframe tbody tr th {\n",
       "        vertical-align: top;\n",
       "    }\n",
       "\n",
       "    .dataframe thead th {\n",
       "        text-align: right;\n",
       "    }\n",
       "</style>\n",
       "<table border=\"1\" class=\"dataframe\">\n",
       "  <thead>\n",
       "    <tr style=\"text-align: right;\">\n",
       "      <th></th>\n",
       "      <th>userID</th>\n",
       "      <th>Track</th>\n",
       "      <th>artist</th>\n",
       "      <th>genre</th>\n",
       "      <th>City</th>\n",
       "      <th>time</th>\n",
       "      <th>Day</th>\n",
       "    </tr>\n",
       "  </thead>\n",
       "  <tbody>\n",
       "    <tr>\n",
       "      <th>0</th>\n",
       "      <td>FFB692EC</td>\n",
       "      <td>Kamigata To Boots</td>\n",
       "      <td>The Mass Missile</td>\n",
       "      <td>rock</td>\n",
       "      <td>Shelbyville</td>\n",
       "      <td>20:28:33</td>\n",
       "      <td>Wednesday</td>\n",
       "    </tr>\n",
       "    <tr>\n",
       "      <th>1</th>\n",
       "      <td>55204538</td>\n",
       "      <td>Delayed Because of Accident</td>\n",
       "      <td>Andreas Rönnberg</td>\n",
       "      <td>rock</td>\n",
       "      <td>Springfield</td>\n",
       "      <td>14:07:09</td>\n",
       "      <td>Friday</td>\n",
       "    </tr>\n",
       "    <tr>\n",
       "      <th>2</th>\n",
       "      <td>20EC38</td>\n",
       "      <td>Funiculì funiculà</td>\n",
       "      <td>Mario Lanza</td>\n",
       "      <td>pop</td>\n",
       "      <td>Shelbyville</td>\n",
       "      <td>20:58:07</td>\n",
       "      <td>Wednesday</td>\n",
       "    </tr>\n",
       "    <tr>\n",
       "      <th>3</th>\n",
       "      <td>A3DD03C9</td>\n",
       "      <td>Dragons in the Sunset</td>\n",
       "      <td>Fire + Ice</td>\n",
       "      <td>folk</td>\n",
       "      <td>Shelbyville</td>\n",
       "      <td>08:37:09</td>\n",
       "      <td>Monday</td>\n",
       "    </tr>\n",
       "    <tr>\n",
       "      <th>4</th>\n",
       "      <td>E2DC1FAE</td>\n",
       "      <td>Soul People</td>\n",
       "      <td>Space Echo</td>\n",
       "      <td>dance</td>\n",
       "      <td>Springfield</td>\n",
       "      <td>08:34:34</td>\n",
       "      <td>Monday</td>\n",
       "    </tr>\n",
       "    <tr>\n",
       "      <th>5</th>\n",
       "      <td>842029A1</td>\n",
       "      <td>Chains</td>\n",
       "      <td>Obladaet</td>\n",
       "      <td>rusrap</td>\n",
       "      <td>Shelbyville</td>\n",
       "      <td>13:09:41</td>\n",
       "      <td>Friday</td>\n",
       "    </tr>\n",
       "    <tr>\n",
       "      <th>6</th>\n",
       "      <td>4CB90AA5</td>\n",
       "      <td>True</td>\n",
       "      <td>Roman Messer</td>\n",
       "      <td>dance</td>\n",
       "      <td>Springfield</td>\n",
       "      <td>13:00:07</td>\n",
       "      <td>Wednesday</td>\n",
       "    </tr>\n",
       "    <tr>\n",
       "      <th>7</th>\n",
       "      <td>F03E1C1F</td>\n",
       "      <td>Feeling This Way</td>\n",
       "      <td>Polina Griffith</td>\n",
       "      <td>dance</td>\n",
       "      <td>Springfield</td>\n",
       "      <td>20:47:49</td>\n",
       "      <td>Wednesday</td>\n",
       "    </tr>\n",
       "    <tr>\n",
       "      <th>8</th>\n",
       "      <td>8FA1D3BE</td>\n",
       "      <td>L’estate</td>\n",
       "      <td>Julia Dalia</td>\n",
       "      <td>ruspop</td>\n",
       "      <td>Springfield</td>\n",
       "      <td>09:17:40</td>\n",
       "      <td>Friday</td>\n",
       "    </tr>\n",
       "    <tr>\n",
       "      <th>9</th>\n",
       "      <td>E772D5C0</td>\n",
       "      <td>Pessimist</td>\n",
       "      <td>NaN</td>\n",
       "      <td>dance</td>\n",
       "      <td>Shelbyville</td>\n",
       "      <td>21:20:49</td>\n",
       "      <td>Wednesday</td>\n",
       "    </tr>\n",
       "  </tbody>\n",
       "</table>\n",
       "</div>"
      ],
      "text/plain": [
       "     userID                        Track            artist   genre  \\\n",
       "0  FFB692EC            Kamigata To Boots  The Mass Missile    rock   \n",
       "1  55204538  Delayed Because of Accident  Andreas Rönnberg    rock   \n",
       "2    20EC38            Funiculì funiculà       Mario Lanza     pop   \n",
       "3  A3DD03C9        Dragons in the Sunset        Fire + Ice    folk   \n",
       "4  E2DC1FAE                  Soul People        Space Echo   dance   \n",
       "5  842029A1                       Chains          Obladaet  rusrap   \n",
       "6  4CB90AA5                         True      Roman Messer   dance   \n",
       "7  F03E1C1F             Feeling This Way   Polina Griffith   dance   \n",
       "8  8FA1D3BE                     L’estate       Julia Dalia  ruspop   \n",
       "9  E772D5C0                    Pessimist               NaN   dance   \n",
       "\n",
       "        City        time        Day  \n",
       "0  Shelbyville  20:28:33  Wednesday  \n",
       "1  Springfield  14:07:09     Friday  \n",
       "2  Shelbyville  20:58:07  Wednesday  \n",
       "3  Shelbyville  08:37:09     Monday  \n",
       "4  Springfield  08:34:34     Monday  \n",
       "5  Shelbyville  13:09:41     Friday  \n",
       "6  Springfield  13:00:07  Wednesday  \n",
       "7  Springfield  20:47:49  Wednesday  \n",
       "8  Springfield  09:17:40     Friday  \n",
       "9  Shelbyville  21:20:49  Wednesday  "
      ]
     },
     "metadata": {},
     "output_type": "display_data"
    }
   ],
   "source": [
    "# Obtener las 10 primeras filas de la tabla df\n",
    "display(df.head(10))"
   ]
  },
  {
   "cell_type": "markdown",
   "metadata": {
    "id": "EO73Kwic_Zct"
   },
   "source": [
    "Obtén la información general sobre la tabla con un comando. Conoces el método que muestra la información general que necesitamos."
   ]
  },
  {
   "cell_type": "code",
   "execution_count": 5,
   "metadata": {
    "id": "DSf2kIb-_Zct"
   },
   "outputs": [
    {
     "name": "stdout",
     "output_type": "stream",
     "text": [
      "<class 'pandas.core.frame.DataFrame'>\n",
      "RangeIndex: 65079 entries, 0 to 65078\n",
      "Data columns (total 7 columns):\n",
      " #   Column    Non-Null Count  Dtype \n",
      "---  ------    --------------  ----- \n",
      " 0     userID  65079 non-null  object\n",
      " 1   Track     63736 non-null  object\n",
      " 2   artist    57512 non-null  object\n",
      " 3   genre     63881 non-null  object\n",
      " 4     City    65079 non-null  object\n",
      " 5   time      65079 non-null  object\n",
      " 6   Day       65079 non-null  object\n",
      "dtypes: object(7)\n",
      "memory usage: 3.5+ MB\n",
      "None\n",
      "3826\n",
      "         userID            Track       artist    genre       City        time  \\\n",
      "27112   5ACE6A3             2700          NaN  rusrock  Springfield  21:46:37   \n",
      "51043  4F0B6437          No More  The Qemists    dance  Springfield  09:03:41   \n",
      "28544  6AD071A3   Nothing At All          NaN    dance  Springfield  13:27:43   \n",
      "28603  825F2451  A Wonderful Guy   Tex Beneke  country  Springfield  08:36:37   \n",
      "35079  7368AB21         Cosmoboy      Taliana   ruspop  Springfield  08:59:23   \n",
      "\n",
      "             Day  \n",
      "27112     Friday  \n",
      "51043  Wednesday  \n",
      "28544     Monday  \n",
      "28603     Friday  \n",
      "35079     Friday  \n"
     ]
    }
   ],
   "source": [
    "# Obtener la información general sobre nuestros datos\n",
    "print(df.info())\n",
    "print(df.duplicated().sum())\n",
    "print(df.sample(5))"
   ]
  },
  {
   "cell_type": "markdown",
   "metadata": {},
   "source": [
    "<div class=\"alert alert-block alert-success\">\n",
    "\n",
    "<b>Comentario del revisor</b> <a class=\"tocSkip\"></a>\n",
    "\n",
    "\n",
    "Muy bien.\n",
    "    \n",
    "    \n",
    "</div>"
   ]
  },
  {
   "cell_type": "markdown",
   "metadata": {
    "id": "TaQ2Iwbr_Zct"
   },
   "source": [
    "Estas son nuestras observaciones sobre la tabla. Contiene siete columnas. Almacenan los mismos tipos de datos: `object`.\n",
    "\n",
    "Según la documentación:\n",
    "- `' userID'`: identificador del usuario o la usuaria;\n",
    "- `'Track'`: título de la canción;\n",
    "- `'artist'`: nombre del artista;\n",
    "- `'genre'`: género de la pista;\n",
    "- `'City'`: ciudad del usuario o la usuaria;\n",
    "- `'time'`: la hora exacta en la que se reprodujo la canción;\n",
    "- `'Day'`: día de la semana.\n",
    "\n",
    "Podemos ver tres problemas con el estilo en los encabezados de la tabla:\n",
    "1. Algunos encabezados están en mayúsculas, otros en minúsculas.\n",
    "2. Hay espacios en algunos encabezados.\n",
    "3. Hay que utilizar snake_case\n",
    "\n"
   ]
  },
  {
   "cell_type": "markdown",
   "metadata": {
    "id": "MCB6-dXG_Zct"
   },
   "source": [
    "### Escribe observaciones de tu parte. Estas son algunas de las preguntas que pueden ser útiles: <a id='data_review_conclusions'></a>\n",
    "\n",
    "`1.   ¿Qué tipo de datos tenemos a nuestra disposición en las filas? ¿Y cómo podemos entender lo que almacenan las columnas?`\n",
    "Después de aplicar el metodo info() podemos ver que en la tabla tenemos datos del tipo 'object'. Para entender los datos que almacenan las 7 columnas podemos ver el titulo de las mismas y analizar los primeros 10 datos que nos muestra el dataframe. Podemos observar que tenemos columnas relevantes para probar nuestra hipotesis tales como 'city', 'day' y 'time'. \n",
    "\n",
    "`2.   ¿Hay suficientes datos para proporcionar respuestas a nuestra hipótesis o necesitamos más información?`\n",
    "Tenemos un total  de 65079 datos con los que podemos realizar un analisis suficiente sobre la actividad de los usuarios y su relacion con el dia de la semana y la ciudad en la que se encuentran. \n",
    "\n",
    "`3.   ¿Notaste algún problema en los datos, como valores ausentes, duplicados o tipos de datos incorrectos?`\n",
    "Después de analizar la información que obtuvimos con info() podemos ver que hay valores ausentes en las siguientes columnas:  \n",
    "*Track\n",
    "*Artist\n",
    "*Genre\n",
    "Y podemos observarlo en nuestros 10 datos principales en la columna 'artist' donde podemos ver un valor nulo. También, después de utilizar duplicated().sum() podemos ver que tenemos alrededor de 3826 duplicados que habria que analizar. "
   ]
  },
  {
   "cell_type": "markdown",
   "metadata": {},
   "source": [
    "<div class=\"alert alert-block alert-success\">\n",
    "\n",
    "<b>Comentario del revisor</b> <a class=\"tocSkip\"></a>\n",
    "\n",
    "\n",
    "Excelentes observaciones.\n",
    "\n",
    "</div>"
   ]
  },
  {
   "cell_type": "markdown",
   "metadata": {
    "id": "3eL__vcwViOi"
   },
   "source": [
    "[Volver a Contenidos](#back)"
   ]
  },
  {
   "cell_type": "markdown",
   "metadata": {
    "id": "SjYF6Ub9_Zct"
   },
   "source": [
    "## Etapa 2. Preprocesamiento de datos <a id='data_preprocessing'></a>\n",
    "\n",
    "El objetivo aquí es preparar los datos para que sean analizados.\n",
    "El primer paso es resolver cualquier problema con los encabezados. Luego podemos avanzar a los valores ausentes y duplicados. Empecemos.\n",
    "\n",
    "Corrige el formato en los encabezados de la tabla.\n"
   ]
  },
  {
   "cell_type": "markdown",
   "metadata": {
    "id": "dIaKXr29_Zct"
   },
   "source": [
    "### Estilo del encabezado <a id='header_style'></a>\n",
    "Muestra los encabezados de la tabla (los nombres de las columnas):"
   ]
  },
  {
   "cell_type": "code",
   "execution_count": 6,
   "metadata": {
    "id": "oKOTdF_Q_Zct"
   },
   "outputs": [
    {
     "name": "stdout",
     "output_type": "stream",
     "text": [
      "Index(['  userID', 'Track', 'artist', 'genre', '  City  ', 'time', 'Day'], dtype='object')\n"
     ]
    }
   ],
   "source": [
    "# Muestra los nombres de las columnas\n",
    "print(df.columns)"
   ]
  },
  {
   "cell_type": "markdown",
   "metadata": {
    "id": "zj5534cv_Zct"
   },
   "source": [
    "Cambia los encabezados de la tabla de acuerdo con las reglas del buen estilo:\n",
    "* Todos los caracteres deben ser minúsculas.\n",
    "* Elimina los espacios.\n",
    "* Si el nombre tiene varias palabras, utiliza snake_case."
   ]
  },
  {
   "cell_type": "markdown",
   "metadata": {
    "id": "Xu0zkfe5zNJe"
   },
   "source": [
    "Anteriormente, aprendiste acerca de la forma automática de cambiar el nombre de las columnas. Vamos a aplicarla ahora. Utiliza el bucle for para iterar sobre los nombres de las columnas y poner todos los caracteres en minúsculas. Cuando hayas terminado, vuelve a mostrar los encabezados de la tabla:"
   ]
  },
  {
   "cell_type": "code",
   "execution_count": 7,
   "metadata": {
    "id": "6I_RwwMhzM4e"
   },
   "outputs": [
    {
     "name": "stdout",
     "output_type": "stream",
     "text": [
      "Index(['  userid', 'track', 'artist', 'genre', '  city  ', 'time', 'day'], dtype='object')\n"
     ]
    }
   ],
   "source": [
    "# Bucle en los encabezados poniendo todo en minúsculas\n",
    "lower_case=[]\n",
    "\n",
    "for name in df.columns:\n",
    "    lower= name.lower()\n",
    "    \n",
    "    lower_case.append(lower)\n",
    "    \n",
    "df.columns=(lower_case)\n",
    "print(df.columns)"
   ]
  },
  {
   "cell_type": "markdown",
   "metadata": {
    "id": "pweIRxjSzPYW"
   },
   "source": [
    "Ahora, utilizando el mismo método, elimina los espacios al principio y al final de los nombres de las columnas e imprime los nombres de las columnas nuevamente:"
   ]
  },
  {
   "cell_type": "code",
   "execution_count": 8,
   "metadata": {
    "id": "vVQXbFyJzSYl"
   },
   "outputs": [
    {
     "name": "stdout",
     "output_type": "stream",
     "text": [
      "Index(['userid', 'track', 'artist', 'genre', 'city', 'time', 'day'], dtype='object')\n"
     ]
    }
   ],
   "source": [
    "# Bucle en los encabezados eliminando los espacios\n",
    "strip=[]\n",
    "\n",
    "for name in df.columns:\n",
    "    strip_space= name.strip()\n",
    "    \n",
    "    strip.append(strip_space)\n",
    "    \n",
    "df.columns=(strip)\n",
    "print(df.columns)"
   ]
  },
  {
   "cell_type": "markdown",
   "metadata": {
    "id": "yCb8MW1JzURd"
   },
   "source": [
    "Necesitamos aplicar la regla de snake_case a la columna `userid`. Debe ser `user_id`. Cambia el nombre de esta columna y muestra los nombres de todas las columnas cuando hayas terminado."
   ]
  },
  {
   "cell_type": "code",
   "execution_count": 9,
   "metadata": {
    "id": "ISlFqs5y_Zct"
   },
   "outputs": [
    {
     "name": "stdout",
     "output_type": "stream",
     "text": [
      "Index(['user_id', 'track', 'artist', 'genre', 'city', 'time', 'day'], dtype='object')\n"
     ]
    }
   ],
   "source": [
    "# Cambiar el nombre de la columna \"userid\"\n",
    "user_id=[]\n",
    "\n",
    "for name in df.columns:\n",
    "    snake_case= name.replace('userid','user_id')\n",
    "    \n",
    "    user_id.append(snake_case)\n",
    "    \n",
    "df.columns=(user_id)\n",
    "print(df.columns)\n"
   ]
  },
  {
   "cell_type": "markdown",
   "metadata": {
    "id": "1dqbh00J_Zct"
   },
   "source": [
    "Comprueba el resultado. Muestra los encabezados una vez más:"
   ]
  },
  {
   "cell_type": "code",
   "execution_count": 10,
   "metadata": {
    "id": "d4NOAmTW_Zct"
   },
   "outputs": [
    {
     "name": "stdout",
     "output_type": "stream",
     "text": [
      "Index(['user_id', 'track', 'artist', 'genre', 'city', 'time', 'day'], dtype='object')\n"
     ]
    }
   ],
   "source": [
    "# Comprobar el resultado: la lista de encabezados\n",
    "print(df.columns)"
   ]
  },
  {
   "cell_type": "markdown",
   "metadata": {},
   "source": [
    "<div class=\"alert alert-block alert-success\">\n",
    "\n",
    "<b>Comentario del revisor</b> <a class=\"tocSkip\"></a>\n",
    "\n",
    "\n",
    "Muy bien cambiando los encabezados.\n",
    "    \n",
    "    \n",
    "</div>"
   ]
  },
  {
   "cell_type": "markdown",
   "metadata": {
    "id": "xYJk6ksJVpOl"
   },
   "source": [
    "[Volver a Contenidos](#back)"
   ]
  },
  {
   "cell_type": "markdown",
   "metadata": {
    "id": "5ISfbcfY_Zct"
   },
   "source": [
    "### Valores ausentes <a id='missing_values'></a>\n",
    " Primero, encuentra el número de valores ausentes en la tabla. Debes utilizar dos métodos en una secuencia para obtener el número de valores ausentes."
   ]
  },
  {
   "cell_type": "code",
   "execution_count": 11,
   "metadata": {
    "id": "RskX29qr_Zct"
   },
   "outputs": [
    {
     "name": "stdout",
     "output_type": "stream",
     "text": [
      "user_id       0\n",
      "track      1343\n",
      "artist     7567\n",
      "genre      1198\n",
      "city          0\n",
      "time          0\n",
      "day           0\n",
      "dtype: int64\n"
     ]
    }
   ],
   "source": [
    "# Calcular el número de valores ausentes\n",
    "print(df.isna().sum())"
   ]
  },
  {
   "cell_type": "markdown",
   "metadata": {
    "id": "qubhgnlO_Zct"
   },
   "source": [
    "No todos los valores ausentes afectan a la investigación. Por ejemplo, los valores ausentes en `track` y `artist` no son cruciales. Simplemente puedes reemplazarlos con valores predeterminados como el string `'unknown'` (desconocido).\n",
    "\n",
    "Pero los valores ausentes en `'genre'` pueden afectar la comparación entre las preferencias musicales de Springfield y Shelbyville. En la vida real, sería útil saber las razones por las cuales hay datos ausentes e intentar recuperarlos. Pero no tenemos esa oportunidad en este proyecto. Así que tendrás que:\n",
    "* rellenar estos valores ausentes con un valor predeterminado;\n",
    "* evaluar cuánto podrían afectar los valores ausentes a tus cómputos;"
   ]
  },
  {
   "cell_type": "markdown",
   "metadata": {
    "id": "fSv2laPA_Zct"
   },
   "source": [
    "Reemplazar los valores ausentes en las columnas `'track'`, `'artist'` y `'genre'` con el string `'unknown'`. Como mostramos anteriormente en las lecciones, la mejor forma de hacerlo es crear una lista que almacene los nombres de las columnas donde se necesita el reemplazo. Luego, utiliza esta lista e itera sobre las columnas donde se necesita el reemplazo haciendo el propio reemplazo."
   ]
  },
  {
   "cell_type": "code",
   "execution_count": 12,
   "metadata": {
    "id": "KplB5qWs_Zct"
   },
   "outputs": [],
   "source": [
    "# Bucle en los encabezados reemplazando los valores ausentes con 'unknown'\n",
    "columns_to_replace=['track','artist','genre']\n",
    "\n",
    "for value in columns_to_replace:\n",
    "    df[value]=df[value].fillna('unknown')\n",
    "    "
   ]
  },
  {
   "cell_type": "markdown",
   "metadata": {
    "id": "Ilsm-MZo_Zct"
   },
   "source": [
    "Ahora comprueba el resultado para asegurarte de que después del reemplazo no haya valores ausentes en el conjunto de datos. Para hacer esto, cuenta los valores ausentes nuevamente."
   ]
  },
  {
   "cell_type": "code",
   "execution_count": 13,
   "metadata": {
    "id": "Tq4nYRX4_Zct"
   },
   "outputs": [
    {
     "name": "stdout",
     "output_type": "stream",
     "text": [
      "user_id    0\n",
      "track      0\n",
      "artist     0\n",
      "genre      0\n",
      "city       0\n",
      "time       0\n",
      "day        0\n",
      "dtype: int64\n"
     ]
    }
   ],
   "source": [
    "# Contar valores ausentes\n",
    "print(df.isna().sum())\n"
   ]
  },
  {
   "cell_type": "markdown",
   "metadata": {},
   "source": [
    "<div class=\"alert alert-block alert-success\">\n",
    "\n",
    "<b>Comentario del revisor</b> <a class=\"tocSkip\"></a>\n",
    "\n",
    "\n",
    "Buen bucle para remplazar los nulos.    \n",
    "    \n",
    "</div>"
   ]
  },
  {
   "cell_type": "markdown",
   "metadata": {
    "id": "74ZIBmq9VrsK"
   },
   "source": [
    "[Volver a Contenidos](#back)"
   ]
  },
  {
   "cell_type": "markdown",
   "metadata": {
    "id": "BWKRtBJ3_Zct"
   },
   "source": [
    "### Duplicados <a id='duplicates'></a>\n",
    "Encuentra el número de duplicados explícitos en la tabla. Una vez más, debes aplicar dos métodos en una secuencia para obtener la cantidad de duplicados explícitos."
   ]
  },
  {
   "cell_type": "code",
   "execution_count": 14,
   "metadata": {
    "id": "36eES_S0_Zct"
   },
   "outputs": [
    {
     "name": "stdout",
     "output_type": "stream",
     "text": [
      "3826\n"
     ]
    }
   ],
   "source": [
    "# Contar duplicados explícitos\n",
    "print(df.duplicated().sum())"
   ]
  },
  {
   "cell_type": "markdown",
   "metadata": {
    "id": "Ot25h6XR_Zct"
   },
   "source": [
    "Ahora, elimina todos los duplicados. Para ello, llama al método que hace exactamente esto."
   ]
  },
  {
   "cell_type": "code",
   "execution_count": 15,
   "metadata": {
    "id": "exFHq6tt_Zct"
   },
   "outputs": [],
   "source": [
    "# Eliminar duplicados explícitos\n",
    "df.drop_duplicates(inplace=True)"
   ]
  },
  {
   "cell_type": "markdown",
   "metadata": {
    "id": "Im2YwBEG_Zct"
   },
   "source": [
    "Comprobemos ahora si eliminamos con éxito todos los duplicados. Cuenta los duplicados explícitos una vez más para asegurarte de haberlos eliminado todos:"
   ]
  },
  {
   "cell_type": "code",
   "execution_count": 16,
   "metadata": {
    "id": "-8PuNWQ0_Zct"
   },
   "outputs": [
    {
     "name": "stdout",
     "output_type": "stream",
     "text": [
      "0\n"
     ]
    }
   ],
   "source": [
    "# Comprobar de nuevo si hay duplicados\n",
    "print(df.duplicated().sum())\n"
   ]
  },
  {
   "cell_type": "markdown",
   "metadata": {
    "id": "QlFBsxAr_Zct"
   },
   "source": [
    "Ahora queremos deshacernos de los duplicados implícitos en la columna `genre`. Por ejemplo, el nombre de un género se puede escribir de varias formas. Dichos errores también pueden afectar al resultado."
   ]
  },
  {
   "cell_type": "markdown",
   "metadata": {
    "id": "eSjWwsOh_Zct"
   },
   "source": [
    "Para hacerlo, primero mostremos una lista de nombres de género únicos, ordenados en orden alfabético. Para ello:\n",
    "* Extrae la columna `genre` del DataFrame.\n",
    "* Llama al método que devolverá todos los valores únicos en la columna extraída.\n"
   ]
  },
  {
   "cell_type": "code",
   "execution_count": 17,
   "metadata": {
    "id": "JIUcqzZN_Zct"
   },
   "outputs": [
    {
     "name": "stdout",
     "output_type": "stream",
     "text": [
      "['rock' 'pop' 'folk' 'dance' 'rusrap' 'ruspop' 'world' 'electronic'\n",
      " 'unknown' 'alternative' 'children' 'rnb' 'hip' 'jazz' 'postrock' 'latin'\n",
      " 'classical' 'metal' 'reggae' 'triphop' 'blues' 'instrumental' 'rusrock'\n",
      " 'dnb' 'türk' 'post' 'country' 'psychedelic' 'conjazz' 'indie'\n",
      " 'posthardcore' 'local' 'avantgarde' 'punk' 'videogame' 'techno' 'house'\n",
      " 'christmas' 'melodic' 'caucasian' 'reggaeton' 'soundtrack' 'singer' 'ska'\n",
      " 'salsa' 'ambient' 'film' 'western' 'rap' 'beats' \"hard'n'heavy\"\n",
      " 'progmetal' 'minimal' 'tropical' 'contemporary' 'new' 'soul' 'holiday'\n",
      " 'german' 'jpop' 'spiritual' 'urban' 'gospel' 'nujazz' 'folkmetal'\n",
      " 'trance' 'miscellaneous' 'anime' 'hardcore' 'progressive' 'korean'\n",
      " 'numetal' 'vocal' 'estrada' 'tango' 'loungeelectronic' 'classicmetal'\n",
      " 'dubstep' 'club' 'deep' 'southern' 'black' 'folkrock' 'fitness' 'french'\n",
      " 'disco' 'religious' 'hiphop' 'drum' 'extrememetal' 'türkçe'\n",
      " 'experimental' 'easy' 'metalcore' 'modern' 'argentinetango' 'old' 'swing'\n",
      " 'breaks' 'eurofolk' 'stonerrock' 'industrial' 'funk' 'middle' 'variété'\n",
      " 'other' 'adult' 'christian' 'thrash' 'gothic' 'international' 'muslim'\n",
      " 'relax' 'schlager' 'caribbean' 'nu' 'breakbeat' 'comedy' 'chill' 'newage'\n",
      " 'specialty' 'uzbek' 'k-pop' 'balkan' 'chinese' 'meditative' 'dub' 'power'\n",
      " 'death' 'grime' 'arabesk' 'romance' 'flamenco' 'leftfield' 'european'\n",
      " 'tech' 'newwave' 'dancehall' 'mpb' 'piano' 'top' 'bigroom' 'opera'\n",
      " 'celtic' 'tradjazz' 'acoustic' 'epicmetal' 'hip-hop' 'historisch'\n",
      " 'downbeat' 'downtempo' 'africa' 'audiobook' 'jewish' 'sängerportrait'\n",
      " 'deutschrock' 'eastern' 'action' 'future' 'electropop' 'folklore'\n",
      " 'bollywood' 'marschmusik' 'rnr' 'karaoke' 'indian' 'rancheras'\n",
      " 'afrikaans' 'rhythm' 'sound' 'deutschspr' 'trip' 'lovers' 'choral'\n",
      " 'dancepop' 'retro' 'smooth' 'mexican' 'brazilian' 'ïîï' 'mood' 'surf'\n",
      " 'gangsta' 'inspirational' 'idm' 'ethnic' 'bluegrass' 'broadway'\n",
      " 'animated' 'americana' 'karadeniz' 'rockabilly' 'colombian' 'self' 'hop'\n",
      " 'sertanejo' 'japanese' 'canzone' 'lounge' 'sport' 'ragga' 'traditional'\n",
      " 'gitarre' 'frankreich' 'emo' 'laiko' 'cantopop' 'glitch' 'documentary'\n",
      " 'oceania' 'popeurodance' 'dark' 'vi' 'grunge' 'hardstyle' 'samba'\n",
      " 'garage' 'art' 'folktronica' 'entehno' 'mediterranean' 'chamber' 'cuban'\n",
      " 'taraftar' 'gypsy' 'hardtechno' 'shoegazing' 'bossa' 'latino' 'worldbeat'\n",
      " 'malaysian' 'baile' 'ghazal' 'arabic' 'popelectronic' 'acid' 'kayokyoku'\n",
      " 'neoklassik' 'tribal' 'tanzorchester' 'native' 'independent' 'cantautori'\n",
      " 'handsup' 'punjabi' 'synthpop' 'rave' 'französisch' 'quebecois' 'speech'\n",
      " 'soulful' 'jam' 'ram' 'horror' 'orchestral' 'neue' 'roots' 'slow'\n",
      " 'jungle' 'indipop' 'axé' 'fado' 'showtunes' 'arena' 'irish' 'mandopop'\n",
      " 'forró' 'dirty' 'regional']\n",
      "269\n"
     ]
    }
   ],
   "source": [
    "# Inspeccionar los nombres de géneros únicos\n",
    "genre=df['genre'].unique()\n",
    "genre_count=len(df['genre'].unique())\n",
    "print(genre)\n",
    "\n",
    "print(genre_count)\n"
   ]
  },
  {
   "cell_type": "markdown",
   "metadata": {},
   "source": [
    "<div class=\"alert alert-block alert-warning\">\n",
    "<b>Comentario del revisor</b> <a class=\"tocSkip\"></a>\n",
    "\n",
    "Ordenar estos valores hara que sea mucho mas claro encontrar errores y correcciones. Siempre es mejor para la legibilidad.\n",
    "\n",
    " Perfecto uso del nunique().\n",
    "</div>"
   ]
  },
  {
   "cell_type": "markdown",
   "metadata": {
    "id": "qej-Qmuo_Zct"
   },
   "source": [
    "Busca en la lista para encontrar duplicados implícitos del género `hiphop`. Estos pueden ser nombres escritos incorrectamente o nombres alternativos para el mismo género.\n",
    "\n",
    "Verás los siguientes duplicados implícitos:\n",
    "* `hip`\n",
    "* `hop`\n",
    "* `hip-hop`\n",
    "\n",
    "Para deshacerte de ellos, crea una función llamada `replace_wrong_genres()` con dos parámetros:\n",
    "* `wrong_genres=`: esta es una lista que contiene todos los valores que necesitas reemplazar.\n",
    "* `correct_genre=`: este es un string que vas a utilizar como reemplazo.\n",
    "\n",
    "Como resultado, la función debería corregir los nombres en la columna `'genre'` de la tabla `df`, es decir, remplazar cada valor de la lista `wrong_genres` por el valor en `correct_genre`.\n",
    "\n",
    "Dentro del cuerpo de la función, utiliza un bucle `'for'` para iterar sobre la lista de géneros incorrectos, extrae la columna `'genre'` y aplica el método `replace` para hacer correcciones."
   ]
  },
  {
   "cell_type": "code",
   "execution_count": 18,
   "metadata": {
    "id": "ErNDkmns_Zct"
   },
   "outputs": [],
   "source": [
    "# Función para reemplazar duplicados implícitos\n",
    "wrong_genre=['hip','hop','hip-hop']\n",
    "correct_genre='hiphop'\n",
    "\n",
    "def replace_wrong_genre (wrong_genre, correct_genre):\n",
    "    for genre in wrong_genre:\n",
    "        df['genre']=df['genre'].replace(genre, correct_genre)\n",
    "    \n",
    "    return df\n",
    "\n",
    "\n",
    "\n",
    "    "
   ]
  },
  {
   "cell_type": "markdown",
   "metadata": {
    "id": "aDoBJxbA_Zct"
   },
   "source": [
    "Ahora, llama a `replace_wrong_genres()` y pásale tales argumentos para que retire los duplicados implícitos (`hip`, `hop` y `hip-hop`) y los reemplace por `hiphop`:"
   ]
  },
  {
   "cell_type": "code",
   "execution_count": 19,
   "metadata": {
    "id": "YN5i2hpmSo09"
   },
   "outputs": [
    {
     "name": "stdout",
     "output_type": "stream",
     "text": [
      "<bound method NDFrame.head of         user_id                              track            artist  \\\n",
      "0      FFB692EC                  Kamigata To Boots  The Mass Missile   \n",
      "1      55204538        Delayed Because of Accident  Andreas Rönnberg   \n",
      "2        20EC38                  Funiculì funiculà       Mario Lanza   \n",
      "3      A3DD03C9              Dragons in the Sunset        Fire + Ice   \n",
      "4      E2DC1FAE                        Soul People        Space Echo   \n",
      "...         ...                                ...               ...   \n",
      "65074  729CBB09                            My Name            McLean   \n",
      "65075  D08D4A55  Maybe One Day (feat. Black Spade)       Blu & Exile   \n",
      "65076  C5E3A0D5                          Jalopiina           unknown   \n",
      "65077  321D0506                      Freight Train     Chas McDevitt   \n",
      "65078  3A64EF84          Tell Me Sweet Little Lies      Monica Lopez   \n",
      "\n",
      "            genre         city      time        day  \n",
      "0            rock  Shelbyville  20:28:33  Wednesday  \n",
      "1            rock  Springfield  14:07:09     Friday  \n",
      "2             pop  Shelbyville  20:58:07  Wednesday  \n",
      "3            folk  Shelbyville  08:37:09     Monday  \n",
      "4           dance  Springfield  08:34:34     Monday  \n",
      "...           ...          ...       ...        ...  \n",
      "65074         rnb  Springfield  13:32:28  Wednesday  \n",
      "65075      hiphop  Shelbyville  10:00:00     Monday  \n",
      "65076  industrial  Springfield  20:09:26     Friday  \n",
      "65077        rock  Springfield  21:43:59     Friday  \n",
      "65078     country  Springfield  21:59:46     Friday  \n",
      "\n",
      "[61253 rows x 7 columns]>\n",
      "     user_id             track  \\\n",
      "20  201CF2A8  Ya'll In Trouble   \n",
      "46  825997A5  Glorious Feeling   \n",
      "79  1DA07AA4           Cardi B   \n",
      "81  CCD46819            Narcos   \n",
      "82    80396F        Ay Caramba   \n",
      "\n",
      "                                               artist   genre         city  \\\n",
      "20  Lil Tee Chill Tank Young Buck Brother Mohammed...  hiphop  Springfield   \n",
      "46                                         Joelistics  hiphop  Springfield   \n",
      "79                                          Money Man  hiphop  Shelbyville   \n",
      "81                                           FOrΣvΣrT  hiphop  Shelbyville   \n",
      "82                                Stay Flee Get Lizzy  hiphop  Springfield   \n",
      "\n",
      "        time        day  \n",
      "20  08:46:03     Monday  \n",
      "46  21:46:34     Friday  \n",
      "79  14:02:14     Monday  \n",
      "81  09:20:38  Wednesday  \n",
      "82  13:15:38     Monday  \n",
      "Empty DataFrame\n",
      "Columns: [user_id, track, artist, genre, city, time, day]\n",
      "Index: []\n",
      "Empty DataFrame\n",
      "Columns: [user_id, track, artist, genre, city, time, day]\n",
      "Index: []\n",
      "Empty DataFrame\n",
      "Columns: [user_id, track, artist, genre, city, time, day]\n",
      "Index: []\n"
     ]
    }
   ],
   "source": [
    "# Eliminar duplicados implícitos\n",
    "new_df=replace_wrong_genre(wrong_genre,correct_genre)\n",
    "print(new_df.head)\n",
    "\n",
    "print(new_df[new_df['genre']=='hiphop'].head(5)) #para ver si se remplazo bien el valor\n",
    "print(new_df[new_df['genre']=='hip']) #para checar que no haya valores que no se remplazaron\n",
    "print(new_df[new_df['genre']=='hop']) #para checar que no haya valores que no se remplazaron\n",
    "print(new_df[new_df['genre']=='hip-hop'])  #para checar que no haya valores que no se remplazaron"
   ]
  },
  {
   "cell_type": "markdown",
   "metadata": {
    "id": "zQKF16_RG15m"
   },
   "source": [
    "Asegúrate de que los nombres duplicados han sido eliminados. Muestra la lista de valores únicos de la columna `'genre'` una vez más:"
   ]
  },
  {
   "cell_type": "code",
   "execution_count": 20,
   "metadata": {
    "id": "wvixALnFG15m"
   },
   "outputs": [
    {
     "name": "stdout",
     "output_type": "stream",
     "text": [
      "<bound method Series.unique of 0              rock\n",
      "1              rock\n",
      "2               pop\n",
      "3              folk\n",
      "4             dance\n",
      "            ...    \n",
      "65074           rnb\n",
      "65075        hiphop\n",
      "65076    industrial\n",
      "65077          rock\n",
      "65078       country\n",
      "Name: genre, Length: 61253, dtype: object>\n",
      "<class 'pandas.core.frame.DataFrame'>\n",
      "Int64Index: 61253 entries, 0 to 65078\n",
      "Data columns (total 7 columns):\n",
      " #   Column   Non-Null Count  Dtype \n",
      "---  ------   --------------  ----- \n",
      " 0   user_id  61253 non-null  object\n",
      " 1   track    61253 non-null  object\n",
      " 2   artist   61253 non-null  object\n",
      " 3   genre    61253 non-null  object\n",
      " 4   city     61253 non-null  object\n",
      " 5   time     61253 non-null  object\n",
      " 6   day      61253 non-null  object\n",
      "dtypes: object(7)\n",
      "memory usage: 3.7+ MB\n"
     ]
    }
   ],
   "source": [
    "# Comprobación de duplicados implícitos\n",
    "print(df['genre'].unique)\n",
    "df.info()"
   ]
  },
  {
   "cell_type": "markdown",
   "metadata": {},
   "source": [
    "<div class=\"alert alert-block alert-success\">\n",
    "\n",
    "<b>Comentario del revisor</b> <a class=\"tocSkip\"></a>\n",
    "\n",
    "\n",
    "Muy bien.\n",
    "    \n",
    "    \n",
    "</div>"
   ]
  },
  {
   "cell_type": "markdown",
   "metadata": {
    "id": "ALgNbvF3VtPA"
   },
   "source": [
    "[Volver a Contenidos](#back)"
   ]
  },
  {
   "cell_type": "markdown",
   "metadata": {
    "id": "jz6a9-7HQUDd"
   },
   "source": [
    "### Tus observaciones <a id='data_preprocessing_conclusions'></a>\n",
    "\n",
    "`Describe brevemente lo que has notado al analizar duplicados, cómo abordaste sus eliminaciones y qué resultados obtuviste.\n",
    "\n",
    "Logramos eliminar 3826 duplicados lo que nos deja con 61,253 datos unicos de los 65079 que teniamos al inicio. Lo cual sigue siendo un buen numero para continuar con el analisis. El proceso de eliminacion fue comenzar con saber cuantos duplicados teniamos usando .duplicated().sum(), posteriormente se procedio a eliminarlos utilizando .drop_duplicates y finalmente comprobamos si aun habia duplicados despues de eliminarlos, utilizando nuevamente .duplicated().sum()\n",
    "`"
   ]
  },
  {
   "cell_type": "markdown",
   "metadata": {},
   "source": [
    "<div class=\"alert alert-block alert-success\">\n",
    "\n",
    "<b>Comentario del revisor</b> <a class=\"tocSkip\"></a>\n",
    "\n",
    "\n",
    "Muy buena observacion.    \n",
    "    \n",
    "</div>"
   ]
  },
  {
   "cell_type": "markdown",
   "metadata": {
    "id": "eK1es74rVujj"
   },
   "source": [
    "[Volver a Contenidos](#back)"
   ]
  },
  {
   "cell_type": "markdown",
   "metadata": {
    "id": "WttZHXH0SqKk"
   },
   "source": [
    "## Etapa 3. Prueba de hipótesis <a id='hypothesis'></a>"
   ]
  },
  {
   "cell_type": "markdown",
   "metadata": {
    "id": "Im936VVi_Zcu"
   },
   "source": [
    "### Hipótesis: comparar el comportamiento del usuario o la usuaria en las dos ciudades <a id='activity'></a>"
   ]
  },
  {
   "cell_type": "markdown",
   "metadata": {
    "id": "nwt_MuaL_Zcu"
   },
   "source": [
    "La hipótesis afirma que existen diferencias en la forma en que los usuarios y las usuarias de Springfield y Shelbyville consumen música. Para comprobar esto, usa los datos de tres días de la semana: lunes, miércoles y viernes.\n",
    "\n",
    "* Agrupa a los usuarios y las usuarias por ciudad.\n",
    "* Compara el número de canciones que cada grupo reprodujo el lunes, el miércoles y el viernes.\n"
   ]
  },
  {
   "cell_type": "markdown",
   "metadata": {
    "id": "8Dw_YMmT_Zcu"
   },
   "source": [
    "Realiza cada cálculo por separado.\n",
    "\n",
    "El primer paso es evaluar la actividad del usuario en cada ciudad. Recuerda las etapas dividir-aplicar-combinar de las que hablamos anteriormente en la lección. Tu objetivo ahora es agrupar los datos por ciudad, aplicar el método apropiado para contar durante la etapa de aplicación y luego encontrar la cantidad de canciones reproducidas en cada grupo especificando la columna para obtener el recuento.\n",
    "\n",
    "A continuación se muestra un ejemplo de cómo debería verse el resultado final:\n",
    "`df.groupby(by='....')['column'].method()`Realiza cada cálculo por separado.\n",
    "\n",
    "Para evaluar la actividad de los usuarios y las usuarias en cada ciudad, agrupa los datos por ciudad y encuentra la cantidad de canciones reproducidas en cada grupo.\n",
    "\n"
   ]
  },
  {
   "cell_type": "code",
   "execution_count": 21,
   "metadata": {
    "id": "0_Qs96oh_Zcu"
   },
   "outputs": [
    {
     "name": "stdout",
     "output_type": "stream",
     "text": [
      "city\n",
      "Shelbyville    18512\n",
      "Springfield    42741\n",
      "Name: user_id, dtype: int64\n"
     ]
    }
   ],
   "source": [
    "# Contar las canciones reproducidas en cada ciudad\n",
    "\n",
    "group1=(df.groupby('city')['user_id'].count())\n",
    "print(group1)\n"
   ]
  },
  {
   "cell_type": "markdown",
   "metadata": {
    "id": "t_Qx-3NewAnK"
   },
   "source": [
    "Podemos ver un mayor número de usuarios localizados en Springfield a comparación de Shelbville."
   ]
  },
  {
   "cell_type": "markdown",
   "metadata": {
    "id": "dzli3w8o_Zcu"
   },
   "source": [
    "Ahora agrupemos los datos por día de la semana y encontremos el número de canciones reproducidas el lunes, miércoles y viernes. Utiliza el mismo método que antes, pero ahora necesitamos una agrupación diferente.\n"
   ]
  },
  {
   "cell_type": "code",
   "execution_count": 22,
   "metadata": {
    "id": "uZMKjiJz_Zcu"
   },
   "outputs": [
    {
     "name": "stdout",
     "output_type": "stream",
     "text": [
      "day\n",
      "Friday       21840\n",
      "Monday       21354\n",
      "Wednesday    18059\n",
      "Name: track, dtype: int64\n"
     ]
    }
   ],
   "source": [
    "# Calcular las canciones reproducidas en cada uno de los tres días\n",
    "\n",
    "group22= (df.groupby(\"day\")[\"track\"].count())\n",
    "print(group22)"
   ]
  },
  {
   "cell_type": "markdown",
   "metadata": {
    "id": "cC2tNrlL_Zcu"
   },
   "source": [
    "Podemos observar que el dia viernes contamos con una mayor reproduccion de tracks. Esto puede deberse a varios factores como el comienzo del fin de semana. Del mismo modo, el día Lunes cuenta con el segundo puesto de mayores reproducciones de tracks y por ultimo el día miercoles."
   ]
  },
  {
   "cell_type": "markdown",
   "metadata": {},
   "source": [
    "<div class=\"alert alert-block alert-success\">\n",
    "\n",
    "<b>Comentario del revisor</b> <a class=\"tocSkip\"></a>\n",
    "\n",
    "\n",
    "Excelente.    \n",
    "    \n",
    "</div>"
   ]
  },
  {
   "cell_type": "markdown",
   "metadata": {
    "id": "POzs8bGa_Zcu"
   },
   "source": [
    "Ya sabes cómo contar entradas agrupándolas por ciudad o día. Ahora necesitas escribir una función que pueda contar entradas según ambos criterios simultáneamente.\n",
    "\n",
    "Crea la función `number_tracks()` para calcular el número de canciones reproducidas en un determinado día **y** ciudad. La función debe aceptar dos parámetros:\n",
    "\n",
    "- `day`: un día de la semana para filtrar. Por ejemplo, `'Monday'` (lunes).\n",
    "- `city`: una ciudad para filtrar. Por ejemplo, `'Springfield'`.\n",
    "\n",
    "Dentro de la función, aplicarás un filtrado consecutivo con indexación lógica.\n",
    "\n",
    "Primero filtra los datos por día y luego filtra la tabla resultante por ciudad.\n",
    "\n",
    "Después de filtrar los datos por dos criterios, cuenta el número de valores de la columna 'user_id' en la tabla resultante. Este recuento representa el número de entradas que estás buscando. Guarda el resultado en una nueva variable y devuélvelo desde la función."
   ]
  },
  {
   "cell_type": "code",
   "execution_count": 24,
   "metadata": {
    "id": "Nz3GdQB1_Zcu"
   },
   "outputs": [],
   "source": [
    "# Declara la función number_tracks() con dos parámetros: day= y city=.\n",
    "def number_tracks(day, city):\n",
    "\n",
    "    # Almacena las filas del DataFrame donde el valor en la columna 'day' es igual al parámetro day=\n",
    "    dai = df[df['day'] == day]\n",
    "    # Filtra las filas donde el valor en la columna 'city' es igual al parámetro city=\n",
    "    citi = dai[dai['city']== city]\n",
    "    # Extrae la columna 'user_id' de la tabla filtrada y aplica el método count()\n",
    "    user_count=citi['user_id'].count()\n",
    "    # Devolve el número de valores de la columna 'user_id'\n",
    "    return(user_count)\n",
    "\n",
    "## CHERCAR TODO ESTO\n",
    "    "
   ]
  },
  {
   "cell_type": "markdown",
   "metadata": {},
   "source": [
    "<div class=\"alert alert-block alert-success\">\n",
    "<b>Comentario del revisor</b> <a class=\"tocSkip\"></a>\n",
    "\n",
    "Muy buena la funcion.\n",
    "\n",
    "Como recomendacion para futuros proyectos, podrias utilizar expresiones anidadas para que tu codigo sea mucho mas corto, por ejemplo si queremos que se cumplan dos condiciones consecutivas podemos utilizar el AND y en una linea de codigo resolvemos el mismo problema.</div>"
   ]
  },
  {
   "cell_type": "markdown",
   "metadata": {
    "id": "ytf7xFrFJQ2r"
   },
   "source": [
    "Llama a `number_tracks()` seis veces, cambiando los valores de los parámetros para que recuperes los datos de ambas ciudades para cada uno de los tres días."
   ]
  },
  {
   "cell_type": "code",
   "execution_count": 35,
   "metadata": {
    "id": "rJcRATNQ_Zcu"
   },
   "outputs": [
    {
     "name": "stdout",
     "output_type": "stream",
     "text": [
      "15740\n"
     ]
    }
   ],
   "source": [
    "# El número de canciones reproducidas en Springfield el lunes\n",
    "monday_sf = number_tracks('Monday', 'Springfield')\n",
    "print(monday_sf)\n"
   ]
  },
  {
   "cell_type": "code",
   "execution_count": 28,
   "metadata": {
    "id": "hq_ncZ5T_Zcu"
   },
   "outputs": [
    {
     "name": "stdout",
     "output_type": "stream",
     "text": [
      "5614\n"
     ]
    }
   ],
   "source": [
    "# El número de canciones reproducidas en Shelbyville el lunes\n",
    "monday_sv  = number_tracks('Monday','Shelbyville')\n",
    "print(monday_sv)"
   ]
  },
  {
   "cell_type": "code",
   "execution_count": 31,
   "metadata": {
    "id": "_NTy2VPU_Zcu"
   },
   "outputs": [
    {
     "name": "stdout",
     "output_type": "stream",
     "text": [
      "11056\n"
     ]
    }
   ],
   "source": [
    "# El número de canciones reproducidas en Springfield el miércoles\n",
    "wednesday_sf  = number_tracks('Wednesday','Springfield')\n",
    "print(wednesday_sf)"
   ]
  },
  {
   "cell_type": "code",
   "execution_count": 32,
   "metadata": {
    "id": "j2y3TAwo_Zcu"
   },
   "outputs": [
    {
     "name": "stdout",
     "output_type": "stream",
     "text": [
      "7003\n"
     ]
    }
   ],
   "source": [
    "# El número de canciones reproducidas en Shelbyville el miércoles\n",
    "wednesday_sv  = number_tracks('Wednesday','Shelbyville')\n",
    "print(wednesday_sv)"
   ]
  },
  {
   "cell_type": "code",
   "execution_count": 36,
   "metadata": {
    "id": "vYDw5u_K_Zcu"
   },
   "outputs": [
    {
     "name": "stdout",
     "output_type": "stream",
     "text": [
      "15945\n"
     ]
    }
   ],
   "source": [
    "# El número de canciones reproducidas en Springfield el viernes\n",
    "friday_sf  = number_tracks('Friday','Springfield')\n",
    "print(friday_sf)"
   ]
  },
  {
   "cell_type": "code",
   "execution_count": 37,
   "metadata": {
    "id": "8_yzFtW3_Zcu"
   },
   "outputs": [
    {
     "name": "stdout",
     "output_type": "stream",
     "text": [
      "5895\n"
     ]
    }
   ],
   "source": [
    "# El número de canciones reproducidas en Shelbyville el viernes\n",
    "friday_sv  = number_tracks('Friday','Shelbyville')\n",
    "print(friday_sv)"
   ]
  },
  {
   "cell_type": "markdown",
   "metadata": {
    "id": "-EgPIHYu_Zcu"
   },
   "source": [
    "**Conclusiones**\n",
    "\n",
    "Nuestra hipotesis afirma que existen diferencias en la forma en que los usuarios y las usuarias de Springfield y Shelbyville consumen música. Posterior al analisis, podemos observar que hay una gran diferencia entre el numero de tracks reproducidos en ambas ciudades y en los diferentes días, lo que nos indica que nuestra hipotesis es aceptada."
   ]
  },
  {
   "cell_type": "markdown",
   "metadata": {
    "id": "p7nFQajCVw5B"
   },
   "source": [
    "[Volver a Contenidos](#back)"
   ]
  },
  {
   "cell_type": "markdown",
   "metadata": {
    "id": "ykKQ0N65_Zcv"
   },
   "source": [
    "# Conclusiones <a id='end'></a>"
   ]
  },
  {
   "cell_type": "markdown",
   "metadata": {
    "id": "tjUwbHb3_Zcv"
   },
   "source": [
    "`Resume aquí tus conclusiones sobre la hipótesis.`\n",
    "\n",
    "1- La hipotesis se acepto debido a la diferencia del comportamiento que pudimos observar en nuestros datos para ambas ciudades. No solo pudimos observar una diferencia entre el numero de tracks que se reproducen en ambas ciudades pero tambien fue posible observar los días donde hubo más y menos reproducciones.\n",
    "\n",
    "2- El numero de tracks reproducidos difiere dependiendo del dia de la semana. Puesto que analizamos Lunes, Miercoles y Viernes, pudimos ver que los usuarios de Springfield son los que escuchan mas tracks el día viernes y los usuarios de Shelbyville cuentan con mas reproducciones de tracks el día Miercoles. \n"
   ]
  },
  {
   "cell_type": "markdown",
   "metadata": {},
   "source": [
    "<div class=\"alert alert-block alert-success\">\n",
    "\n",
    "<b>Comentario del revisor</b> <a class=\"tocSkip\"></a>\n",
    "\n",
    "\n",
    "Excelentes conclusiones.    \n",
    "    \n",
    "</div>"
   ]
  },
  {
   "cell_type": "markdown",
   "metadata": {
    "id": "azLHu64yOIp7"
   },
   "source": [
    "### Nota\n",
    "En proyectos de investigación reales, la prueba de hipótesis estadística es más precisa y cuantitativa. También ten en cuenta que no siempre se pueden sacar conclusiones sobre una ciudad entera a partir de datos de una sola fuente.\n",
    "\n",
    "Aprenderás más sobre la prueba de hipótesis en el sprint de análisis estadístico de datos."
   ]
  },
  {
   "cell_type": "markdown",
   "metadata": {
    "id": "Ju4AHDSgV1FE"
   },
   "source": [
    "[Volver a Contenidos](#back)"
   ]
  }
 ],
 "metadata": {
  "ExecuteTimeLog": [
   {
    "duration": 355,
    "start_time": "2024-09-20T21:17:20.950Z"
   },
   {
    "duration": 121,
    "start_time": "2024-09-20T21:17:22.719Z"
   },
   {
    "duration": 7,
    "start_time": "2024-09-20T21:17:24.374Z"
   },
   {
    "duration": 23,
    "start_time": "2024-09-20T21:17:27.182Z"
   },
   {
    "duration": 12,
    "start_time": "2024-09-20T21:33:05.475Z"
   },
   {
    "duration": 57,
    "start_time": "2024-09-20T21:35:41.942Z"
   },
   {
    "duration": 39,
    "start_time": "2024-09-20T21:35:47.504Z"
   },
   {
    "duration": 59,
    "start_time": "2024-09-20T21:39:21.928Z"
   },
   {
    "duration": 84,
    "start_time": "2024-09-20T21:40:19.770Z"
   },
   {
    "duration": 102,
    "start_time": "2024-09-20T21:41:57.556Z"
   },
   {
    "duration": 5,
    "start_time": "2024-09-20T21:42:08.385Z"
   },
   {
    "duration": 3,
    "start_time": "2024-09-20T21:42:10.033Z"
   },
   {
    "duration": 4,
    "start_time": "2024-09-20T21:52:09.689Z"
   },
   {
    "duration": 334,
    "start_time": "2024-09-20T21:52:16.994Z"
   },
   {
    "duration": 4,
    "start_time": "2024-09-20T21:52:51.024Z"
   },
   {
    "duration": 5,
    "start_time": "2024-09-20T21:54:29.319Z"
   },
   {
    "duration": 3,
    "start_time": "2024-09-20T21:54:36.653Z"
   },
   {
    "duration": 3,
    "start_time": "2024-09-20T21:55:21.642Z"
   },
   {
    "duration": 4,
    "start_time": "2024-09-20T21:57:59.948Z"
   },
   {
    "duration": 7,
    "start_time": "2024-09-20T21:58:49.641Z"
   },
   {
    "duration": 4,
    "start_time": "2024-09-20T21:58:58.215Z"
   },
   {
    "duration": 4,
    "start_time": "2024-09-20T21:59:38.648Z"
   },
   {
    "duration": 3,
    "start_time": "2024-09-20T22:02:06.737Z"
   },
   {
    "duration": 4,
    "start_time": "2024-09-20T22:02:25.865Z"
   },
   {
    "duration": 3,
    "start_time": "2024-09-20T22:03:10.333Z"
   },
   {
    "duration": 4,
    "start_time": "2024-09-20T22:03:14.954Z"
   },
   {
    "duration": 4,
    "start_time": "2024-09-20T22:03:20.268Z"
   },
   {
    "duration": 4,
    "start_time": "2024-09-20T22:03:22.291Z"
   },
   {
    "duration": 4,
    "start_time": "2024-09-20T22:03:31.822Z"
   },
   {
    "duration": 4,
    "start_time": "2024-09-20T22:04:14.112Z"
   },
   {
    "duration": 4,
    "start_time": "2024-09-20T22:06:16.152Z"
   },
   {
    "duration": 4,
    "start_time": "2024-09-20T22:06:21.474Z"
   },
   {
    "duration": 4,
    "start_time": "2024-09-20T22:08:46.627Z"
   },
   {
    "duration": 4,
    "start_time": "2024-09-20T22:08:52.363Z"
   },
   {
    "duration": 4,
    "start_time": "2024-09-20T22:09:04.777Z"
   },
   {
    "duration": 4,
    "start_time": "2024-09-20T22:09:41.717Z"
   },
   {
    "duration": 4,
    "start_time": "2024-09-20T22:09:44.089Z"
   },
   {
    "duration": 169,
    "start_time": "2024-09-20T22:10:29.330Z"
   },
   {
    "duration": 286,
    "start_time": "2024-09-20T22:10:35.397Z"
   },
   {
    "duration": 92,
    "start_time": "2024-09-20T22:10:37.306Z"
   },
   {
    "duration": 12,
    "start_time": "2024-09-20T22:10:39.252Z"
   },
   {
    "duration": 63,
    "start_time": "2024-09-20T22:10:41.770Z"
   },
   {
    "duration": 3,
    "start_time": "2024-09-20T22:10:46.649Z"
   },
   {
    "duration": 3,
    "start_time": "2024-09-20T22:10:49.791Z"
   },
   {
    "duration": 4,
    "start_time": "2024-09-20T22:12:23.688Z"
   },
   {
    "duration": 3,
    "start_time": "2024-09-20T22:12:36.795Z"
   },
   {
    "duration": 5,
    "start_time": "2024-09-20T22:13:05.334Z"
   },
   {
    "duration": 4,
    "start_time": "2024-09-20T22:13:19.169Z"
   },
   {
    "duration": 358,
    "start_time": "2024-09-20T22:15:03.546Z"
   },
   {
    "duration": 4,
    "start_time": "2024-09-20T22:16:19.876Z"
   },
   {
    "duration": 4,
    "start_time": "2024-09-20T22:16:26.538Z"
   },
   {
    "duration": 306,
    "start_time": "2024-09-20T22:16:42.078Z"
   },
   {
    "duration": 94,
    "start_time": "2024-09-20T22:16:43.612Z"
   },
   {
    "duration": 11,
    "start_time": "2024-09-20T22:16:45.557Z"
   },
   {
    "duration": 63,
    "start_time": "2024-09-20T22:16:49.243Z"
   },
   {
    "duration": 3,
    "start_time": "2024-09-20T22:16:54.981Z"
   },
   {
    "duration": 4,
    "start_time": "2024-09-20T22:16:59.178Z"
   },
   {
    "duration": 176,
    "start_time": "2024-09-20T22:18:22.747Z"
   },
   {
    "duration": 13,
    "start_time": "2024-09-20T22:19:18.338Z"
   },
   {
    "duration": 444,
    "start_time": "2024-09-20T22:19:37.795Z"
   },
   {
    "duration": 3,
    "start_time": "2024-09-20T22:19:50.835Z"
   },
   {
    "duration": 13,
    "start_time": "2024-09-20T22:22:09.961Z"
   },
   {
    "duration": 14,
    "start_time": "2024-09-20T22:22:36.892Z"
   },
   {
    "duration": 4,
    "start_time": "2024-09-20T22:24:52.881Z"
   },
   {
    "duration": 12,
    "start_time": "2024-09-20T22:25:15.716Z"
   },
   {
    "duration": 13,
    "start_time": "2024-09-20T22:25:23.397Z"
   },
   {
    "duration": 14,
    "start_time": "2024-09-20T22:25:27.068Z"
   },
   {
    "duration": 3,
    "start_time": "2024-09-20T22:28:33.144Z"
   },
   {
    "duration": 4,
    "start_time": "2024-09-20T22:30:01.925Z"
   },
   {
    "duration": 3,
    "start_time": "2024-09-20T22:31:55.897Z"
   },
   {
    "duration": 18,
    "start_time": "2024-09-20T22:33:33.279Z"
   },
   {
    "duration": 14,
    "start_time": "2024-09-20T22:37:54.196Z"
   },
   {
    "duration": 18,
    "start_time": "2024-09-20T22:38:16.929Z"
   },
   {
    "duration": 12,
    "start_time": "2024-09-20T22:39:02.817Z"
   },
   {
    "duration": 44,
    "start_time": "2024-09-20T22:39:15.404Z"
   },
   {
    "duration": 48,
    "start_time": "2024-09-20T22:40:10.292Z"
   },
   {
    "duration": 13,
    "start_time": "2024-09-20T22:40:34.467Z"
   },
   {
    "duration": 56,
    "start_time": "2024-09-20T22:40:46.435Z"
   },
   {
    "duration": 4,
    "start_time": "2024-09-20T22:41:36.918Z"
   },
   {
    "duration": 4,
    "start_time": "2024-09-20T22:41:51.765Z"
   },
   {
    "duration": 3,
    "start_time": "2024-09-20T22:42:01.091Z"
   },
   {
    "duration": 6,
    "start_time": "2024-09-20T22:42:48.904Z"
   },
   {
    "duration": 6,
    "start_time": "2024-09-20T22:42:58.734Z"
   },
   {
    "duration": 5,
    "start_time": "2024-09-20T22:43:17.891Z"
   },
   {
    "duration": 6,
    "start_time": "2024-09-20T22:43:25.564Z"
   },
   {
    "duration": 6,
    "start_time": "2024-09-20T22:50:11.889Z"
   },
   {
    "duration": 15,
    "start_time": "2024-09-20T22:50:19.158Z"
   },
   {
    "duration": 6,
    "start_time": "2024-09-20T22:52:09.546Z"
   },
   {
    "duration": 8,
    "start_time": "2024-09-20T22:54:37.827Z"
   },
   {
    "duration": 8,
    "start_time": "2024-09-20T22:54:44.478Z"
   },
   {
    "duration": 8,
    "start_time": "2024-09-20T22:54:57.483Z"
   },
   {
    "duration": 9,
    "start_time": "2024-09-21T01:22:48.020Z"
   },
   {
    "duration": 161,
    "start_time": "2024-09-21T01:23:09.132Z"
   },
   {
    "duration": 12,
    "start_time": "2024-09-21T01:23:18.601Z"
   },
   {
    "duration": 15,
    "start_time": "2024-09-21T01:23:31.322Z"
   },
   {
    "duration": 13,
    "start_time": "2024-09-21T01:23:42.430Z"
   },
   {
    "duration": 308,
    "start_time": "2024-09-21T01:25:28.767Z"
   },
   {
    "duration": 125,
    "start_time": "2024-09-21T01:25:30.394Z"
   },
   {
    "duration": 12,
    "start_time": "2024-09-21T01:25:31.988Z"
   },
   {
    "duration": 61,
    "start_time": "2024-09-21T01:25:34.786Z"
   },
   {
    "duration": 3,
    "start_time": "2024-09-21T01:25:42.343Z"
   },
   {
    "duration": 3,
    "start_time": "2024-09-21T01:25:45.552Z"
   },
   {
    "duration": 3,
    "start_time": "2024-09-21T01:25:47.765Z"
   },
   {
    "duration": 4,
    "start_time": "2024-09-21T01:25:49.772Z"
   },
   {
    "duration": 3,
    "start_time": "2024-09-21T01:25:53.006Z"
   },
   {
    "duration": 17,
    "start_time": "2024-09-21T01:25:54.586Z"
   },
   {
    "duration": 12,
    "start_time": "2024-09-21T01:25:57.139Z"
   },
   {
    "duration": 18,
    "start_time": "2024-09-21T01:26:01.588Z"
   },
   {
    "duration": 44,
    "start_time": "2024-09-21T01:26:04.909Z"
   },
   {
    "duration": 45,
    "start_time": "2024-09-21T01:26:06.749Z"
   },
   {
    "duration": 38,
    "start_time": "2024-09-21T01:26:08.514Z"
   },
   {
    "duration": 9,
    "start_time": "2024-09-21T01:26:12.333Z"
   },
   {
    "duration": 310,
    "start_time": "2024-09-21T01:26:15.812Z"
   },
   {
    "duration": 9,
    "start_time": "2024-09-21T18:08:29.878Z"
   },
   {
    "duration": 4,
    "start_time": "2024-09-21T18:08:41.703Z"
   },
   {
    "duration": 4,
    "start_time": "2024-09-21T18:08:51.610Z"
   },
   {
    "duration": 5,
    "start_time": "2024-09-21T18:12:44.189Z"
   },
   {
    "duration": 4,
    "start_time": "2024-09-21T18:15:13.324Z"
   },
   {
    "duration": 3,
    "start_time": "2024-09-21T18:15:53.292Z"
   },
   {
    "duration": 3,
    "start_time": "2024-09-21T18:15:57.627Z"
   },
   {
    "duration": 158,
    "start_time": "2024-09-21T18:16:04.194Z"
   },
   {
    "duration": 12,
    "start_time": "2024-09-21T18:16:14.444Z"
   },
   {
    "duration": 286,
    "start_time": "2024-09-21T18:16:20.276Z"
   },
   {
    "duration": 120,
    "start_time": "2024-09-21T18:16:21.965Z"
   },
   {
    "duration": 12,
    "start_time": "2024-09-21T18:16:23.406Z"
   },
   {
    "duration": 64,
    "start_time": "2024-09-21T18:16:26.129Z"
   },
   {
    "duration": 3,
    "start_time": "2024-09-21T18:16:30.171Z"
   },
   {
    "duration": 4,
    "start_time": "2024-09-21T18:16:32.830Z"
   },
   {
    "duration": 3,
    "start_time": "2024-09-21T18:16:34.521Z"
   },
   {
    "duration": 3,
    "start_time": "2024-09-21T18:16:36.171Z"
   },
   {
    "duration": 3,
    "start_time": "2024-09-21T18:16:37.842Z"
   },
   {
    "duration": 17,
    "start_time": "2024-09-21T18:16:39.608Z"
   },
   {
    "duration": 12,
    "start_time": "2024-09-21T18:16:42.290Z"
   },
   {
    "duration": 16,
    "start_time": "2024-09-21T18:16:44.206Z"
   },
   {
    "duration": 42,
    "start_time": "2024-09-21T18:16:46.318Z"
   },
   {
    "duration": 46,
    "start_time": "2024-09-21T18:16:47.897Z"
   },
   {
    "duration": 40,
    "start_time": "2024-09-21T18:16:49.639Z"
   },
   {
    "duration": 9,
    "start_time": "2024-09-21T18:16:52.018Z"
   },
   {
    "duration": 8,
    "start_time": "2024-09-21T18:17:02.714Z"
   },
   {
    "duration": 36,
    "start_time": "2024-09-21T18:18:26.161Z"
   },
   {
    "duration": 12,
    "start_time": "2024-09-21T18:18:32.682Z"
   },
   {
    "duration": 9,
    "start_time": "2024-09-21T18:18:47.643Z"
   },
   {
    "duration": 10,
    "start_time": "2024-09-21T18:19:08.878Z"
   },
   {
    "duration": 9,
    "start_time": "2024-09-21T18:19:16.820Z"
   },
   {
    "duration": 4,
    "start_time": "2024-09-21T18:19:28.823Z"
   },
   {
    "duration": 12,
    "start_time": "2024-09-21T18:19:39.018Z"
   },
   {
    "duration": 11,
    "start_time": "2024-09-21T18:20:01.939Z"
   },
   {
    "duration": 6,
    "start_time": "2024-09-21T18:24:46.964Z"
   },
   {
    "duration": 4,
    "start_time": "2024-09-21T18:26:52.299Z"
   },
   {
    "duration": 15,
    "start_time": "2024-09-21T18:26:59.282Z"
   },
   {
    "duration": 11,
    "start_time": "2024-09-21T18:27:12.578Z"
   },
   {
    "duration": 12,
    "start_time": "2024-09-21T18:27:20.421Z"
   },
   {
    "duration": 12,
    "start_time": "2024-09-21T18:27:29.353Z"
   },
   {
    "duration": 10,
    "start_time": "2024-09-21T18:27:44.351Z"
   },
   {
    "duration": 21,
    "start_time": "2024-09-21T18:28:24.998Z"
   },
   {
    "duration": 14,
    "start_time": "2024-09-21T18:28:55.828Z"
   },
   {
    "duration": 23,
    "start_time": "2024-09-21T18:29:15.479Z"
   },
   {
    "duration": 23,
    "start_time": "2024-09-21T18:29:30.174Z"
   },
   {
    "duration": 3,
    "start_time": "2024-09-21T18:30:55.532Z"
   },
   {
    "duration": 23,
    "start_time": "2024-09-21T18:31:34.591Z"
   },
   {
    "duration": 24,
    "start_time": "2024-09-21T18:31:56.441Z"
   },
   {
    "duration": 24,
    "start_time": "2024-09-21T18:32:17.751Z"
   },
   {
    "duration": 25,
    "start_time": "2024-09-21T18:32:41.192Z"
   },
   {
    "duration": 31,
    "start_time": "2024-09-21T18:32:46.053Z"
   },
   {
    "duration": 24,
    "start_time": "2024-09-21T18:32:50.174Z"
   },
   {
    "duration": 4,
    "start_time": "2024-09-21T18:34:34.521Z"
   },
   {
    "duration": 4,
    "start_time": "2024-09-21T18:34:59.425Z"
   },
   {
    "duration": 13,
    "start_time": "2024-09-21T18:35:03.572Z"
   },
   {
    "duration": 4,
    "start_time": "2024-09-21T18:35:07.082Z"
   },
   {
    "duration": 19,
    "start_time": "2024-09-21T18:43:01.654Z"
   },
   {
    "duration": 3,
    "start_time": "2024-09-21T19:03:56.084Z"
   },
   {
    "duration": 12,
    "start_time": "2024-09-21T19:04:15.177Z"
   },
   {
    "duration": 5,
    "start_time": "2024-09-21T19:04:37.650Z"
   },
   {
    "duration": 8,
    "start_time": "2024-09-21T19:04:49.827Z"
   },
   {
    "duration": 9,
    "start_time": "2024-09-21T19:04:59.329Z"
   },
   {
    "duration": 12,
    "start_time": "2024-09-21T19:05:35.882Z"
   },
   {
    "duration": 9,
    "start_time": "2024-09-21T19:05:42.587Z"
   },
   {
    "duration": 277,
    "start_time": "2024-09-23T03:36:41.071Z"
   },
   {
    "duration": 120,
    "start_time": "2024-09-23T03:36:43.023Z"
   },
   {
    "duration": 14,
    "start_time": "2024-09-23T03:36:45.171Z"
   },
   {
    "duration": 65,
    "start_time": "2024-09-23T03:36:47.626Z"
   },
   {
    "duration": 3,
    "start_time": "2024-09-23T03:36:51.528Z"
   },
   {
    "duration": 4,
    "start_time": "2024-09-23T03:36:53.874Z"
   },
   {
    "duration": 4,
    "start_time": "2024-09-23T03:36:58.173Z"
   },
   {
    "duration": 3,
    "start_time": "2024-09-23T03:37:00.527Z"
   },
   {
    "duration": 17,
    "start_time": "2024-09-23T03:37:13.759Z"
   },
   {
    "duration": 13,
    "start_time": "2024-09-23T03:37:16.502Z"
   },
   {
    "duration": 13,
    "start_time": "2024-09-23T03:37:18.243Z"
   },
   {
    "duration": 20,
    "start_time": "2024-09-23T03:37:20.803Z"
   },
   {
    "duration": 42,
    "start_time": "2024-09-23T03:37:25.111Z"
   },
   {
    "duration": 52,
    "start_time": "2024-09-23T03:37:27.157Z"
   },
   {
    "duration": 40,
    "start_time": "2024-09-23T03:37:28.998Z"
   },
   {
    "duration": 9,
    "start_time": "2024-09-23T03:37:31.151Z"
   },
   {
    "duration": 4,
    "start_time": "2024-09-23T03:37:39.396Z"
   },
   {
    "duration": 26,
    "start_time": "2024-09-23T03:37:42.742Z"
   },
   {
    "duration": 21,
    "start_time": "2024-09-23T03:37:49.991Z"
   },
   {
    "duration": 206,
    "start_time": "2024-09-23T04:30:03.135Z"
   },
   {
    "duration": 8,
    "start_time": "2024-09-23T04:30:11.942Z"
   },
   {
    "duration": 10,
    "start_time": "2024-09-23T04:31:36.455Z"
   },
   {
    "duration": 4,
    "start_time": "2024-09-23T04:58:21.327Z"
   },
   {
    "duration": 5,
    "start_time": "2024-09-23T05:01:55.138Z"
   },
   {
    "duration": 5,
    "start_time": "2024-09-23T05:03:23.879Z"
   },
   {
    "duration": 4,
    "start_time": "2024-09-23T05:07:08.559Z"
   },
   {
    "duration": 4,
    "start_time": "2024-09-23T05:07:21.933Z"
   },
   {
    "duration": 3,
    "start_time": "2024-09-23T05:07:28.206Z"
   },
   {
    "duration": 4,
    "start_time": "2024-09-23T05:07:42.143Z"
   },
   {
    "duration": 4,
    "start_time": "2024-09-23T05:07:44.463Z"
   },
   {
    "duration": 4,
    "start_time": "2024-09-23T05:07:55.278Z"
   },
   {
    "duration": 3,
    "start_time": "2024-09-23T05:09:21.464Z"
   },
   {
    "duration": 4,
    "start_time": "2024-09-23T05:11:41.123Z"
   },
   {
    "duration": 15,
    "start_time": "2024-09-23T05:12:02.694Z"
   },
   {
    "duration": 16,
    "start_time": "2024-09-23T05:12:17.017Z"
   },
   {
    "duration": 3,
    "start_time": "2024-09-23T05:12:26.016Z"
   },
   {
    "duration": 4,
    "start_time": "2024-09-23T05:12:27.694Z"
   },
   {
    "duration": 394,
    "start_time": "2024-09-23T05:14:12.221Z"
   },
   {
    "duration": 3,
    "start_time": "2024-09-23T05:15:01.132Z"
   },
   {
    "duration": 49,
    "start_time": "2024-09-23T05:15:04.976Z"
   },
   {
    "duration": 3,
    "start_time": "2024-09-23T05:15:27.937Z"
   },
   {
    "duration": 54,
    "start_time": "2024-09-23T05:15:34.479Z"
   },
   {
    "duration": 61,
    "start_time": "2024-09-23T05:17:28.552Z"
   },
   {
    "duration": 56,
    "start_time": "2024-09-23T05:18:18.041Z"
   },
   {
    "duration": 20,
    "start_time": "2024-09-23T05:19:14.150Z"
   },
   {
    "duration": 3,
    "start_time": "2024-09-23T05:19:29.160Z"
   },
   {
    "duration": 49,
    "start_time": "2024-09-23T05:19:31.837Z"
   },
   {
    "duration": 3,
    "start_time": "2024-09-23T05:20:01.230Z"
   },
   {
    "duration": 24,
    "start_time": "2024-09-23T05:20:03.363Z"
   },
   {
    "duration": 4,
    "start_time": "2024-09-23T05:20:12.593Z"
   },
   {
    "duration": 53,
    "start_time": "2024-09-23T05:20:14.429Z"
   },
   {
    "duration": 178,
    "start_time": "2024-09-23T12:55:36.455Z"
   },
   {
    "duration": 296,
    "start_time": "2024-09-23T12:55:41.874Z"
   },
   {
    "duration": 111,
    "start_time": "2024-09-23T12:55:43.942Z"
   },
   {
    "duration": 12,
    "start_time": "2024-09-23T12:55:45.931Z"
   },
   {
    "duration": 63,
    "start_time": "2024-09-23T12:55:48.783Z"
   },
   {
    "duration": 2,
    "start_time": "2024-09-23T12:55:55.693Z"
   },
   {
    "duration": 4,
    "start_time": "2024-09-23T12:55:59.978Z"
   },
   {
    "duration": 3,
    "start_time": "2024-09-23T12:56:03.017Z"
   },
   {
    "duration": 4,
    "start_time": "2024-09-23T12:56:05.420Z"
   },
   {
    "duration": 3,
    "start_time": "2024-09-23T12:56:08.120Z"
   },
   {
    "duration": 17,
    "start_time": "2024-09-23T12:56:10.415Z"
   },
   {
    "duration": 13,
    "start_time": "2024-09-23T12:56:13.771Z"
   },
   {
    "duration": 16,
    "start_time": "2024-09-23T12:56:15.914Z"
   },
   {
    "duration": 42,
    "start_time": "2024-09-23T12:56:18.231Z"
   },
   {
    "duration": 45,
    "start_time": "2024-09-23T12:56:20.066Z"
   },
   {
    "duration": 40,
    "start_time": "2024-09-23T12:56:21.710Z"
   },
   {
    "duration": 8,
    "start_time": "2024-09-23T12:56:23.985Z"
   },
   {
    "duration": 3,
    "start_time": "2024-09-23T12:56:27.235Z"
   },
   {
    "duration": 27,
    "start_time": "2024-09-23T12:56:30.318Z"
   },
   {
    "duration": 20,
    "start_time": "2024-09-23T12:57:33.685Z"
   },
   {
    "duration": 8,
    "start_time": "2024-09-23T12:57:44.742Z"
   },
   {
    "duration": 9,
    "start_time": "2024-09-23T12:58:16.651Z"
   },
   {
    "duration": 3,
    "start_time": "2024-09-23T13:01:14.683Z"
   },
   {
    "duration": 4,
    "start_time": "2024-09-23T13:01:17.329Z"
   },
   {
    "duration": 13,
    "start_time": "2024-09-23T13:01:35.555Z"
   },
   {
    "duration": 10,
    "start_time": "2024-09-23T13:02:57.949Z"
   },
   {
    "duration": 11,
    "start_time": "2024-09-23T13:03:21.678Z"
   },
   {
    "duration": 11,
    "start_time": "2024-09-23T13:03:38.378Z"
   },
   {
    "duration": 40,
    "start_time": "2024-09-23T13:04:21.078Z"
   },
   {
    "duration": 7,
    "start_time": "2024-09-23T13:04:33.729Z"
   },
   {
    "duration": 11,
    "start_time": "2024-09-23T13:04:53.345Z"
   },
   {
    "duration": 11,
    "start_time": "2024-09-23T13:05:45.356Z"
   },
   {
    "duration": 13,
    "start_time": "2024-09-23T13:06:20.944Z"
   },
   {
    "duration": 12,
    "start_time": "2024-09-23T13:06:41.968Z"
   },
   {
    "duration": 13,
    "start_time": "2024-09-23T13:08:16.304Z"
   },
   {
    "duration": 14,
    "start_time": "2024-09-23T13:08:28.953Z"
   },
   {
    "duration": 12,
    "start_time": "2024-09-23T13:08:30.996Z"
   }
  ],
  "colab": {
   "collapsed_sections": [
    "E0vqbgi9ay0H",
    "VUC88oWjTJw2"
   ],
   "provenance": []
  },
  "kernelspec": {
   "display_name": "Python 3 (ipykernel)",
   "language": "python",
   "name": "python3"
  },
  "language_info": {
   "codemirror_mode": {
    "name": "ipython",
    "version": 3
   },
   "file_extension": ".py",
   "mimetype": "text/x-python",
   "name": "python",
   "nbconvert_exporter": "python",
   "pygments_lexer": "ipython3",
   "version": "3.9.19"
  },
  "toc": {
   "base_numbering": 1,
   "nav_menu": {},
   "number_sections": true,
   "sideBar": true,
   "skip_h1_title": true,
   "title_cell": "Table of Contents",
   "title_sidebar": "Contents",
   "toc_cell": false,
   "toc_position": {},
   "toc_section_display": true,
   "toc_window_display": false
  }
 },
 "nbformat": 4,
 "nbformat_minor": 1
}
