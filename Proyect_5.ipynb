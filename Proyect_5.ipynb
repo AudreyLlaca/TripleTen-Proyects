{
 "cells": [
  {
   "cell_type": "markdown",
   "metadata": {},
   "source": [
    "¡Hola, Audrey!\n",
    "\n",
    "Mi nombre es Tonatiuh Cruz. Me complace revisar tu proyecto hoy.\n",
    "\n",
    "Al identificar cualquier error inicialmente, simplemente los destacaré. Te animo a localizar y abordar los problemas de forma independiente como parte de tu preparación para un rol como data-analyst. En un entorno profesional, tu líder de equipo seguiría un enfoque similar. Si encuentras la tarea desafiante, proporcionaré una pista más específica en la próxima iteración.\n",
    "\n",
    "Encontrarás mis comentarios a continuación - **por favor no los muevas, modifiques o elimines**.\n",
    "\n",
    "Puedes encontrar mis comentarios en cajas verdes, amarillas o rojas como esta:\n",
    "\n",
    "<div class=\"alert alert-block alert-success\">\n",
    "<b>Comentario del revisor</b> <a class=\"tocSkip\"></a>\n",
    "\n",
    "Éxito. Todo está hecho correctamente.\n",
    "</div>\n",
    "\n",
    "<div class=\"alert alert-block alert-warning\">\n",
    "<b>Comentario del revisor</b> <a class=\"tocSkip\"></a>\n",
    "\n",
    "Observaciones. Algunas recomendaciones.\n",
    "</div>\n",
    "\n",
    "<div class=\"alert alert-block alert-danger\">\n",
    "<b>Comentario del revisor</b> <a class=\"tocSkip\"></a>\n",
    "\n",
    "Necesita corrección. El bloque requiere algunas correcciones. El trabajo no puede ser aceptado con comentarios en rojo.\n",
    "</div>\n",
    "\n",
    "Puedes responderme utilizando esto:\n",
    "\n",
    "<div class=\"alert alert-block alert-info\"> \n",
    "    \n",
    " Muchas gracias por revisarme Tonatiuh, ya he corregido y anotado lo de las hipotesis "
   ]
  },
  {
   "cell_type": "markdown",
   "metadata": {},
   "source": [
    "<div class=\"alert alert-block alert-success\">\n",
    "<b>Resumen de la revisión 1</b> <a class=\"tocSkip\"></a>\n",
    "\n",
    "Hola Audrey! Has hecho un excelente trabajo con el desarrollo del proyecto, cada vez más cercas de convertirte en un analista de datos. Realizaste la carga de bases, su análisis inicial, sus ajustes, el calculo del ingreso mensual por usuario, un análisis de algunos variables conmplementado con gráficas y el desarrollo de las pruebas d ehipótesis. Solamente te dejo algunos comentarios para complementar el análisis. \n",
    "\n",
    "Sigue con el excelente trabajo!\n",
    "</div>"
   ]
  },
  {
   "cell_type": "markdown",
   "metadata": {},
   "source": [
    "<div class=\"alert alert-block alert-success\">\n",
    "<b>Resumen de la revisión 2</b> <a class=\"tocSkip\"></a>\n",
    "\n",
    "Hola Audrey! Has hecho un excelente trabajo con los ajustes en las pruebas de hipótesis. \n",
    "Sigue con el excelente trabajo!\n",
    "</div>"
   ]
  },
  {
   "cell_type": "markdown",
   "metadata": {
    "id": "3rYiDeEH0q0f"
   },
   "source": [
    "# ¿Cuál es la mejor tarifa?\n",
    "\n",
    "Trabajas como analista para el operador de telecomunicaciones Megaline. La empresa ofrece a sus clientes dos tarifas de prepago, Surf y Ultimate. El departamento comercial quiere saber cuál de las tarifas genera más ingresos para poder ajustar el presupuesto de publicidad.\n",
    "\n",
    "Vas a realizar un análisis preliminar de las tarifas basado en una selección de clientes relativamente pequeña. Tendrás los datos de 500 clientes de Megaline: quiénes son los clientes, de dónde son, qué tarifa usan, así como la cantidad de llamadas que hicieron y los mensajes de texto que enviaron en 2018. Tu trabajo es analizar el comportamiento de los clientes y determinar qué tarifa de prepago genera más ingresos."
   ]
  },
  {
   "cell_type": "markdown",
   "metadata": {
    "id": "VNddPNRQ0q0w"
   },
   "source": [
    "[Te proporcionamos algunos comentarios para orientarte mientras completas este proyecto. Pero debes asegurarte de eliminar todos los comentarios entre corchetes antes de entregar tu proyecto.]\n",
    "\n",
    "[Antes de sumergirte en el análisis de datos, explica por tu propia cuenta el propósito del proyecto y las acciones que planeas realizar.]\n",
    "\n",
    "[Ten en cuenta que estudiar, modificar y analizar datos es un proceso iterativo. Es normal volver a los pasos anteriores y corregirlos/ampliarlos para permitir nuevos pasos.]"
   ]
  },
  {
   "cell_type": "markdown",
   "metadata": {
    "id": "MQi4IPy70q0y"
   },
   "source": [
    "## Inicialización"
   ]
  },
  {
   "cell_type": "code",
   "execution_count": 1,
   "metadata": {
    "id": "MtYIuBxu0q0z"
   },
   "outputs": [],
   "source": [
    "# Cargar todas las librerías\n",
    "import numpy as np\n",
    "import pandas as pd\n",
    "from scipy import stats as st\n",
    "from matplotlib import pyplot as plt\n",
    "import seaborn as sns"
   ]
  },
  {
   "cell_type": "markdown",
   "metadata": {
    "id": "4ysWWC5i0q00"
   },
   "source": [
    "## Cargar datos"
   ]
  },
  {
   "cell_type": "code",
   "execution_count": 2,
   "metadata": {
    "id": "CCqPW7rS0q01"
   },
   "outputs": [],
   "source": [
    "# Carga los archivos de datos en diferentes DataFrames\n",
    "calls = pd.read_csv('/datasets/megaline_calls.csv')\n",
    "internet = pd.read_csv('/datasets/megaline_internet.csv')\n",
    "messages = pd.read_csv('/datasets/megaline_messages.csv')\n",
    "plans = pd.read_csv('/datasets/megaline_plans.csv')\n",
    "users = pd.read_csv('/datasets/megaline_users.csv')"
   ]
  },
  {
   "cell_type": "markdown",
   "metadata": {},
   "source": [
    "<div class=\"alert alert-block alert-success\">\n",
    "<b>Comentario revisor</b> <a class=\"tocSkip\"></a>\n",
    "\n",
    "\n",
    "Excelente trabajo con la carga de las bases de datos y librerias necesarias para el análisis"
   ]
  },
  {
   "cell_type": "markdown",
   "metadata": {
    "id": "69qqoJ3r0q01"
   },
   "source": [
    "## Preparar los datos"
   ]
  },
  {
   "cell_type": "markdown",
   "metadata": {
    "id": "vUuZw80S0q01"
   },
   "source": [
    "[Los datos para este proyecto se dividen en varias tablas. Explora cada una para tener una comprensión inicial de los datos. Si es necesario, haz las correcciones requeridas en cada tabla.]"
   ]
  },
  {
   "cell_type": "markdown",
   "metadata": {
    "id": "ohBhimvH0q01"
   },
   "source": [
    "## Tarifas"
   ]
  },
  {
   "cell_type": "code",
   "execution_count": 3,
   "metadata": {
    "id": "GptqP3Q40q02"
   },
   "outputs": [],
   "source": [
    "# Imprime la información general/resumida sobre el DataFrame de las tarifas\n",
    "\n",
    "# Agregamos funcion como en clase\n",
    "\n",
    "def resumen (data):\n",
    "    print(data.head())\n",
    "    print()\n",
    "    print(data.info())\n",
    "    print()\n",
    "    print(data.isna().sum())\n",
    "    print()\n",
    "    print(data.duplicated().sum())"
   ]
  },
  {
   "cell_type": "markdown",
   "metadata": {},
   "source": [
    "\n",
    "<div class=\"alert alert-block alert-success\">\n",
    "<b>Comentario del revisor:</b> <a class=\"tocSkip\"></a>\n",
    "    \n",
    "Muy buen trabajo con el uso de info() esto nos ayuda a presentar la información general de las bases de datos con las que vamos a trabajar.\n",
    "\n",
    "</div>"
   ]
  },
  {
   "cell_type": "code",
   "execution_count": 4,
   "metadata": {
    "id": "64xzjwL70q02"
   },
   "outputs": [
    {
     "name": "stdout",
     "output_type": "stream",
     "text": [
      "   messages_included  mb_per_month_included  minutes_included  \\\n",
      "0                 50                  15360               500   \n",
      "1               1000                  30720              3000   \n",
      "\n",
      "   usd_monthly_pay  usd_per_gb  usd_per_message  usd_per_minute plan_name  \n",
      "0               20          10             0.03            0.03      surf  \n",
      "1               70           7             0.01            0.01  ultimate  \n",
      "\n",
      "<class 'pandas.core.frame.DataFrame'>\n",
      "RangeIndex: 2 entries, 0 to 1\n",
      "Data columns (total 8 columns):\n",
      " #   Column                 Non-Null Count  Dtype  \n",
      "---  ------                 --------------  -----  \n",
      " 0   messages_included      2 non-null      int64  \n",
      " 1   mb_per_month_included  2 non-null      int64  \n",
      " 2   minutes_included       2 non-null      int64  \n",
      " 3   usd_monthly_pay        2 non-null      int64  \n",
      " 4   usd_per_gb             2 non-null      int64  \n",
      " 5   usd_per_message        2 non-null      float64\n",
      " 6   usd_per_minute         2 non-null      float64\n",
      " 7   plan_name              2 non-null      object \n",
      "dtypes: float64(2), int64(5), object(1)\n",
      "memory usage: 256.0+ bytes\n",
      "None\n",
      "\n",
      "messages_included        0\n",
      "mb_per_month_included    0\n",
      "minutes_included         0\n",
      "usd_monthly_pay          0\n",
      "usd_per_gb               0\n",
      "usd_per_message          0\n",
      "usd_per_minute           0\n",
      "plan_name                0\n",
      "dtype: int64\n",
      "\n",
      "0\n"
     ]
    }
   ],
   "source": [
    "# Imprime una muestra de los datos para las tarifas\n",
    "resumen(plans)\n",
    "\n",
    "## Mis observaciones: \n",
    "# Podemos ver un dataframe pequeño que muestra la informacion sobre lo que se incluye en los dos planes\n",
    "# Parece que todos los datos tienen su tipo correcto, vemos nombres de columnas limpias y correctas y no vemos datos ausentes "
   ]
  },
  {
   "cell_type": "markdown",
   "metadata": {
    "id": "R3C05i1l0q03"
   },
   "source": [
    "## Corregir datos"
   ]
  },
  {
   "cell_type": "markdown",
   "metadata": {
    "id": "bIi8StZI0q03"
   },
   "source": [
    "[Corrige los problemas obvios con los datos basándote en las observaciones iniciales.]"
   ]
  },
  {
   "cell_type": "code",
   "execution_count": 5,
   "metadata": {
    "id": "Y7SVmjGn0q03"
   },
   "outputs": [],
   "source": [
    "# Mis observaciones: \n",
    "\n",
    "# El dataframe es claro y no encontramos problemas obvios en un primer analisis"
   ]
  },
  {
   "cell_type": "markdown",
   "metadata": {
    "id": "LJir7bml0q03"
   },
   "source": [
    "## Enriquecer los datos"
   ]
  },
  {
   "cell_type": "markdown",
   "metadata": {
    "id": "eqADpCfg0q04"
   },
   "source": [
    "[Agrega factores adicionales a los datos si crees que pudieran ser útiles.]"
   ]
  },
  {
   "cell_type": "code",
   "execution_count": 6,
   "metadata": {
    "id": "gfcIEuXV0q04"
   },
   "outputs": [
    {
     "data": {
      "text/html": [
       "<div>\n",
       "<style scoped>\n",
       "    .dataframe tbody tr th:only-of-type {\n",
       "        vertical-align: middle;\n",
       "    }\n",
       "\n",
       "    .dataframe tbody tr th {\n",
       "        vertical-align: top;\n",
       "    }\n",
       "\n",
       "    .dataframe thead th {\n",
       "        text-align: right;\n",
       "    }\n",
       "</style>\n",
       "<table border=\"1\" class=\"dataframe\">\n",
       "  <thead>\n",
       "    <tr style=\"text-align: right;\">\n",
       "      <th></th>\n",
       "      <th>messages_included</th>\n",
       "      <th>mb_per_month_included</th>\n",
       "      <th>minutes_included</th>\n",
       "      <th>usd_monthly_pay</th>\n",
       "      <th>usd_per_gb</th>\n",
       "      <th>usd_per_message</th>\n",
       "      <th>usd_per_minute</th>\n",
       "      <th>plan_name</th>\n",
       "      <th>gb_per_month</th>\n",
       "    </tr>\n",
       "  </thead>\n",
       "  <tbody>\n",
       "    <tr>\n",
       "      <th>0</th>\n",
       "      <td>50</td>\n",
       "      <td>15360</td>\n",
       "      <td>500</td>\n",
       "      <td>20</td>\n",
       "      <td>10</td>\n",
       "      <td>0.03</td>\n",
       "      <td>0.03</td>\n",
       "      <td>surf</td>\n",
       "      <td>15.0</td>\n",
       "    </tr>\n",
       "    <tr>\n",
       "      <th>1</th>\n",
       "      <td>1000</td>\n",
       "      <td>30720</td>\n",
       "      <td>3000</td>\n",
       "      <td>70</td>\n",
       "      <td>7</td>\n",
       "      <td>0.01</td>\n",
       "      <td>0.01</td>\n",
       "      <td>ultimate</td>\n",
       "      <td>30.0</td>\n",
       "    </tr>\n",
       "  </tbody>\n",
       "</table>\n",
       "</div>"
      ],
      "text/plain": [
       "   messages_included  mb_per_month_included  minutes_included  \\\n",
       "0                 50                  15360               500   \n",
       "1               1000                  30720              3000   \n",
       "\n",
       "   usd_monthly_pay  usd_per_gb  usd_per_message  usd_per_minute plan_name  \\\n",
       "0               20          10             0.03            0.03      surf   \n",
       "1               70           7             0.01            0.01  ultimate   \n",
       "\n",
       "   gb_per_month  \n",
       "0          15.0  \n",
       "1          30.0  "
      ]
     },
     "execution_count": 6,
     "metadata": {},
     "output_type": "execute_result"
    }
   ],
   "source": [
    "#Mis observaciones\n",
    "\n",
    "# Agregamos de GB a MG como en clase\n",
    "\n",
    "plans[\"gb_per_month\"] =  plans[\"mb_per_month_included\"]/1024\n",
    "plans"
   ]
  },
  {
   "cell_type": "markdown",
   "metadata": {},
   "source": [
    "<div class=\"alert alert-block alert-success\">\n",
    "<b>Comentario del revisor</b> <a class=\"tocSkip\"></a>\n",
    "\n",
    "Muy buen trabajo!! Es correcto considerar que 1024 megabytes son 1 gigabytes.\n",
    "    \n",
    "</div>"
   ]
  },
  {
   "cell_type": "markdown",
   "metadata": {
    "id": "1n2X6WXf0q04"
   },
   "source": [
    "## Usuarios/as"
   ]
  },
  {
   "cell_type": "code",
   "execution_count": 7,
   "metadata": {
    "id": "2NgjWFqx0q05"
   },
   "outputs": [
    {
     "name": "stdout",
     "output_type": "stream",
     "text": [
      "   user_id first_name  last_name  age                                   city  \\\n",
      "0     1000   Anamaria      Bauer   45  Atlanta-Sandy Springs-Roswell, GA MSA   \n",
      "1     1001     Mickey  Wilkerson   28        Seattle-Tacoma-Bellevue, WA MSA   \n",
      "2     1002     Carlee    Hoffman   36   Las Vegas-Henderson-Paradise, NV MSA   \n",
      "3     1003   Reynaldo    Jenkins   52                          Tulsa, OK MSA   \n",
      "4     1004    Leonila   Thompson   40        Seattle-Tacoma-Bellevue, WA MSA   \n",
      "\n",
      "     reg_date      plan churn_date  \n",
      "0  2018-12-24  ultimate        NaN  \n",
      "1  2018-08-13      surf        NaN  \n",
      "2  2018-10-21      surf        NaN  \n",
      "3  2018-01-28      surf        NaN  \n",
      "4  2018-05-23      surf        NaN  \n",
      "\n",
      "<class 'pandas.core.frame.DataFrame'>\n",
      "RangeIndex: 500 entries, 0 to 499\n",
      "Data columns (total 8 columns):\n",
      " #   Column      Non-Null Count  Dtype \n",
      "---  ------      --------------  ----- \n",
      " 0   user_id     500 non-null    int64 \n",
      " 1   first_name  500 non-null    object\n",
      " 2   last_name   500 non-null    object\n",
      " 3   age         500 non-null    int64 \n",
      " 4   city        500 non-null    object\n",
      " 5   reg_date    500 non-null    object\n",
      " 6   plan        500 non-null    object\n",
      " 7   churn_date  34 non-null     object\n",
      "dtypes: int64(2), object(6)\n",
      "memory usage: 31.4+ KB\n",
      "None\n",
      "\n",
      "user_id         0\n",
      "first_name      0\n",
      "last_name       0\n",
      "age             0\n",
      "city            0\n",
      "reg_date        0\n",
      "plan            0\n",
      "churn_date    466\n",
      "dtype: int64\n",
      "\n",
      "0\n"
     ]
    }
   ],
   "source": [
    "# Imprime la información general/resumida sobre el DataFrame de usuarios\n",
    "\n",
    "resumen(users)"
   ]
  },
  {
   "cell_type": "code",
   "execution_count": 8,
   "metadata": {
    "id": "1IN1L9uh0q05"
   },
   "outputs": [
    {
     "data": {
      "text/html": [
       "<div>\n",
       "<style scoped>\n",
       "    .dataframe tbody tr th:only-of-type {\n",
       "        vertical-align: middle;\n",
       "    }\n",
       "\n",
       "    .dataframe tbody tr th {\n",
       "        vertical-align: top;\n",
       "    }\n",
       "\n",
       "    .dataframe thead th {\n",
       "        text-align: right;\n",
       "    }\n",
       "</style>\n",
       "<table border=\"1\" class=\"dataframe\">\n",
       "  <thead>\n",
       "    <tr style=\"text-align: right;\">\n",
       "      <th></th>\n",
       "      <th>user_id</th>\n",
       "      <th>first_name</th>\n",
       "      <th>last_name</th>\n",
       "      <th>age</th>\n",
       "      <th>city</th>\n",
       "      <th>reg_date</th>\n",
       "      <th>plan</th>\n",
       "      <th>churn_date</th>\n",
       "    </tr>\n",
       "  </thead>\n",
       "  <tbody>\n",
       "    <tr>\n",
       "      <th>0</th>\n",
       "      <td>1000</td>\n",
       "      <td>Anamaria</td>\n",
       "      <td>Bauer</td>\n",
       "      <td>45</td>\n",
       "      <td>Atlanta-Sandy Springs-Roswell, GA MSA</td>\n",
       "      <td>2018-12-24</td>\n",
       "      <td>ultimate</td>\n",
       "      <td>NaN</td>\n",
       "    </tr>\n",
       "    <tr>\n",
       "      <th>1</th>\n",
       "      <td>1001</td>\n",
       "      <td>Mickey</td>\n",
       "      <td>Wilkerson</td>\n",
       "      <td>28</td>\n",
       "      <td>Seattle-Tacoma-Bellevue, WA MSA</td>\n",
       "      <td>2018-08-13</td>\n",
       "      <td>surf</td>\n",
       "      <td>NaN</td>\n",
       "    </tr>\n",
       "    <tr>\n",
       "      <th>2</th>\n",
       "      <td>1002</td>\n",
       "      <td>Carlee</td>\n",
       "      <td>Hoffman</td>\n",
       "      <td>36</td>\n",
       "      <td>Las Vegas-Henderson-Paradise, NV MSA</td>\n",
       "      <td>2018-10-21</td>\n",
       "      <td>surf</td>\n",
       "      <td>NaN</td>\n",
       "    </tr>\n",
       "    <tr>\n",
       "      <th>3</th>\n",
       "      <td>1003</td>\n",
       "      <td>Reynaldo</td>\n",
       "      <td>Jenkins</td>\n",
       "      <td>52</td>\n",
       "      <td>Tulsa, OK MSA</td>\n",
       "      <td>2018-01-28</td>\n",
       "      <td>surf</td>\n",
       "      <td>NaN</td>\n",
       "    </tr>\n",
       "    <tr>\n",
       "      <th>4</th>\n",
       "      <td>1004</td>\n",
       "      <td>Leonila</td>\n",
       "      <td>Thompson</td>\n",
       "      <td>40</td>\n",
       "      <td>Seattle-Tacoma-Bellevue, WA MSA</td>\n",
       "      <td>2018-05-23</td>\n",
       "      <td>surf</td>\n",
       "      <td>NaN</td>\n",
       "    </tr>\n",
       "  </tbody>\n",
       "</table>\n",
       "</div>"
      ],
      "text/plain": [
       "   user_id first_name  last_name  age                                   city  \\\n",
       "0     1000   Anamaria      Bauer   45  Atlanta-Sandy Springs-Roswell, GA MSA   \n",
       "1     1001     Mickey  Wilkerson   28        Seattle-Tacoma-Bellevue, WA MSA   \n",
       "2     1002     Carlee    Hoffman   36   Las Vegas-Henderson-Paradise, NV MSA   \n",
       "3     1003   Reynaldo    Jenkins   52                          Tulsa, OK MSA   \n",
       "4     1004    Leonila   Thompson   40        Seattle-Tacoma-Bellevue, WA MSA   \n",
       "\n",
       "     reg_date      plan churn_date  \n",
       "0  2018-12-24  ultimate        NaN  \n",
       "1  2018-08-13      surf        NaN  \n",
       "2  2018-10-21      surf        NaN  \n",
       "3  2018-01-28      surf        NaN  \n",
       "4  2018-05-23      surf        NaN  "
      ]
     },
     "metadata": {},
     "output_type": "display_data"
    }
   ],
   "source": [
    "# Imprime una muestra de datos para usuarios\n",
    "display(users.head())\n",
    "\n",
    "## Mis observaciones\n",
    "\n",
    "# Contamos con la informacion basica de los usarios y su tipo de plan\n",
    "# Podemos ver 34 valores no nulos en la columna churn lo que significa que contamos con 466 datos nulos en esa columna\n",
    "# Remplazaremos estos datos ausentes en para poder manejar mejor los datos\n",
    "\n",
    "\n",
    "# Para mi de google: \n",
    "# \"Churn\" se refiere a la pérdida de clientes o usuarios en un negocio o servicio. Es un término comúnmente utilizado en el ámbito de marketing y análisis de datos para describir la tasa a la que los clientes dejan de usar un producto o servicio durante un período determinado."
   ]
  },
  {
   "cell_type": "markdown",
   "metadata": {
    "id": "BX5FQh_I0q06"
   },
   "source": [
    "### Corregir los datos"
   ]
  },
  {
   "cell_type": "markdown",
   "metadata": {
    "id": "8OdKMwJv0q06"
   },
   "source": [
    "[Corrige los problemas obvios con los datos basándote en las observaciones iniciales.]"
   ]
  },
  {
   "cell_type": "code",
   "execution_count": 48,
   "metadata": {
    "id": "yUqX-K0C0q07"
   },
   "outputs": [
    {
     "name": "stdout",
     "output_type": "stream",
     "text": [
      "<class 'pandas.core.frame.DataFrame'>\n",
      "RangeIndex: 500 entries, 0 to 499\n",
      "Data columns (total 9 columns):\n",
      " #   Column      Non-Null Count  Dtype         \n",
      "---  ------      --------------  -----         \n",
      " 0   user_id     500 non-null    int64         \n",
      " 1   first_name  500 non-null    object        \n",
      " 2   last_name   500 non-null    object        \n",
      " 3   age         500 non-null    int64         \n",
      " 4   city        500 non-null    object        \n",
      " 5   reg_date    500 non-null    datetime64[ns]\n",
      " 6   plan        500 non-null    object        \n",
      " 7   churn_date  34 non-null     datetime64[ns]\n",
      " 8   status      500 non-null    object        \n",
      "dtypes: datetime64[ns](2), int64(2), object(5)\n",
      "memory usage: 35.3+ KB\n"
     ]
    }
   ],
   "source": [
    "# Cambiaremos la fecha al formato de fecha\n",
    "\n",
    "#corregido\n",
    "users['reg_date'] = pd.to_datetime(users['reg_date'], format='%Y-%m-%d')\n",
    "users['churn_date'] = pd.to_datetime(users['churn_date'], format='%Y-%m-%d')\n",
    "\n",
    "#confirmar\n",
    "users.info()"
   ]
  },
  {
   "cell_type": "markdown",
   "metadata": {},
   "source": [
    "\n",
    "<div class=\"alert alert-block alert-warning\">\n",
    "<b>Comentario Revisor</b> <a class=\"tocSkip\"></a>\n",
    "\n",
    "En todos los casos en los que cambiamos el tipo de variable a datetime, te recomiendo agregar el argumento \"format='%Y-%m-%d'\" dentro de la función to_datetime(). De esta manera, puedes asegurarte siempre de que el formato de la fecha que deseas cambiar sea el que necesitas.\n",
    "</div>"
   ]
  },
  {
   "cell_type": "markdown",
   "metadata": {},
   "source": [
    "<div class=\"alert alert-block alert-success\">\n",
    "<b>Comentario revisor</b> <a class=\"tocSkip\"></a>\n",
    "\n",
    "\n",
    "Excelente trabajo con el ajuste!"
   ]
  },
  {
   "cell_type": "markdown",
   "metadata": {
    "id": "ycwuARJp0q07"
   },
   "source": [
    "### Enriquecer los datos"
   ]
  },
  {
   "cell_type": "markdown",
   "metadata": {
    "id": "96NIh4CJ0q08"
   },
   "source": [
    "[Agrega factores adicionales a los datos si crees que pudieran ser útiles.]"
   ]
  },
  {
   "cell_type": "code",
   "execution_count": 10,
   "metadata": {
    "id": "iq0AaBS90q08",
    "scrolled": true
   },
   "outputs": [
    {
     "data": {
      "text/html": [
       "<div>\n",
       "<style scoped>\n",
       "    .dataframe tbody tr th:only-of-type {\n",
       "        vertical-align: middle;\n",
       "    }\n",
       "\n",
       "    .dataframe tbody tr th {\n",
       "        vertical-align: top;\n",
       "    }\n",
       "\n",
       "    .dataframe thead th {\n",
       "        text-align: right;\n",
       "    }\n",
       "</style>\n",
       "<table border=\"1\" class=\"dataframe\">\n",
       "  <thead>\n",
       "    <tr style=\"text-align: right;\">\n",
       "      <th></th>\n",
       "      <th>user_id</th>\n",
       "      <th>first_name</th>\n",
       "      <th>last_name</th>\n",
       "      <th>age</th>\n",
       "      <th>city</th>\n",
       "      <th>reg_date</th>\n",
       "      <th>plan</th>\n",
       "      <th>churn_date</th>\n",
       "      <th>status</th>\n",
       "    </tr>\n",
       "  </thead>\n",
       "  <tbody>\n",
       "    <tr>\n",
       "      <th>0</th>\n",
       "      <td>1000</td>\n",
       "      <td>Anamaria</td>\n",
       "      <td>Bauer</td>\n",
       "      <td>45</td>\n",
       "      <td>Atlanta-Sandy Springs-Roswell, GA MSA</td>\n",
       "      <td>2018-12-24</td>\n",
       "      <td>ultimate</td>\n",
       "      <td>NaT</td>\n",
       "      <td>active</td>\n",
       "    </tr>\n",
       "    <tr>\n",
       "      <th>1</th>\n",
       "      <td>1001</td>\n",
       "      <td>Mickey</td>\n",
       "      <td>Wilkerson</td>\n",
       "      <td>28</td>\n",
       "      <td>Seattle-Tacoma-Bellevue, WA MSA</td>\n",
       "      <td>2018-08-13</td>\n",
       "      <td>surf</td>\n",
       "      <td>NaT</td>\n",
       "      <td>active</td>\n",
       "    </tr>\n",
       "    <tr>\n",
       "      <th>2</th>\n",
       "      <td>1002</td>\n",
       "      <td>Carlee</td>\n",
       "      <td>Hoffman</td>\n",
       "      <td>36</td>\n",
       "      <td>Las Vegas-Henderson-Paradise, NV MSA</td>\n",
       "      <td>2018-10-21</td>\n",
       "      <td>surf</td>\n",
       "      <td>NaT</td>\n",
       "      <td>active</td>\n",
       "    </tr>\n",
       "    <tr>\n",
       "      <th>3</th>\n",
       "      <td>1003</td>\n",
       "      <td>Reynaldo</td>\n",
       "      <td>Jenkins</td>\n",
       "      <td>52</td>\n",
       "      <td>Tulsa, OK MSA</td>\n",
       "      <td>2018-01-28</td>\n",
       "      <td>surf</td>\n",
       "      <td>NaT</td>\n",
       "      <td>active</td>\n",
       "    </tr>\n",
       "    <tr>\n",
       "      <th>4</th>\n",
       "      <td>1004</td>\n",
       "      <td>Leonila</td>\n",
       "      <td>Thompson</td>\n",
       "      <td>40</td>\n",
       "      <td>Seattle-Tacoma-Bellevue, WA MSA</td>\n",
       "      <td>2018-05-23</td>\n",
       "      <td>surf</td>\n",
       "      <td>NaT</td>\n",
       "      <td>active</td>\n",
       "    </tr>\n",
       "  </tbody>\n",
       "</table>\n",
       "</div>"
      ],
      "text/plain": [
       "   user_id first_name  last_name  age                                   city  \\\n",
       "0     1000   Anamaria      Bauer   45  Atlanta-Sandy Springs-Roswell, GA MSA   \n",
       "1     1001     Mickey  Wilkerson   28        Seattle-Tacoma-Bellevue, WA MSA   \n",
       "2     1002     Carlee    Hoffman   36   Las Vegas-Henderson-Paradise, NV MSA   \n",
       "3     1003   Reynaldo    Jenkins   52                          Tulsa, OK MSA   \n",
       "4     1004    Leonila   Thompson   40        Seattle-Tacoma-Bellevue, WA MSA   \n",
       "\n",
       "    reg_date      plan churn_date  status  \n",
       "0 2018-12-24  ultimate        NaT  active  \n",
       "1 2018-08-13      surf        NaT  active  \n",
       "2 2018-10-21      surf        NaT  active  \n",
       "3 2018-01-28      surf        NaT  active  \n",
       "4 2018-05-23      surf        NaT  active  "
      ]
     },
     "execution_count": 10,
     "metadata": {},
     "output_type": "execute_result"
    }
   ],
   "source": [
    "# Añadiremos una columna para indicar si el usuario esta activo o inactivo segun su churn_date\n",
    "users['status'] = np.where(users['churn_date'].isna(), 'active', 'inactive')\n",
    "users.head()"
   ]
  },
  {
   "cell_type": "markdown",
   "metadata": {
    "id": "o7MeKCid0q08"
   },
   "source": [
    "## Llamadas"
   ]
  },
  {
   "cell_type": "code",
   "execution_count": 11,
   "metadata": {
    "id": "6dDlnoDm0q08"
   },
   "outputs": [
    {
     "name": "stdout",
     "output_type": "stream",
     "text": [
      "         id  user_id   call_date  duration\n",
      "0   1000_93     1000  2018-12-27      8.52\n",
      "1  1000_145     1000  2018-12-27     13.66\n",
      "2  1000_247     1000  2018-12-27     14.48\n",
      "3  1000_309     1000  2018-12-28      5.76\n",
      "4  1000_380     1000  2018-12-30      4.22\n",
      "\n",
      "<class 'pandas.core.frame.DataFrame'>\n",
      "RangeIndex: 137735 entries, 0 to 137734\n",
      "Data columns (total 4 columns):\n",
      " #   Column     Non-Null Count   Dtype  \n",
      "---  ------     --------------   -----  \n",
      " 0   id         137735 non-null  object \n",
      " 1   user_id    137735 non-null  int64  \n",
      " 2   call_date  137735 non-null  object \n",
      " 3   duration   137735 non-null  float64\n",
      "dtypes: float64(1), int64(1), object(2)\n",
      "memory usage: 4.2+ MB\n",
      "None\n",
      "\n",
      "id           0\n",
      "user_id      0\n",
      "call_date    0\n",
      "duration     0\n",
      "dtype: int64\n",
      "\n",
      "0\n"
     ]
    }
   ],
   "source": [
    "# Imprime la información general/resumida sobre el DataFrame de las llamadas\n",
    "resumen(calls)"
   ]
  },
  {
   "cell_type": "code",
   "execution_count": 12,
   "metadata": {
    "id": "kuh1vlNB0q09"
   },
   "outputs": [
    {
     "data": {
      "text/html": [
       "<div>\n",
       "<style scoped>\n",
       "    .dataframe tbody tr th:only-of-type {\n",
       "        vertical-align: middle;\n",
       "    }\n",
       "\n",
       "    .dataframe tbody tr th {\n",
       "        vertical-align: top;\n",
       "    }\n",
       "\n",
       "    .dataframe thead th {\n",
       "        text-align: right;\n",
       "    }\n",
       "</style>\n",
       "<table border=\"1\" class=\"dataframe\">\n",
       "  <thead>\n",
       "    <tr style=\"text-align: right;\">\n",
       "      <th></th>\n",
       "      <th>id</th>\n",
       "      <th>user_id</th>\n",
       "      <th>call_date</th>\n",
       "      <th>duration</th>\n",
       "    </tr>\n",
       "  </thead>\n",
       "  <tbody>\n",
       "    <tr>\n",
       "      <th>0</th>\n",
       "      <td>1000_93</td>\n",
       "      <td>1000</td>\n",
       "      <td>2018-12-27</td>\n",
       "      <td>8.52</td>\n",
       "    </tr>\n",
       "    <tr>\n",
       "      <th>1</th>\n",
       "      <td>1000_145</td>\n",
       "      <td>1000</td>\n",
       "      <td>2018-12-27</td>\n",
       "      <td>13.66</td>\n",
       "    </tr>\n",
       "    <tr>\n",
       "      <th>2</th>\n",
       "      <td>1000_247</td>\n",
       "      <td>1000</td>\n",
       "      <td>2018-12-27</td>\n",
       "      <td>14.48</td>\n",
       "    </tr>\n",
       "    <tr>\n",
       "      <th>3</th>\n",
       "      <td>1000_309</td>\n",
       "      <td>1000</td>\n",
       "      <td>2018-12-28</td>\n",
       "      <td>5.76</td>\n",
       "    </tr>\n",
       "    <tr>\n",
       "      <th>4</th>\n",
       "      <td>1000_380</td>\n",
       "      <td>1000</td>\n",
       "      <td>2018-12-30</td>\n",
       "      <td>4.22</td>\n",
       "    </tr>\n",
       "  </tbody>\n",
       "</table>\n",
       "</div>"
      ],
      "text/plain": [
       "         id  user_id   call_date  duration\n",
       "0   1000_93     1000  2018-12-27      8.52\n",
       "1  1000_145     1000  2018-12-27     13.66\n",
       "2  1000_247     1000  2018-12-27     14.48\n",
       "3  1000_309     1000  2018-12-28      5.76\n",
       "4  1000_380     1000  2018-12-30      4.22"
      ]
     },
     "metadata": {},
     "output_type": "display_data"
    },
    {
     "name": "stdout",
     "output_type": "stream",
     "text": [
      "<class 'pandas.core.frame.DataFrame'>\n",
      "RangeIndex: 137735 entries, 0 to 137734\n",
      "Data columns (total 4 columns):\n",
      " #   Column     Non-Null Count   Dtype  \n",
      "---  ------     --------------   -----  \n",
      " 0   id         137735 non-null  object \n",
      " 1   user_id    137735 non-null  int64  \n",
      " 2   call_date  137735 non-null  object \n",
      " 3   duration   137735 non-null  float64\n",
      "dtypes: float64(1), int64(1), object(2)\n",
      "memory usage: 4.2+ MB\n"
     ]
    }
   ],
   "source": [
    "# Imprime una muestra de datos para las llamadas\n",
    "display(calls.head())\n",
    "calls.info()\n",
    "# Mis observaciones\n",
    "# Podemos ver que no contamos con datos faltantes \n",
    "# Es un dataset largo"
   ]
  },
  {
   "cell_type": "markdown",
   "metadata": {
    "id": "S7hzxmbX0q0-"
   },
   "source": [
    "### Corregir los datos"
   ]
  },
  {
   "cell_type": "markdown",
   "metadata": {
    "id": "YxWyAjD20q0-"
   },
   "source": [
    "[Corrige los problemas obvios con los datos basándote en las observaciones iniciales.]"
   ]
  },
  {
   "cell_type": "code",
   "execution_count": 13,
   "metadata": {
    "id": "S2r8xA4f0q0-"
   },
   "outputs": [
    {
     "name": "stdout",
     "output_type": "stream",
     "text": [
      "<class 'pandas.core.frame.DataFrame'>\n",
      "RangeIndex: 137735 entries, 0 to 137734\n",
      "Data columns (total 4 columns):\n",
      " #   Column     Non-Null Count   Dtype         \n",
      "---  ------     --------------   -----         \n",
      " 0   id         137735 non-null  object        \n",
      " 1   user_id    137735 non-null  int64         \n",
      " 2   call_date  137735 non-null  datetime64[ns]\n",
      " 3   duration   137735 non-null  float64       \n",
      "dtypes: datetime64[ns](1), float64(1), int64(1), object(1)\n",
      "memory usage: 4.2+ MB\n"
     ]
    }
   ],
   "source": [
    "# No se ven problemas en este dataset que aunque es largo contiene toda su informacion en 4 columnas\n",
    "# Podriamos cambiar el formato de la columna de fecha \n",
    "\n",
    "calls['call_date'] = pd.to_datetime(calls['call_date'])\n",
    "calls.info()\n"
   ]
  },
  {
   "cell_type": "markdown",
   "metadata": {
    "id": "KrMgTrlG0q0_"
   },
   "source": [
    "### Enriquecer los datos"
   ]
  },
  {
   "cell_type": "markdown",
   "metadata": {
    "id": "a9MbmEvE0q0_"
   },
   "source": [
    "[Agrega factores adicionales a los datos si crees que pudieran ser útiles.]"
   ]
  },
  {
   "cell_type": "code",
   "execution_count": 14,
   "metadata": {
    "id": "iZ1avpA_0q0_"
   },
   "outputs": [
    {
     "data": {
      "text/html": [
       "<div>\n",
       "<style scoped>\n",
       "    .dataframe tbody tr th:only-of-type {\n",
       "        vertical-align: middle;\n",
       "    }\n",
       "\n",
       "    .dataframe tbody tr th {\n",
       "        vertical-align: top;\n",
       "    }\n",
       "\n",
       "    .dataframe thead th {\n",
       "        text-align: right;\n",
       "    }\n",
       "</style>\n",
       "<table border=\"1\" class=\"dataframe\">\n",
       "  <thead>\n",
       "    <tr style=\"text-align: right;\">\n",
       "      <th></th>\n",
       "      <th>id</th>\n",
       "      <th>user_id</th>\n",
       "      <th>call_date</th>\n",
       "      <th>duration</th>\n",
       "      <th>redondeo</th>\n",
       "    </tr>\n",
       "  </thead>\n",
       "  <tbody>\n",
       "    <tr>\n",
       "      <th>0</th>\n",
       "      <td>1000_93</td>\n",
       "      <td>1000</td>\n",
       "      <td>2018-12-27</td>\n",
       "      <td>8.52</td>\n",
       "      <td>9</td>\n",
       "    </tr>\n",
       "    <tr>\n",
       "      <th>1</th>\n",
       "      <td>1000_145</td>\n",
       "      <td>1000</td>\n",
       "      <td>2018-12-27</td>\n",
       "      <td>13.66</td>\n",
       "      <td>14</td>\n",
       "    </tr>\n",
       "    <tr>\n",
       "      <th>2</th>\n",
       "      <td>1000_247</td>\n",
       "      <td>1000</td>\n",
       "      <td>2018-12-27</td>\n",
       "      <td>14.48</td>\n",
       "      <td>15</td>\n",
       "    </tr>\n",
       "    <tr>\n",
       "      <th>3</th>\n",
       "      <td>1000_309</td>\n",
       "      <td>1000</td>\n",
       "      <td>2018-12-28</td>\n",
       "      <td>5.76</td>\n",
       "      <td>6</td>\n",
       "    </tr>\n",
       "    <tr>\n",
       "      <th>4</th>\n",
       "      <td>1000_380</td>\n",
       "      <td>1000</td>\n",
       "      <td>2018-12-30</td>\n",
       "      <td>4.22</td>\n",
       "      <td>5</td>\n",
       "    </tr>\n",
       "    <tr>\n",
       "      <th>...</th>\n",
       "      <td>...</td>\n",
       "      <td>...</td>\n",
       "      <td>...</td>\n",
       "      <td>...</td>\n",
       "      <td>...</td>\n",
       "    </tr>\n",
       "    <tr>\n",
       "      <th>137730</th>\n",
       "      <td>1499_199</td>\n",
       "      <td>1499</td>\n",
       "      <td>2018-11-21</td>\n",
       "      <td>8.72</td>\n",
       "      <td>9</td>\n",
       "    </tr>\n",
       "    <tr>\n",
       "      <th>137731</th>\n",
       "      <td>1499_200</td>\n",
       "      <td>1499</td>\n",
       "      <td>2018-10-20</td>\n",
       "      <td>10.89</td>\n",
       "      <td>11</td>\n",
       "    </tr>\n",
       "    <tr>\n",
       "      <th>137732</th>\n",
       "      <td>1499_201</td>\n",
       "      <td>1499</td>\n",
       "      <td>2018-09-21</td>\n",
       "      <td>8.12</td>\n",
       "      <td>9</td>\n",
       "    </tr>\n",
       "    <tr>\n",
       "      <th>137733</th>\n",
       "      <td>1499_202</td>\n",
       "      <td>1499</td>\n",
       "      <td>2018-10-10</td>\n",
       "      <td>0.37</td>\n",
       "      <td>1</td>\n",
       "    </tr>\n",
       "    <tr>\n",
       "      <th>137734</th>\n",
       "      <td>1499_203</td>\n",
       "      <td>1499</td>\n",
       "      <td>2018-12-29</td>\n",
       "      <td>13.86</td>\n",
       "      <td>14</td>\n",
       "    </tr>\n",
       "  </tbody>\n",
       "</table>\n",
       "<p>137735 rows × 5 columns</p>\n",
       "</div>"
      ],
      "text/plain": [
       "              id  user_id  call_date  duration  redondeo\n",
       "0        1000_93     1000 2018-12-27      8.52         9\n",
       "1       1000_145     1000 2018-12-27     13.66        14\n",
       "2       1000_247     1000 2018-12-27     14.48        15\n",
       "3       1000_309     1000 2018-12-28      5.76         6\n",
       "4       1000_380     1000 2018-12-30      4.22         5\n",
       "...          ...      ...        ...       ...       ...\n",
       "137730  1499_199     1499 2018-11-21      8.72         9\n",
       "137731  1499_200     1499 2018-10-20     10.89        11\n",
       "137732  1499_201     1499 2018-09-21      8.12         9\n",
       "137733  1499_202     1499 2018-10-10      0.37         1\n",
       "137734  1499_203     1499 2018-12-29     13.86        14\n",
       "\n",
       "[137735 rows x 5 columns]"
      ]
     },
     "execution_count": 14,
     "metadata": {},
     "output_type": "execute_result"
    }
   ],
   "source": [
    "# Podriamos redondear la duracion al siguiente numero segun las instrucciones\n",
    "\n",
    "calls['redondeo'] = np.ceil(calls['duration']).astype(int)\n",
    "calls"
   ]
  },
  {
   "cell_type": "markdown",
   "metadata": {},
   "source": [
    "<div class=\"alert alert-block alert-success\">\n",
    "<b>Comentario del revisor</b> <a class=\"tocSkip\"></a>\n",
    "\n",
    "Muy buen trabajo en redondear la duración de las llamadas.\n",
    "    \n",
    "</div>"
   ]
  },
  {
   "cell_type": "markdown",
   "metadata": {
    "id": "mOUZSi180q0_"
   },
   "source": [
    "## Mensajes"
   ]
  },
  {
   "cell_type": "code",
   "execution_count": 15,
   "metadata": {
    "id": "R-bYJpdV0q1A"
   },
   "outputs": [
    {
     "name": "stdout",
     "output_type": "stream",
     "text": [
      "         id  user_id message_date\n",
      "0  1000_125     1000   2018-12-27\n",
      "1  1000_160     1000   2018-12-31\n",
      "2  1000_223     1000   2018-12-31\n",
      "3  1000_251     1000   2018-12-27\n",
      "4  1000_255     1000   2018-12-26\n",
      "\n",
      "<class 'pandas.core.frame.DataFrame'>\n",
      "RangeIndex: 76051 entries, 0 to 76050\n",
      "Data columns (total 3 columns):\n",
      " #   Column        Non-Null Count  Dtype \n",
      "---  ------        --------------  ----- \n",
      " 0   id            76051 non-null  object\n",
      " 1   user_id       76051 non-null  int64 \n",
      " 2   message_date  76051 non-null  object\n",
      "dtypes: int64(1), object(2)\n",
      "memory usage: 1.7+ MB\n",
      "None\n",
      "\n",
      "id              0\n",
      "user_id         0\n",
      "message_date    0\n",
      "dtype: int64\n",
      "\n",
      "0\n"
     ]
    }
   ],
   "source": [
    "# Imprime la información general/resumida sobre el DataFrame de los mensajes\n",
    "\n",
    "resumen(messages)"
   ]
  },
  {
   "cell_type": "code",
   "execution_count": 16,
   "metadata": {
    "id": "mCEl2iGE0q1A"
   },
   "outputs": [
    {
     "name": "stdout",
     "output_type": "stream",
     "text": [
      "         id  user_id message_date\n",
      "0  1000_125     1000   2018-12-27\n",
      "1  1000_160     1000   2018-12-31\n",
      "2  1000_223     1000   2018-12-31\n",
      "3  1000_251     1000   2018-12-27\n",
      "4  1000_255     1000   2018-12-26\n"
     ]
    }
   ],
   "source": [
    "# Imprime una muestra de datos para los mensajes\n",
    "print(messages.head())\n",
    "\n",
    "# Mis observaciones\n",
    "# Podemos actualizar el formato de la columna de fecha \n",
    "# El dataset se ve correcto"
   ]
  },
  {
   "cell_type": "markdown",
   "metadata": {
    "id": "Sprfak900q1B"
   },
   "source": [
    "### Corregir los datos"
   ]
  },
  {
   "cell_type": "markdown",
   "metadata": {
    "id": "eGw7d9j10q1B"
   },
   "source": [
    "[Corrige los problemas obvios con los datos basándote en las observaciones iniciales.]"
   ]
  },
  {
   "cell_type": "code",
   "execution_count": 17,
   "metadata": {
    "id": "vsllvkoa0q1B"
   },
   "outputs": [
    {
     "name": "stdout",
     "output_type": "stream",
     "text": [
      "<class 'pandas.core.frame.DataFrame'>\n",
      "RangeIndex: 76051 entries, 0 to 76050\n",
      "Data columns (total 3 columns):\n",
      " #   Column        Non-Null Count  Dtype         \n",
      "---  ------        --------------  -----         \n",
      " 0   id            76051 non-null  object        \n",
      " 1   user_id       76051 non-null  int64         \n",
      " 2   message_date  76051 non-null  datetime64[ns]\n",
      "dtypes: datetime64[ns](1), int64(1), object(1)\n",
      "memory usage: 1.7+ MB\n"
     ]
    }
   ],
   "source": [
    "messages['message_date'] = pd.to_datetime(messages['message_date'])\n",
    "messages.info()"
   ]
  },
  {
   "cell_type": "markdown",
   "metadata": {
    "id": "HvLid7iD0q1B"
   },
   "source": [
    "### Enriquecer los datos"
   ]
  },
  {
   "cell_type": "markdown",
   "metadata": {
    "id": "8nhPFKIe0q1C"
   },
   "source": [
    "[Agrega factores adicionales a los datos si crees que pudieran ser útiles.]"
   ]
  },
  {
   "cell_type": "code",
   "execution_count": 18,
   "metadata": {
    "id": "zYEXZac10q1C"
   },
   "outputs": [],
   "source": [
    "# Todo listo"
   ]
  },
  {
   "cell_type": "markdown",
   "metadata": {
    "id": "bStkaxn40q1C"
   },
   "source": [
    "## Internet"
   ]
  },
  {
   "cell_type": "code",
   "execution_count": 19,
   "metadata": {
    "id": "e-Uz5qyn0q1C"
   },
   "outputs": [
    {
     "name": "stdout",
     "output_type": "stream",
     "text": [
      "         id  user_id session_date  mb_used\n",
      "0   1000_13     1000   2018-12-29    89.86\n",
      "1  1000_204     1000   2018-12-31     0.00\n",
      "2  1000_379     1000   2018-12-28   660.40\n",
      "3  1000_413     1000   2018-12-26   270.99\n",
      "4  1000_442     1000   2018-12-27   880.22\n",
      "\n",
      "<class 'pandas.core.frame.DataFrame'>\n",
      "RangeIndex: 104825 entries, 0 to 104824\n",
      "Data columns (total 4 columns):\n",
      " #   Column        Non-Null Count   Dtype  \n",
      "---  ------        --------------   -----  \n",
      " 0   id            104825 non-null  object \n",
      " 1   user_id       104825 non-null  int64  \n",
      " 2   session_date  104825 non-null  object \n",
      " 3   mb_used       104825 non-null  float64\n",
      "dtypes: float64(1), int64(1), object(2)\n",
      "memory usage: 3.2+ MB\n",
      "None\n",
      "\n",
      "id              0\n",
      "user_id         0\n",
      "session_date    0\n",
      "mb_used         0\n",
      "dtype: int64\n",
      "\n",
      "0\n"
     ]
    }
   ],
   "source": [
    "# Imprime la información general/resumida sobre el DataFrame de internet\n",
    "resumen(internet)\n"
   ]
  },
  {
   "cell_type": "code",
   "execution_count": 20,
   "metadata": {
    "id": "9r3x_XLw0q1C"
   },
   "outputs": [
    {
     "name": "stdout",
     "output_type": "stream",
     "text": [
      "         id  user_id session_date  mb_used\n",
      "0   1000_13     1000   2018-12-29    89.86\n",
      "1  1000_204     1000   2018-12-31     0.00\n",
      "2  1000_379     1000   2018-12-28   660.40\n",
      "3  1000_413     1000   2018-12-26   270.99\n",
      "4  1000_442     1000   2018-12-27   880.22\n"
     ]
    }
   ],
   "source": [
    "# Imprime una muestra de datos para el tráfico de internet\n",
    "print(internet.head())\n",
    "\n",
    "# Mis observaciones\n",
    "# Podemos cambiar los mg utilizados a gb por usuario \n",
    "# Podemos cambiar el formato de la columna de la fecha\n"
   ]
  },
  {
   "cell_type": "markdown",
   "metadata": {
    "id": "yA0tkPFg0q1D"
   },
   "source": [
    "### Corregir los datos"
   ]
  },
  {
   "cell_type": "markdown",
   "metadata": {
    "id": "zlZMuIEK0q1D"
   },
   "source": [
    "[Corrige los problemas obvios con los datos basándote en las observaciones iniciales.]"
   ]
  },
  {
   "cell_type": "code",
   "execution_count": 21,
   "metadata": {
    "id": "zVeanzdd0q1E"
   },
   "outputs": [
    {
     "data": {
      "text/html": [
       "<div>\n",
       "<style scoped>\n",
       "    .dataframe tbody tr th:only-of-type {\n",
       "        vertical-align: middle;\n",
       "    }\n",
       "\n",
       "    .dataframe tbody tr th {\n",
       "        vertical-align: top;\n",
       "    }\n",
       "\n",
       "    .dataframe thead th {\n",
       "        text-align: right;\n",
       "    }\n",
       "</style>\n",
       "<table border=\"1\" class=\"dataframe\">\n",
       "  <thead>\n",
       "    <tr style=\"text-align: right;\">\n",
       "      <th></th>\n",
       "      <th>id</th>\n",
       "      <th>user_id</th>\n",
       "      <th>session_date</th>\n",
       "      <th>mb_used</th>\n",
       "      <th>gb_used</th>\n",
       "    </tr>\n",
       "  </thead>\n",
       "  <tbody>\n",
       "    <tr>\n",
       "      <th>0</th>\n",
       "      <td>1000_13</td>\n",
       "      <td>1000</td>\n",
       "      <td>2018-12-29</td>\n",
       "      <td>89.86</td>\n",
       "      <td>1.0</td>\n",
       "    </tr>\n",
       "    <tr>\n",
       "      <th>1</th>\n",
       "      <td>1000_204</td>\n",
       "      <td>1000</td>\n",
       "      <td>2018-12-31</td>\n",
       "      <td>0.00</td>\n",
       "      <td>0.0</td>\n",
       "    </tr>\n",
       "    <tr>\n",
       "      <th>2</th>\n",
       "      <td>1000_379</td>\n",
       "      <td>1000</td>\n",
       "      <td>2018-12-28</td>\n",
       "      <td>660.40</td>\n",
       "      <td>1.0</td>\n",
       "    </tr>\n",
       "    <tr>\n",
       "      <th>3</th>\n",
       "      <td>1000_413</td>\n",
       "      <td>1000</td>\n",
       "      <td>2018-12-26</td>\n",
       "      <td>270.99</td>\n",
       "      <td>1.0</td>\n",
       "    </tr>\n",
       "    <tr>\n",
       "      <th>4</th>\n",
       "      <td>1000_442</td>\n",
       "      <td>1000</td>\n",
       "      <td>2018-12-27</td>\n",
       "      <td>880.22</td>\n",
       "      <td>1.0</td>\n",
       "    </tr>\n",
       "    <tr>\n",
       "      <th>...</th>\n",
       "      <td>...</td>\n",
       "      <td>...</td>\n",
       "      <td>...</td>\n",
       "      <td>...</td>\n",
       "      <td>...</td>\n",
       "    </tr>\n",
       "    <tr>\n",
       "      <th>104820</th>\n",
       "      <td>1499_215</td>\n",
       "      <td>1499</td>\n",
       "      <td>2018-10-20</td>\n",
       "      <td>218.06</td>\n",
       "      <td>1.0</td>\n",
       "    </tr>\n",
       "    <tr>\n",
       "      <th>104821</th>\n",
       "      <td>1499_216</td>\n",
       "      <td>1499</td>\n",
       "      <td>2018-12-30</td>\n",
       "      <td>304.72</td>\n",
       "      <td>1.0</td>\n",
       "    </tr>\n",
       "    <tr>\n",
       "      <th>104822</th>\n",
       "      <td>1499_217</td>\n",
       "      <td>1499</td>\n",
       "      <td>2018-09-22</td>\n",
       "      <td>292.75</td>\n",
       "      <td>1.0</td>\n",
       "    </tr>\n",
       "    <tr>\n",
       "      <th>104823</th>\n",
       "      <td>1499_218</td>\n",
       "      <td>1499</td>\n",
       "      <td>2018-12-07</td>\n",
       "      <td>0.00</td>\n",
       "      <td>0.0</td>\n",
       "    </tr>\n",
       "    <tr>\n",
       "      <th>104824</th>\n",
       "      <td>1499_219</td>\n",
       "      <td>1499</td>\n",
       "      <td>2018-12-24</td>\n",
       "      <td>758.31</td>\n",
       "      <td>1.0</td>\n",
       "    </tr>\n",
       "  </tbody>\n",
       "</table>\n",
       "<p>104825 rows × 5 columns</p>\n",
       "</div>"
      ],
      "text/plain": [
       "              id  user_id session_date  mb_used  gb_used\n",
       "0        1000_13     1000   2018-12-29    89.86      1.0\n",
       "1       1000_204     1000   2018-12-31     0.00      0.0\n",
       "2       1000_379     1000   2018-12-28   660.40      1.0\n",
       "3       1000_413     1000   2018-12-26   270.99      1.0\n",
       "4       1000_442     1000   2018-12-27   880.22      1.0\n",
       "...          ...      ...          ...      ...      ...\n",
       "104820  1499_215     1499   2018-10-20   218.06      1.0\n",
       "104821  1499_216     1499   2018-12-30   304.72      1.0\n",
       "104822  1499_217     1499   2018-09-22   292.75      1.0\n",
       "104823  1499_218     1499   2018-12-07     0.00      0.0\n",
       "104824  1499_219     1499   2018-12-24   758.31      1.0\n",
       "\n",
       "[104825 rows x 5 columns]"
      ]
     },
     "execution_count": 21,
     "metadata": {},
     "output_type": "execute_result"
    }
   ],
   "source": [
    "internet[\"gb_used\"] = np.ceil(internet[\"mb_used\"]/1024)\n",
    "internet"
   ]
  },
  {
   "cell_type": "markdown",
   "metadata": {},
   "source": [
    "<div class=\"alert alert-block alert-success\">\n",
    "<b>Comentario del revisor</b> <a class=\"tocSkip\"></a>\n",
    "\n",
    "Audrey, excelente trabajo trasnformando de mb a gb y posteriormente haciendo el redondeo hacia arriba como lo indica el ejercicio. "
   ]
  },
  {
   "cell_type": "markdown",
   "metadata": {
    "id": "e8_mLF4a0q1E"
   },
   "source": [
    "### Enriquecer los datos"
   ]
  },
  {
   "cell_type": "markdown",
   "metadata": {
    "id": "xhNdn2tE0q1E"
   },
   "source": [
    "[Agrega factores adicionales a los datos si crees que pudieran ser útiles.]"
   ]
  },
  {
   "cell_type": "code",
   "execution_count": 22,
   "metadata": {
    "id": "ESiYPIEK0q1E"
   },
   "outputs": [
    {
     "name": "stdout",
     "output_type": "stream",
     "text": [
      "<class 'pandas.core.frame.DataFrame'>\n",
      "RangeIndex: 104825 entries, 0 to 104824\n",
      "Data columns (total 5 columns):\n",
      " #   Column        Non-Null Count   Dtype         \n",
      "---  ------        --------------   -----         \n",
      " 0   id            104825 non-null  object        \n",
      " 1   user_id       104825 non-null  int64         \n",
      " 2   session_date  104825 non-null  datetime64[ns]\n",
      " 3   mb_used       104825 non-null  float64       \n",
      " 4   gb_used       104825 non-null  float64       \n",
      "dtypes: datetime64[ns](1), float64(2), int64(1), object(1)\n",
      "memory usage: 4.0+ MB\n"
     ]
    }
   ],
   "source": [
    "internet['session_date'] = pd.to_datetime(internet['session_date'])\n",
    "internet.info()"
   ]
  },
  {
   "cell_type": "markdown",
   "metadata": {
    "id": "3UA2cqIW0q1E"
   },
   "source": [
    "## Estudiar las condiciones de las tarifas"
   ]
  },
  {
   "cell_type": "markdown",
   "metadata": {
    "id": "T86Sqltq0q1F"
   },
   "source": [
    "[Es sumamente importante entender cómo funcionan las tarifas, cómo se les cobra a los usuarios en función de su plan de suscripción. Así que te sugerimos imprimir la información de la tarifa para ver una vez más sus condiciones.]"
   ]
  },
  {
   "cell_type": "code",
   "execution_count": 23,
   "metadata": {
    "id": "i409op8p0q1F"
   },
   "outputs": [
    {
     "data": {
      "text/html": [
       "<div>\n",
       "<style scoped>\n",
       "    .dataframe tbody tr th:only-of-type {\n",
       "        vertical-align: middle;\n",
       "    }\n",
       "\n",
       "    .dataframe tbody tr th {\n",
       "        vertical-align: top;\n",
       "    }\n",
       "\n",
       "    .dataframe thead th {\n",
       "        text-align: right;\n",
       "    }\n",
       "</style>\n",
       "<table border=\"1\" class=\"dataframe\">\n",
       "  <thead>\n",
       "    <tr style=\"text-align: right;\">\n",
       "      <th></th>\n",
       "      <th>messages_included</th>\n",
       "      <th>mb_per_month_included</th>\n",
       "      <th>minutes_included</th>\n",
       "      <th>usd_monthly_pay</th>\n",
       "      <th>usd_per_gb</th>\n",
       "      <th>usd_per_message</th>\n",
       "      <th>usd_per_minute</th>\n",
       "      <th>plan_name</th>\n",
       "      <th>gb_per_month</th>\n",
       "    </tr>\n",
       "  </thead>\n",
       "  <tbody>\n",
       "    <tr>\n",
       "      <th>0</th>\n",
       "      <td>50</td>\n",
       "      <td>15360</td>\n",
       "      <td>500</td>\n",
       "      <td>20</td>\n",
       "      <td>10</td>\n",
       "      <td>0.03</td>\n",
       "      <td>0.03</td>\n",
       "      <td>surf</td>\n",
       "      <td>15.0</td>\n",
       "    </tr>\n",
       "    <tr>\n",
       "      <th>1</th>\n",
       "      <td>1000</td>\n",
       "      <td>30720</td>\n",
       "      <td>3000</td>\n",
       "      <td>70</td>\n",
       "      <td>7</td>\n",
       "      <td>0.01</td>\n",
       "      <td>0.01</td>\n",
       "      <td>ultimate</td>\n",
       "      <td>30.0</td>\n",
       "    </tr>\n",
       "  </tbody>\n",
       "</table>\n",
       "</div>"
      ],
      "text/plain": [
       "   messages_included  mb_per_month_included  minutes_included  \\\n",
       "0                 50                  15360               500   \n",
       "1               1000                  30720              3000   \n",
       "\n",
       "   usd_monthly_pay  usd_per_gb  usd_per_message  usd_per_minute plan_name  \\\n",
       "0               20          10             0.03            0.03      surf   \n",
       "1               70           7             0.01            0.01  ultimate   \n",
       "\n",
       "   gb_per_month  \n",
       "0          15.0  \n",
       "1          30.0  "
      ]
     },
     "metadata": {},
     "output_type": "display_data"
    }
   ],
   "source": [
    "# Imprime las condiciones de la tarifa y asegúrate de que te quedan claras\n",
    "display(plans)\n",
    "\n",
    "# Mis observaciones\n",
    "# los usuarios pagan una tarifa mensual fija basada en su plan, y cualquier consumo que exceda los limites mensuales genera cargos adicionales, que varoan segun el plan. \n",
    "#El plan Ultimate tiene tarifas adicionales mas bajas por GB, mensaje y minuto lo cual puede ser beneficioso para usuarios de alto consumo."
   ]
  },
  {
   "cell_type": "markdown",
   "metadata": {
    "id": "hMR1tP5d0q1F"
   },
   "source": [
    "## Agregar datos por usuario\n",
    "\n",
    "[Ahora que los datos están limpios, agrega los datos por usuario y por periodo para que solo haya un registro por usuario y por periodo. Esto facilitará mucho el análisis posterior.]"
   ]
  },
  {
   "cell_type": "code",
   "execution_count": 24,
   "metadata": {
    "id": "A332cedB0q1G"
   },
   "outputs": [
    {
     "data": {
      "text/html": [
       "<div>\n",
       "<style scoped>\n",
       "    .dataframe tbody tr th:only-of-type {\n",
       "        vertical-align: middle;\n",
       "    }\n",
       "\n",
       "    .dataframe tbody tr th {\n",
       "        vertical-align: top;\n",
       "    }\n",
       "\n",
       "    .dataframe thead th {\n",
       "        text-align: right;\n",
       "    }\n",
       "</style>\n",
       "<table border=\"1\" class=\"dataframe\">\n",
       "  <thead>\n",
       "    <tr style=\"text-align: right;\">\n",
       "      <th></th>\n",
       "      <th>id</th>\n",
       "      <th>user_id</th>\n",
       "      <th>call_date</th>\n",
       "      <th>duration</th>\n",
       "      <th>redondeo</th>\n",
       "    </tr>\n",
       "  </thead>\n",
       "  <tbody>\n",
       "    <tr>\n",
       "      <th>0</th>\n",
       "      <td>1000_93</td>\n",
       "      <td>1000</td>\n",
       "      <td>2018-12-27</td>\n",
       "      <td>8.52</td>\n",
       "      <td>9</td>\n",
       "    </tr>\n",
       "    <tr>\n",
       "      <th>1</th>\n",
       "      <td>1000_145</td>\n",
       "      <td>1000</td>\n",
       "      <td>2018-12-27</td>\n",
       "      <td>13.66</td>\n",
       "      <td>14</td>\n",
       "    </tr>\n",
       "    <tr>\n",
       "      <th>2</th>\n",
       "      <td>1000_247</td>\n",
       "      <td>1000</td>\n",
       "      <td>2018-12-27</td>\n",
       "      <td>14.48</td>\n",
       "      <td>15</td>\n",
       "    </tr>\n",
       "    <tr>\n",
       "      <th>3</th>\n",
       "      <td>1000_309</td>\n",
       "      <td>1000</td>\n",
       "      <td>2018-12-28</td>\n",
       "      <td>5.76</td>\n",
       "      <td>6</td>\n",
       "    </tr>\n",
       "    <tr>\n",
       "      <th>4</th>\n",
       "      <td>1000_380</td>\n",
       "      <td>1000</td>\n",
       "      <td>2018-12-30</td>\n",
       "      <td>4.22</td>\n",
       "      <td>5</td>\n",
       "    </tr>\n",
       "    <tr>\n",
       "      <th>...</th>\n",
       "      <td>...</td>\n",
       "      <td>...</td>\n",
       "      <td>...</td>\n",
       "      <td>...</td>\n",
       "      <td>...</td>\n",
       "    </tr>\n",
       "    <tr>\n",
       "      <th>137730</th>\n",
       "      <td>1499_199</td>\n",
       "      <td>1499</td>\n",
       "      <td>2018-11-21</td>\n",
       "      <td>8.72</td>\n",
       "      <td>9</td>\n",
       "    </tr>\n",
       "    <tr>\n",
       "      <th>137731</th>\n",
       "      <td>1499_200</td>\n",
       "      <td>1499</td>\n",
       "      <td>2018-10-20</td>\n",
       "      <td>10.89</td>\n",
       "      <td>11</td>\n",
       "    </tr>\n",
       "    <tr>\n",
       "      <th>137732</th>\n",
       "      <td>1499_201</td>\n",
       "      <td>1499</td>\n",
       "      <td>2018-09-21</td>\n",
       "      <td>8.12</td>\n",
       "      <td>9</td>\n",
       "    </tr>\n",
       "    <tr>\n",
       "      <th>137733</th>\n",
       "      <td>1499_202</td>\n",
       "      <td>1499</td>\n",
       "      <td>2018-10-10</td>\n",
       "      <td>0.37</td>\n",
       "      <td>1</td>\n",
       "    </tr>\n",
       "    <tr>\n",
       "      <th>137734</th>\n",
       "      <td>1499_203</td>\n",
       "      <td>1499</td>\n",
       "      <td>2018-12-29</td>\n",
       "      <td>13.86</td>\n",
       "      <td>14</td>\n",
       "    </tr>\n",
       "  </tbody>\n",
       "</table>\n",
       "<p>137735 rows × 5 columns</p>\n",
       "</div>"
      ],
      "text/plain": [
       "              id  user_id  call_date  duration  redondeo\n",
       "0        1000_93     1000 2018-12-27      8.52         9\n",
       "1       1000_145     1000 2018-12-27     13.66        14\n",
       "2       1000_247     1000 2018-12-27     14.48        15\n",
       "3       1000_309     1000 2018-12-28      5.76         6\n",
       "4       1000_380     1000 2018-12-30      4.22         5\n",
       "...          ...      ...        ...       ...       ...\n",
       "137730  1499_199     1499 2018-11-21      8.72         9\n",
       "137731  1499_200     1499 2018-10-20     10.89        11\n",
       "137732  1499_201     1499 2018-09-21      8.12         9\n",
       "137733  1499_202     1499 2018-10-10      0.37         1\n",
       "137734  1499_203     1499 2018-12-29     13.86        14\n",
       "\n",
       "[137735 rows x 5 columns]"
      ]
     },
     "metadata": {},
     "output_type": "display_data"
    }
   ],
   "source": [
    "# Calcula el número de llamadas hechas por cada usuario al mes. Guarda el resultado.\n",
    "\n",
    "display(calls) \n",
    "\n",
    "# Codigo completo abajo:"
   ]
  },
  {
   "cell_type": "code",
   "execution_count": 25,
   "metadata": {
    "id": "aw2cmuql0q1G"
   },
   "outputs": [
    {
     "data": {
      "text/html": [
       "<div>\n",
       "<style scoped>\n",
       "    .dataframe tbody tr th:only-of-type {\n",
       "        vertical-align: middle;\n",
       "    }\n",
       "\n",
       "    .dataframe tbody tr th {\n",
       "        vertical-align: top;\n",
       "    }\n",
       "\n",
       "    .dataframe thead th {\n",
       "        text-align: right;\n",
       "    }\n",
       "</style>\n",
       "<table border=\"1\" class=\"dataframe\">\n",
       "  <thead>\n",
       "    <tr style=\"text-align: right;\">\n",
       "      <th></th>\n",
       "      <th>user_id</th>\n",
       "      <th>month</th>\n",
       "      <th>total_minutes</th>\n",
       "      <th>total_calls</th>\n",
       "    </tr>\n",
       "  </thead>\n",
       "  <tbody>\n",
       "    <tr>\n",
       "      <th>0</th>\n",
       "      <td>1000</td>\n",
       "      <td>12</td>\n",
       "      <td>124</td>\n",
       "      <td>16</td>\n",
       "    </tr>\n",
       "    <tr>\n",
       "      <th>1</th>\n",
       "      <td>1001</td>\n",
       "      <td>8</td>\n",
       "      <td>182</td>\n",
       "      <td>27</td>\n",
       "    </tr>\n",
       "    <tr>\n",
       "      <th>2</th>\n",
       "      <td>1001</td>\n",
       "      <td>9</td>\n",
       "      <td>315</td>\n",
       "      <td>49</td>\n",
       "    </tr>\n",
       "    <tr>\n",
       "      <th>3</th>\n",
       "      <td>1001</td>\n",
       "      <td>10</td>\n",
       "      <td>393</td>\n",
       "      <td>65</td>\n",
       "    </tr>\n",
       "    <tr>\n",
       "      <th>4</th>\n",
       "      <td>1001</td>\n",
       "      <td>11</td>\n",
       "      <td>426</td>\n",
       "      <td>64</td>\n",
       "    </tr>\n",
       "    <tr>\n",
       "      <th>...</th>\n",
       "      <td>...</td>\n",
       "      <td>...</td>\n",
       "      <td>...</td>\n",
       "      <td>...</td>\n",
       "    </tr>\n",
       "    <tr>\n",
       "      <th>2253</th>\n",
       "      <td>1498</td>\n",
       "      <td>12</td>\n",
       "      <td>339</td>\n",
       "      <td>39</td>\n",
       "    </tr>\n",
       "    <tr>\n",
       "      <th>2254</th>\n",
       "      <td>1499</td>\n",
       "      <td>9</td>\n",
       "      <td>346</td>\n",
       "      <td>41</td>\n",
       "    </tr>\n",
       "    <tr>\n",
       "      <th>2255</th>\n",
       "      <td>1499</td>\n",
       "      <td>10</td>\n",
       "      <td>385</td>\n",
       "      <td>53</td>\n",
       "    </tr>\n",
       "    <tr>\n",
       "      <th>2256</th>\n",
       "      <td>1499</td>\n",
       "      <td>11</td>\n",
       "      <td>308</td>\n",
       "      <td>45</td>\n",
       "    </tr>\n",
       "    <tr>\n",
       "      <th>2257</th>\n",
       "      <td>1499</td>\n",
       "      <td>12</td>\n",
       "      <td>496</td>\n",
       "      <td>65</td>\n",
       "    </tr>\n",
       "  </tbody>\n",
       "</table>\n",
       "<p>2258 rows × 4 columns</p>\n",
       "</div>"
      ],
      "text/plain": [
       "      user_id  month  total_minutes  total_calls\n",
       "0        1000     12            124           16\n",
       "1        1001      8            182           27\n",
       "2        1001      9            315           49\n",
       "3        1001     10            393           65\n",
       "4        1001     11            426           64\n",
       "...       ...    ...            ...          ...\n",
       "2253     1498     12            339           39\n",
       "2254     1499      9            346           41\n",
       "2255     1499     10            385           53\n",
       "2256     1499     11            308           45\n",
       "2257     1499     12            496           65\n",
       "\n",
       "[2258 rows x 4 columns]"
      ]
     },
     "execution_count": 25,
     "metadata": {},
     "output_type": "execute_result"
    }
   ],
   "source": [
    "# Calcula la cantidad de minutos usados por cada usuario al mes. Guarda el resultado.\n",
    "\n",
    "calls['month'] = calls['call_date'].dt.month  # voy a extraer el mes \n",
    "\n",
    "# Creamos pivot table como en clase\n",
    "\n",
    "calls_users = calls.pivot_table(index= ['user_id','month'],values= 'redondeo', aggfunc= ['sum', 'count']) \n",
    " \n",
    "calls_users.head()\n",
    "\n",
    "# Cambiamos nombre de las columnas\n",
    "calls_users.columns=['total_minutes','total_calls']\n",
    "calls_users.reset_index(inplace=True)\n",
    "calls_users\n"
   ]
  },
  {
   "cell_type": "markdown",
   "metadata": {},
   "source": [
    "<div class=\"alert alert-block alert-success\">\n",
    "<b>Comentario del revisor</b> <a class=\"tocSkip\"></a>\n",
    "\n",
    "Muy buen trabajo!! la función de pivot_table() es muy recomendable para hacer los códigos más eficientes.\n",
    "    \n",
    "</div>"
   ]
  },
  {
   "cell_type": "code",
   "execution_count": 26,
   "metadata": {
    "id": "CcQvNHn60q1G"
   },
   "outputs": [
    {
     "name": "stdout",
     "output_type": "stream",
     "text": [
      "         id  user_id message_date  month\n",
      "0  1000_125     1000   2018-12-27     12\n",
      "1  1000_160     1000   2018-12-31     12\n",
      "2  1000_223     1000   2018-12-31     12\n",
      "3  1000_251     1000   2018-12-27     12\n",
      "4  1000_255     1000   2018-12-26     12\n"
     ]
    },
    {
     "data": {
      "text/html": [
       "<div>\n",
       "<style scoped>\n",
       "    .dataframe tbody tr th:only-of-type {\n",
       "        vertical-align: middle;\n",
       "    }\n",
       "\n",
       "    .dataframe tbody tr th {\n",
       "        vertical-align: top;\n",
       "    }\n",
       "\n",
       "    .dataframe thead th {\n",
       "        text-align: right;\n",
       "    }\n",
       "</style>\n",
       "<table border=\"1\" class=\"dataframe\">\n",
       "  <thead>\n",
       "    <tr style=\"text-align: right;\">\n",
       "      <th></th>\n",
       "      <th>user_id</th>\n",
       "      <th>month</th>\n",
       "      <th>total_msgs</th>\n",
       "    </tr>\n",
       "  </thead>\n",
       "  <tbody>\n",
       "    <tr>\n",
       "      <th>0</th>\n",
       "      <td>1000</td>\n",
       "      <td>12</td>\n",
       "      <td>11</td>\n",
       "    </tr>\n",
       "    <tr>\n",
       "      <th>1</th>\n",
       "      <td>1001</td>\n",
       "      <td>8</td>\n",
       "      <td>30</td>\n",
       "    </tr>\n",
       "    <tr>\n",
       "      <th>2</th>\n",
       "      <td>1001</td>\n",
       "      <td>9</td>\n",
       "      <td>44</td>\n",
       "    </tr>\n",
       "    <tr>\n",
       "      <th>3</th>\n",
       "      <td>1001</td>\n",
       "      <td>10</td>\n",
       "      <td>53</td>\n",
       "    </tr>\n",
       "    <tr>\n",
       "      <th>4</th>\n",
       "      <td>1001</td>\n",
       "      <td>11</td>\n",
       "      <td>36</td>\n",
       "    </tr>\n",
       "  </tbody>\n",
       "</table>\n",
       "</div>"
      ],
      "text/plain": [
       "   user_id  month  total_msgs\n",
       "0     1000     12          11\n",
       "1     1001      8          30\n",
       "2     1001      9          44\n",
       "3     1001     10          53\n",
       "4     1001     11          36"
      ]
     },
     "execution_count": 26,
     "metadata": {},
     "output_type": "execute_result"
    }
   ],
   "source": [
    "# Calcula el número de mensajes enviados por cada usuario al mes. Guarda el resultado.\n",
    "messages.head()\n",
    "\n",
    "# Obtengo la columna del mes\n",
    "\n",
    "messages['month'] = messages['message_date'].dt.month\n",
    "print(messages.head())\n",
    "\n",
    "# Hacemos pivto como en clase\n",
    "\n",
    "msgs_users = messages.pivot_table(index= ['user_id','month'], values= 'id', aggfunc= 'count')\n",
    "msgs_users.columns = ['total_msgs']\n",
    "msgs_users.reset_index(inplace=True)\n",
    "msgs_users.head()"
   ]
  },
  {
   "cell_type": "code",
   "execution_count": 27,
   "metadata": {
    "id": "H1AqN2eG0q1H"
   },
   "outputs": [
    {
     "name": "stdout",
     "output_type": "stream",
     "text": [
      "              id  user_id session_date  mb_used  gb_used  month\n",
      "0        1000_13     1000   2018-12-29    89.86      1.0     12\n",
      "1       1000_204     1000   2018-12-31     0.00      0.0     12\n",
      "2       1000_379     1000   2018-12-28   660.40      1.0     12\n",
      "3       1000_413     1000   2018-12-26   270.99      1.0     12\n",
      "4       1000_442     1000   2018-12-27   880.22      1.0     12\n",
      "...          ...      ...          ...      ...      ...    ...\n",
      "104820  1499_215     1499   2018-10-20   218.06      1.0     10\n",
      "104821  1499_216     1499   2018-12-30   304.72      1.0     12\n",
      "104822  1499_217     1499   2018-09-22   292.75      1.0      9\n",
      "104823  1499_218     1499   2018-12-07     0.00      0.0     12\n",
      "104824  1499_219     1499   2018-12-24   758.31      1.0     12\n",
      "\n",
      "[104825 rows x 6 columns]\n"
     ]
    },
    {
     "data": {
      "text/html": [
       "<div>\n",
       "<style scoped>\n",
       "    .dataframe tbody tr th:only-of-type {\n",
       "        vertical-align: middle;\n",
       "    }\n",
       "\n",
       "    .dataframe tbody tr th {\n",
       "        vertical-align: top;\n",
       "    }\n",
       "\n",
       "    .dataframe thead th {\n",
       "        text-align: right;\n",
       "    }\n",
       "</style>\n",
       "<table border=\"1\" class=\"dataframe\">\n",
       "  <thead>\n",
       "    <tr style=\"text-align: right;\">\n",
       "      <th></th>\n",
       "      <th></th>\n",
       "      <th>total_internet_GB</th>\n",
       "    </tr>\n",
       "    <tr>\n",
       "      <th>user_id</th>\n",
       "      <th>month</th>\n",
       "      <th></th>\n",
       "    </tr>\n",
       "  </thead>\n",
       "  <tbody>\n",
       "    <tr>\n",
       "      <th>1000</th>\n",
       "      <th>12</th>\n",
       "      <td>4.0</td>\n",
       "    </tr>\n",
       "    <tr>\n",
       "      <th rowspan=\"4\" valign=\"top\">1001</th>\n",
       "      <th>8</th>\n",
       "      <td>21.0</td>\n",
       "    </tr>\n",
       "    <tr>\n",
       "      <th>9</th>\n",
       "      <td>41.0</td>\n",
       "    </tr>\n",
       "    <tr>\n",
       "      <th>10</th>\n",
       "      <td>50.0</td>\n",
       "    </tr>\n",
       "    <tr>\n",
       "      <th>11</th>\n",
       "      <td>49.0</td>\n",
       "    </tr>\n",
       "    <tr>\n",
       "      <th>...</th>\n",
       "      <th>...</th>\n",
       "      <td>...</td>\n",
       "    </tr>\n",
       "    <tr>\n",
       "      <th>1498</th>\n",
       "      <th>12</th>\n",
       "      <td>56.0</td>\n",
       "    </tr>\n",
       "    <tr>\n",
       "      <th rowspan=\"4\" valign=\"top\">1499</th>\n",
       "      <th>9</th>\n",
       "      <td>37.0</td>\n",
       "    </tr>\n",
       "    <tr>\n",
       "      <th>10</th>\n",
       "      <td>52.0</td>\n",
       "    </tr>\n",
       "    <tr>\n",
       "      <th>11</th>\n",
       "      <td>43.0</td>\n",
       "    </tr>\n",
       "    <tr>\n",
       "      <th>12</th>\n",
       "      <td>58.0</td>\n",
       "    </tr>\n",
       "  </tbody>\n",
       "</table>\n",
       "<p>2277 rows × 1 columns</p>\n",
       "</div>"
      ],
      "text/plain": [
       "               total_internet_GB\n",
       "user_id month                   \n",
       "1000    12                   4.0\n",
       "1001    8                   21.0\n",
       "        9                   41.0\n",
       "        10                  50.0\n",
       "        11                  49.0\n",
       "...                          ...\n",
       "1498    12                  56.0\n",
       "1499    9                   37.0\n",
       "        10                  52.0\n",
       "        11                  43.0\n",
       "        12                  58.0\n",
       "\n",
       "[2277 rows x 1 columns]"
      ]
     },
     "execution_count": 27,
     "metadata": {},
     "output_type": "execute_result"
    }
   ],
   "source": [
    "# Calcula el volumen del tráfico de Internet usado por cada usuario al mes. Guarda el resultado.\n",
    "\n",
    "# Extraigo el mes\n",
    "\n",
    "internet['month']=internet['session_date'].dt.month\n",
    "\n",
    "print(internet)\n",
    "\n",
    "\n",
    "monthly_internet = internet.pivot_table(index=['user_id','month'],values='gb_used',aggfunc='sum')\n",
    "monthly_internet.columns=['total_internet_GB']\n",
    "monthly_internet\n"
   ]
  },
  {
   "cell_type": "markdown",
   "metadata": {
    "id": "VDfYXnj80q1H"
   },
   "source": [
    "[Junta los datos agregados en un DataFrame para que haya un registro que represente lo que consumió un usuario único en un mes determinado.]"
   ]
  },
  {
   "cell_type": "code",
   "execution_count": 28,
   "metadata": {
    "id": "FW99ykyf0q1H"
   },
   "outputs": [
    {
     "data": {
      "text/html": [
       "<div>\n",
       "<style scoped>\n",
       "    .dataframe tbody tr th:only-of-type {\n",
       "        vertical-align: middle;\n",
       "    }\n",
       "\n",
       "    .dataframe tbody tr th {\n",
       "        vertical-align: top;\n",
       "    }\n",
       "\n",
       "    .dataframe thead th {\n",
       "        text-align: right;\n",
       "    }\n",
       "</style>\n",
       "<table border=\"1\" class=\"dataframe\">\n",
       "  <thead>\n",
       "    <tr style=\"text-align: right;\">\n",
       "      <th></th>\n",
       "      <th>user_id</th>\n",
       "      <th>month</th>\n",
       "      <th>total_minutes</th>\n",
       "      <th>total_calls</th>\n",
       "      <th>total_msgs</th>\n",
       "      <th>total_internet_GB</th>\n",
       "    </tr>\n",
       "  </thead>\n",
       "  <tbody>\n",
       "    <tr>\n",
       "      <th>0</th>\n",
       "      <td>1000</td>\n",
       "      <td>12</td>\n",
       "      <td>124.0</td>\n",
       "      <td>16.0</td>\n",
       "      <td>11.0</td>\n",
       "      <td>4.0</td>\n",
       "    </tr>\n",
       "    <tr>\n",
       "      <th>1</th>\n",
       "      <td>1001</td>\n",
       "      <td>8</td>\n",
       "      <td>182.0</td>\n",
       "      <td>27.0</td>\n",
       "      <td>30.0</td>\n",
       "      <td>21.0</td>\n",
       "    </tr>\n",
       "    <tr>\n",
       "      <th>2</th>\n",
       "      <td>1001</td>\n",
       "      <td>9</td>\n",
       "      <td>315.0</td>\n",
       "      <td>49.0</td>\n",
       "      <td>44.0</td>\n",
       "      <td>41.0</td>\n",
       "    </tr>\n",
       "    <tr>\n",
       "      <th>3</th>\n",
       "      <td>1001</td>\n",
       "      <td>10</td>\n",
       "      <td>393.0</td>\n",
       "      <td>65.0</td>\n",
       "      <td>53.0</td>\n",
       "      <td>50.0</td>\n",
       "    </tr>\n",
       "    <tr>\n",
       "      <th>4</th>\n",
       "      <td>1001</td>\n",
       "      <td>11</td>\n",
       "      <td>426.0</td>\n",
       "      <td>64.0</td>\n",
       "      <td>36.0</td>\n",
       "      <td>49.0</td>\n",
       "    </tr>\n",
       "    <tr>\n",
       "      <th>...</th>\n",
       "      <td>...</td>\n",
       "      <td>...</td>\n",
       "      <td>...</td>\n",
       "      <td>...</td>\n",
       "      <td>...</td>\n",
       "      <td>...</td>\n",
       "    </tr>\n",
       "    <tr>\n",
       "      <th>2288</th>\n",
       "      <td>1349</td>\n",
       "      <td>12</td>\n",
       "      <td>NaN</td>\n",
       "      <td>NaN</td>\n",
       "      <td>61.0</td>\n",
       "      <td>27.0</td>\n",
       "    </tr>\n",
       "    <tr>\n",
       "      <th>2289</th>\n",
       "      <td>1361</td>\n",
       "      <td>5</td>\n",
       "      <td>NaN</td>\n",
       "      <td>NaN</td>\n",
       "      <td>2.0</td>\n",
       "      <td>7.0</td>\n",
       "    </tr>\n",
       "    <tr>\n",
       "      <th>2290</th>\n",
       "      <td>1482</td>\n",
       "      <td>10</td>\n",
       "      <td>NaN</td>\n",
       "      <td>NaN</td>\n",
       "      <td>2.0</td>\n",
       "      <td>NaN</td>\n",
       "    </tr>\n",
       "    <tr>\n",
       "      <th>2291</th>\n",
       "      <td>1108</td>\n",
       "      <td>12</td>\n",
       "      <td>NaN</td>\n",
       "      <td>NaN</td>\n",
       "      <td>NaN</td>\n",
       "      <td>2.0</td>\n",
       "    </tr>\n",
       "    <tr>\n",
       "      <th>2292</th>\n",
       "      <td>1311</td>\n",
       "      <td>6</td>\n",
       "      <td>NaN</td>\n",
       "      <td>NaN</td>\n",
       "      <td>NaN</td>\n",
       "      <td>7.0</td>\n",
       "    </tr>\n",
       "  </tbody>\n",
       "</table>\n",
       "<p>2293 rows × 6 columns</p>\n",
       "</div>"
      ],
      "text/plain": [
       "      user_id  month  total_minutes  total_calls  total_msgs  \\\n",
       "0        1000     12          124.0         16.0        11.0   \n",
       "1        1001      8          182.0         27.0        30.0   \n",
       "2        1001      9          315.0         49.0        44.0   \n",
       "3        1001     10          393.0         65.0        53.0   \n",
       "4        1001     11          426.0         64.0        36.0   \n",
       "...       ...    ...            ...          ...         ...   \n",
       "2288     1349     12            NaN          NaN        61.0   \n",
       "2289     1361      5            NaN          NaN         2.0   \n",
       "2290     1482     10            NaN          NaN         2.0   \n",
       "2291     1108     12            NaN          NaN         NaN   \n",
       "2292     1311      6            NaN          NaN         NaN   \n",
       "\n",
       "      total_internet_GB  \n",
       "0                   4.0  \n",
       "1                  21.0  \n",
       "2                  41.0  \n",
       "3                  50.0  \n",
       "4                  49.0  \n",
       "...                 ...  \n",
       "2288               27.0  \n",
       "2289                7.0  \n",
       "2290                NaN  \n",
       "2291                2.0  \n",
       "2292                7.0  \n",
       "\n",
       "[2293 rows x 6 columns]"
      ]
     },
     "metadata": {},
     "output_type": "display_data"
    }
   ],
   "source": [
    "# Fusiona los datos de llamadas, minutos, mensajes e Internet con base en user_id y month\n",
    "\n",
    "calls_msgs=calls_users.merge(msgs_users,on= ['user_id','month'],how='outer')\n",
    "\n",
    "calls_msgs_int=calls_msgs.merge(monthly_internet,on=['user_id','month'],how='outer')\n",
    "display(calls_msgs_int)\n"
   ]
  },
  {
   "cell_type": "code",
   "execution_count": 29,
   "metadata": {
    "id": "0dNOXHag0q1H"
   },
   "outputs": [
    {
     "data": {
      "text/html": [
       "<div>\n",
       "<style scoped>\n",
       "    .dataframe tbody tr th:only-of-type {\n",
       "        vertical-align: middle;\n",
       "    }\n",
       "\n",
       "    .dataframe tbody tr th {\n",
       "        vertical-align: top;\n",
       "    }\n",
       "\n",
       "    .dataframe thead th {\n",
       "        text-align: right;\n",
       "    }\n",
       "</style>\n",
       "<table border=\"1\" class=\"dataframe\">\n",
       "  <thead>\n",
       "    <tr style=\"text-align: right;\">\n",
       "      <th></th>\n",
       "      <th>user_id</th>\n",
       "      <th>month</th>\n",
       "      <th>total_minutes</th>\n",
       "      <th>total_calls</th>\n",
       "      <th>total_msgs</th>\n",
       "      <th>total_internet_GB</th>\n",
       "      <th>plan</th>\n",
       "      <th>city</th>\n",
       "      <th>status</th>\n",
       "      <th>messages_included</th>\n",
       "      <th>mb_per_month_included</th>\n",
       "      <th>minutes_included</th>\n",
       "      <th>usd_monthly_pay</th>\n",
       "      <th>usd_per_gb</th>\n",
       "      <th>usd_per_message</th>\n",
       "      <th>usd_per_minute</th>\n",
       "      <th>gb_per_month</th>\n",
       "    </tr>\n",
       "  </thead>\n",
       "  <tbody>\n",
       "    <tr>\n",
       "      <th>0</th>\n",
       "      <td>1000</td>\n",
       "      <td>12.0</td>\n",
       "      <td>124.0</td>\n",
       "      <td>16.0</td>\n",
       "      <td>11.0</td>\n",
       "      <td>4.0</td>\n",
       "      <td>ultimate</td>\n",
       "      <td>Atlanta-Sandy Springs-Roswell, GA MSA</td>\n",
       "      <td>active</td>\n",
       "      <td>1000</td>\n",
       "      <td>30720</td>\n",
       "      <td>3000</td>\n",
       "      <td>70</td>\n",
       "      <td>7</td>\n",
       "      <td>0.01</td>\n",
       "      <td>0.01</td>\n",
       "      <td>30.0</td>\n",
       "    </tr>\n",
       "    <tr>\n",
       "      <th>1</th>\n",
       "      <td>1006</td>\n",
       "      <td>11.0</td>\n",
       "      <td>10.0</td>\n",
       "      <td>2.0</td>\n",
       "      <td>15.0</td>\n",
       "      <td>7.0</td>\n",
       "      <td>ultimate</td>\n",
       "      <td>San Francisco-Oakland-Berkeley, CA MSA</td>\n",
       "      <td>inactive</td>\n",
       "      <td>1000</td>\n",
       "      <td>30720</td>\n",
       "      <td>3000</td>\n",
       "      <td>70</td>\n",
       "      <td>7</td>\n",
       "      <td>0.01</td>\n",
       "      <td>0.01</td>\n",
       "      <td>30.0</td>\n",
       "    </tr>\n",
       "    <tr>\n",
       "      <th>2</th>\n",
       "      <td>1006</td>\n",
       "      <td>12.0</td>\n",
       "      <td>59.0</td>\n",
       "      <td>9.0</td>\n",
       "      <td>139.0</td>\n",
       "      <td>62.0</td>\n",
       "      <td>ultimate</td>\n",
       "      <td>San Francisco-Oakland-Berkeley, CA MSA</td>\n",
       "      <td>inactive</td>\n",
       "      <td>1000</td>\n",
       "      <td>30720</td>\n",
       "      <td>3000</td>\n",
       "      <td>70</td>\n",
       "      <td>7</td>\n",
       "      <td>0.01</td>\n",
       "      <td>0.01</td>\n",
       "      <td>30.0</td>\n",
       "    </tr>\n",
       "    <tr>\n",
       "      <th>3</th>\n",
       "      <td>1008</td>\n",
       "      <td>10.0</td>\n",
       "      <td>476.0</td>\n",
       "      <td>71.0</td>\n",
       "      <td>21.0</td>\n",
       "      <td>48.0</td>\n",
       "      <td>ultimate</td>\n",
       "      <td>Orlando-Kissimmee-Sanford, FL MSA</td>\n",
       "      <td>active</td>\n",
       "      <td>1000</td>\n",
       "      <td>30720</td>\n",
       "      <td>3000</td>\n",
       "      <td>70</td>\n",
       "      <td>7</td>\n",
       "      <td>0.01</td>\n",
       "      <td>0.01</td>\n",
       "      <td>30.0</td>\n",
       "    </tr>\n",
       "    <tr>\n",
       "      <th>4</th>\n",
       "      <td>1008</td>\n",
       "      <td>11.0</td>\n",
       "      <td>446.0</td>\n",
       "      <td>63.0</td>\n",
       "      <td>37.0</td>\n",
       "      <td>56.0</td>\n",
       "      <td>ultimate</td>\n",
       "      <td>Orlando-Kissimmee-Sanford, FL MSA</td>\n",
       "      <td>active</td>\n",
       "      <td>1000</td>\n",
       "      <td>30720</td>\n",
       "      <td>3000</td>\n",
       "      <td>70</td>\n",
       "      <td>7</td>\n",
       "      <td>0.01</td>\n",
       "      <td>0.01</td>\n",
       "      <td>30.0</td>\n",
       "    </tr>\n",
       "    <tr>\n",
       "      <th>...</th>\n",
       "      <td>...</td>\n",
       "      <td>...</td>\n",
       "      <td>...</td>\n",
       "      <td>...</td>\n",
       "      <td>...</td>\n",
       "      <td>...</td>\n",
       "      <td>...</td>\n",
       "      <td>...</td>\n",
       "      <td>...</td>\n",
       "      <td>...</td>\n",
       "      <td>...</td>\n",
       "      <td>...</td>\n",
       "      <td>...</td>\n",
       "      <td>...</td>\n",
       "      <td>...</td>\n",
       "      <td>...</td>\n",
       "      <td>...</td>\n",
       "    </tr>\n",
       "    <tr>\n",
       "      <th>2298</th>\n",
       "      <td>1143</td>\n",
       "      <td>0.0</td>\n",
       "      <td>0.0</td>\n",
       "      <td>0.0</td>\n",
       "      <td>0.0</td>\n",
       "      <td>0.0</td>\n",
       "      <td>surf</td>\n",
       "      <td>Cincinnati, OH-KY-IN MSA</td>\n",
       "      <td>active</td>\n",
       "      <td>50</td>\n",
       "      <td>15360</td>\n",
       "      <td>500</td>\n",
       "      <td>20</td>\n",
       "      <td>10</td>\n",
       "      <td>0.03</td>\n",
       "      <td>0.03</td>\n",
       "      <td>15.0</td>\n",
       "    </tr>\n",
       "    <tr>\n",
       "      <th>2299</th>\n",
       "      <td>1307</td>\n",
       "      <td>0.0</td>\n",
       "      <td>0.0</td>\n",
       "      <td>0.0</td>\n",
       "      <td>0.0</td>\n",
       "      <td>0.0</td>\n",
       "      <td>surf</td>\n",
       "      <td>Boston-Cambridge-Newton, MA-NH MSA</td>\n",
       "      <td>active</td>\n",
       "      <td>50</td>\n",
       "      <td>15360</td>\n",
       "      <td>500</td>\n",
       "      <td>20</td>\n",
       "      <td>10</td>\n",
       "      <td>0.03</td>\n",
       "      <td>0.03</td>\n",
       "      <td>15.0</td>\n",
       "    </tr>\n",
       "    <tr>\n",
       "      <th>2300</th>\n",
       "      <td>1319</td>\n",
       "      <td>0.0</td>\n",
       "      <td>0.0</td>\n",
       "      <td>0.0</td>\n",
       "      <td>0.0</td>\n",
       "      <td>0.0</td>\n",
       "      <td>surf</td>\n",
       "      <td>Colorado Springs, CO MSA</td>\n",
       "      <td>active</td>\n",
       "      <td>50</td>\n",
       "      <td>15360</td>\n",
       "      <td>500</td>\n",
       "      <td>20</td>\n",
       "      <td>10</td>\n",
       "      <td>0.03</td>\n",
       "      <td>0.03</td>\n",
       "      <td>15.0</td>\n",
       "    </tr>\n",
       "    <tr>\n",
       "      <th>2301</th>\n",
       "      <td>1378</td>\n",
       "      <td>0.0</td>\n",
       "      <td>0.0</td>\n",
       "      <td>0.0</td>\n",
       "      <td>0.0</td>\n",
       "      <td>0.0</td>\n",
       "      <td>surf</td>\n",
       "      <td>Denver-Aurora-Lakewood, CO MSA</td>\n",
       "      <td>active</td>\n",
       "      <td>50</td>\n",
       "      <td>15360</td>\n",
       "      <td>500</td>\n",
       "      <td>20</td>\n",
       "      <td>10</td>\n",
       "      <td>0.03</td>\n",
       "      <td>0.03</td>\n",
       "      <td>15.0</td>\n",
       "    </tr>\n",
       "    <tr>\n",
       "      <th>2302</th>\n",
       "      <td>1473</td>\n",
       "      <td>0.0</td>\n",
       "      <td>0.0</td>\n",
       "      <td>0.0</td>\n",
       "      <td>0.0</td>\n",
       "      <td>0.0</td>\n",
       "      <td>surf</td>\n",
       "      <td>Louisville/Jefferson County, KY-IN MSA</td>\n",
       "      <td>active</td>\n",
       "      <td>50</td>\n",
       "      <td>15360</td>\n",
       "      <td>500</td>\n",
       "      <td>20</td>\n",
       "      <td>10</td>\n",
       "      <td>0.03</td>\n",
       "      <td>0.03</td>\n",
       "      <td>15.0</td>\n",
       "    </tr>\n",
       "  </tbody>\n",
       "</table>\n",
       "<p>2303 rows × 17 columns</p>\n",
       "</div>"
      ],
      "text/plain": [
       "      user_id  month  total_minutes  total_calls  total_msgs  \\\n",
       "0        1000   12.0          124.0         16.0        11.0   \n",
       "1        1006   11.0           10.0          2.0        15.0   \n",
       "2        1006   12.0           59.0          9.0       139.0   \n",
       "3        1008   10.0          476.0         71.0        21.0   \n",
       "4        1008   11.0          446.0         63.0        37.0   \n",
       "...       ...    ...            ...          ...         ...   \n",
       "2298     1143    0.0            0.0          0.0         0.0   \n",
       "2299     1307    0.0            0.0          0.0         0.0   \n",
       "2300     1319    0.0            0.0          0.0         0.0   \n",
       "2301     1378    0.0            0.0          0.0         0.0   \n",
       "2302     1473    0.0            0.0          0.0         0.0   \n",
       "\n",
       "      total_internet_GB      plan                                    city  \\\n",
       "0                   4.0  ultimate   Atlanta-Sandy Springs-Roswell, GA MSA   \n",
       "1                   7.0  ultimate  San Francisco-Oakland-Berkeley, CA MSA   \n",
       "2                  62.0  ultimate  San Francisco-Oakland-Berkeley, CA MSA   \n",
       "3                  48.0  ultimate       Orlando-Kissimmee-Sanford, FL MSA   \n",
       "4                  56.0  ultimate       Orlando-Kissimmee-Sanford, FL MSA   \n",
       "...                 ...       ...                                     ...   \n",
       "2298                0.0      surf                Cincinnati, OH-KY-IN MSA   \n",
       "2299                0.0      surf      Boston-Cambridge-Newton, MA-NH MSA   \n",
       "2300                0.0      surf                Colorado Springs, CO MSA   \n",
       "2301                0.0      surf          Denver-Aurora-Lakewood, CO MSA   \n",
       "2302                0.0      surf  Louisville/Jefferson County, KY-IN MSA   \n",
       "\n",
       "        status  messages_included  mb_per_month_included  minutes_included  \\\n",
       "0       active               1000                  30720              3000   \n",
       "1     inactive               1000                  30720              3000   \n",
       "2     inactive               1000                  30720              3000   \n",
       "3       active               1000                  30720              3000   \n",
       "4       active               1000                  30720              3000   \n",
       "...        ...                ...                    ...               ...   \n",
       "2298    active                 50                  15360               500   \n",
       "2299    active                 50                  15360               500   \n",
       "2300    active                 50                  15360               500   \n",
       "2301    active                 50                  15360               500   \n",
       "2302    active                 50                  15360               500   \n",
       "\n",
       "      usd_monthly_pay  usd_per_gb  usd_per_message  usd_per_minute  \\\n",
       "0                  70           7             0.01            0.01   \n",
       "1                  70           7             0.01            0.01   \n",
       "2                  70           7             0.01            0.01   \n",
       "3                  70           7             0.01            0.01   \n",
       "4                  70           7             0.01            0.01   \n",
       "...               ...         ...              ...             ...   \n",
       "2298               20          10             0.03            0.03   \n",
       "2299               20          10             0.03            0.03   \n",
       "2300               20          10             0.03            0.03   \n",
       "2301               20          10             0.03            0.03   \n",
       "2302               20          10             0.03            0.03   \n",
       "\n",
       "      gb_per_month  \n",
       "0             30.0  \n",
       "1             30.0  \n",
       "2             30.0  \n",
       "3             30.0  \n",
       "4             30.0  \n",
       "...            ...  \n",
       "2298          15.0  \n",
       "2299          15.0  \n",
       "2300          15.0  \n",
       "2301          15.0  \n",
       "2302          15.0  \n",
       "\n",
       "[2303 rows x 17 columns]"
      ]
     },
     "execution_count": 29,
     "metadata": {},
     "output_type": "execute_result"
    }
   ],
   "source": [
    "# Añade la información de la tarifa\n",
    "\n",
    "calls_msgs_int_plan=calls_msgs_int.merge(users[['user_id', 'plan', 'city','status']],on='user_id', how='outer')\n",
    "\n",
    "plans.rename(columns={'plan_name': 'plan'}, inplace=True) # cambiamos el nombre de la columna \n",
    "\n",
    "final_table= calls_msgs_int_plan.merge(plans,on='plan',how='outer')\n",
    "final_table.fillna(0, inplace=True)\n",
    "#final_table['total_used_internet_GB']=np.ceil(final_table['total_internet_MB']/1024)\n",
    "\n",
    "                                            \n",
    "final_table\n",
    "\n"
   ]
  },
  {
   "cell_type": "markdown",
   "metadata": {},
   "source": [
    "<div class=\"alert alert-block alert-success\">\n",
    "<b>Comentario del revisor</b> <a class=\"tocSkip\"></a>\n",
    "\n",
    "Muy buen trabajo!! el merge es correcto para unir todas las bases trabajadas.\n",
    "    \n",
    "</div>"
   ]
  },
  {
   "cell_type": "markdown",
   "metadata": {
    "id": "1IwGo4wg0q1I"
   },
   "source": [
    "[Calcula los ingresos mensuales por usuario (resta el límite del paquete gratuito del número total de llamadas, mensajes de texto y datos; multiplica el resultado por el valor del plan de llamadas; añade la tarifa mensual en función del plan de llamadas). Nota: Dadas las condiciones del plan, ¡esto podría no ser tan trivial como un par de líneas! Así que no pasa nada si dedicas algo de tiempo a ello.]"
   ]
  },
  {
   "cell_type": "code",
   "execution_count": 30,
   "metadata": {
    "id": "5FGCf_c60q1I"
   },
   "outputs": [],
   "source": [
    "## Checar todo desde aqui\n",
    "\n",
    "# Calcula el ingreso mensual para cada usuario\n",
    "\n",
    "def cobro_llamadas(fila):\n",
    "    \n",
    "    min_usados=fila['total_minutes']\n",
    "    consumo_extra=0\n",
    "    \n",
    "    if min_usados>fila['minutes_included']:\n",
    "        \n",
    "        consumo_extra=(min_usados-fila['minutes_included'])*fila['usd_per_minute']\n",
    "        \n",
    "    return consumo_extra\n",
    "\n",
    "def cobro_mensajes(fila):\n",
    "    \n",
    "    men_usados=fila['total_msgs']\n",
    "    consumo_extra=0\n",
    "    \n",
    "    if men_usados>fila['messages_included']:\n",
    "        \n",
    "        consumo_extra=(men_usados-fila['messages_included'])*fila['usd_per_message']\n",
    "        \n",
    "    return consumo_extra\n",
    "\n",
    "\n",
    "def cobro_internet(fila): ##checafr esto\n",
    "    \n",
    "    int_usado=fila['total_internet_GB']\n",
    "    consumo_extra=0\n",
    "    \n",
    "    if int_usado>fila['gb_per_month']:\n",
    "        \n",
    "        consumo_extra=(int_usado-fila['gb_per_month'])*fila['usd_per_gb']\n",
    "        \n",
    "    return consumo_extra "
   ]
  },
  {
   "cell_type": "code",
   "execution_count": 31,
   "metadata": {},
   "outputs": [
    {
     "data": {
      "text/html": [
       "<div>\n",
       "<style scoped>\n",
       "    .dataframe tbody tr th:only-of-type {\n",
       "        vertical-align: middle;\n",
       "    }\n",
       "\n",
       "    .dataframe tbody tr th {\n",
       "        vertical-align: top;\n",
       "    }\n",
       "\n",
       "    .dataframe thead th {\n",
       "        text-align: right;\n",
       "    }\n",
       "</style>\n",
       "<table border=\"1\" class=\"dataframe\">\n",
       "  <thead>\n",
       "    <tr style=\"text-align: right;\">\n",
       "      <th></th>\n",
       "      <th>user_id</th>\n",
       "      <th>month</th>\n",
       "      <th>total_minutes</th>\n",
       "      <th>total_calls</th>\n",
       "      <th>total_msgs</th>\n",
       "      <th>total_internet_GB</th>\n",
       "      <th>plan</th>\n",
       "      <th>city</th>\n",
       "      <th>status</th>\n",
       "      <th>messages_included</th>\n",
       "      <th>mb_per_month_included</th>\n",
       "      <th>minutes_included</th>\n",
       "      <th>usd_monthly_pay</th>\n",
       "      <th>usd_per_gb</th>\n",
       "      <th>usd_per_message</th>\n",
       "      <th>usd_per_minute</th>\n",
       "      <th>gb_per_month</th>\n",
       "      <th>total_call_charges</th>\n",
       "      <th>total_msgs_charges</th>\n",
       "      <th>total_int_charges_GB</th>\n",
       "    </tr>\n",
       "  </thead>\n",
       "  <tbody>\n",
       "    <tr>\n",
       "      <th>0</th>\n",
       "      <td>1000</td>\n",
       "      <td>12.0</td>\n",
       "      <td>124.0</td>\n",
       "      <td>16.0</td>\n",
       "      <td>11.0</td>\n",
       "      <td>4.0</td>\n",
       "      <td>ultimate</td>\n",
       "      <td>Atlanta-Sandy Springs-Roswell, GA MSA</td>\n",
       "      <td>active</td>\n",
       "      <td>1000</td>\n",
       "      <td>30720</td>\n",
       "      <td>3000</td>\n",
       "      <td>70</td>\n",
       "      <td>7</td>\n",
       "      <td>0.01</td>\n",
       "      <td>0.01</td>\n",
       "      <td>30.0</td>\n",
       "      <td>0.0</td>\n",
       "      <td>0.0</td>\n",
       "      <td>0.0</td>\n",
       "    </tr>\n",
       "    <tr>\n",
       "      <th>1</th>\n",
       "      <td>1006</td>\n",
       "      <td>11.0</td>\n",
       "      <td>10.0</td>\n",
       "      <td>2.0</td>\n",
       "      <td>15.0</td>\n",
       "      <td>7.0</td>\n",
       "      <td>ultimate</td>\n",
       "      <td>San Francisco-Oakland-Berkeley, CA MSA</td>\n",
       "      <td>inactive</td>\n",
       "      <td>1000</td>\n",
       "      <td>30720</td>\n",
       "      <td>3000</td>\n",
       "      <td>70</td>\n",
       "      <td>7</td>\n",
       "      <td>0.01</td>\n",
       "      <td>0.01</td>\n",
       "      <td>30.0</td>\n",
       "      <td>0.0</td>\n",
       "      <td>0.0</td>\n",
       "      <td>0.0</td>\n",
       "    </tr>\n",
       "    <tr>\n",
       "      <th>2</th>\n",
       "      <td>1006</td>\n",
       "      <td>12.0</td>\n",
       "      <td>59.0</td>\n",
       "      <td>9.0</td>\n",
       "      <td>139.0</td>\n",
       "      <td>62.0</td>\n",
       "      <td>ultimate</td>\n",
       "      <td>San Francisco-Oakland-Berkeley, CA MSA</td>\n",
       "      <td>inactive</td>\n",
       "      <td>1000</td>\n",
       "      <td>30720</td>\n",
       "      <td>3000</td>\n",
       "      <td>70</td>\n",
       "      <td>7</td>\n",
       "      <td>0.01</td>\n",
       "      <td>0.01</td>\n",
       "      <td>30.0</td>\n",
       "      <td>0.0</td>\n",
       "      <td>0.0</td>\n",
       "      <td>224.0</td>\n",
       "    </tr>\n",
       "    <tr>\n",
       "      <th>3</th>\n",
       "      <td>1008</td>\n",
       "      <td>10.0</td>\n",
       "      <td>476.0</td>\n",
       "      <td>71.0</td>\n",
       "      <td>21.0</td>\n",
       "      <td>48.0</td>\n",
       "      <td>ultimate</td>\n",
       "      <td>Orlando-Kissimmee-Sanford, FL MSA</td>\n",
       "      <td>active</td>\n",
       "      <td>1000</td>\n",
       "      <td>30720</td>\n",
       "      <td>3000</td>\n",
       "      <td>70</td>\n",
       "      <td>7</td>\n",
       "      <td>0.01</td>\n",
       "      <td>0.01</td>\n",
       "      <td>30.0</td>\n",
       "      <td>0.0</td>\n",
       "      <td>0.0</td>\n",
       "      <td>126.0</td>\n",
       "    </tr>\n",
       "    <tr>\n",
       "      <th>4</th>\n",
       "      <td>1008</td>\n",
       "      <td>11.0</td>\n",
       "      <td>446.0</td>\n",
       "      <td>63.0</td>\n",
       "      <td>37.0</td>\n",
       "      <td>56.0</td>\n",
       "      <td>ultimate</td>\n",
       "      <td>Orlando-Kissimmee-Sanford, FL MSA</td>\n",
       "      <td>active</td>\n",
       "      <td>1000</td>\n",
       "      <td>30720</td>\n",
       "      <td>3000</td>\n",
       "      <td>70</td>\n",
       "      <td>7</td>\n",
       "      <td>0.01</td>\n",
       "      <td>0.01</td>\n",
       "      <td>30.0</td>\n",
       "      <td>0.0</td>\n",
       "      <td>0.0</td>\n",
       "      <td>182.0</td>\n",
       "    </tr>\n",
       "    <tr>\n",
       "      <th>...</th>\n",
       "      <td>...</td>\n",
       "      <td>...</td>\n",
       "      <td>...</td>\n",
       "      <td>...</td>\n",
       "      <td>...</td>\n",
       "      <td>...</td>\n",
       "      <td>...</td>\n",
       "      <td>...</td>\n",
       "      <td>...</td>\n",
       "      <td>...</td>\n",
       "      <td>...</td>\n",
       "      <td>...</td>\n",
       "      <td>...</td>\n",
       "      <td>...</td>\n",
       "      <td>...</td>\n",
       "      <td>...</td>\n",
       "      <td>...</td>\n",
       "      <td>...</td>\n",
       "      <td>...</td>\n",
       "      <td>...</td>\n",
       "    </tr>\n",
       "    <tr>\n",
       "      <th>2298</th>\n",
       "      <td>1143</td>\n",
       "      <td>0.0</td>\n",
       "      <td>0.0</td>\n",
       "      <td>0.0</td>\n",
       "      <td>0.0</td>\n",
       "      <td>0.0</td>\n",
       "      <td>surf</td>\n",
       "      <td>Cincinnati, OH-KY-IN MSA</td>\n",
       "      <td>active</td>\n",
       "      <td>50</td>\n",
       "      <td>15360</td>\n",
       "      <td>500</td>\n",
       "      <td>20</td>\n",
       "      <td>10</td>\n",
       "      <td>0.03</td>\n",
       "      <td>0.03</td>\n",
       "      <td>15.0</td>\n",
       "      <td>0.0</td>\n",
       "      <td>0.0</td>\n",
       "      <td>0.0</td>\n",
       "    </tr>\n",
       "    <tr>\n",
       "      <th>2299</th>\n",
       "      <td>1307</td>\n",
       "      <td>0.0</td>\n",
       "      <td>0.0</td>\n",
       "      <td>0.0</td>\n",
       "      <td>0.0</td>\n",
       "      <td>0.0</td>\n",
       "      <td>surf</td>\n",
       "      <td>Boston-Cambridge-Newton, MA-NH MSA</td>\n",
       "      <td>active</td>\n",
       "      <td>50</td>\n",
       "      <td>15360</td>\n",
       "      <td>500</td>\n",
       "      <td>20</td>\n",
       "      <td>10</td>\n",
       "      <td>0.03</td>\n",
       "      <td>0.03</td>\n",
       "      <td>15.0</td>\n",
       "      <td>0.0</td>\n",
       "      <td>0.0</td>\n",
       "      <td>0.0</td>\n",
       "    </tr>\n",
       "    <tr>\n",
       "      <th>2300</th>\n",
       "      <td>1319</td>\n",
       "      <td>0.0</td>\n",
       "      <td>0.0</td>\n",
       "      <td>0.0</td>\n",
       "      <td>0.0</td>\n",
       "      <td>0.0</td>\n",
       "      <td>surf</td>\n",
       "      <td>Colorado Springs, CO MSA</td>\n",
       "      <td>active</td>\n",
       "      <td>50</td>\n",
       "      <td>15360</td>\n",
       "      <td>500</td>\n",
       "      <td>20</td>\n",
       "      <td>10</td>\n",
       "      <td>0.03</td>\n",
       "      <td>0.03</td>\n",
       "      <td>15.0</td>\n",
       "      <td>0.0</td>\n",
       "      <td>0.0</td>\n",
       "      <td>0.0</td>\n",
       "    </tr>\n",
       "    <tr>\n",
       "      <th>2301</th>\n",
       "      <td>1378</td>\n",
       "      <td>0.0</td>\n",
       "      <td>0.0</td>\n",
       "      <td>0.0</td>\n",
       "      <td>0.0</td>\n",
       "      <td>0.0</td>\n",
       "      <td>surf</td>\n",
       "      <td>Denver-Aurora-Lakewood, CO MSA</td>\n",
       "      <td>active</td>\n",
       "      <td>50</td>\n",
       "      <td>15360</td>\n",
       "      <td>500</td>\n",
       "      <td>20</td>\n",
       "      <td>10</td>\n",
       "      <td>0.03</td>\n",
       "      <td>0.03</td>\n",
       "      <td>15.0</td>\n",
       "      <td>0.0</td>\n",
       "      <td>0.0</td>\n",
       "      <td>0.0</td>\n",
       "    </tr>\n",
       "    <tr>\n",
       "      <th>2302</th>\n",
       "      <td>1473</td>\n",
       "      <td>0.0</td>\n",
       "      <td>0.0</td>\n",
       "      <td>0.0</td>\n",
       "      <td>0.0</td>\n",
       "      <td>0.0</td>\n",
       "      <td>surf</td>\n",
       "      <td>Louisville/Jefferson County, KY-IN MSA</td>\n",
       "      <td>active</td>\n",
       "      <td>50</td>\n",
       "      <td>15360</td>\n",
       "      <td>500</td>\n",
       "      <td>20</td>\n",
       "      <td>10</td>\n",
       "      <td>0.03</td>\n",
       "      <td>0.03</td>\n",
       "      <td>15.0</td>\n",
       "      <td>0.0</td>\n",
       "      <td>0.0</td>\n",
       "      <td>0.0</td>\n",
       "    </tr>\n",
       "  </tbody>\n",
       "</table>\n",
       "<p>2303 rows × 20 columns</p>\n",
       "</div>"
      ],
      "text/plain": [
       "      user_id  month  total_minutes  total_calls  total_msgs  \\\n",
       "0        1000   12.0          124.0         16.0        11.0   \n",
       "1        1006   11.0           10.0          2.0        15.0   \n",
       "2        1006   12.0           59.0          9.0       139.0   \n",
       "3        1008   10.0          476.0         71.0        21.0   \n",
       "4        1008   11.0          446.0         63.0        37.0   \n",
       "...       ...    ...            ...          ...         ...   \n",
       "2298     1143    0.0            0.0          0.0         0.0   \n",
       "2299     1307    0.0            0.0          0.0         0.0   \n",
       "2300     1319    0.0            0.0          0.0         0.0   \n",
       "2301     1378    0.0            0.0          0.0         0.0   \n",
       "2302     1473    0.0            0.0          0.0         0.0   \n",
       "\n",
       "      total_internet_GB      plan                                    city  \\\n",
       "0                   4.0  ultimate   Atlanta-Sandy Springs-Roswell, GA MSA   \n",
       "1                   7.0  ultimate  San Francisco-Oakland-Berkeley, CA MSA   \n",
       "2                  62.0  ultimate  San Francisco-Oakland-Berkeley, CA MSA   \n",
       "3                  48.0  ultimate       Orlando-Kissimmee-Sanford, FL MSA   \n",
       "4                  56.0  ultimate       Orlando-Kissimmee-Sanford, FL MSA   \n",
       "...                 ...       ...                                     ...   \n",
       "2298                0.0      surf                Cincinnati, OH-KY-IN MSA   \n",
       "2299                0.0      surf      Boston-Cambridge-Newton, MA-NH MSA   \n",
       "2300                0.0      surf                Colorado Springs, CO MSA   \n",
       "2301                0.0      surf          Denver-Aurora-Lakewood, CO MSA   \n",
       "2302                0.0      surf  Louisville/Jefferson County, KY-IN MSA   \n",
       "\n",
       "        status  messages_included  mb_per_month_included  minutes_included  \\\n",
       "0       active               1000                  30720              3000   \n",
       "1     inactive               1000                  30720              3000   \n",
       "2     inactive               1000                  30720              3000   \n",
       "3       active               1000                  30720              3000   \n",
       "4       active               1000                  30720              3000   \n",
       "...        ...                ...                    ...               ...   \n",
       "2298    active                 50                  15360               500   \n",
       "2299    active                 50                  15360               500   \n",
       "2300    active                 50                  15360               500   \n",
       "2301    active                 50                  15360               500   \n",
       "2302    active                 50                  15360               500   \n",
       "\n",
       "      usd_monthly_pay  usd_per_gb  usd_per_message  usd_per_minute  \\\n",
       "0                  70           7             0.01            0.01   \n",
       "1                  70           7             0.01            0.01   \n",
       "2                  70           7             0.01            0.01   \n",
       "3                  70           7             0.01            0.01   \n",
       "4                  70           7             0.01            0.01   \n",
       "...               ...         ...              ...             ...   \n",
       "2298               20          10             0.03            0.03   \n",
       "2299               20          10             0.03            0.03   \n",
       "2300               20          10             0.03            0.03   \n",
       "2301               20          10             0.03            0.03   \n",
       "2302               20          10             0.03            0.03   \n",
       "\n",
       "      gb_per_month  total_call_charges  total_msgs_charges  \\\n",
       "0             30.0                 0.0                 0.0   \n",
       "1             30.0                 0.0                 0.0   \n",
       "2             30.0                 0.0                 0.0   \n",
       "3             30.0                 0.0                 0.0   \n",
       "4             30.0                 0.0                 0.0   \n",
       "...            ...                 ...                 ...   \n",
       "2298          15.0                 0.0                 0.0   \n",
       "2299          15.0                 0.0                 0.0   \n",
       "2300          15.0                 0.0                 0.0   \n",
       "2301          15.0                 0.0                 0.0   \n",
       "2302          15.0                 0.0                 0.0   \n",
       "\n",
       "      total_int_charges_GB  \n",
       "0                      0.0  \n",
       "1                      0.0  \n",
       "2                    224.0  \n",
       "3                    126.0  \n",
       "4                    182.0  \n",
       "...                    ...  \n",
       "2298                   0.0  \n",
       "2299                   0.0  \n",
       "2300                   0.0  \n",
       "2301                   0.0  \n",
       "2302                   0.0  \n",
       "\n",
       "[2303 rows x 20 columns]"
      ]
     },
     "execution_count": 31,
     "metadata": {},
     "output_type": "execute_result"
    }
   ],
   "source": [
    "final_table['total_call_charges']=final_table.apply(cobro_llamadas,axis=1)\n",
    "final_table['total_msgs_charges']=final_table.apply(cobro_mensajes,axis=1)\n",
    "final_table['total_int_charges_GB']=final_table.apply(cobro_internet,axis=1)\n",
    "\n",
    "\n",
    "# Muestra los primeros registros para revisar\n",
    "#Confirma los valores en las columnas relevantes para el cálculo (por ejemplo, total_used_internet_GB, gb_per_month, y usd_per_gb) para asegurarte de que contienen los datos correctos.\n",
    "#Verifica el cálculo de las otras columnas de cargos, como total_call_charges y total_msgs_charges.\n",
    "\n",
    "\n",
    "final_table"
   ]
  },
  {
   "cell_type": "markdown",
   "metadata": {},
   "source": [
    "<div class=\"alert alert-block alert-success\">\n",
    "<b>Comentario del revisor</b> <a class=\"tocSkip\"></a>\n",
    "\n",
    "Gran trabajo con el desarrollo de la función para hacer el calculo de cada una de las variables. Posteriormente aplicaste las función para juntar todas las variables para obtener el calculo del ingreso mensual por usuario. Además, en pasos anteriores ya habías realizado el redondeo de la duración de las llamadas y de los gb"
   ]
  },
  {
   "cell_type": "markdown",
   "metadata": {
    "id": "-jtyHzJb0q1I"
   },
   "source": [
    "## Estudia el comportamiento de usuario"
   ]
  },
  {
   "cell_type": "markdown",
   "metadata": {
    "id": "AxU3Y0N70q1J"
   },
   "source": [
    "[Calcula algunas estadísticas descriptivas para los datos agregados y fusionados que nos sean útiles y que muestren un panorama general captado por los datos. Dibuja gráficos útiles para facilitar la comprensión. Dado que la tarea principal es comparar las tarifas y decidir cuál es más rentable, las estadísticas y gráficas deben calcularse por tarifa.]\n",
    "\n",
    "[En los comentarios hallarás pistas relevantes para las llamadas, pero no las hay para los mensajes e Internet. Sin embargo, el principio del estudio estadístico que se aplica para ellos es el mismo que para las llamadas.]"
   ]
  },
  {
   "cell_type": "markdown",
   "metadata": {
    "id": "vtW4CJEe0q1J"
   },
   "source": [
    "### Llamadas"
   ]
  },
  {
   "cell_type": "code",
   "execution_count": 32,
   "metadata": {
    "id": "Jf5v5--k0q1J"
   },
   "outputs": [
    {
     "data": {
      "image/png": "[encoded data removed]",
      "text/plain": [
       "<Figure size 640x480 with 1 Axes>"
      ]
     },
     "metadata": {},
     "output_type": "display_data"
    }
   ],
   "source": [
    "# Compara la duración promedio de llamadas por cada plan y por cada mes. Traza un gráfico de barras para visualizarla.\n",
    "\n",
    "calls_lenght = final_table.groupby(['month','plan'])['total_calls'].sum().reset_index()\n",
    "sns.barplot(data= calls_lenght, x= \"month\", y= 'total_calls', hue= \"plan\").set(title='Comparacion de Planes y sus llamadas', xlabel='Enero', ylabel='Total de Llamadas')\n",
    "plt.show()\n",
    "\n",
    "# Mis observaciones\n",
    "\n",
    "# Surf tiene mucho mas numero total de llamadas solo tomando enero"
   ]
  },
  {
   "cell_type": "code",
   "execution_count": 33,
   "metadata": {
    "id": "QoLqW1S_0q1J"
   },
   "outputs": [
    {
     "data": {
      "image/png": "[encoded data removed]",
      "text/plain": [
       "<Figure size 640x480 with 1 Axes>"
      ]
     },
     "metadata": {},
     "output_type": "display_data"
    }
   ],
   "source": [
    "# Compara el número de minutos mensuales que necesitan los usuarios de cada plan. Traza un histograma.\n",
    "minutes_plan= final_table.groupby([\"month\",\"plan\"])[\"total_minutes\"].sum().reset_index()\n",
    "sns.histplot(data= minutes_plan, x= \"total_minutes\", hue= \"plan\").set(title='Minutos Totales', xlabel='Minutos de llamada')\n",
    "plt.show()\n",
    "\n",
    "# Mis observaciones\n",
    "\n",
    "#Podemos ver que el plan ultimate consume mucho mas minutos\n"
   ]
  },
  {
   "cell_type": "markdown",
   "metadata": {
    "id": "bLS9T8OH0q1K"
   },
   "source": [
    "[Calcula la media y la variable de la duración de las llamadas para averiguar si los usuarios de los distintos planes se comportan de forma diferente al realizar sus llamadas.]"
   ]
  },
  {
   "cell_type": "code",
   "execution_count": 34,
   "metadata": {
    "id": "oSndbAnt0q1K"
   },
   "outputs": [
    {
     "data": {
      "text/html": [
       "<div>\n",
       "<style scoped>\n",
       "    .dataframe tbody tr th:only-of-type {\n",
       "        vertical-align: middle;\n",
       "    }\n",
       "\n",
       "    .dataframe tbody tr th {\n",
       "        vertical-align: top;\n",
       "    }\n",
       "\n",
       "    .dataframe thead th {\n",
       "        text-align: right;\n",
       "    }\n",
       "</style>\n",
       "<table border=\"1\" class=\"dataframe\">\n",
       "  <thead>\n",
       "    <tr style=\"text-align: right;\">\n",
       "      <th></th>\n",
       "      <th>count</th>\n",
       "      <th>mean</th>\n",
       "      <th>std</th>\n",
       "      <th>min</th>\n",
       "      <th>25%</th>\n",
       "      <th>50%</th>\n",
       "      <th>75%</th>\n",
       "      <th>max</th>\n",
       "    </tr>\n",
       "    <tr>\n",
       "      <th>month</th>\n",
       "      <th></th>\n",
       "      <th></th>\n",
       "      <th></th>\n",
       "      <th></th>\n",
       "      <th></th>\n",
       "      <th></th>\n",
       "      <th></th>\n",
       "      <th></th>\n",
       "    </tr>\n",
       "  </thead>\n",
       "  <tbody>\n",
       "    <tr>\n",
       "      <th>0.0</th>\n",
       "      <td>10.0</td>\n",
       "      <td>0.000000</td>\n",
       "      <td>0.000000</td>\n",
       "      <td>0.0</td>\n",
       "      <td>0.00</td>\n",
       "      <td>0.0</td>\n",
       "      <td>0.00</td>\n",
       "      <td>0.0</td>\n",
       "    </tr>\n",
       "    <tr>\n",
       "      <th>1.0</th>\n",
       "      <td>6.0</td>\n",
       "      <td>196.666667</td>\n",
       "      <td>114.611809</td>\n",
       "      <td>16.0</td>\n",
       "      <td>130.75</td>\n",
       "      <td>234.0</td>\n",
       "      <td>289.25</td>\n",
       "      <td>292.0</td>\n",
       "    </tr>\n",
       "    <tr>\n",
       "      <th>2.0</th>\n",
       "      <td>16.0</td>\n",
       "      <td>343.437500</td>\n",
       "      <td>248.127647</td>\n",
       "      <td>0.0</td>\n",
       "      <td>205.50</td>\n",
       "      <td>286.5</td>\n",
       "      <td>462.00</td>\n",
       "      <td>811.0</td>\n",
       "    </tr>\n",
       "    <tr>\n",
       "      <th>3.0</th>\n",
       "      <td>35.0</td>\n",
       "      <td>321.171429</td>\n",
       "      <td>208.275056</td>\n",
       "      <td>23.0</td>\n",
       "      <td>148.00</td>\n",
       "      <td>307.0</td>\n",
       "      <td>430.50</td>\n",
       "      <td>788.0</td>\n",
       "    </tr>\n",
       "    <tr>\n",
       "      <th>4.0</th>\n",
       "      <td>71.0</td>\n",
       "      <td>347.197183</td>\n",
       "      <td>213.589635</td>\n",
       "      <td>16.0</td>\n",
       "      <td>189.50</td>\n",
       "      <td>321.0</td>\n",
       "      <td>490.50</td>\n",
       "      <td>1043.0</td>\n",
       "    </tr>\n",
       "    <tr>\n",
       "      <th>5.0</th>\n",
       "      <td>106.0</td>\n",
       "      <td>401.405660</td>\n",
       "      <td>234.415251</td>\n",
       "      <td>0.0</td>\n",
       "      <td>241.25</td>\n",
       "      <td>410.0</td>\n",
       "      <td>559.50</td>\n",
       "      <td>1055.0</td>\n",
       "    </tr>\n",
       "    <tr>\n",
       "      <th>6.0</th>\n",
       "      <td>144.0</td>\n",
       "      <td>411.604167</td>\n",
       "      <td>212.335209</td>\n",
       "      <td>0.0</td>\n",
       "      <td>258.25</td>\n",
       "      <td>411.0</td>\n",
       "      <td>533.75</td>\n",
       "      <td>1033.0</td>\n",
       "    </tr>\n",
       "    <tr>\n",
       "      <th>7.0</th>\n",
       "      <td>180.0</td>\n",
       "      <td>442.472222</td>\n",
       "      <td>254.019254</td>\n",
       "      <td>0.0</td>\n",
       "      <td>296.75</td>\n",
       "      <td>438.0</td>\n",
       "      <td>579.50</td>\n",
       "      <td>1188.0</td>\n",
       "    </tr>\n",
       "    <tr>\n",
       "      <th>8.0</th>\n",
       "      <td>233.0</td>\n",
       "      <td>413.562232</td>\n",
       "      <td>232.221332</td>\n",
       "      <td>0.0</td>\n",
       "      <td>257.00</td>\n",
       "      <td>395.0</td>\n",
       "      <td>548.00</td>\n",
       "      <td>1292.0</td>\n",
       "    </tr>\n",
       "    <tr>\n",
       "      <th>9.0</th>\n",
       "      <td>280.0</td>\n",
       "      <td>421.378571</td>\n",
       "      <td>223.015468</td>\n",
       "      <td>0.0</td>\n",
       "      <td>256.50</td>\n",
       "      <td>430.0</td>\n",
       "      <td>551.25</td>\n",
       "      <td>1232.0</td>\n",
       "    </tr>\n",
       "    <tr>\n",
       "      <th>10.0</th>\n",
       "      <td>343.0</td>\n",
       "      <td>436.221574</td>\n",
       "      <td>229.846015</td>\n",
       "      <td>0.0</td>\n",
       "      <td>271.50</td>\n",
       "      <td>441.0</td>\n",
       "      <td>576.00</td>\n",
       "      <td>1227.0</td>\n",
       "    </tr>\n",
       "    <tr>\n",
       "      <th>11.0</th>\n",
       "      <td>410.0</td>\n",
       "      <td>430.100000</td>\n",
       "      <td>233.134592</td>\n",
       "      <td>0.0</td>\n",
       "      <td>277.25</td>\n",
       "      <td>421.5</td>\n",
       "      <td>583.00</td>\n",
       "      <td>1304.0</td>\n",
       "    </tr>\n",
       "    <tr>\n",
       "      <th>12.0</th>\n",
       "      <td>469.0</td>\n",
       "      <td>469.091684</td>\n",
       "      <td>251.356835</td>\n",
       "      <td>0.0</td>\n",
       "      <td>302.00</td>\n",
       "      <td>448.0</td>\n",
       "      <td>612.00</td>\n",
       "      <td>1510.0</td>\n",
       "    </tr>\n",
       "  </tbody>\n",
       "</table>\n",
       "</div>"
      ],
      "text/plain": [
       "       count        mean         std   min     25%    50%     75%     max\n",
       "month                                                                    \n",
       "0.0     10.0    0.000000    0.000000   0.0    0.00    0.0    0.00     0.0\n",
       "1.0      6.0  196.666667  114.611809  16.0  130.75  234.0  289.25   292.0\n",
       "2.0     16.0  343.437500  248.127647   0.0  205.50  286.5  462.00   811.0\n",
       "3.0     35.0  321.171429  208.275056  23.0  148.00  307.0  430.50   788.0\n",
       "4.0     71.0  347.197183  213.589635  16.0  189.50  321.0  490.50  1043.0\n",
       "5.0    106.0  401.405660  234.415251   0.0  241.25  410.0  559.50  1055.0\n",
       "6.0    144.0  411.604167  212.335209   0.0  258.25  411.0  533.75  1033.0\n",
       "7.0    180.0  442.472222  254.019254   0.0  296.75  438.0  579.50  1188.0\n",
       "8.0    233.0  413.562232  232.221332   0.0  257.00  395.0  548.00  1292.0\n",
       "9.0    280.0  421.378571  223.015468   0.0  256.50  430.0  551.25  1232.0\n",
       "10.0   343.0  436.221574  229.846015   0.0  271.50  441.0  576.00  1227.0\n",
       "11.0   410.0  430.100000  233.134592   0.0  277.25  421.5  583.00  1304.0\n",
       "12.0   469.0  469.091684  251.356835   0.0  302.00  448.0  612.00  1510.0"
      ]
     },
     "execution_count": 34,
     "metadata": {},
     "output_type": "execute_result"
    }
   ],
   "source": [
    "# Calcula la media y la varianza de la duración mensual de llamadas.\n",
    "final_table.groupby(\"month\")[\"total_minutes\"].describe()\n",
    "\n",
    "#Mis observaciones\n",
    "#Analizando la duración mensual de llamadas, observamos que la media de minutos utilizados aumenta gradualmente a lo largo del año, alcanzando su máximo promedio en el mes 12 con 469.09 minutos y una desviación estándar de 251.36 minutos.\n",
    "#Esto sugiere una mayor actividad en las llamadas hacia el final del año(navidad/año nuevo)"
   ]
  },
  {
   "cell_type": "code",
   "execution_count": 35,
   "metadata": {
    "id": "nZzoRUKc0q1K"
   },
   "outputs": [
    {
     "data": {
      "image/png": "[encoded data removed]",
      "text/plain": [
       "<Figure size 640x480 with 1 Axes>"
      ]
     },
     "metadata": {},
     "output_type": "display_data"
    },
    {
     "name": "stdout",
     "output_type": "stream",
     "text": [
      "      total_minutes  month      plan\n",
      "0             124.0   12.0  ultimate\n",
      "1              10.0   11.0  ultimate\n",
      "2              59.0   12.0  ultimate\n",
      "3             476.0   10.0  ultimate\n",
      "4             446.0   11.0  ultimate\n",
      "...             ...    ...       ...\n",
      "2298            0.0    0.0      surf\n",
      "2299            0.0    0.0      surf\n",
      "2300            0.0    0.0      surf\n",
      "2301            0.0    0.0      surf\n",
      "2302            0.0    0.0      surf\n",
      "\n",
      "[2303 rows x 3 columns]\n"
     ]
    }
   ],
   "source": [
    "# Traza un diagrama de caja para visualizar la distribución de la duración mensual de llamadas\n",
    "\n",
    "distribution_calls = final_table[[\"total_minutes\", \"month\", \"plan\"]]\n",
    "\n",
    "sns.boxplot(data=distribution_calls, x=\"total_minutes\", hue=\"month\").set(title='Distribución del Consumo de Minutos por Mes',xlabel='Minutos Consumidos')\n",
    "plt.show()\n",
    "\n",
    "print(distribution_calls)\n",
    "\n",
    "#Mis observaciones\n",
    "\n",
    "#Podemos ver que en promedio los usuarios consumen alrededoor de 400 min consumidos"
   ]
  },
  {
   "cell_type": "markdown",
   "metadata": {
    "id": "r627zBO50q1K"
   },
   "source": [
    "[Elabora las conclusiones sobre el comportamiento de los usuarios con respecto a las llamadas. ¿Su comportamiento varía en función del plan?]"
   ]
  },
  {
   "cell_type": "markdown",
   "metadata": {
    "id": "8idKy8Wh0q1L"
   },
   "source": [
    "### Mensajes"
   ]
  },
  {
   "cell_type": "code",
   "execution_count": 36,
   "metadata": {
    "id": "NXLxiTit0q1L"
   },
   "outputs": [
    {
     "data": {
      "image/png": "[encoded data removed]",
      "text/plain": [
       "<Figure size 640x480 with 1 Axes>"
      ]
     },
     "metadata": {},
     "output_type": "display_data"
    }
   ],
   "source": [
    "# Comprara el número de mensajes que tienden a enviar cada mes los usuarios de cada plan\n",
    "\n",
    "messages_month= final_table.groupby(['month','plan'])['total_msgs'].sum().reset_index()\n",
    "sns.histplot(data= messages_month, x= 'total_msgs', hue= 'plan').set(title='Mensajes enviados segun cada plan', xlabel='Mensajes enviados')\n",
    "plt.show()\n",
    "\n",
    "# Mis observaciones \n",
    "\n",
    "# El plan surf contiene un mayor nivel de mensajes enviados"
   ]
  },
  {
   "cell_type": "markdown",
   "metadata": {
    "id": "390SSL480q1M"
   },
   "source": [
    "[Elabora las conclusiones sobre el comportamiento de los usuarios con respecto a los mensajes. ¿Su comportamiento varía en función del plan?]"
   ]
  },
  {
   "cell_type": "markdown",
   "metadata": {
    "id": "42YSypXz0q1M"
   },
   "source": [
    "### Internet"
   ]
  },
  {
   "cell_type": "code",
   "execution_count": 37,
   "metadata": {
    "id": "GRI_R7xF0q1L"
   },
   "outputs": [
    {
     "data": {
      "image/png": "[encoded data removed]",
      "text/plain": [
       "<Figure size 640x480 with 1 Axes>"
      ]
     },
     "metadata": {},
     "output_type": "display_data"
    }
   ],
   "source": [
    "# Compara la cantidad de tráfico de Internet consumido por usuarios por plan\n",
    "internet_month= final_table.groupby(['month','plan'])['total_internet_GB'].sum().reset_index()\n",
    "sns.histplot(data= internet_month, x= \"total_internet_GB\", hue= \"plan\").set(title='GB consumidos', xlabel='GB consumidos')\n",
    "plt.show()\n"
   ]
  },
  {
   "cell_type": "code",
   "execution_count": 38,
   "metadata": {
    "id": "dtFwCGAp0q1M"
   },
   "outputs": [],
   "source": [
    "# Mis observaciones\n",
    "\n",
    "#El plan surf cuenta con el maximo de GB consumidos, segun las graficas anteriores podemos ver que surf es un plan mas utilizado"
   ]
  },
  {
   "cell_type": "markdown",
   "metadata": {
    "id": "UN9zwuMP0q1N"
   },
   "source": [
    "[Elabora las conclusiones sobre cómo los usuarios tienden a consumir el tráfico de Internet. ¿Su comportamiento varía en función del plan?]"
   ]
  },
  {
   "cell_type": "markdown",
   "metadata": {
    "id": "tCijq3260q1N"
   },
   "source": [
    "## Ingreso"
   ]
  },
  {
   "cell_type": "markdown",
   "metadata": {
    "id": "9nq5IAcy0q1O"
   },
   "source": [
    "[Del mismo modo que has estudiado el comportamiento de los usuarios, describe estadísticamente los ingresos de los planes.]"
   ]
  },
  {
   "cell_type": "code",
   "execution_count": 39,
   "metadata": {
    "id": "tz-dq_V00q1O"
   },
   "outputs": [
    {
     "data": {
      "image/png": "[encoded data removed]",
      "text/plain": [
       "<Figure size 1000x600 with 1 Axes>"
      ]
     },
     "metadata": {},
     "output_type": "display_data"
    }
   ],
   "source": [
    "final_table['total_charge'] = final_table[['total_msgs_charges', 'total_call_charges', 'total_int_charges_GB', 'usd_monthly_pay']].sum(axis=1)\n",
    "\n",
    "pivot_t = final_table.pivot_table(index=\"plan\", values=[\"total_msgs_charges\", \"total_call_charges\", \"total_int_charges_GB\", \"total_charge\"], aggfunc=[\"mean\", \"std\"])\n",
    "\n",
    "pivot_t # Cuanto se gana de cada plan\n",
    "\n",
    "# Para dar una representacion visual voy a agrupar\n",
    "charges_by_plan = final_table.groupby('plan')['total_charge'].sum()\n",
    "plt.figure(figsize=(10, 6))\n",
    "\n",
    "# Barras por plan\n",
    "plt.bar(charges_by_plan.index, charges_by_plan.values, color='skyblue')\n",
    "plt.xlabel('Plan')\n",
    "plt.ylabel('Total Charges')\n",
    "plt.title('Total Charges by Plan')\n",
    "plt.show()\n",
    "\n"
   ]
  },
  {
   "cell_type": "code",
   "execution_count": 40,
   "metadata": {
    "id": "0Y1v8ZUz0q1P"
   },
   "outputs": [],
   "source": [
    "# Mis obervaciones\n",
    "# Podemos ver que el plan surf tiene mucho mas alto el cobro que el plan ultimate"
   ]
  },
  {
   "cell_type": "markdown",
   "metadata": {
    "id": "KAFidcXZ0q1P"
   },
   "source": [
    "[Elabora las conclusiones sobre cómo difiere el ingreso entre los planes.]"
   ]
  },
  {
   "cell_type": "markdown",
   "metadata": {},
   "source": [
    "<div class=\"alert alert-block alert-success\">\n",
    "<b>Comentario revisor</b> <a class=\"tocSkip\"></a>\n",
    "\n",
    " Muy buena prática la de usar distintos tipos de gráficas identificar algunos hallazgos y llegar a conclusiones. En este caso las gráficas de box-plots nos ayudan a identificar outiers que pueden sesgar nuestros resultados, especificamente las pruebas de hipótesis. Es por ello que con estás gráficas puedes complementar el análisis eliminando los valores atipicos. \n",
    "</div>"
   ]
  },
  {
   "cell_type": "markdown",
   "metadata": {
    "id": "ajJ7VKeI0q1Q"
   },
   "source": [
    "## Prueba las hipótesis estadísticas"
   ]
  },
  {
   "cell_type": "markdown",
   "metadata": {
    "id": "AdXAZ-yL0q1Q"
   },
   "source": [
    "[Prueba la hipótesis de que son diferentes los ingresos promedio procedentes de los usuarios de los planes de llamada Ultimate y Surf.]"
   ]
  },
  {
   "cell_type": "markdown",
   "metadata": {
    "id": "IQwa_hsh0q1Q"
   },
   "source": [
    "[Elabora las hipótesis nula y alternativa, escoge la prueba estadística, determina el valor alfa.]"
   ]
  },
  {
   "cell_type": "code",
   "execution_count": 41,
   "metadata": {
    "id": "nFoPNlPq0q1R"
   },
   "outputs": [
    {
     "name": "stdout",
     "output_type": "stream",
     "text": [
      "valor p: 9.57259390199446e-97\n",
      "\n",
      "Rechazamos la hipótesis nula; los usuarios de Surf consumen mas\n"
     ]
    }
   ],
   "source": [
    "# Prueba las hipótesis\n",
    "\n",
    "# Corregido(varianza)\n",
    "\n",
    "alpha = 0.05 #indice universal\n",
    "results = st.ttest_ind(final_table.query(\"plan == 'ultimate'\")['total_charge'], final_table.query(\"plan == 'surf'\")['total_charge'],equal_var=False)\n",
    "\n",
    "#Prueba las hipótesis\n",
    "print('valor p:', results.pvalue)\n",
    "print()\n",
    "\n",
    "if results.pvalue < alpha:\n",
    "    print('Rechazamos la hipótesis nula; los usuarios de Surf consumen mas')\n",
    "else:\n",
    "    print('No rechazamos la hipótesis nula, los usuarios surf consumen mas')"
   ]
  },
  {
   "cell_type": "markdown",
   "metadata": {},
   "source": [
    "\n",
    "<div class=\"alert alert-block alert-danger\">\n",
    "<b>Comentario Revisor</b> <a class=\"tocSkip\"></a>\n",
    "\n",
    "Te recomiendo que dentro de la función de stats.ttest_ind adiciones el elemento \"equal_var = False\" dado que para estos datos no podemos asegurar que las varianzas son iguales entre planes.\n",
    "</div>"
   ]
  },
  {
   "cell_type": "markdown",
   "metadata": {
    "id": "tCcAruM60q1R"
   },
   "source": [
    "[Prueba la hipótesis de que el ingreso promedio de los usuarios del área NY-NJ es diferente al de los usuarios de otras regiones.]"
   ]
  },
  {
   "cell_type": "markdown",
   "metadata": {
    "id": "LsBgitqj0q1R"
   },
   "source": [
    "[Elabora las hipótesis nula y alternativa, escoge la prueba estadística, determina el valor alfa.]"
   ]
  },
  {
   "cell_type": "code",
   "execution_count": 49,
   "metadata": {},
   "outputs": [
    {
     "name": "stdout",
     "output_type": "stream",
     "text": [
      "valor p: 9.57259390199446e-97\n",
      "\n",
      "Rechazamos la hipótesis nula, los usuarios de ny/nj si consumen mas\n"
     ]
    }
   ],
   "source": [
    "# Corregido (añade varianza)\n",
    "states = final_table[final_table[\"city\"].str.contains(\"NY-NJ\")][\"total_charge\"]\n",
    "no_states = final_table[~final_table[\"city\"].str.contains(\"NY-NJ\")][\"total_charge\"]  # para mi: obtenemos los cargos de ciudades que NO son NY/NJ, recuerda usar \"\"\n",
    "results2 = st.ttest_ind(states, no_states, equal_var=False)\n",
    "\n",
    "print('valor p:', results.pvalue)\n",
    "print()\n",
    "if results2.pvalue < alpha:\n",
    "    print(\"Rechazamos la hipótesis nula, los usuarios de ny/nj si consumen mas\")\n",
    "else:\n",
    "    print(\"No rechazamos la hipótesis nula, los usuarios no consumen mas\")"
   ]
  },
  {
   "cell_type": "markdown",
   "metadata": {},
   "source": [
    "\n",
    "<div class=\"alert alert-block alert-danger\">\n",
    "<b>Comentario Revisor</b> <a class=\"tocSkip\"></a>\n",
    "\n",
    "Te recomiendo que dentro de la función de stats.ttest_ind adiciones el elemento \"equal_var = False\" dado que para estos datos no podemos asegurar que las varianzas son iguales entre planes.\n",
    "</div>"
   ]
  },
  {
   "cell_type": "markdown",
   "metadata": {},
   "source": [
    "<div class=\"alert alert-block alert-success\">\n",
    "<b>Comentario revisor</b> <a class=\"tocSkip\"></a>\n",
    "\n",
    "\n",
    "Excelente trabajo con el ajuste en ambas pruebas dado que no podemos asegurar que tenemos varianzas iguales. En futuros proyectos puedes complementar con la prueba de levene que nos ayuda a mostrar justamente el supuesto de varianzas iguales"
   ]
  },
  {
   "cell_type": "markdown",
   "metadata": {
    "id": "bbTR8UQO0q1T"
   },
   "source": [
    "## Conclusión general\n",
    "\n",
    "[En esta sección final, enumera tus conclusiones importantes. Asegúrate de que estas abarquen todas las decisiones (suposiciones) importantes que adoptaste y que determinaron la forma elegida para procesar y analizar los datos.]"
   ]
  },
  {
   "cell_type": "markdown",
   "metadata": {},
   "source": [
    "Nuestra hipotesis sugiere que la ubicación geográfica podría influir en los patrones de consumo de los usuarios ya que vemos un gran consumo en estos dos estados. Tambien, el plan Surf es el que obtiene mas clientes para la empresa entonces podriamos trabajar en conjunto con los estados mas activos y crear planes/ofertas personalizadas para esta area."
   ]
  },
  {
   "cell_type": "markdown",
   "metadata": {},
   "source": [
    "\n",
    "<div class=\"alert alert-block alert-warning\">\n",
    "<b>Comentario revisor</b> <a class=\"tocSkip\"></a>\n",
    "\n",
    "Audrey, en general creo que hiciste un muy buen trabajo con el proyecto, pudiste limpiar y trabajar las bases de datos de beuna manera, así como juntar la información. Además, considero que el análisis con las gráficas y con las pruebas de hipótesis es muy acertado. No obstante, recuerda que siempre podemos mejorar y te menciono algunos puntos que debes considerar:\n",
    "\n",
    "    \n",
    "*  verificar las pruebas de hipótesis\n",
    "</div>"
   ]
  }
 ],
 "metadata": {
  "ExecuteTimeLog": [
   {
    "duration": 828,
    "start_time": "2021-11-16T09:21:11.304Z"
   },
   {
    "duration": 893,
    "start_time": "2021-11-16T09:21:17.728Z"
   },
   {
    "duration": 1150,
    "start_time": "2021-11-16T09:21:29.568Z"
   },
   {
    "duration": 3,
    "start_time": "2021-11-16T09:24:14.495Z"
   },
   {
    "duration": 120,
    "start_time": "2021-11-16T09:24:46.630Z"
   },
   {
    "duration": 3,
    "start_time": "2021-11-16T09:28:27.882Z"
   },
   {
    "duration": 4,
    "start_time": "2021-11-16T09:29:54.281Z"
   },
   {
    "duration": 3,
    "start_time": "2021-11-16T09:30:45.936Z"
   },
   {
    "duration": 4,
    "start_time": "2021-11-16T09:31:06.300Z"
   },
   {
    "duration": 113,
    "start_time": "2021-11-16T09:31:37.208Z"
   },
   {
    "duration": 143,
    "start_time": "2021-11-16T09:31:48.656Z"
   },
   {
    "duration": 98,
    "start_time": "2021-11-16T09:31:55.678Z"
   },
   {
    "duration": 3,
    "start_time": "2021-11-16T09:32:08.535Z"
   },
   {
    "duration": 111,
    "start_time": "2021-11-16T09:32:10.120Z"
   },
   {
    "duration": 3,
    "start_time": "2021-11-16T09:32:15.732Z"
   },
   {
    "duration": 4,
    "start_time": "2021-11-16T09:32:29.423Z"
   },
   {
    "duration": 3,
    "start_time": "2021-11-16T10:03:03.074Z"
   },
   {
    "duration": 3,
    "start_time": "2021-11-16T10:10:01.288Z"
   },
   {
    "duration": 3,
    "start_time": "2021-11-16T10:10:46.923Z"
   },
   {
    "duration": 121,
    "start_time": "2021-11-16T10:37:46.494Z"
   },
   {
    "duration": 125,
    "start_time": "2021-11-16T10:38:20.632Z"
   },
   {
    "duration": 112,
    "start_time": "2021-11-16T10:46:53.001Z"
   },
   {
    "duration": 110,
    "start_time": "2021-11-16T10:48:25.775Z"
   },
   {
    "duration": 3,
    "start_time": "2021-11-16T10:50:18.720Z"
   },
   {
    "duration": 4,
    "start_time": "2021-11-16T10:50:37.649Z"
   },
   {
    "duration": 2,
    "start_time": "2021-11-16T10:50:51.884Z"
   },
   {
    "duration": 3,
    "start_time": "2021-11-16T10:51:56.237Z"
   },
   {
    "duration": 101,
    "start_time": "2021-11-16T10:53:13.791Z"
   },
   {
    "duration": 3,
    "start_time": "2021-11-16T10:55:59.186Z"
   },
   {
    "duration": 3,
    "start_time": "2021-11-16T10:56:10.751Z"
   },
   {
    "duration": 3,
    "start_time": "2021-11-16T10:56:49.038Z"
   },
   {
    "duration": 3,
    "start_time": "2021-11-16T10:56:49.174Z"
   },
   {
    "duration": 4,
    "start_time": "2021-11-16T10:56:49.414Z"
   },
   {
    "duration": 3,
    "start_time": "2021-11-16T10:56:49.680Z"
   },
   {
    "duration": 3,
    "start_time": "2021-11-16T10:56:50.370Z"
   },
   {
    "duration": 114,
    "start_time": "2021-11-16T10:59:34.518Z"
   },
   {
    "duration": 3,
    "start_time": "2021-11-16T11:01:41.201Z"
   },
   {
    "duration": 116,
    "start_time": "2021-11-16T11:01:48.754Z"
   },
   {
    "duration": 3,
    "start_time": "2021-11-16T11:02:16.685Z"
   },
   {
    "duration": 3,
    "start_time": "2021-11-16T11:02:19.479Z"
   },
   {
    "duration": 3,
    "start_time": "2021-11-16T11:02:47.067Z"
   },
   {
    "duration": 3,
    "start_time": "2021-11-16T11:02:49.353Z"
   },
   {
    "duration": 3,
    "start_time": "2021-11-16T11:03:07.835Z"
   },
   {
    "duration": 3,
    "start_time": "2021-11-16T11:03:07.953Z"
   },
   {
    "duration": 112,
    "start_time": "2021-11-16T11:07:52.072Z"
   },
   {
    "duration": 187,
    "start_time": "2021-11-16T11:09:23.468Z"
   },
   {
    "duration": 4,
    "start_time": "2021-11-16T11:10:01.455Z"
   },
   {
    "duration": 3,
    "start_time": "2021-11-16T11:10:05.069Z"
   },
   {
    "duration": 4,
    "start_time": "2021-11-16T11:10:13.376Z"
   },
   {
    "duration": 3,
    "start_time": "2021-11-16T11:10:14.434Z"
   },
   {
    "duration": 3,
    "start_time": "2021-11-16T11:10:22.853Z"
   },
   {
    "duration": 4,
    "start_time": "2021-11-16T11:27:29.279Z"
   },
   {
    "duration": 4,
    "start_time": "2021-11-16T11:29:08.919Z"
   },
   {
    "duration": 118,
    "start_time": "2021-11-16T11:29:46.703Z"
   },
   {
    "duration": 437,
    "start_time": "2021-11-16T11:36:02.181Z"
   },
   {
    "duration": 157,
    "start_time": "2021-11-16T11:36:14.388Z"
   },
   {
    "duration": 207,
    "start_time": "2021-11-16T11:47:15.898Z"
   },
   {
    "duration": 3,
    "start_time": "2021-11-16T11:53:52.092Z"
   },
   {
    "duration": 3,
    "start_time": "2021-11-16T11:53:52.236Z"
   },
   {
    "duration": 3,
    "start_time": "2021-11-16T11:59:12.005Z"
   },
   {
    "duration": 112,
    "start_time": "2021-11-16T12:00:33.446Z"
   },
   {
    "duration": 3,
    "start_time": "2021-11-16T12:02:14.453Z"
   },
   {
    "duration": 3,
    "start_time": "2021-11-16T12:02:39.512Z"
   },
   {
    "duration": 106,
    "start_time": "2021-11-16T12:03:03.460Z"
   },
   {
    "duration": 3,
    "start_time": "2021-11-17T20:37:21.139Z"
   },
   {
    "duration": 3,
    "start_time": "2021-11-17T20:37:22.229Z"
   },
   {
    "duration": 3,
    "start_time": "2021-11-17T20:38:38.806Z"
   },
   {
    "duration": 3,
    "start_time": "2021-11-17T20:38:41.958Z"
   },
   {
    "duration": 3,
    "start_time": "2021-11-17T20:43:46.551Z"
   },
   {
    "duration": 4,
    "start_time": "2021-11-17T20:58:21.835Z"
   },
   {
    "duration": 3,
    "start_time": "2021-11-17T20:59:21.872Z"
   },
   {
    "duration": 4,
    "start_time": "2021-11-17T20:59:45.352Z"
   },
   {
    "duration": 4,
    "start_time": "2021-11-17T20:59:49.646Z"
   },
   {
    "duration": 159,
    "start_time": "2021-11-17T21:02:26.949Z"
   },
   {
    "duration": 3,
    "start_time": "2021-11-17T21:03:53.461Z"
   },
   {
    "duration": 3,
    "start_time": "2021-11-17T21:03:53.694Z"
   },
   {
    "duration": 3,
    "start_time": "2021-11-17T21:05:28.145Z"
   },
   {
    "duration": 116,
    "start_time": "2021-11-17T21:05:57.787Z"
   },
   {
    "duration": 3,
    "start_time": "2021-11-17T21:06:37.993Z"
   },
   {
    "duration": 3,
    "start_time": "2021-11-17T21:06:38.261Z"
   },
   {
    "duration": 3,
    "start_time": "2021-11-17T21:11:54.358Z"
   },
   {
    "duration": 3,
    "start_time": "2021-11-17T21:12:43.846Z"
   },
   {
    "duration": 4,
    "start_time": "2021-11-17T21:13:08.773Z"
   },
   {
    "duration": 3,
    "start_time": "2021-11-17T21:14:44.441Z"
   },
   {
    "duration": 3,
    "start_time": "2021-11-17T21:15:42.059Z"
   },
   {
    "duration": 4,
    "start_time": "2021-11-17T21:15:51.995Z"
   },
   {
    "duration": 3,
    "start_time": "2021-11-17T21:15:53.923Z"
   },
   {
    "duration": 3,
    "start_time": "2021-11-17T21:15:55.282Z"
   },
   {
    "duration": 3,
    "start_time": "2021-11-17T21:16:28.492Z"
   },
   {
    "duration": 3,
    "start_time": "2021-11-17T21:16:32.603Z"
   },
   {
    "duration": 3,
    "start_time": "2021-11-17T21:17:06.941Z"
   },
   {
    "duration": 98,
    "start_time": "2021-11-17T21:18:05.733Z"
   },
   {
    "duration": 4,
    "start_time": "2021-11-17T21:21:35.255Z"
   },
   {
    "duration": 3,
    "start_time": "2021-11-17T21:21:37.804Z"
   },
   {
    "duration": 4,
    "start_time": "2021-11-17T21:23:06.071Z"
   },
   {
    "duration": 3,
    "start_time": "2021-11-17T21:23:24.799Z"
   },
   {
    "duration": 3,
    "start_time": "2021-11-17T21:23:32.591Z"
   },
   {
    "duration": 98,
    "start_time": "2021-11-17T21:28:31.559Z"
   },
   {
    "duration": 3,
    "start_time": "2021-11-17T21:28:45.448Z"
   },
   {
    "duration": 3,
    "start_time": "2021-11-17T21:29:17.303Z"
   },
   {
    "duration": 3,
    "start_time": "2021-11-17T21:29:29.617Z"
   },
   {
    "duration": 3,
    "start_time": "2021-11-17T21:29:32.681Z"
   },
   {
    "duration": 3,
    "start_time": "2021-11-17T21:36:11.474Z"
   },
   {
    "duration": 3,
    "start_time": "2021-11-17T21:36:14.791Z"
   },
   {
    "duration": 3,
    "start_time": "2021-11-17T21:36:53.943Z"
   },
   {
    "duration": 3,
    "start_time": "2021-11-17T21:36:56.165Z"
   },
   {
    "duration": 4,
    "start_time": "2021-11-17T21:37:16.590Z"
   },
   {
    "duration": 3,
    "start_time": "2021-11-17T21:37:22.702Z"
   },
   {
    "duration": 4,
    "start_time": "2021-11-17T21:38:03.479Z"
   },
   {
    "duration": 3,
    "start_time": "2021-11-17T21:38:08.601Z"
   },
   {
    "duration": 3,
    "start_time": "2021-11-17T21:38:12.928Z"
   },
   {
    "duration": 3,
    "start_time": "2021-11-17T21:38:48.896Z"
   },
   {
    "duration": 2,
    "start_time": "2021-11-17T21:38:49.171Z"
   },
   {
    "duration": 4,
    "start_time": "2021-11-17T21:39:57.889Z"
   },
   {
    "duration": 3,
    "start_time": "2021-11-17T21:39:58.057Z"
   },
   {
    "duration": 3,
    "start_time": "2021-11-17T21:41:20.108Z"
   },
   {
    "duration": 3,
    "start_time": "2021-11-17T21:41:20.629Z"
   },
   {
    "duration": 3,
    "start_time": "2021-11-17T21:42:49.136Z"
   },
   {
    "duration": 3,
    "start_time": "2021-11-17T21:43:15.137Z"
   },
   {
    "duration": 4,
    "start_time": "2021-11-17T21:43:16.766Z"
   },
   {
    "duration": 4,
    "start_time": "2021-11-17T21:43:31.711Z"
   },
   {
    "duration": 3,
    "start_time": "2021-11-17T21:43:36.312Z"
   },
   {
    "duration": 4,
    "start_time": "2021-11-17T21:45:08.825Z"
   },
   {
    "duration": 4,
    "start_time": "2021-11-17T21:45:10.119Z"
   },
   {
    "duration": 4,
    "start_time": "2021-11-17T21:45:13.748Z"
   },
   {
    "duration": 3,
    "start_time": "2021-11-17T21:45:22.219Z"
   },
   {
    "duration": 3,
    "start_time": "2021-11-17T21:45:33.412Z"
   },
   {
    "duration": 2,
    "start_time": "2021-11-17T21:46:01.885Z"
   },
   {
    "duration": 3,
    "start_time": "2021-11-17T21:46:03.628Z"
   },
   {
    "duration": 107,
    "start_time": "2021-11-17T21:47:32.512Z"
   },
   {
    "duration": 103,
    "start_time": "2021-11-17T21:50:36.243Z"
   },
   {
    "duration": 3,
    "start_time": "2021-11-18T06:28:31.440Z"
   },
   {
    "duration": 3,
    "start_time": "2021-11-18T06:29:00.168Z"
   },
   {
    "duration": 3,
    "start_time": "2021-11-18T06:31:27.008Z"
   },
   {
    "duration": 2,
    "start_time": "2021-11-18T06:35:34.288Z"
   },
   {
    "duration": 2,
    "start_time": "2021-11-18T06:38:04.527Z"
   },
   {
    "duration": 322,
    "start_time": "2024-10-30T00:18:30.192Z"
   },
   {
    "duration": 187,
    "start_time": "2024-10-30T00:18:31.864Z"
   },
   {
    "duration": 17,
    "start_time": "2024-10-30T00:18:45.345Z"
   },
   {
    "duration": 85,
    "start_time": "2024-10-30T00:18:59.476Z"
   },
   {
    "duration": 79,
    "start_time": "2024-10-30T00:19:04.903Z"
   },
   {
    "duration": 187,
    "start_time": "2024-10-30T00:24:27.905Z"
   },
   {
    "duration": 167,
    "start_time": "2024-10-30T00:24:42.721Z"
   },
   {
    "duration": 9,
    "start_time": "2024-10-30T00:27:47.371Z"
   },
   {
    "duration": 5,
    "start_time": "2024-10-30T00:30:39.987Z"
   },
   {
    "duration": 9,
    "start_time": "2024-10-30T00:30:51.766Z"
   },
   {
    "duration": 13,
    "start_time": "2024-10-30T00:45:25.852Z"
   },
   {
    "duration": 4,
    "start_time": "2024-10-30T00:45:57.711Z"
   },
   {
    "duration": 6,
    "start_time": "2024-10-30T00:46:05.072Z"
   },
   {
    "duration": 20,
    "start_time": "2024-10-30T00:46:08.660Z"
   },
   {
    "duration": 15,
    "start_time": "2024-10-30T00:46:11.376Z"
   },
   {
    "duration": 12,
    "start_time": "2024-10-30T00:46:22.378Z"
   },
   {
    "duration": 13,
    "start_time": "2024-10-30T00:46:39.264Z"
   },
   {
    "duration": 14,
    "start_time": "2024-10-30T00:46:46.043Z"
   },
   {
    "duration": 13,
    "start_time": "2024-10-30T00:46:49.823Z"
   },
   {
    "duration": 3,
    "start_time": "2024-10-30T00:46:53.918Z"
   },
   {
    "duration": 151,
    "start_time": "2024-10-30T00:46:55.759Z"
   },
   {
    "duration": 10,
    "start_time": "2024-10-30T00:46:57.874Z"
   },
   {
    "duration": 9,
    "start_time": "2024-10-30T00:47:00.986Z"
   },
   {
    "duration": 6,
    "start_time": "2024-10-30T00:48:53.116Z"
   },
   {
    "duration": 3,
    "start_time": "2024-10-30T00:50:03.868Z"
   },
   {
    "duration": 9,
    "start_time": "2024-10-30T00:52:04.940Z"
   },
   {
    "duration": 8,
    "start_time": "2024-10-30T00:56:23.114Z"
   },
   {
    "duration": 4,
    "start_time": "2024-10-30T01:03:23.826Z"
   },
   {
    "duration": 6,
    "start_time": "2024-10-30T01:05:19.331Z"
   },
   {
    "duration": 7,
    "start_time": "2024-10-30T01:05:49.843Z"
   },
   {
    "duration": 4,
    "start_time": "2024-10-30T01:11:25.837Z"
   },
   {
    "duration": 4,
    "start_time": "2024-10-30T01:11:33.191Z"
   },
   {
    "duration": 14,
    "start_time": "2024-10-30T01:11:37.291Z"
   },
   {
    "duration": 13,
    "start_time": "2024-10-30T01:14:02.604Z"
   },
   {
    "duration": 3,
    "start_time": "2024-10-30T01:14:17.433Z"
   },
   {
    "duration": 4,
    "start_time": "2024-10-30T01:14:31.065Z"
   },
   {
    "duration": 14,
    "start_time": "2024-10-30T01:14:36.907Z"
   },
   {
    "duration": 397,
    "start_time": "2024-10-30T01:15:00.042Z"
   },
   {
    "duration": 9,
    "start_time": "2024-10-30T01:15:25.135Z"
   },
   {
    "duration": 14,
    "start_time": "2024-10-30T01:15:40.905Z"
   },
   {
    "duration": 15,
    "start_time": "2024-10-30T01:16:12.028Z"
   },
   {
    "duration": 15,
    "start_time": "2024-10-30T01:16:54.835Z"
   },
   {
    "duration": 14,
    "start_time": "2024-10-30T01:17:03.126Z"
   },
   {
    "duration": 14,
    "start_time": "2024-10-30T01:17:15.208Z"
   },
   {
    "duration": 15,
    "start_time": "2024-10-30T01:17:37.134Z"
   },
   {
    "duration": 13,
    "start_time": "2024-10-30T01:17:46.852Z"
   },
   {
    "duration": 14,
    "start_time": "2024-10-30T01:18:51.874Z"
   },
   {
    "duration": 14,
    "start_time": "2024-10-30T01:21:20.149Z"
   },
   {
    "duration": 6,
    "start_time": "2024-10-30T01:23:00.719Z"
   },
   {
    "duration": 16,
    "start_time": "2024-10-30T01:23:04.700Z"
   },
   {
    "duration": 10,
    "start_time": "2024-10-30T01:23:24.500Z"
   },
   {
    "duration": 274,
    "start_time": "2024-10-30T01:23:44.731Z"
   },
   {
    "duration": 166,
    "start_time": "2024-10-30T01:23:47.099Z"
   },
   {
    "duration": 10,
    "start_time": "2024-10-30T01:23:49.127Z"
   },
   {
    "duration": 12,
    "start_time": "2024-10-30T01:23:51.643Z"
   },
   {
    "duration": 8,
    "start_time": "2024-10-30T01:23:55.792Z"
   },
   {
    "duration": 8,
    "start_time": "2024-10-30T01:23:58.463Z"
   },
   {
    "duration": 16,
    "start_time": "2024-10-30T01:24:03.379Z"
   },
   {
    "duration": 15,
    "start_time": "2024-10-30T01:24:37.704Z"
   },
   {
    "duration": 523,
    "start_time": "2024-10-30T01:24:49.449Z"
   },
   {
    "duration": 15,
    "start_time": "2024-10-30T01:24:57.129Z"
   },
   {
    "duration": 17,
    "start_time": "2024-10-30T01:25:50.789Z"
   },
   {
    "duration": 15,
    "start_time": "2024-10-30T01:26:04.652Z"
   },
   {
    "duration": 10,
    "start_time": "2024-10-30T01:26:13.417Z"
   },
   {
    "duration": 159,
    "start_time": "2024-10-30T01:26:51.101Z"
   },
   {
    "duration": 281,
    "start_time": "2024-10-30T01:26:56.733Z"
   },
   {
    "duration": 151,
    "start_time": "2024-10-30T01:26:58.783Z"
   },
   {
    "duration": 10,
    "start_time": "2024-10-30T01:27:00.931Z"
   },
   {
    "duration": 12,
    "start_time": "2024-10-30T01:27:03.936Z"
   },
   {
    "duration": 9,
    "start_time": "2024-10-30T01:27:09.840Z"
   },
   {
    "duration": 9,
    "start_time": "2024-10-30T01:27:13.109Z"
   },
   {
    "duration": 15,
    "start_time": "2024-10-30T01:27:19.304Z"
   },
   {
    "duration": 11,
    "start_time": "2024-10-30T01:28:45.175Z"
   },
   {
    "duration": 15,
    "start_time": "2024-10-30T01:28:50.602Z"
   },
   {
    "duration": 17,
    "start_time": "2024-10-30T01:29:16.720Z"
   },
   {
    "duration": 16,
    "start_time": "2024-10-30T01:29:52.969Z"
   },
   {
    "duration": 4,
    "start_time": "2024-10-30T01:31:14.582Z"
   },
   {
    "duration": 4,
    "start_time": "2024-10-30T01:31:21.643Z"
   },
   {
    "duration": 7,
    "start_time": "2024-10-30T01:31:27.881Z"
   },
   {
    "duration": 27,
    "start_time": "2024-10-30T01:37:23.426Z"
   },
   {
    "duration": 20,
    "start_time": "2024-10-30T01:37:49.857Z"
   },
   {
    "duration": 35,
    "start_time": "2024-10-30T01:39:24.461Z"
   },
   {
    "duration": 11,
    "start_time": "2024-10-30T01:43:02.473Z"
   },
   {
    "duration": 11,
    "start_time": "2024-10-30T01:43:23.569Z"
   },
   {
    "duration": 12,
    "start_time": "2024-10-30T01:43:37.292Z"
   },
   {
    "duration": 4,
    "start_time": "2024-10-30T01:43:47.952Z"
   },
   {
    "duration": 11,
    "start_time": "2024-10-30T01:46:04.963Z"
   },
   {
    "duration": 17,
    "start_time": "2024-10-30T01:46:14.880Z"
   },
   {
    "duration": 17,
    "start_time": "2024-10-30T01:46:34.337Z"
   },
   {
    "duration": 5,
    "start_time": "2024-10-30T01:46:45.004Z"
   },
   {
    "duration": 12,
    "start_time": "2024-10-30T01:49:32.411Z"
   },
   {
    "duration": 22,
    "start_time": "2024-10-30T01:50:17.787Z"
   },
   {
    "duration": 7,
    "start_time": "2024-10-30T01:51:18.702Z"
   },
   {
    "duration": 2579,
    "start_time": "2024-10-31T01:51:33.428Z"
   },
   {
    "duration": 587,
    "start_time": "2024-10-31T01:51:36.011Z"
   },
   {
    "duration": 492,
    "start_time": "2024-10-31T01:51:51.440Z"
   },
   {
    "duration": 11,
    "start_time": "2024-10-31T01:54:37.142Z"
   },
   {
    "duration": 3,
    "start_time": "2024-10-31T01:55:23.787Z"
   },
   {
    "duration": 3,
    "start_time": "2024-10-31T01:55:38.553Z"
   },
   {
    "duration": 58,
    "start_time": "2024-10-31T01:56:52.926Z"
   },
   {
    "duration": 56,
    "start_time": "2024-10-31T01:57:04.304Z"
   },
   {
    "duration": 192,
    "start_time": "2024-11-01T00:32:12.717Z"
   },
   {
    "duration": 2644,
    "start_time": "2024-11-01T00:32:18.633Z"
   },
   {
    "duration": 219,
    "start_time": "2024-11-01T00:32:21.279Z"
   },
   {
    "duration": 4,
    "start_time": "2024-11-01T00:32:22.166Z"
   },
   {
    "duration": 15,
    "start_time": "2024-11-01T00:32:24.001Z"
   },
   {
    "duration": 18,
    "start_time": "2024-11-01T00:35:38.761Z"
   },
   {
    "duration": 16,
    "start_time": "2024-11-01T00:35:47.994Z"
   },
   {
    "duration": 162,
    "start_time": "2024-11-01T00:36:37.521Z"
   },
   {
    "duration": 183,
    "start_time": "2024-11-01T00:36:47.001Z"
   },
   {
    "duration": 13,
    "start_time": "2024-11-01T00:38:19.743Z"
   },
   {
    "duration": 9,
    "start_time": "2024-11-01T00:39:03.344Z"
   },
   {
    "duration": 14,
    "start_time": "2024-11-01T00:39:47.769Z"
   },
   {
    "duration": 14,
    "start_time": "2024-11-01T00:40:09.665Z"
   },
   {
    "duration": 14,
    "start_time": "2024-11-01T00:40:13.666Z"
   },
   {
    "duration": 9,
    "start_time": "2024-11-01T00:40:16.990Z"
   },
   {
    "duration": 14,
    "start_time": "2024-11-01T00:40:20.106Z"
   },
   {
    "duration": 14,
    "start_time": "2024-11-01T00:40:26.378Z"
   },
   {
    "duration": 322,
    "start_time": "2024-11-01T00:41:20.186Z"
   },
   {
    "duration": 116,
    "start_time": "2024-11-01T00:41:36.249Z"
   },
   {
    "duration": 142,
    "start_time": "2024-11-01T00:41:50.191Z"
   },
   {
    "duration": 16,
    "start_time": "2024-11-01T00:41:56.173Z"
   },
   {
    "duration": 781,
    "start_time": "2024-11-01T00:42:13.183Z"
   },
   {
    "duration": 172,
    "start_time": "2024-11-01T00:42:15.703Z"
   },
   {
    "duration": 3,
    "start_time": "2024-11-01T00:42:19.389Z"
   },
   {
    "duration": 14,
    "start_time": "2024-11-01T00:42:26.009Z"
   },
   {
    "duration": 13,
    "start_time": "2024-11-01T00:42:30.158Z"
   },
   {
    "duration": 10,
    "start_time": "2024-11-01T00:42:39.368Z"
   },
   {
    "duration": 14,
    "start_time": "2024-11-01T00:42:43.990Z"
   },
   {
    "duration": 683,
    "start_time": "2024-11-01T00:43:08.545Z"
   },
   {
    "duration": 16,
    "start_time": "2024-11-01T00:43:48.061Z"
   },
   {
    "duration": 10,
    "start_time": "2024-11-01T00:43:56.965Z"
   },
   {
    "duration": 10,
    "start_time": "2024-11-01T00:44:15.974Z"
   },
   {
    "duration": 88,
    "start_time": "2024-11-01T00:44:40.874Z"
   },
   {
    "duration": 87,
    "start_time": "2024-11-01T00:45:02.847Z"
   },
   {
    "duration": 9,
    "start_time": "2024-11-01T00:47:10.440Z"
   },
   {
    "duration": 15,
    "start_time": "2024-11-01T00:47:38.566Z"
   },
   {
    "duration": 9,
    "start_time": "2024-11-01T00:48:04.867Z"
   },
   {
    "duration": 5,
    "start_time": "2024-11-01T00:49:34.991Z"
   },
   {
    "duration": 79,
    "start_time": "2024-11-01T00:49:48.396Z"
   },
   {
    "duration": 811,
    "start_time": "2024-11-01T00:50:23.979Z"
   },
   {
    "duration": 155,
    "start_time": "2024-11-01T00:50:27.357Z"
   },
   {
    "duration": 3,
    "start_time": "2024-11-01T00:50:29.816Z"
   },
   {
    "duration": 14,
    "start_time": "2024-11-01T00:50:34.320Z"
   },
   {
    "duration": 10,
    "start_time": "2024-11-01T00:50:51.446Z"
   },
   {
    "duration": 5,
    "start_time": "2024-11-01T00:50:54.808Z"
   },
   {
    "duration": 5,
    "start_time": "2024-11-01T00:50:59.479Z"
   },
   {
    "duration": 12,
    "start_time": "2024-11-01T00:51:07.806Z"
   },
   {
    "duration": 12,
    "start_time": "2024-11-01T00:51:32.586Z"
   },
   {
    "duration": 12,
    "start_time": "2024-11-01T00:53:13.440Z"
   },
   {
    "duration": 8,
    "start_time": "2024-11-01T00:54:23.805Z"
   },
   {
    "duration": 6,
    "start_time": "2024-11-01T00:54:32.412Z"
   },
   {
    "duration": 11,
    "start_time": "2024-11-01T00:54:45.942Z"
   },
   {
    "duration": 12,
    "start_time": "2024-11-01T00:56:37.535Z"
   },
   {
    "duration": 12,
    "start_time": "2024-11-01T00:57:07.026Z"
   },
   {
    "duration": 16,
    "start_time": "2024-11-01T00:57:10.309Z"
   },
   {
    "duration": 59,
    "start_time": "2024-11-01T00:57:35.087Z"
   },
   {
    "duration": 6,
    "start_time": "2024-11-01T00:57:45.442Z"
   },
   {
    "duration": 20,
    "start_time": "2024-11-01T00:57:57.920Z"
   },
   {
    "duration": 26,
    "start_time": "2024-11-01T01:00:48.625Z"
   },
   {
    "duration": 11,
    "start_time": "2024-11-01T01:01:46.487Z"
   },
   {
    "duration": 265,
    "start_time": "2024-11-01T01:03:01.029Z"
   },
   {
    "duration": 32,
    "start_time": "2024-11-01T01:03:06.041Z"
   },
   {
    "duration": 5,
    "start_time": "2024-11-01T01:03:22.281Z"
   },
   {
    "duration": 13,
    "start_time": "2024-11-01T01:03:33.183Z"
   },
   {
    "duration": 19,
    "start_time": "2024-11-01T01:04:52.743Z"
   },
   {
    "duration": 17,
    "start_time": "2024-11-01T01:05:13.947Z"
   },
   {
    "duration": 2,
    "start_time": "2024-11-01T01:05:43.847Z"
   },
   {
    "duration": 13,
    "start_time": "2024-11-01T01:08:39.559Z"
   },
   {
    "duration": 17,
    "start_time": "2024-11-01T01:08:44.684Z"
   },
   {
    "duration": 54,
    "start_time": "2024-11-01T01:08:56.566Z"
   },
   {
    "duration": 5,
    "start_time": "2024-11-01T01:09:16.730Z"
   },
   {
    "duration": 13,
    "start_time": "2024-11-01T01:09:58.412Z"
   },
   {
    "duration": 22,
    "start_time": "2024-11-01T01:10:06.605Z"
   },
   {
    "duration": 8,
    "start_time": "2024-11-01T01:10:20.884Z"
   },
   {
    "duration": 14,
    "start_time": "2024-11-01T01:11:02.003Z"
   },
   {
    "duration": 7,
    "start_time": "2024-11-01T01:14:24.961Z"
   },
   {
    "duration": 13,
    "start_time": "2024-11-01T01:14:31.817Z"
   },
   {
    "duration": 12,
    "start_time": "2024-11-01T01:14:49.535Z"
   },
   {
    "duration": 7,
    "start_time": "2024-11-01T01:19:47.621Z"
   },
   {
    "duration": 11,
    "start_time": "2024-11-01T01:21:35.555Z"
   },
   {
    "duration": 5,
    "start_time": "2024-11-01T01:30:20.145Z"
   },
   {
    "duration": 467,
    "start_time": "2024-11-01T01:30:34.481Z"
   },
   {
    "duration": 49,
    "start_time": "2024-11-01T01:31:49.237Z"
   },
   {
    "duration": 36,
    "start_time": "2024-11-01T01:31:55.789Z"
   },
   {
    "duration": 44,
    "start_time": "2024-11-01T01:32:23.436Z"
   },
   {
    "duration": 40,
    "start_time": "2024-11-01T01:32:34.497Z"
   },
   {
    "duration": 37,
    "start_time": "2024-11-01T01:32:42.694Z"
   },
   {
    "duration": 37,
    "start_time": "2024-11-01T01:33:25.182Z"
   },
   {
    "duration": 41,
    "start_time": "2024-11-01T01:50:54.996Z"
   },
   {
    "duration": 59,
    "start_time": "2024-11-01T01:54:26.354Z"
   },
   {
    "duration": 60,
    "start_time": "2024-11-01T01:54:40.488Z"
   },
   {
    "duration": 62,
    "start_time": "2024-11-01T01:55:05.263Z"
   },
   {
    "duration": 8,
    "start_time": "2024-11-01T01:55:19.905Z"
   },
   {
    "duration": 24,
    "start_time": "2024-11-01T01:56:17.937Z"
   },
   {
    "duration": 6,
    "start_time": "2024-11-01T01:56:29.840Z"
   },
   {
    "duration": 12,
    "start_time": "2024-11-01T01:56:34.618Z"
   },
   {
    "duration": 21,
    "start_time": "2024-11-01T01:57:01.539Z"
   },
   {
    "duration": 19,
    "start_time": "2024-11-01T01:57:11.537Z"
   },
   {
    "duration": 19,
    "start_time": "2024-11-01T01:57:25.836Z"
   },
   {
    "duration": 20,
    "start_time": "2024-11-01T01:57:30.445Z"
   },
   {
    "duration": 21,
    "start_time": "2024-11-01T01:57:37.907Z"
   },
   {
    "duration": 7,
    "start_time": "2024-11-01T01:58:30.021Z"
   },
   {
    "duration": 198,
    "start_time": "2024-11-01T01:59:24.393Z"
   },
   {
    "duration": 12,
    "start_time": "2024-11-01T01:59:31.513Z"
   },
   {
    "duration": 4,
    "start_time": "2024-11-01T02:01:30.539Z"
   },
   {
    "duration": 3,
    "start_time": "2024-11-01T02:01:52.483Z"
   },
   {
    "duration": 5,
    "start_time": "2024-11-01T02:02:51.134Z"
   },
   {
    "duration": 87,
    "start_time": "2024-11-01T02:03:22.046Z"
   },
   {
    "duration": 12,
    "start_time": "2024-11-01T02:04:02.473Z"
   },
   {
    "duration": 23,
    "start_time": "2024-11-01T02:04:51.185Z"
   },
   {
    "duration": 30,
    "start_time": "2024-11-01T02:06:49.582Z"
   },
   {
    "duration": 390,
    "start_time": "2024-11-01T02:06:56.517Z"
   },
   {
    "duration": 19,
    "start_time": "2024-11-01T02:07:46.265Z"
   },
   {
    "duration": 22,
    "start_time": "2024-11-01T02:10:52.085Z"
   },
   {
    "duration": 23,
    "start_time": "2024-11-01T02:10:59.979Z"
   },
   {
    "duration": 22,
    "start_time": "2024-11-01T02:15:07.142Z"
   },
   {
    "duration": 23,
    "start_time": "2024-11-01T02:16:25.822Z"
   },
   {
    "duration": 23,
    "start_time": "2024-11-01T02:17:27.688Z"
   },
   {
    "duration": 23,
    "start_time": "2024-11-01T02:17:37.925Z"
   },
   {
    "duration": 25,
    "start_time": "2024-11-01T02:19:10.767Z"
   },
   {
    "duration": 24,
    "start_time": "2024-11-01T02:19:24.031Z"
   },
   {
    "duration": 169,
    "start_time": "2024-11-01T02:19:46.386Z"
   },
   {
    "duration": 838,
    "start_time": "2024-11-01T02:19:49.863Z"
   },
   {
    "duration": 158,
    "start_time": "2024-11-01T02:19:51.916Z"
   },
   {
    "duration": 3,
    "start_time": "2024-11-01T02:19:54.776Z"
   },
   {
    "duration": 15,
    "start_time": "2024-11-01T02:20:00.416Z"
   },
   {
    "duration": 11,
    "start_time": "2024-11-01T02:20:03.997Z"
   },
   {
    "duration": 5,
    "start_time": "2024-11-01T02:20:07.582Z"
   },
   {
    "duration": 15,
    "start_time": "2024-11-01T02:20:10.752Z"
   },
   {
    "duration": 55,
    "start_time": "2024-11-01T02:20:15.368Z"
   },
   {
    "duration": 28,
    "start_time": "2024-11-01T02:20:19.875Z"
   },
   {
    "duration": 11,
    "start_time": "2024-11-01T02:20:27.041Z"
   },
   {
    "duration": 31,
    "start_time": "2024-11-01T02:20:30.317Z"
   },
   {
    "duration": 4,
    "start_time": "2024-11-01T02:20:39.526Z"
   },
   {
    "duration": 18,
    "start_time": "2024-11-01T02:20:42.806Z"
   },
   {
    "duration": 51,
    "start_time": "2024-11-01T02:20:45.898Z"
   },
   {
    "duration": 5,
    "start_time": "2024-11-01T02:20:49.357Z"
   },
   {
    "duration": 12,
    "start_time": "2024-11-01T02:20:51.731Z"
   },
   {
    "duration": 21,
    "start_time": "2024-11-01T02:20:54.988Z"
   },
   {
    "duration": 7,
    "start_time": "2024-11-01T02:20:58.393Z"
   },
   {
    "duration": 12,
    "start_time": "2024-11-01T02:21:05.125Z"
   },
   {
    "duration": 42,
    "start_time": "2024-11-01T02:21:09.382Z"
   },
   {
    "duration": 23,
    "start_time": "2024-11-01T02:21:25.024Z"
   },
   {
    "duration": 24,
    "start_time": "2024-11-01T02:21:35.442Z"
   },
   {
    "duration": 18,
    "start_time": "2024-11-01T02:23:00.368Z"
   },
   {
    "duration": 467,
    "start_time": "2024-11-01T02:24:56.759Z"
   },
   {
    "duration": 23,
    "start_time": "2024-11-01T02:25:47.732Z"
   },
   {
    "duration": 44,
    "start_time": "2024-11-01T02:25:50.512Z"
   },
   {
    "duration": 10,
    "start_time": "2024-11-01T02:26:13.560Z"
   },
   {
    "duration": 12,
    "start_time": "2024-11-01T02:26:37.414Z"
   },
   {
    "duration": 15,
    "start_time": "2024-11-01T02:26:52.165Z"
   },
   {
    "duration": 12,
    "start_time": "2024-11-01T02:27:00.250Z"
   },
   {
    "duration": 26,
    "start_time": "2024-11-01T02:27:56.375Z"
   },
   {
    "duration": 12,
    "start_time": "2024-11-01T02:30:11.433Z"
   },
   {
    "duration": 16,
    "start_time": "2024-11-01T02:30:35.806Z"
   },
   {
    "duration": 30,
    "start_time": "2024-11-01T02:31:02.637Z"
   },
   {
    "duration": 22,
    "start_time": "2024-11-01T02:31:57.114Z"
   },
   {
    "duration": 14,
    "start_time": "2024-11-01T02:58:01.899Z"
   },
   {
    "duration": 135,
    "start_time": "2024-11-01T02:58:20.013Z"
   },
   {
    "duration": 8,
    "start_time": "2024-11-01T02:59:08.551Z"
   },
   {
    "duration": 12,
    "start_time": "2024-11-01T02:59:13.879Z"
   },
   {
    "duration": 12,
    "start_time": "2024-11-01T03:03:59.340Z"
   },
   {
    "duration": 17,
    "start_time": "2024-11-01T03:05:11.104Z"
   },
   {
    "duration": 15,
    "start_time": "2024-11-01T03:05:23.791Z"
   },
   {
    "duration": 14,
    "start_time": "2024-11-01T03:08:36.877Z"
   },
   {
    "duration": 18,
    "start_time": "2024-11-01T03:08:41.685Z"
   },
   {
    "duration": 36,
    "start_time": "2024-11-01T03:09:23.361Z"
   },
   {
    "duration": 20,
    "start_time": "2024-11-01T03:10:06.168Z"
   },
   {
    "duration": 14,
    "start_time": "2024-11-01T03:17:24.060Z"
   },
   {
    "duration": 18,
    "start_time": "2024-11-01T03:18:35.863Z"
   },
   {
    "duration": 17,
    "start_time": "2024-11-01T03:18:54.990Z"
   },
   {
    "duration": 18,
    "start_time": "2024-11-01T03:27:31.924Z"
   },
   {
    "duration": 23,
    "start_time": "2024-11-01T03:28:07.765Z"
   },
   {
    "duration": 24,
    "start_time": "2024-11-01T03:28:29.283Z"
   },
   {
    "duration": 20,
    "start_time": "2024-11-01T03:28:36.807Z"
   },
   {
    "duration": 20,
    "start_time": "2024-11-01T03:29:17.886Z"
   },
   {
    "duration": 23,
    "start_time": "2024-11-01T03:31:06.087Z"
   },
   {
    "duration": 4,
    "start_time": "2024-11-01T04:08:06.307Z"
   },
   {
    "duration": 2,
    "start_time": "2024-11-01T04:08:11.070Z"
   },
   {
    "duration": 14,
    "start_time": "2024-11-01T04:12:46.795Z"
   },
   {
    "duration": 13,
    "start_time": "2024-11-01T04:12:56.529Z"
   },
   {
    "duration": 83,
    "start_time": "2024-11-01T04:13:55.919Z"
   },
   {
    "duration": 2,
    "start_time": "2024-11-01T04:14:19.495Z"
   },
   {
    "duration": 38,
    "start_time": "2024-11-01T04:14:22.419Z"
   },
   {
    "duration": 3,
    "start_time": "2024-11-01T04:16:50.754Z"
   },
   {
    "duration": 3,
    "start_time": "2024-11-01T04:17:47.127Z"
   },
   {
    "duration": 18,
    "start_time": "2024-11-01T04:18:29.630Z"
   },
   {
    "duration": 35,
    "start_time": "2024-11-01T04:19:58.982Z"
   },
   {
    "duration": 30,
    "start_time": "2024-11-01T04:21:07.328Z"
   },
   {
    "duration": 38,
    "start_time": "2024-11-01T04:21:34.544Z"
   },
   {
    "duration": 30,
    "start_time": "2024-11-01T04:37:54.635Z"
   },
   {
    "duration": 4,
    "start_time": "2024-11-01T04:38:01.113Z"
   },
   {
    "duration": 6,
    "start_time": "2024-11-01T04:38:23.589Z"
   },
   {
    "duration": 3,
    "start_time": "2024-11-01T04:38:34.224Z"
   },
   {
    "duration": 55,
    "start_time": "2024-11-01T04:38:38.218Z"
   },
   {
    "duration": 31,
    "start_time": "2024-11-01T04:46:20.735Z"
   },
   {
    "duration": 55,
    "start_time": "2024-11-01T04:47:25.841Z"
   },
   {
    "duration": 4,
    "start_time": "2024-11-01T04:47:44.797Z"
   },
   {
    "duration": 56,
    "start_time": "2024-11-01T04:48:23.544Z"
   },
   {
    "duration": 3,
    "start_time": "2024-11-01T04:49:24.849Z"
   },
   {
    "duration": 4,
    "start_time": "2024-11-01T04:49:36.312Z"
   },
   {
    "duration": 57,
    "start_time": "2024-11-01T04:49:40.642Z"
   },
   {
    "duration": 54,
    "start_time": "2024-11-01T04:50:18.692Z"
   },
   {
    "duration": 4,
    "start_time": "2024-11-01T04:52:04.758Z"
   },
   {
    "duration": 61,
    "start_time": "2024-11-01T04:52:08.125Z"
   },
   {
    "duration": 4,
    "start_time": "2024-11-01T04:52:44.435Z"
   },
   {
    "duration": 46,
    "start_time": "2024-11-01T04:52:46.915Z"
   },
   {
    "duration": 74,
    "start_time": "2024-11-01T04:52:58.639Z"
   },
   {
    "duration": 4,
    "start_time": "2024-11-01T04:53:28.960Z"
   },
   {
    "duration": 52,
    "start_time": "2024-11-01T04:53:31.313Z"
   },
   {
    "duration": 68,
    "start_time": "2024-11-01T04:53:41.268Z"
   },
   {
    "duration": 22,
    "start_time": "2024-11-01T05:01:16.313Z"
   },
   {
    "duration": 25,
    "start_time": "2024-11-01T05:01:40.924Z"
   },
   {
    "duration": 49,
    "start_time": "2024-11-01T05:03:23.229Z"
   },
   {
    "duration": 59,
    "start_time": "2024-11-01T05:03:46.230Z"
   },
   {
    "duration": 4,
    "start_time": "2024-11-01T05:04:02.016Z"
   },
   {
    "duration": 4,
    "start_time": "2024-11-01T05:04:24.400Z"
   },
   {
    "duration": 2528,
    "start_time": "2024-11-01T05:04:27.066Z"
   },
   {
    "duration": 20,
    "start_time": "2024-11-01T05:06:15.054Z"
   },
   {
    "duration": 48,
    "start_time": "2024-11-01T05:07:00.052Z"
   },
   {
    "duration": 4,
    "start_time": "2024-11-01T05:07:09.714Z"
   },
   {
    "duration": 2337,
    "start_time": "2024-11-01T05:07:14.812Z"
   },
   {
    "duration": 45,
    "start_time": "2024-11-01T05:07:41.271Z"
   },
   {
    "duration": 21,
    "start_time": "2024-11-01T05:08:52.319Z"
   },
   {
    "duration": 396,
    "start_time": "2024-11-01T05:09:16.015Z"
   },
   {
    "duration": 46,
    "start_time": "2024-11-01T05:09:56.082Z"
   },
   {
    "duration": 90,
    "start_time": "2024-11-01T05:10:29.815Z"
   },
   {
    "duration": 47,
    "start_time": "2024-11-01T05:10:38.250Z"
   },
   {
    "duration": 27,
    "start_time": "2024-11-01T05:11:04.713Z"
   },
   {
    "duration": 4,
    "start_time": "2024-11-01T05:11:18.488Z"
   },
   {
    "duration": 2353,
    "start_time": "2024-11-01T05:11:23.044Z"
   },
   {
    "duration": 22,
    "start_time": "2024-11-01T05:12:47.082Z"
   },
   {
    "duration": 31,
    "start_time": "2024-11-01T05:12:52.935Z"
   },
   {
    "duration": 4,
    "start_time": "2024-11-01T05:12:57.340Z"
   },
   {
    "duration": 1893,
    "start_time": "2024-11-01T05:12:58.965Z"
   },
   {
    "duration": 1900,
    "start_time": "2024-11-01T05:13:09.819Z"
   },
   {
    "duration": 21,
    "start_time": "2024-11-01T05:14:21.252Z"
   },
   {
    "duration": 26,
    "start_time": "2024-11-01T05:14:34.642Z"
   },
   {
    "duration": 1923,
    "start_time": "2024-11-01T05:15:51.592Z"
   },
   {
    "duration": 28,
    "start_time": "2024-11-01T05:20:25.200Z"
   },
   {
    "duration": 18,
    "start_time": "2024-11-01T05:20:33.286Z"
   },
   {
    "duration": 25,
    "start_time": "2024-11-01T05:20:42.884Z"
   },
   {
    "duration": 4,
    "start_time": "2024-11-01T05:20:55.183Z"
   },
   {
    "duration": 67,
    "start_time": "2024-11-01T05:20:58.234Z"
   },
   {
    "duration": 65,
    "start_time": "2024-11-01T05:24:20.519Z"
   },
   {
    "duration": 68,
    "start_time": "2024-11-01T05:27:42.819Z"
   },
   {
    "duration": 68,
    "start_time": "2024-11-01T05:28:02.581Z"
   },
   {
    "duration": 67,
    "start_time": "2024-11-01T05:28:11.558Z"
   },
   {
    "duration": 69,
    "start_time": "2024-11-01T05:30:11.473Z"
   },
   {
    "duration": 28,
    "start_time": "2024-11-01T05:33:17.727Z"
   },
   {
    "duration": 24,
    "start_time": "2024-11-01T05:33:32.925Z"
   },
   {
    "duration": 26,
    "start_time": "2024-11-01T05:34:09.875Z"
   },
   {
    "duration": 50,
    "start_time": "2024-11-01T05:35:17.370Z"
   },
   {
    "duration": 4,
    "start_time": "2024-11-01T05:36:55.162Z"
   },
   {
    "duration": 110,
    "start_time": "2024-11-01T05:37:19.842Z"
   },
   {
    "duration": 24,
    "start_time": "2024-11-01T05:37:59.905Z"
   },
   {
    "duration": 162,
    "start_time": "2024-11-01T18:34:03.902Z"
   },
   {
    "duration": 14,
    "start_time": "2024-11-01T18:34:16.825Z"
   },
   {
    "duration": 2667,
    "start_time": "2024-11-01T18:34:26.175Z"
   },
   {
    "duration": 864,
    "start_time": "2024-11-01T18:34:34.701Z"
   },
   {
    "duration": 211,
    "start_time": "2024-11-01T18:34:35.567Z"
   },
   {
    "duration": 3,
    "start_time": "2024-11-01T18:34:35.779Z"
   },
   {
    "duration": 13,
    "start_time": "2024-11-01T18:34:35.785Z"
   },
   {
    "duration": 2,
    "start_time": "2024-11-01T18:34:35.801Z"
   },
   {
    "duration": 2,
    "start_time": "2024-11-01T18:34:35.806Z"
   },
   {
    "duration": 23,
    "start_time": "2024-11-01T18:34:35.809Z"
   },
   {
    "duration": 11,
    "start_time": "2024-11-01T18:34:35.835Z"
   },
   {
    "duration": 5,
    "start_time": "2024-11-01T18:34:35.847Z"
   },
   {
    "duration": 13,
    "start_time": "2024-11-01T18:34:35.855Z"
   },
   {
    "duration": 84,
    "start_time": "2024-11-01T18:34:35.869Z"
   },
   {
    "duration": 19,
    "start_time": "2024-11-01T18:34:35.955Z"
   },
   {
    "duration": 26,
    "start_time": "2024-11-01T18:34:35.977Z"
   },
   {
    "duration": 31,
    "start_time": "2024-11-01T18:34:36.005Z"
   },
   {
    "duration": 31,
    "start_time": "2024-11-01T18:34:36.039Z"
   },
   {
    "duration": 4,
    "start_time": "2024-11-01T18:34:36.072Z"
   },
   {
    "duration": 17,
    "start_time": "2024-11-01T18:34:36.078Z"
   },
   {
    "duration": 3,
    "start_time": "2024-11-01T18:34:36.097Z"
   },
   {
    "duration": 83,
    "start_time": "2024-11-01T18:34:36.102Z"
   },
   {
    "duration": 5,
    "start_time": "2024-11-01T18:34:36.186Z"
   },
   {
    "duration": 14,
    "start_time": "2024-11-01T18:34:36.193Z"
   },
   {
    "duration": 21,
    "start_time": "2024-11-01T18:34:36.232Z"
   },
   {
    "duration": 7,
    "start_time": "2024-11-01T18:34:36.255Z"
   },
   {
    "duration": 11,
    "start_time": "2024-11-01T18:34:36.263Z"
   },
   {
    "duration": 66,
    "start_time": "2024-11-01T18:34:36.276Z"
   },
   {
    "duration": 22,
    "start_time": "2024-11-01T18:34:36.344Z"
   },
   {
    "duration": 30,
    "start_time": "2024-11-01T18:34:36.368Z"
   },
   {
    "duration": 39,
    "start_time": "2024-11-01T18:34:36.402Z"
   },
   {
    "duration": 24,
    "start_time": "2024-11-01T18:34:36.442Z"
   },
   {
    "duration": 5,
    "start_time": "2024-11-01T18:34:36.468Z"
   },
   {
    "duration": 891,
    "start_time": "2024-11-01T18:34:36.475Z"
   },
   {
    "duration": 0,
    "start_time": "2024-11-01T18:34:37.368Z"
   },
   {
    "duration": 0,
    "start_time": "2024-11-01T18:34:37.370Z"
   },
   {
    "duration": 0,
    "start_time": "2024-11-01T18:34:37.371Z"
   },
   {
    "duration": 0,
    "start_time": "2024-11-01T18:34:37.372Z"
   },
   {
    "duration": 0,
    "start_time": "2024-11-01T18:34:37.374Z"
   },
   {
    "duration": 0,
    "start_time": "2024-11-01T18:34:37.376Z"
   },
   {
    "duration": 0,
    "start_time": "2024-11-01T18:34:37.377Z"
   },
   {
    "duration": 0,
    "start_time": "2024-11-01T18:34:37.379Z"
   },
   {
    "duration": 4,
    "start_time": "2024-11-01T18:37:07.998Z"
   },
   {
    "duration": 70,
    "start_time": "2024-11-01T18:37:16.462Z"
   },
   {
    "duration": 69,
    "start_time": "2024-11-01T18:38:18.389Z"
   },
   {
    "duration": 4,
    "start_time": "2024-11-01T18:42:19.969Z"
   },
   {
    "duration": 8,
    "start_time": "2024-11-01T18:42:24.215Z"
   },
   {
    "duration": 14,
    "start_time": "2024-11-01T18:42:50.819Z"
   },
   {
    "duration": 12,
    "start_time": "2024-11-01T18:42:56.204Z"
   },
   {
    "duration": 5,
    "start_time": "2024-11-01T18:42:59.424Z"
   },
   {
    "duration": 12,
    "start_time": "2024-11-01T18:43:05.622Z"
   },
   {
    "duration": 41,
    "start_time": "2024-11-01T18:43:11.079Z"
   },
   {
    "duration": 18,
    "start_time": "2024-11-01T18:43:17.026Z"
   },
   {
    "duration": 19,
    "start_time": "2024-11-01T18:43:24.267Z"
   },
   {
    "duration": 11,
    "start_time": "2024-11-01T18:43:28.286Z"
   },
   {
    "duration": 26,
    "start_time": "2024-11-01T18:43:30.882Z"
   },
   {
    "duration": 5,
    "start_time": "2024-11-01T18:43:36.582Z"
   },
   {
    "duration": 18,
    "start_time": "2024-11-01T18:43:41.560Z"
   },
   {
    "duration": 54,
    "start_time": "2024-11-01T18:43:49.048Z"
   },
   {
    "duration": 5,
    "start_time": "2024-11-01T18:43:57.904Z"
   },
   {
    "duration": 13,
    "start_time": "2024-11-01T18:44:21.134Z"
   },
   {
    "duration": 18,
    "start_time": "2024-11-01T18:44:36.784Z"
   },
   {
    "duration": 8,
    "start_time": "2024-11-01T18:44:40.341Z"
   },
   {
    "duration": 163,
    "start_time": "2024-11-01T19:56:44.602Z"
   },
   {
    "duration": 2665,
    "start_time": "2024-11-01T19:56:54.554Z"
   },
   {
    "duration": 218,
    "start_time": "2024-11-01T19:56:57.221Z"
   },
   {
    "duration": 3,
    "start_time": "2024-11-01T19:56:59.386Z"
   },
   {
    "duration": 16,
    "start_time": "2024-11-01T19:57:01.132Z"
   },
   {
    "duration": 11,
    "start_time": "2024-11-01T19:57:05.582Z"
   },
   {
    "duration": 13,
    "start_time": "2024-11-01T19:57:07.880Z"
   },
   {
    "duration": 8,
    "start_time": "2024-11-01T19:57:10.812Z"
   },
   {
    "duration": 5,
    "start_time": "2024-11-01T19:57:13.270Z"
   },
   {
    "duration": 12,
    "start_time": "2024-11-01T19:57:15.468Z"
   },
   {
    "duration": 54,
    "start_time": "2024-11-01T19:57:19.540Z"
   },
   {
    "duration": 27,
    "start_time": "2024-11-01T19:57:22.150Z"
   },
   {
    "duration": 31,
    "start_time": "2024-11-01T19:57:24.606Z"
   },
   {
    "duration": 5,
    "start_time": "2024-11-01T19:57:26.806Z"
   },
   {
    "duration": 18,
    "start_time": "2024-11-01T19:57:29.197Z"
   },
   {
    "duration": 54,
    "start_time": "2024-11-01T19:57:31.244Z"
   },
   {
    "duration": 5,
    "start_time": "2024-11-01T19:57:33.613Z"
   },
   {
    "duration": 14,
    "start_time": "2024-11-01T19:57:35.841Z"
   },
   {
    "duration": 29,
    "start_time": "2024-11-01T19:57:46.733Z"
   },
   {
    "duration": 9,
    "start_time": "2024-11-01T19:57:49.123Z"
   },
   {
    "duration": 11,
    "start_time": "2024-11-01T19:57:51.331Z"
   },
   {
    "duration": 495,
    "start_time": "2024-11-01T19:57:54.057Z"
   },
   {
    "duration": 12,
    "start_time": "2024-11-01T19:58:46.020Z"
   },
   {
    "duration": 10,
    "start_time": "2024-11-01T20:00:03.301Z"
   },
   {
    "duration": 14,
    "start_time": "2024-11-01T20:00:59.520Z"
   },
   {
    "duration": 5,
    "start_time": "2024-11-01T20:01:10.544Z"
   },
   {
    "duration": 18,
    "start_time": "2024-11-01T20:01:20.474Z"
   },
   {
    "duration": 6,
    "start_time": "2024-11-01T20:01:36.686Z"
   },
   {
    "duration": 12,
    "start_time": "2024-11-01T20:02:04.796Z"
   },
   {
    "duration": 13,
    "start_time": "2024-11-01T20:02:19.422Z"
   },
   {
    "duration": 19,
    "start_time": "2024-11-01T20:02:35.122Z"
   },
   {
    "duration": 14,
    "start_time": "2024-11-01T20:02:44.138Z"
   },
   {
    "duration": 42,
    "start_time": "2024-11-01T20:02:50.907Z"
   },
   {
    "duration": 24,
    "start_time": "2024-11-01T20:03:07.410Z"
   },
   {
    "duration": 28,
    "start_time": "2024-11-01T20:03:25.632Z"
   },
   {
    "duration": 16,
    "start_time": "2024-11-01T20:04:14.090Z"
   },
   {
    "duration": 24,
    "start_time": "2024-11-01T20:04:27.873Z"
   },
   {
    "duration": 27,
    "start_time": "2024-11-01T20:04:36.959Z"
   },
   {
    "duration": 19,
    "start_time": "2024-11-01T20:05:00.949Z"
   },
   {
    "duration": 25,
    "start_time": "2024-11-01T20:05:20.822Z"
   },
   {
    "duration": 28,
    "start_time": "2024-11-01T20:06:16.761Z"
   },
   {
    "duration": 15,
    "start_time": "2024-11-01T20:06:32.793Z"
   },
   {
    "duration": 4,
    "start_time": "2024-11-01T20:06:38.300Z"
   },
   {
    "duration": 73,
    "start_time": "2024-11-01T20:06:40.844Z"
   },
   {
    "duration": 4,
    "start_time": "2024-11-01T20:10:21.386Z"
   },
   {
    "duration": 71,
    "start_time": "2024-11-01T20:10:22.945Z"
   },
   {
    "duration": 5,
    "start_time": "2024-11-01T20:11:28.134Z"
   },
   {
    "duration": 73,
    "start_time": "2024-11-01T20:11:30.297Z"
   },
   {
    "duration": 74,
    "start_time": "2024-11-01T20:11:42.905Z"
   },
   {
    "duration": 70,
    "start_time": "2024-11-01T20:11:54.841Z"
   },
   {
    "duration": 67,
    "start_time": "2024-11-01T20:12:50.345Z"
   },
   {
    "duration": 65,
    "start_time": "2024-11-01T20:12:58.752Z"
   },
   {
    "duration": 590,
    "start_time": "2024-11-01T20:13:01.922Z"
   },
   {
    "duration": 65,
    "start_time": "2024-11-01T20:13:47.770Z"
   },
   {
    "duration": 66,
    "start_time": "2024-11-01T20:14:13.735Z"
   },
   {
    "duration": 63,
    "start_time": "2024-11-01T20:14:20.177Z"
   },
   {
    "duration": 71,
    "start_time": "2024-11-01T20:14:34.420Z"
   },
   {
    "duration": 211,
    "start_time": "2024-11-01T20:16:23.320Z"
   },
   {
    "duration": 221,
    "start_time": "2024-11-01T20:16:45.005Z"
   },
   {
    "duration": 407,
    "start_time": "2024-11-01T20:18:15.202Z"
   },
   {
    "duration": 201,
    "start_time": "2024-11-01T20:18:29.243Z"
   },
   {
    "duration": 201,
    "start_time": "2024-11-01T20:21:00.875Z"
   },
   {
    "duration": 161,
    "start_time": "2024-11-01T20:21:13.459Z"
   },
   {
    "duration": 150,
    "start_time": "2024-11-01T20:21:27.613Z"
   },
   {
    "duration": 17,
    "start_time": "2024-11-01T20:21:48.682Z"
   },
   {
    "duration": 165,
    "start_time": "2024-11-01T20:21:55.548Z"
   },
   {
    "duration": 32,
    "start_time": "2024-11-01T20:22:26.302Z"
   },
   {
    "duration": 17,
    "start_time": "2024-11-01T20:25:02.371Z"
   },
   {
    "duration": 71,
    "start_time": "2024-11-01T20:25:16.181Z"
   },
   {
    "duration": 41,
    "start_time": "2024-11-01T20:25:26.349Z"
   },
   {
    "duration": 115,
    "start_time": "2024-11-01T20:25:34.339Z"
   },
   {
    "duration": 95,
    "start_time": "2024-11-01T20:27:00.279Z"
   },
   {
    "duration": 127,
    "start_time": "2024-11-01T20:28:49.611Z"
   },
   {
    "duration": 24,
    "start_time": "2024-11-01T20:29:12.990Z"
   },
   {
    "duration": 149,
    "start_time": "2024-11-01T20:29:24.578Z"
   },
   {
    "duration": 289,
    "start_time": "2024-11-01T20:31:44.622Z"
   },
   {
    "duration": 162,
    "start_time": "2024-11-01T20:32:20.728Z"
   },
   {
    "duration": 87,
    "start_time": "2024-11-01T20:36:07.559Z"
   },
   {
    "duration": 10,
    "start_time": "2024-11-01T21:23:55.736Z"
   },
   {
    "duration": 20,
    "start_time": "2024-11-01T21:25:48.178Z"
   },
   {
    "duration": 25,
    "start_time": "2024-11-01T21:26:04.223Z"
   },
   {
    "duration": 20,
    "start_time": "2024-11-01T21:26:10.875Z"
   },
   {
    "duration": 162,
    "start_time": "2024-11-02T12:27:53.484Z"
   },
   {
    "duration": 2596,
    "start_time": "2024-11-02T12:28:07.900Z"
   },
   {
    "duration": 223,
    "start_time": "2024-11-02T12:28:10.498Z"
   },
   {
    "duration": 3,
    "start_time": "2024-11-02T12:28:10.723Z"
   },
   {
    "duration": 14,
    "start_time": "2024-11-02T12:28:10.728Z"
   },
   {
    "duration": 2,
    "start_time": "2024-11-02T12:28:10.744Z"
   },
   {
    "duration": 10,
    "start_time": "2024-11-02T12:28:10.748Z"
   },
   {
    "duration": 13,
    "start_time": "2024-11-02T12:28:10.760Z"
   },
   {
    "duration": 9,
    "start_time": "2024-11-02T12:28:10.775Z"
   },
   {
    "duration": 5,
    "start_time": "2024-11-02T12:28:10.785Z"
   },
   {
    "duration": 47,
    "start_time": "2024-11-02T12:28:10.793Z"
   },
   {
    "duration": 54,
    "start_time": "2024-11-02T12:28:10.841Z"
   },
   {
    "duration": 36,
    "start_time": "2024-11-02T12:28:10.897Z"
   },
   {
    "duration": 26,
    "start_time": "2024-11-02T12:28:10.934Z"
   },
   {
    "duration": 13,
    "start_time": "2024-11-02T12:28:10.962Z"
   },
   {
    "duration": 54,
    "start_time": "2024-11-02T12:28:10.977Z"
   },
   {
    "duration": 4,
    "start_time": "2024-11-02T12:28:11.033Z"
   },
   {
    "duration": 20,
    "start_time": "2024-11-02T12:28:11.039Z"
   },
   {
    "duration": 3,
    "start_time": "2024-11-02T12:28:11.061Z"
   },
   {
    "duration": 82,
    "start_time": "2024-11-02T12:28:11.065Z"
   },
   {
    "duration": 5,
    "start_time": "2024-11-02T12:28:11.149Z"
   },
   {
    "duration": 12,
    "start_time": "2024-11-02T12:28:11.155Z"
   },
   {
    "duration": 21,
    "start_time": "2024-11-02T12:28:11.169Z"
   },
   {
    "duration": 8,
    "start_time": "2024-11-02T12:28:11.192Z"
   },
   {
    "duration": 12,
    "start_time": "2024-11-02T12:28:11.231Z"
   },
   {
    "duration": 41,
    "start_time": "2024-11-02T12:28:11.244Z"
   },
   {
    "duration": 23,
    "start_time": "2024-11-02T12:28:11.286Z"
   },
   {
    "duration": 29,
    "start_time": "2024-11-02T12:28:11.331Z"
   },
   {
    "duration": 17,
    "start_time": "2024-11-02T12:28:11.364Z"
   },
   {
    "duration": 24,
    "start_time": "2024-11-02T12:28:11.383Z"
   },
   {
    "duration": 6,
    "start_time": "2024-11-02T12:28:11.430Z"
   },
   {
    "duration": 0,
    "start_time": "2024-11-02T12:28:11.438Z"
   },
   {
    "duration": 0,
    "start_time": "2024-11-02T12:28:11.439Z"
   },
   {
    "duration": 0,
    "start_time": "2024-11-02T12:28:11.440Z"
   },
   {
    "duration": 0,
    "start_time": "2024-11-02T12:28:11.441Z"
   },
   {
    "duration": 0,
    "start_time": "2024-11-02T12:28:11.443Z"
   },
   {
    "duration": 0,
    "start_time": "2024-11-02T12:28:11.444Z"
   },
   {
    "duration": 0,
    "start_time": "2024-11-02T12:28:11.445Z"
   },
   {
    "duration": 0,
    "start_time": "2024-11-02T12:28:11.446Z"
   },
   {
    "duration": 0,
    "start_time": "2024-11-02T12:28:11.448Z"
   },
   {
    "duration": 0,
    "start_time": "2024-11-02T12:28:11.449Z"
   },
   {
    "duration": 0,
    "start_time": "2024-11-02T12:28:11.450Z"
   },
   {
    "duration": 25,
    "start_time": "2024-11-02T12:29:50.320Z"
   },
   {
    "duration": 25,
    "start_time": "2024-11-02T12:30:05.583Z"
   },
   {
    "duration": 23,
    "start_time": "2024-11-02T12:30:42.149Z"
   },
   {
    "duration": 24,
    "start_time": "2024-11-02T12:32:24.443Z"
   },
   {
    "duration": 24,
    "start_time": "2024-11-02T12:32:45.692Z"
   },
   {
    "duration": 24,
    "start_time": "2024-11-02T12:34:55.277Z"
   },
   {
    "duration": 24,
    "start_time": "2024-11-02T12:35:04.697Z"
   },
   {
    "duration": 23,
    "start_time": "2024-11-02T12:35:17.694Z"
   },
   {
    "duration": 18,
    "start_time": "2024-11-02T12:36:08.210Z"
   },
   {
    "duration": 25,
    "start_time": "2024-11-02T12:39:03.286Z"
   },
   {
    "duration": 4,
    "start_time": "2024-11-02T12:41:22.281Z"
   },
   {
    "duration": 531,
    "start_time": "2024-11-02T12:42:10.184Z"
   },
   {
    "duration": 4,
    "start_time": "2024-11-02T12:42:19.922Z"
   },
   {
    "duration": 62,
    "start_time": "2024-11-02T12:42:25.200Z"
   },
   {
    "duration": 4,
    "start_time": "2024-11-02T12:42:53.391Z"
   },
   {
    "duration": 4,
    "start_time": "2024-11-02T12:43:24.088Z"
   },
   {
    "duration": 4,
    "start_time": "2024-11-02T12:43:38.477Z"
   },
   {
    "duration": 4,
    "start_time": "2024-11-02T12:44:40.442Z"
   },
   {
    "duration": 70,
    "start_time": "2024-11-02T12:44:52.298Z"
   },
   {
    "duration": 73,
    "start_time": "2024-11-02T12:46:22.783Z"
   },
   {
    "duration": 6,
    "start_time": "2024-11-02T12:52:10.024Z"
   },
   {
    "duration": 6,
    "start_time": "2024-11-02T12:52:28.049Z"
   },
   {
    "duration": 5,
    "start_time": "2024-11-02T12:52:40.376Z"
   },
   {
    "duration": 4,
    "start_time": "2024-11-02T12:52:45.766Z"
   },
   {
    "duration": 27,
    "start_time": "2024-11-02T12:54:18.478Z"
   },
   {
    "duration": 26,
    "start_time": "2024-11-02T12:55:21.415Z"
   },
   {
    "duration": 26,
    "start_time": "2024-11-02T12:57:05.860Z"
   },
   {
    "duration": 28,
    "start_time": "2024-11-02T13:00:03.625Z"
   },
   {
    "duration": 28,
    "start_time": "2024-11-02T13:00:30.906Z"
   },
   {
    "duration": 27,
    "start_time": "2024-11-02T13:02:17.052Z"
   },
   {
    "duration": 4,
    "start_time": "2024-11-02T13:03:01.090Z"
   },
   {
    "duration": 66,
    "start_time": "2024-11-02T13:03:28.116Z"
   },
   {
    "duration": 4,
    "start_time": "2024-11-02T13:03:46.548Z"
   },
   {
    "duration": 4,
    "start_time": "2024-11-02T13:04:06.976Z"
   },
   {
    "duration": 79,
    "start_time": "2024-11-02T13:04:09.463Z"
   },
   {
    "duration": 4,
    "start_time": "2024-11-02T13:05:40.530Z"
   },
   {
    "duration": 77,
    "start_time": "2024-11-02T13:05:44.063Z"
   },
   {
    "duration": 83,
    "start_time": "2024-11-02T13:06:20.360Z"
   },
   {
    "duration": 76,
    "start_time": "2024-11-02T13:11:10.664Z"
   },
   {
    "duration": 210,
    "start_time": "2024-11-02T13:12:31.555Z"
   },
   {
    "duration": 150,
    "start_time": "2024-11-02T13:12:41.590Z"
   },
   {
    "duration": 28,
    "start_time": "2024-11-02T13:12:47.537Z"
   },
   {
    "duration": 93,
    "start_time": "2024-11-02T13:13:12.719Z"
   },
   {
    "duration": 159,
    "start_time": "2024-11-02T13:13:25.116Z"
   },
   {
    "duration": 205,
    "start_time": "2024-11-02T13:13:37.193Z"
   },
   {
    "duration": 148,
    "start_time": "2024-11-02T13:14:19.388Z"
   },
   {
    "duration": 77,
    "start_time": "2024-11-02T13:16:28.922Z"
   },
   {
    "duration": 118,
    "start_time": "2024-11-02T14:01:30.110Z"
   },
   {
    "duration": 20,
    "start_time": "2024-11-02T14:03:09.393Z"
   },
   {
    "duration": 5,
    "start_time": "2024-11-02T15:09:38.943Z"
   },
   {
    "duration": 857,
    "start_time": "2024-11-02T15:09:58.915Z"
   },
   {
    "duration": 173,
    "start_time": "2024-11-02T15:09:59.774Z"
   },
   {
    "duration": 2,
    "start_time": "2024-11-02T15:09:59.949Z"
   },
   {
    "duration": 13,
    "start_time": "2024-11-02T15:09:59.954Z"
   },
   {
    "duration": 2,
    "start_time": "2024-11-02T15:09:59.969Z"
   },
   {
    "duration": 10,
    "start_time": "2024-11-02T15:09:59.973Z"
   },
   {
    "duration": 13,
    "start_time": "2024-11-02T15:09:59.985Z"
   },
   {
    "duration": 38,
    "start_time": "2024-11-02T15:10:00.000Z"
   },
   {
    "duration": 5,
    "start_time": "2024-11-02T15:10:00.039Z"
   },
   {
    "duration": 13,
    "start_time": "2024-11-02T15:10:00.048Z"
   },
   {
    "duration": 80,
    "start_time": "2024-11-02T15:10:00.062Z"
   },
   {
    "duration": 20,
    "start_time": "2024-11-02T15:10:00.144Z"
   },
   {
    "duration": 26,
    "start_time": "2024-11-02T15:10:00.166Z"
   },
   {
    "duration": 11,
    "start_time": "2024-11-02T15:10:00.194Z"
   },
   {
    "duration": 53,
    "start_time": "2024-11-02T15:10:00.206Z"
   },
   {
    "duration": 4,
    "start_time": "2024-11-02T15:10:00.261Z"
   },
   {
    "duration": 17,
    "start_time": "2024-11-02T15:10:00.267Z"
   },
   {
    "duration": 2,
    "start_time": "2024-11-02T15:10:00.287Z"
   },
   {
    "duration": 85,
    "start_time": "2024-11-02T15:10:00.290Z"
   },
   {
    "duration": 4,
    "start_time": "2024-11-02T15:10:00.377Z"
   },
   {
    "duration": 11,
    "start_time": "2024-11-02T15:10:00.383Z"
   },
   {
    "duration": 44,
    "start_time": "2024-11-02T15:10:00.396Z"
   },
   {
    "duration": 8,
    "start_time": "2024-11-02T15:10:00.442Z"
   },
   {
    "duration": 12,
    "start_time": "2024-11-02T15:10:00.453Z"
   },
   {
    "duration": 43,
    "start_time": "2024-11-02T15:10:00.466Z"
   },
   {
    "duration": 24,
    "start_time": "2024-11-02T15:10:00.530Z"
   },
   {
    "duration": 28,
    "start_time": "2024-11-02T15:10:00.556Z"
   },
   {
    "duration": 43,
    "start_time": "2024-11-02T15:10:00.588Z"
   },
   {
    "duration": 28,
    "start_time": "2024-11-02T15:10:00.633Z"
   },
   {
    "duration": 4,
    "start_time": "2024-11-02T15:10:00.663Z"
   },
   {
    "duration": 96,
    "start_time": "2024-11-02T15:10:00.668Z"
   },
   {
    "duration": 231,
    "start_time": "2024-11-02T15:10:00.766Z"
   },
   {
    "duration": 216,
    "start_time": "2024-11-02T15:10:00.999Z"
   },
   {
    "duration": 37,
    "start_time": "2024-11-02T15:10:01.217Z"
   },
   {
    "duration": 103,
    "start_time": "2024-11-02T15:10:01.256Z"
   },
   {
    "duration": 170,
    "start_time": "2024-11-02T15:10:01.361Z"
   },
   {
    "duration": 162,
    "start_time": "2024-11-02T15:10:01.533Z"
   },
   {
    "duration": 4,
    "start_time": "2024-11-02T15:10:01.697Z"
   },
   {
    "duration": 0,
    "start_time": "2024-11-02T15:10:01.703Z"
   },
   {
    "duration": 0,
    "start_time": "2024-11-02T15:10:01.704Z"
   },
   {
    "duration": 0,
    "start_time": "2024-11-02T15:10:01.706Z"
   },
   {
    "duration": 804,
    "start_time": "2024-11-02T15:10:21.916Z"
   },
   {
    "duration": 160,
    "start_time": "2024-11-02T15:10:22.722Z"
   },
   {
    "duration": 4,
    "start_time": "2024-11-02T15:10:22.884Z"
   },
   {
    "duration": 13,
    "start_time": "2024-11-02T15:10:22.891Z"
   },
   {
    "duration": 2,
    "start_time": "2024-11-02T15:10:22.906Z"
   },
   {
    "duration": 22,
    "start_time": "2024-11-02T15:10:22.910Z"
   },
   {
    "duration": 12,
    "start_time": "2024-11-02T15:10:22.934Z"
   },
   {
    "duration": 8,
    "start_time": "2024-11-02T15:10:22.948Z"
   },
   {
    "duration": 5,
    "start_time": "2024-11-02T15:10:22.957Z"
   },
   {
    "duration": 11,
    "start_time": "2024-11-02T15:10:22.966Z"
   },
   {
    "duration": 99,
    "start_time": "2024-11-02T15:10:22.979Z"
   },
   {
    "duration": 20,
    "start_time": "2024-11-02T15:10:23.080Z"
   },
   {
    "duration": 39,
    "start_time": "2024-11-02T15:10:23.101Z"
   },
   {
    "duration": 12,
    "start_time": "2024-11-02T15:10:23.142Z"
   },
   {
    "duration": 30,
    "start_time": "2024-11-02T15:10:23.156Z"
   },
   {
    "duration": 4,
    "start_time": "2024-11-02T15:10:23.188Z"
   },
   {
    "duration": 42,
    "start_time": "2024-11-02T15:10:23.194Z"
   },
   {
    "duration": 3,
    "start_time": "2024-11-02T15:10:23.238Z"
   },
   {
    "duration": 58,
    "start_time": "2024-11-02T15:10:23.242Z"
   },
   {
    "duration": 5,
    "start_time": "2024-11-02T15:10:23.302Z"
   },
   {
    "duration": 29,
    "start_time": "2024-11-02T15:10:23.309Z"
   },
   {
    "duration": 20,
    "start_time": "2024-11-02T15:10:23.340Z"
   },
   {
    "duration": 7,
    "start_time": "2024-11-02T15:10:23.362Z"
   },
   {
    "duration": 12,
    "start_time": "2024-11-02T15:10:23.371Z"
   },
   {
    "duration": 75,
    "start_time": "2024-11-02T15:10:23.385Z"
   },
   {
    "duration": 24,
    "start_time": "2024-11-02T15:10:23.462Z"
   },
   {
    "duration": 44,
    "start_time": "2024-11-02T15:10:23.488Z"
   },
   {
    "duration": 17,
    "start_time": "2024-11-02T15:10:23.536Z"
   },
   {
    "duration": 28,
    "start_time": "2024-11-02T15:10:23.555Z"
   },
   {
    "duration": 4,
    "start_time": "2024-11-02T15:10:23.585Z"
   },
   {
    "duration": 105,
    "start_time": "2024-11-02T15:10:23.591Z"
   },
   {
    "duration": 221,
    "start_time": "2024-11-02T15:10:23.698Z"
   },
   {
    "duration": 224,
    "start_time": "2024-11-02T15:10:23.921Z"
   },
   {
    "duration": 32,
    "start_time": "2024-11-02T15:10:24.147Z"
   },
   {
    "duration": 108,
    "start_time": "2024-11-02T15:10:24.181Z"
   },
   {
    "duration": 168,
    "start_time": "2024-11-02T15:10:24.291Z"
   },
   {
    "duration": 170,
    "start_time": "2024-11-02T15:10:24.461Z"
   },
   {
    "duration": 2,
    "start_time": "2024-11-02T15:10:24.633Z"
   },
   {
    "duration": 20,
    "start_time": "2024-11-02T15:10:24.637Z"
   },
   {
    "duration": 2,
    "start_time": "2024-11-02T15:10:24.659Z"
   },
   {
    "duration": 2,
    "start_time": "2024-11-02T15:10:24.664Z"
   },
   {
    "duration": 641,
    "start_time": "2024-11-02T15:11:42.411Z"
   },
   {
    "duration": 142,
    "start_time": "2024-11-02T15:12:07.800Z"
   },
   {
    "duration": 58,
    "start_time": "2024-11-02T15:13:30.139Z"
   },
   {
    "duration": 57,
    "start_time": "2024-11-02T15:16:50.298Z"
   },
   {
    "duration": 127,
    "start_time": "2024-11-02T15:17:02.639Z"
   },
   {
    "duration": 172,
    "start_time": "2024-11-02T18:05:59.959Z"
   },
   {
    "duration": 13,
    "start_time": "2024-11-02T18:06:09.470Z"
   },
   {
    "duration": 2506,
    "start_time": "2024-11-02T18:06:19.191Z"
   },
   {
    "duration": 205,
    "start_time": "2024-11-02T18:06:21.700Z"
   },
   {
    "duration": 3,
    "start_time": "2024-11-02T18:06:21.907Z"
   },
   {
    "duration": 13,
    "start_time": "2024-11-02T18:06:21.912Z"
   },
   {
    "duration": 3,
    "start_time": "2024-11-02T18:06:21.927Z"
   },
   {
    "duration": 10,
    "start_time": "2024-11-02T18:06:21.932Z"
   },
   {
    "duration": 13,
    "start_time": "2024-11-02T18:06:21.944Z"
   },
   {
    "duration": 8,
    "start_time": "2024-11-02T18:06:21.959Z"
   },
   {
    "duration": 5,
    "start_time": "2024-11-02T18:06:21.969Z"
   },
   {
    "duration": 11,
    "start_time": "2024-11-02T18:06:21.977Z"
   },
   {
    "duration": 84,
    "start_time": "2024-11-02T18:06:21.990Z"
   },
   {
    "duration": 19,
    "start_time": "2024-11-02T18:06:22.076Z"
   },
   {
    "duration": 25,
    "start_time": "2024-11-02T18:06:22.097Z"
   },
   {
    "duration": 29,
    "start_time": "2024-11-02T18:06:22.123Z"
   },
   {
    "duration": 29,
    "start_time": "2024-11-02T18:06:22.153Z"
   },
   {
    "duration": 4,
    "start_time": "2024-11-02T18:06:22.184Z"
   },
   {
    "duration": 16,
    "start_time": "2024-11-02T18:06:22.190Z"
   },
   {
    "duration": 2,
    "start_time": "2024-11-02T18:06:22.207Z"
   },
   {
    "duration": 80,
    "start_time": "2024-11-02T18:06:22.211Z"
   },
   {
    "duration": 5,
    "start_time": "2024-11-02T18:06:22.293Z"
   },
   {
    "duration": 11,
    "start_time": "2024-11-02T18:06:22.300Z"
   },
   {
    "duration": 44,
    "start_time": "2024-11-02T18:06:22.313Z"
   },
   {
    "duration": 8,
    "start_time": "2024-11-02T18:06:22.358Z"
   },
   {
    "duration": 11,
    "start_time": "2024-11-02T18:06:22.368Z"
   },
   {
    "duration": 62,
    "start_time": "2024-11-02T18:06:22.381Z"
   },
   {
    "duration": 21,
    "start_time": "2024-11-02T18:06:22.445Z"
   },
   {
    "duration": 25,
    "start_time": "2024-11-02T18:06:22.468Z"
   },
   {
    "duration": 15,
    "start_time": "2024-11-02T18:06:22.497Z"
   },
   {
    "duration": 52,
    "start_time": "2024-11-02T18:06:22.514Z"
   },
   {
    "duration": 4,
    "start_time": "2024-11-02T18:06:22.567Z"
   },
   {
    "duration": 91,
    "start_time": "2024-11-02T18:06:22.574Z"
   },
   {
    "duration": 219,
    "start_time": "2024-11-02T18:06:22.666Z"
   },
   {
    "duration": 166,
    "start_time": "2024-11-02T18:06:22.887Z"
   },
   {
    "duration": 29,
    "start_time": "2024-11-02T18:06:23.055Z"
   },
   {
    "duration": 102,
    "start_time": "2024-11-02T18:06:23.085Z"
   },
   {
    "duration": 157,
    "start_time": "2024-11-02T18:06:23.189Z"
   },
   {
    "duration": 153,
    "start_time": "2024-11-02T18:06:23.348Z"
   },
   {
    "duration": 2,
    "start_time": "2024-11-02T18:06:23.503Z"
   },
   {
    "duration": 118,
    "start_time": "2024-11-02T18:06:23.508Z"
   },
   {
    "duration": 2,
    "start_time": "2024-11-02T18:06:23.627Z"
   },
   {
    "duration": 13,
    "start_time": "2024-11-02T18:06:23.631Z"
   },
   {
    "duration": 78,
    "start_time": "2024-11-02T18:11:24.280Z"
   },
   {
    "duration": 404,
    "start_time": "2024-11-02T18:13:02.844Z"
   },
   {
    "duration": 110,
    "start_time": "2024-11-02T18:13:15.562Z"
   },
   {
    "duration": 108,
    "start_time": "2024-11-02T18:13:31.640Z"
   },
   {
    "duration": 106,
    "start_time": "2024-11-02T18:13:41.440Z"
   },
   {
    "duration": 102,
    "start_time": "2024-11-02T18:14:43.312Z"
   },
   {
    "duration": 113,
    "start_time": "2024-11-02T18:15:20.435Z"
   },
   {
    "duration": 17,
    "start_time": "2024-11-02T18:16:43.129Z"
   },
   {
    "duration": 6,
    "start_time": "2024-11-02T18:16:51.331Z"
   },
   {
    "duration": 12,
    "start_time": "2024-11-02T18:18:22.903Z"
   },
   {
    "duration": 15,
    "start_time": "2024-11-02T18:34:44.817Z"
   },
   {
    "duration": 20,
    "start_time": "2024-11-02T18:34:52.958Z"
   },
   {
    "duration": 17,
    "start_time": "2024-11-02T18:34:57.376Z"
   },
   {
    "duration": 7,
    "start_time": "2024-11-02T18:35:20.723Z"
   },
   {
    "duration": 8,
    "start_time": "2024-11-02T18:36:17.679Z"
   },
   {
    "duration": 81,
    "start_time": "2024-11-02T18:43:36.731Z"
   },
   {
    "duration": 2441,
    "start_time": "2024-11-02T19:25:42.519Z"
   },
   {
    "duration": 207,
    "start_time": "2024-11-02T19:25:47.609Z"
   },
   {
    "duration": 3,
    "start_time": "2024-11-02T19:26:07.780Z"
   },
   {
    "duration": 3,
    "start_time": "2024-11-02T19:26:12.016Z"
   },
   {
    "duration": 17,
    "start_time": "2024-11-02T19:29:08.420Z"
   },
   {
    "duration": 13,
    "start_time": "2024-11-02T19:29:25.239Z"
   },
   {
    "duration": 5,
    "start_time": "2024-11-02T19:31:56.149Z"
   },
   {
    "duration": 10,
    "start_time": "2024-11-02T19:32:21.104Z"
   },
   {
    "duration": 52,
    "start_time": "2024-11-02T19:32:30.276Z"
   },
   {
    "duration": 18,
    "start_time": "2024-11-02T19:32:38.978Z"
   },
   {
    "duration": 26,
    "start_time": "2024-11-02T19:34:26.625Z"
   },
   {
    "duration": 12,
    "start_time": "2024-11-02T19:34:48.179Z"
   },
   {
    "duration": 37,
    "start_time": "2024-11-02T19:35:02.837Z"
   },
   {
    "duration": 50,
    "start_time": "2024-11-02T19:36:38.203Z"
   },
   {
    "duration": 5,
    "start_time": "2024-11-02T19:37:05.852Z"
   },
   {
    "duration": 12,
    "start_time": "2024-11-02T19:42:52.213Z"
   },
   {
    "duration": 41,
    "start_time": "2024-11-02T19:44:54.130Z"
   },
   {
    "duration": 498,
    "start_time": "2024-11-02T19:45:44.816Z"
   },
   {
    "duration": 43,
    "start_time": "2024-11-02T19:45:54.947Z"
   },
   {
    "duration": 28,
    "start_time": "2024-11-02T19:46:00.364Z"
   },
   {
    "duration": 17,
    "start_time": "2024-11-02T19:46:26.663Z"
   },
   {
    "duration": 27,
    "start_time": "2024-11-02T19:46:38.913Z"
   },
   {
    "duration": 26,
    "start_time": "2024-11-02T19:48:13.196Z"
   },
   {
    "duration": 12,
    "start_time": "2024-11-02T19:48:27.911Z"
   },
   {
    "duration": 20,
    "start_time": "2024-11-02T19:48:31.605Z"
   },
   {
    "duration": 9,
    "start_time": "2024-11-02T19:48:35.237Z"
   },
   {
    "duration": 27,
    "start_time": "2024-11-02T19:48:41.429Z"
   },
   {
    "duration": 22,
    "start_time": "2024-11-02T19:49:09.238Z"
   },
   {
    "duration": 17,
    "start_time": "2024-11-02T19:50:20.155Z"
   },
   {
    "duration": 17,
    "start_time": "2024-11-02T19:51:00.810Z"
   },
   {
    "duration": 25,
    "start_time": "2024-11-02T19:51:52.819Z"
   },
   {
    "duration": 21,
    "start_time": "2024-11-02T19:52:54.395Z"
   },
   {
    "duration": 21,
    "start_time": "2024-11-02T19:53:11.334Z"
   },
   {
    "duration": 26,
    "start_time": "2024-11-02T19:53:26.190Z"
   },
   {
    "duration": 4,
    "start_time": "2024-11-02T19:54:32.205Z"
   },
   {
    "duration": 80,
    "start_time": "2024-11-02T19:55:08.339Z"
   },
   {
    "duration": 133,
    "start_time": "2024-11-02T19:56:33.504Z"
   },
   {
    "duration": 168,
    "start_time": "2024-11-02T19:56:53.515Z"
   },
   {
    "duration": 29,
    "start_time": "2024-11-02T19:57:02.850Z"
   },
   {
    "duration": 88,
    "start_time": "2024-11-02T19:59:11.296Z"
   },
   {
    "duration": 94,
    "start_time": "2024-11-02T20:00:44.572Z"
   },
   {
    "duration": 147,
    "start_time": "2024-11-02T20:01:06.775Z"
   },
   {
    "duration": 201,
    "start_time": "2024-11-02T20:02:36.336Z"
   },
   {
    "duration": 24,
    "start_time": "2024-11-02T20:03:44.590Z"
   },
   {
    "duration": 383,
    "start_time": "2024-11-02T20:04:18.682Z"
   },
   {
    "duration": 168,
    "start_time": "2024-11-02T20:04:31.451Z"
   },
   {
    "duration": 119,
    "start_time": "2024-11-02T20:06:13.863Z"
   },
   {
    "duration": 21,
    "start_time": "2024-11-02T20:09:13.377Z"
   },
   {
    "duration": 329,
    "start_time": "2024-11-02T20:09:43.928Z"
   },
   {
    "duration": 124,
    "start_time": "2024-11-02T20:10:08.835Z"
   },
   {
    "duration": 7,
    "start_time": "2024-11-02T20:10:53.350Z"
   },
   {
    "duration": 7,
    "start_time": "2024-11-02T20:11:22.902Z"
   },
   {
    "duration": 9,
    "start_time": "2024-11-02T20:11:39.831Z"
   },
   {
    "duration": 8,
    "start_time": "2024-11-02T20:12:30.414Z"
   },
   {
    "duration": 7,
    "start_time": "2024-11-02T20:13:04.098Z"
   },
   {
    "duration": 29,
    "start_time": "2024-11-02T20:13:17.537Z"
   },
   {
    "duration": 203,
    "start_time": "2024-11-04T20:58:35.324Z"
   },
   {
    "duration": 2795,
    "start_time": "2024-11-04T20:58:44.051Z"
   },
   {
    "duration": 238,
    "start_time": "2024-11-04T20:58:46.848Z"
   },
   {
    "duration": 4,
    "start_time": "2024-11-04T20:58:47.090Z"
   },
   {
    "duration": 16,
    "start_time": "2024-11-04T20:58:47.098Z"
   },
   {
    "duration": 4,
    "start_time": "2024-11-04T20:58:47.117Z"
   },
   {
    "duration": 11,
    "start_time": "2024-11-04T20:58:47.125Z"
   },
   {
    "duration": 13,
    "start_time": "2024-11-04T20:58:47.139Z"
   },
   {
    "duration": 9,
    "start_time": "2024-11-04T20:58:47.154Z"
   },
   {
    "duration": 8,
    "start_time": "2024-11-04T20:58:47.165Z"
   },
   {
    "duration": 12,
    "start_time": "2024-11-04T20:58:47.176Z"
   },
   {
    "duration": 88,
    "start_time": "2024-11-04T20:58:47.190Z"
   },
   {
    "duration": 23,
    "start_time": "2024-11-04T20:58:47.280Z"
   },
   {
    "duration": 41,
    "start_time": "2024-11-04T20:58:47.305Z"
   },
   {
    "duration": 12,
    "start_time": "2024-11-04T20:58:47.348Z"
   },
   {
    "duration": 47,
    "start_time": "2024-11-04T20:58:47.362Z"
   },
   {
    "duration": 4,
    "start_time": "2024-11-04T20:58:47.411Z"
   },
   {
    "duration": 49,
    "start_time": "2024-11-04T20:58:47.417Z"
   },
   {
    "duration": 3,
    "start_time": "2024-11-04T20:58:47.469Z"
   },
   {
    "duration": 75,
    "start_time": "2024-11-04T20:58:47.474Z"
   },
   {
    "duration": 6,
    "start_time": "2024-11-04T20:58:47.550Z"
   },
   {
    "duration": 12,
    "start_time": "2024-11-04T20:58:47.558Z"
   },
   {
    "duration": 22,
    "start_time": "2024-11-04T20:58:47.571Z"
   },
   {
    "duration": 8,
    "start_time": "2024-11-04T20:58:47.594Z"
   },
   {
    "duration": 40,
    "start_time": "2024-11-04T20:58:47.604Z"
   },
   {
    "duration": 45,
    "start_time": "2024-11-04T20:58:47.646Z"
   },
   {
    "duration": 24,
    "start_time": "2024-11-04T20:58:47.694Z"
   },
   {
    "duration": 48,
    "start_time": "2024-11-04T20:58:47.720Z"
   },
   {
    "duration": 19,
    "start_time": "2024-11-04T20:58:47.772Z"
   },
   {
    "duration": 50,
    "start_time": "2024-11-04T20:58:47.794Z"
   },
   {
    "duration": 4,
    "start_time": "2024-11-04T20:58:47.846Z"
   },
   {
    "duration": 97,
    "start_time": "2024-11-04T20:58:47.854Z"
   },
   {
    "duration": 309,
    "start_time": "2024-11-04T20:58:47.953Z"
   },
   {
    "duration": 212,
    "start_time": "2024-11-04T20:58:48.265Z"
   },
   {
    "duration": 39,
    "start_time": "2024-11-04T20:58:48.479Z"
   },
   {
    "duration": 109,
    "start_time": "2024-11-04T20:58:48.521Z"
   },
   {
    "duration": 263,
    "start_time": "2024-11-04T20:58:48.632Z"
   },
   {
    "duration": 172,
    "start_time": "2024-11-04T20:58:48.897Z"
   },
   {
    "duration": 2,
    "start_time": "2024-11-04T20:58:49.071Z"
   },
   {
    "duration": 139,
    "start_time": "2024-11-04T20:58:49.075Z"
   },
   {
    "duration": 3,
    "start_time": "2024-11-04T20:58:49.218Z"
   },
   {
    "duration": 24,
    "start_time": "2024-11-04T20:58:49.223Z"
   },
   {
    "duration": 12,
    "start_time": "2024-11-04T20:58:49.249Z"
   },
   {
    "duration": 262,
    "start_time": "2024-11-04T20:59:32.948Z"
   },
   {
    "duration": 9,
    "start_time": "2024-11-04T21:00:14.278Z"
   },
   {
    "duration": 6,
    "start_time": "2024-11-04T21:04:08.122Z"
   },
   {
    "duration": 13,
    "start_time": "2024-11-04T21:04:22.628Z"
   },
   {
    "duration": 22,
    "start_time": "2024-11-04T21:04:39.423Z"
   },
   {
    "duration": 13,
    "start_time": "2024-11-04T21:04:47.684Z"
   },
   {
    "duration": 9,
    "start_time": "2024-11-04T21:06:32.443Z"
   }
  ],
  "colab": {
   "provenance": []
  },
  "kernelspec": {
   "display_name": "Python 3 (ipykernel)",
   "language": "python",
   "name": "python3"
  },
  "language_info": {
   "codemirror_mode": {
    "name": "ipython",
    "version": 3
   },
   "file_extension": ".py",
   "mimetype": "text/x-python",
   "name": "python",
   "nbconvert_exporter": "python",
   "pygments_lexer": "ipython3",
   "version": "3.9.19"
  },
  "toc": {
   "base_numbering": 1,
   "nav_menu": {},
   "number_sections": true,
   "sideBar": true,
   "skip_h1_title": false,
   "title_cell": "Table of Contents",
   "title_sidebar": "Contents",
   "toc_cell": false,
   "toc_position": {},
   "toc_section_display": true,
   "toc_window_display": true
  }
 },
 "nbformat": 4,
 "nbformat_minor": 1
}
