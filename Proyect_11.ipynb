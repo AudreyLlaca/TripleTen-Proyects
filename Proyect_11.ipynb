{
 "cells": [
  {
   "cell_type": "markdown",
   "metadata": {},
   "source": [
    "Hola **Audrey**!\n",
    "\n",
    "Soy **Patricio Requena** 👋. Es un placer ser el revisor de tu proyecto el día de hoy!\n",
    "\n",
    "Revisaré tu proyecto detenidamente con el objetivo de ayudarte a mejorar y perfeccionar tus habilidades. Durante mi revisión, identificaré áreas donde puedas hacer mejoras en tu código, señalando específicamente qué y cómo podrías ajustar para optimizar el rendimiento y la claridad de tu proyecto. Además, es importante para mí destacar los aspectos que has manejado excepcionalmente bien. Reconocer tus fortalezas te ayudará a entender qué técnicas y métodos están funcionando a tu favor y cómo puedes aplicarlos en futuras tareas. \n",
    "\n",
    "_**Recuerda que al final de este notebook encontrarás un comentario general de mi parte**_, empecemos!\n",
    "\n",
    "Encontrarás mis comentarios dentro de cajas verdes, amarillas o rojas, ⚠️ **por favor, no muevas, modifiques o borres mis comentarios** ⚠️:\n",
    "\n",
    "\n",
    "<div class=\"alert alert-block alert-success\">\n",
    "<b>Comentario del revisor</b> <a class=“tocSkip”></a>\n",
    "Si todo está perfecto.\n",
    "</div>\n",
    "\n",
    "<div class=\"alert alert-block alert-warning\">\n",
    "<b>Comentario del revisor</b> <a class=“tocSkip”></a>\n",
    "Si tu código está bien pero se puede mejorar o hay algún detalle que le hace falta.\n",
    "</div>\n",
    "\n",
    "<div class=\"alert alert-block alert-danger\">\n",
    "<b>Comentario del revisor</b> <a class=“tocSkip”></a>\n",
    "Si de pronto hace falta algo o existe algún problema con tu código o conclusiones.\n",
    "</div>\n",
    "\n",
    "Puedes responderme de esta forma:\n",
    "<div class=\"alert alert-block alert-info\">\n",
    "<b>Respuesta del estudiante</b> <a class=“tocSkip”></a>\n",
    "Muchas gracias por la revsion! ya puse los cambios \n",
    "</div>"
   ]
  },
  {
   "cell_type": "markdown",
   "metadata": {},
   "source": [
    "Descripción del proyecto\n",
    "\n",
    "Contexto\n",
    "Eres analista en una gran tienda online. Junto con el departamento de marketing has recopilado una lista de hipótesis que pueden ayudar a aumentar los ingresos.\n",
    "\n",
    "Tienes que priorizar estas hipótesis, lanzar un test A/B y analizar los resultados."
   ]
  },
  {
   "cell_type": "markdown",
   "metadata": {},
   "source": [
    "# Parte 1\n",
    "\n",
    "El archivo hypotheses_us.csv contiene nueve hipótesis sobre cómo aumentar los ingresos de una tienda online con: \n",
    "\n",
    "*Reach\n",
    "*Impact\n",
    "*Confidence\n",
    "*Effort \n",
    "\n",
    "especificados para cada una."
   ]
  },
  {
   "cell_type": "code",
   "execution_count": 1,
   "metadata": {},
   "outputs": [
    {
     "data": {
      "text/html": [
       "<div>\n",
       "<style scoped>\n",
       "    .dataframe tbody tr th:only-of-type {\n",
       "        vertical-align: middle;\n",
       "    }\n",
       "\n",
       "    .dataframe tbody tr th {\n",
       "        vertical-align: top;\n",
       "    }\n",
       "\n",
       "    .dataframe thead th {\n",
       "        text-align: right;\n",
       "    }\n",
       "</style>\n",
       "<table border=\"1\" class=\"dataframe\">\n",
       "  <thead>\n",
       "    <tr style=\"text-align: right;\">\n",
       "      <th></th>\n",
       "      <th>Hypothesis</th>\n",
       "      <th>Reach</th>\n",
       "      <th>Impact</th>\n",
       "      <th>Confidence</th>\n",
       "      <th>Effort</th>\n",
       "    </tr>\n",
       "  </thead>\n",
       "  <tbody>\n",
       "    <tr>\n",
       "      <th>0</th>\n",
       "      <td>Add two new channels for attracting traffic. T...</td>\n",
       "      <td>3</td>\n",
       "      <td>10</td>\n",
       "      <td>8</td>\n",
       "      <td>6</td>\n",
       "    </tr>\n",
       "    <tr>\n",
       "      <th>1</th>\n",
       "      <td>Launch your own delivery service. This will sh...</td>\n",
       "      <td>2</td>\n",
       "      <td>5</td>\n",
       "      <td>4</td>\n",
       "      <td>10</td>\n",
       "    </tr>\n",
       "    <tr>\n",
       "      <th>2</th>\n",
       "      <td>Add product recommendation blocks to the store...</td>\n",
       "      <td>8</td>\n",
       "      <td>3</td>\n",
       "      <td>7</td>\n",
       "      <td>3</td>\n",
       "    </tr>\n",
       "    <tr>\n",
       "      <th>3</th>\n",
       "      <td>Change the category structure. This will incre...</td>\n",
       "      <td>8</td>\n",
       "      <td>3</td>\n",
       "      <td>3</td>\n",
       "      <td>8</td>\n",
       "    </tr>\n",
       "    <tr>\n",
       "      <th>4</th>\n",
       "      <td>Change the background color on the main page. ...</td>\n",
       "      <td>3</td>\n",
       "      <td>1</td>\n",
       "      <td>1</td>\n",
       "      <td>1</td>\n",
       "    </tr>\n",
       "  </tbody>\n",
       "</table>\n",
       "</div>"
      ],
      "text/plain": [
       "                                          Hypothesis  Reach  Impact  \\\n",
       "0  Add two new channels for attracting traffic. T...      3      10   \n",
       "1  Launch your own delivery service. This will sh...      2       5   \n",
       "2  Add product recommendation blocks to the store...      8       3   \n",
       "3  Change the category structure. This will incre...      8       3   \n",
       "4  Change the background color on the main page. ...      3       1   \n",
       "\n",
       "   Confidence  Effort  \n",
       "0           8       6  \n",
       "1           4      10  \n",
       "2           7       3  \n",
       "3           3       8  \n",
       "4           1       1  "
      ]
     },
     "metadata": {},
     "output_type": "display_data"
    },
    {
     "name": "stdout",
     "output_type": "stream",
     "text": [
      "\n",
      "\n"
     ]
    },
    {
     "data": {
      "text/html": [
       "<div>\n",
       "<style scoped>\n",
       "    .dataframe tbody tr th:only-of-type {\n",
       "        vertical-align: middle;\n",
       "    }\n",
       "\n",
       "    .dataframe tbody tr th {\n",
       "        vertical-align: top;\n",
       "    }\n",
       "\n",
       "    .dataframe thead th {\n",
       "        text-align: right;\n",
       "    }\n",
       "</style>\n",
       "<table border=\"1\" class=\"dataframe\">\n",
       "  <thead>\n",
       "    <tr style=\"text-align: right;\">\n",
       "      <th></th>\n",
       "      <th>Reach</th>\n",
       "      <th>Impact</th>\n",
       "      <th>Confidence</th>\n",
       "      <th>Effort</th>\n",
       "    </tr>\n",
       "  </thead>\n",
       "  <tbody>\n",
       "    <tr>\n",
       "      <th>count</th>\n",
       "      <td>9.000000</td>\n",
       "      <td>9.000000</td>\n",
       "      <td>9.000000</td>\n",
       "      <td>9.000000</td>\n",
       "    </tr>\n",
       "    <tr>\n",
       "      <th>mean</th>\n",
       "      <td>4.777778</td>\n",
       "      <td>4.777778</td>\n",
       "      <td>5.555556</td>\n",
       "      <td>4.888889</td>\n",
       "    </tr>\n",
       "    <tr>\n",
       "      <th>std</th>\n",
       "      <td>3.153481</td>\n",
       "      <td>3.192874</td>\n",
       "      <td>3.045944</td>\n",
       "      <td>2.803767</td>\n",
       "    </tr>\n",
       "    <tr>\n",
       "      <th>min</th>\n",
       "      <td>1.000000</td>\n",
       "      <td>1.000000</td>\n",
       "      <td>1.000000</td>\n",
       "      <td>1.000000</td>\n",
       "    </tr>\n",
       "    <tr>\n",
       "      <th>25%</th>\n",
       "      <td>3.000000</td>\n",
       "      <td>3.000000</td>\n",
       "      <td>3.000000</td>\n",
       "      <td>3.000000</td>\n",
       "    </tr>\n",
       "    <tr>\n",
       "      <th>50%</th>\n",
       "      <td>3.000000</td>\n",
       "      <td>3.000000</td>\n",
       "      <td>7.000000</td>\n",
       "      <td>5.000000</td>\n",
       "    </tr>\n",
       "    <tr>\n",
       "      <th>75%</th>\n",
       "      <td>8.000000</td>\n",
       "      <td>7.000000</td>\n",
       "      <td>8.000000</td>\n",
       "      <td>6.000000</td>\n",
       "    </tr>\n",
       "    <tr>\n",
       "      <th>max</th>\n",
       "      <td>10.000000</td>\n",
       "      <td>10.000000</td>\n",
       "      <td>9.000000</td>\n",
       "      <td>10.000000</td>\n",
       "    </tr>\n",
       "  </tbody>\n",
       "</table>\n",
       "</div>"
      ],
      "text/plain": [
       "           Reach     Impact  Confidence     Effort\n",
       "count   9.000000   9.000000    9.000000   9.000000\n",
       "mean    4.777778   4.777778    5.555556   4.888889\n",
       "std     3.153481   3.192874    3.045944   2.803767\n",
       "min     1.000000   1.000000    1.000000   1.000000\n",
       "25%     3.000000   3.000000    3.000000   3.000000\n",
       "50%     3.000000   3.000000    7.000000   5.000000\n",
       "75%     8.000000   7.000000    8.000000   6.000000\n",
       "max    10.000000  10.000000    9.000000  10.000000"
      ]
     },
     "metadata": {},
     "output_type": "display_data"
    },
    {
     "name": "stdout",
     "output_type": "stream",
     "text": [
      "\n",
      "\n",
      "<class 'pandas.core.frame.DataFrame'>\n",
      "RangeIndex: 9 entries, 0 to 8\n",
      "Data columns (total 5 columns):\n",
      " #   Column      Non-Null Count  Dtype \n",
      "---  ------      --------------  ----- \n",
      " 0   Hypothesis  9 non-null      object\n",
      " 1   Reach       9 non-null      int64 \n",
      " 2   Impact      9 non-null      int64 \n",
      " 3   Confidence  9 non-null      int64 \n",
      " 4   Effort      9 non-null      int64 \n",
      "dtypes: int64(4), object(1)\n",
      "memory usage: 488.0+ bytes\n"
     ]
    },
    {
     "data": {
      "text/plain": [
       "None"
      ]
     },
     "metadata": {},
     "output_type": "display_data"
    },
    {
     "name": "stdout",
     "output_type": "stream",
     "text": [
      "\n",
      "\n",
      "Number of duplicates:\n"
     ]
    },
    {
     "data": {
      "text/plain": [
       "0"
      ]
     },
     "metadata": {},
     "output_type": "display_data"
    },
    {
     "name": "stdout",
     "output_type": "stream",
     "text": [
      "\n",
      "\n",
      "Number of N/A\n",
      "Hypothesis    0\n",
      "Reach         0\n",
      "Impact        0\n",
      "Confidence    0\n",
      "Effort        0\n",
      "dtype: int64\n"
     ]
    }
   ],
   "source": [
    "# Comenzamos importando nuestras librerias\n",
    "\n",
    "import pandas as pd\n",
    "import numpy as np\n",
    "import seaborn as sns\n",
    "import datetime as dt\n",
    "import scipy.stats as stats\n",
    "from matplotlib import pyplot as plt\n",
    "\n",
    "# Aplicamos la funcion de antes para lectura exploratoria de datos\n",
    "\n",
    "def EDA (data):\n",
    "    display(data.head())\n",
    "    print()\n",
    "    print()\n",
    "    display(data.describe())\n",
    "    print()\n",
    "    print()\n",
    "    display(data.info())\n",
    "    print()\n",
    "    print()\n",
    "    print('Number of duplicates:')\n",
    "    display(data.duplicated().sum())\n",
    "    print()\n",
    "    print()\n",
    "    print('Number of N/A')\n",
    "    print(data.isna().sum())\n",
    "\n",
    "\n",
    "hypotheses_us = pd.read_csv('/datasets/hypotheses_us.csv',sep=(';'))\n",
    "EDA(hypotheses_us)"
   ]
  },
  {
   "cell_type": "code",
   "execution_count": 2,
   "metadata": {},
   "outputs": [
    {
     "name": "stdout",
     "output_type": "stream",
     "text": [
      "Resume of Orders:\n"
     ]
    },
    {
     "data": {
      "text/html": [
       "<div>\n",
       "<style scoped>\n",
       "    .dataframe tbody tr th:only-of-type {\n",
       "        vertical-align: middle;\n",
       "    }\n",
       "\n",
       "    .dataframe tbody tr th {\n",
       "        vertical-align: top;\n",
       "    }\n",
       "\n",
       "    .dataframe thead th {\n",
       "        text-align: right;\n",
       "    }\n",
       "</style>\n",
       "<table border=\"1\" class=\"dataframe\">\n",
       "  <thead>\n",
       "    <tr style=\"text-align: right;\">\n",
       "      <th></th>\n",
       "      <th>transactionId</th>\n",
       "      <th>visitorId</th>\n",
       "      <th>date</th>\n",
       "      <th>revenue</th>\n",
       "      <th>group</th>\n",
       "    </tr>\n",
       "  </thead>\n",
       "  <tbody>\n",
       "    <tr>\n",
       "      <th>0</th>\n",
       "      <td>3667963787</td>\n",
       "      <td>3312258926</td>\n",
       "      <td>2019-08-15</td>\n",
       "      <td>30.4</td>\n",
       "      <td>B</td>\n",
       "    </tr>\n",
       "    <tr>\n",
       "      <th>1</th>\n",
       "      <td>2804400009</td>\n",
       "      <td>3642806036</td>\n",
       "      <td>2019-08-15</td>\n",
       "      <td>15.2</td>\n",
       "      <td>B</td>\n",
       "    </tr>\n",
       "    <tr>\n",
       "      <th>2</th>\n",
       "      <td>2961555356</td>\n",
       "      <td>4069496402</td>\n",
       "      <td>2019-08-15</td>\n",
       "      <td>10.2</td>\n",
       "      <td>A</td>\n",
       "    </tr>\n",
       "    <tr>\n",
       "      <th>3</th>\n",
       "      <td>3797467345</td>\n",
       "      <td>1196621759</td>\n",
       "      <td>2019-08-15</td>\n",
       "      <td>155.1</td>\n",
       "      <td>B</td>\n",
       "    </tr>\n",
       "    <tr>\n",
       "      <th>4</th>\n",
       "      <td>2282983706</td>\n",
       "      <td>2322279887</td>\n",
       "      <td>2019-08-15</td>\n",
       "      <td>40.5</td>\n",
       "      <td>B</td>\n",
       "    </tr>\n",
       "  </tbody>\n",
       "</table>\n",
       "</div>"
      ],
      "text/plain": [
       "   transactionId   visitorId       date  revenue group\n",
       "0     3667963787  3312258926 2019-08-15     30.4     B\n",
       "1     2804400009  3642806036 2019-08-15     15.2     B\n",
       "2     2961555356  4069496402 2019-08-15     10.2     A\n",
       "3     3797467345  1196621759 2019-08-15    155.1     B\n",
       "4     2282983706  2322279887 2019-08-15     40.5     B"
      ]
     },
     "metadata": {},
     "output_type": "display_data"
    },
    {
     "name": "stdout",
     "output_type": "stream",
     "text": [
      "\n",
      "\n"
     ]
    },
    {
     "data": {
      "text/html": [
       "<div>\n",
       "<style scoped>\n",
       "    .dataframe tbody tr th:only-of-type {\n",
       "        vertical-align: middle;\n",
       "    }\n",
       "\n",
       "    .dataframe tbody tr th {\n",
       "        vertical-align: top;\n",
       "    }\n",
       "\n",
       "    .dataframe thead th {\n",
       "        text-align: right;\n",
       "    }\n",
       "</style>\n",
       "<table border=\"1\" class=\"dataframe\">\n",
       "  <thead>\n",
       "    <tr style=\"text-align: right;\">\n",
       "      <th></th>\n",
       "      <th>transactionId</th>\n",
       "      <th>visitorId</th>\n",
       "      <th>revenue</th>\n",
       "    </tr>\n",
       "  </thead>\n",
       "  <tbody>\n",
       "    <tr>\n",
       "      <th>count</th>\n",
       "      <td>1.197000e+03</td>\n",
       "      <td>1.197000e+03</td>\n",
       "      <td>1197.000000</td>\n",
       "    </tr>\n",
       "    <tr>\n",
       "      <th>mean</th>\n",
       "      <td>2.155621e+09</td>\n",
       "      <td>2.165960e+09</td>\n",
       "      <td>131.491646</td>\n",
       "    </tr>\n",
       "    <tr>\n",
       "      <th>std</th>\n",
       "      <td>1.229085e+09</td>\n",
       "      <td>1.236014e+09</td>\n",
       "      <td>603.004729</td>\n",
       "    </tr>\n",
       "    <tr>\n",
       "      <th>min</th>\n",
       "      <td>1.062393e+06</td>\n",
       "      <td>5.114589e+06</td>\n",
       "      <td>5.000000</td>\n",
       "    </tr>\n",
       "    <tr>\n",
       "      <th>25%</th>\n",
       "      <td>1.166776e+09</td>\n",
       "      <td>1.111826e+09</td>\n",
       "      <td>20.800000</td>\n",
       "    </tr>\n",
       "    <tr>\n",
       "      <th>50%</th>\n",
       "      <td>2.145194e+09</td>\n",
       "      <td>2.217985e+09</td>\n",
       "      <td>50.200000</td>\n",
       "    </tr>\n",
       "    <tr>\n",
       "      <th>75%</th>\n",
       "      <td>3.237740e+09</td>\n",
       "      <td>3.177606e+09</td>\n",
       "      <td>130.400000</td>\n",
       "    </tr>\n",
       "    <tr>\n",
       "      <th>max</th>\n",
       "      <td>4.293856e+09</td>\n",
       "      <td>4.283872e+09</td>\n",
       "      <td>19920.400000</td>\n",
       "    </tr>\n",
       "  </tbody>\n",
       "</table>\n",
       "</div>"
      ],
      "text/plain": [
       "       transactionId     visitorId       revenue\n",
       "count   1.197000e+03  1.197000e+03   1197.000000\n",
       "mean    2.155621e+09  2.165960e+09    131.491646\n",
       "std     1.229085e+09  1.236014e+09    603.004729\n",
       "min     1.062393e+06  5.114589e+06      5.000000\n",
       "25%     1.166776e+09  1.111826e+09     20.800000\n",
       "50%     2.145194e+09  2.217985e+09     50.200000\n",
       "75%     3.237740e+09  3.177606e+09    130.400000\n",
       "max     4.293856e+09  4.283872e+09  19920.400000"
      ]
     },
     "metadata": {},
     "output_type": "display_data"
    },
    {
     "name": "stdout",
     "output_type": "stream",
     "text": [
      "\n",
      "\n",
      "<class 'pandas.core.frame.DataFrame'>\n",
      "RangeIndex: 1197 entries, 0 to 1196\n",
      "Data columns (total 5 columns):\n",
      " #   Column         Non-Null Count  Dtype         \n",
      "---  ------         --------------  -----         \n",
      " 0   transactionId  1197 non-null   int64         \n",
      " 1   visitorId      1197 non-null   int64         \n",
      " 2   date           1197 non-null   datetime64[ns]\n",
      " 3   revenue        1197 non-null   float64       \n",
      " 4   group          1197 non-null   object        \n",
      "dtypes: datetime64[ns](1), float64(1), int64(2), object(1)\n",
      "memory usage: 46.9+ KB\n"
     ]
    },
    {
     "data": {
      "text/plain": [
       "None"
      ]
     },
     "metadata": {},
     "output_type": "display_data"
    },
    {
     "name": "stdout",
     "output_type": "stream",
     "text": [
      "\n",
      "\n",
      "Number of duplicates:\n"
     ]
    },
    {
     "data": {
      "text/plain": [
       "0"
      ]
     },
     "metadata": {},
     "output_type": "display_data"
    },
    {
     "name": "stdout",
     "output_type": "stream",
     "text": [
      "\n",
      "\n",
      "Number of N/A\n",
      "transactionId    0\n",
      "visitorId        0\n",
      "date             0\n",
      "revenue          0\n",
      "group            0\n",
      "dtype: int64\n",
      "\n",
      "Resume of Visits:\n"
     ]
    },
    {
     "data": {
      "text/html": [
       "<div>\n",
       "<style scoped>\n",
       "    .dataframe tbody tr th:only-of-type {\n",
       "        vertical-align: middle;\n",
       "    }\n",
       "\n",
       "    .dataframe tbody tr th {\n",
       "        vertical-align: top;\n",
       "    }\n",
       "\n",
       "    .dataframe thead th {\n",
       "        text-align: right;\n",
       "    }\n",
       "</style>\n",
       "<table border=\"1\" class=\"dataframe\">\n",
       "  <thead>\n",
       "    <tr style=\"text-align: right;\">\n",
       "      <th></th>\n",
       "      <th>date</th>\n",
       "      <th>group</th>\n",
       "      <th>visits</th>\n",
       "    </tr>\n",
       "  </thead>\n",
       "  <tbody>\n",
       "    <tr>\n",
       "      <th>0</th>\n",
       "      <td>2019-08-01</td>\n",
       "      <td>A</td>\n",
       "      <td>719</td>\n",
       "    </tr>\n",
       "    <tr>\n",
       "      <th>1</th>\n",
       "      <td>2019-08-02</td>\n",
       "      <td>A</td>\n",
       "      <td>619</td>\n",
       "    </tr>\n",
       "    <tr>\n",
       "      <th>2</th>\n",
       "      <td>2019-08-03</td>\n",
       "      <td>A</td>\n",
       "      <td>507</td>\n",
       "    </tr>\n",
       "    <tr>\n",
       "      <th>3</th>\n",
       "      <td>2019-08-04</td>\n",
       "      <td>A</td>\n",
       "      <td>717</td>\n",
       "    </tr>\n",
       "    <tr>\n",
       "      <th>4</th>\n",
       "      <td>2019-08-05</td>\n",
       "      <td>A</td>\n",
       "      <td>756</td>\n",
       "    </tr>\n",
       "  </tbody>\n",
       "</table>\n",
       "</div>"
      ],
      "text/plain": [
       "        date group  visits\n",
       "0 2019-08-01     A     719\n",
       "1 2019-08-02     A     619\n",
       "2 2019-08-03     A     507\n",
       "3 2019-08-04     A     717\n",
       "4 2019-08-05     A     756"
      ]
     },
     "metadata": {},
     "output_type": "display_data"
    },
    {
     "name": "stdout",
     "output_type": "stream",
     "text": [
      "\n",
      "\n"
     ]
    },
    {
     "data": {
      "text/html": [
       "<div>\n",
       "<style scoped>\n",
       "    .dataframe tbody tr th:only-of-type {\n",
       "        vertical-align: middle;\n",
       "    }\n",
       "\n",
       "    .dataframe tbody tr th {\n",
       "        vertical-align: top;\n",
       "    }\n",
       "\n",
       "    .dataframe thead th {\n",
       "        text-align: right;\n",
       "    }\n",
       "</style>\n",
       "<table border=\"1\" class=\"dataframe\">\n",
       "  <thead>\n",
       "    <tr style=\"text-align: right;\">\n",
       "      <th></th>\n",
       "      <th>visits</th>\n",
       "    </tr>\n",
       "  </thead>\n",
       "  <tbody>\n",
       "    <tr>\n",
       "      <th>count</th>\n",
       "      <td>62.000000</td>\n",
       "    </tr>\n",
       "    <tr>\n",
       "      <th>mean</th>\n",
       "      <td>607.290323</td>\n",
       "    </tr>\n",
       "    <tr>\n",
       "      <th>std</th>\n",
       "      <td>114.400560</td>\n",
       "    </tr>\n",
       "    <tr>\n",
       "      <th>min</th>\n",
       "      <td>361.000000</td>\n",
       "    </tr>\n",
       "    <tr>\n",
       "      <th>25%</th>\n",
       "      <td>534.000000</td>\n",
       "    </tr>\n",
       "    <tr>\n",
       "      <th>50%</th>\n",
       "      <td>624.500000</td>\n",
       "    </tr>\n",
       "    <tr>\n",
       "      <th>75%</th>\n",
       "      <td>710.500000</td>\n",
       "    </tr>\n",
       "    <tr>\n",
       "      <th>max</th>\n",
       "      <td>770.000000</td>\n",
       "    </tr>\n",
       "  </tbody>\n",
       "</table>\n",
       "</div>"
      ],
      "text/plain": [
       "           visits\n",
       "count   62.000000\n",
       "mean   607.290323\n",
       "std    114.400560\n",
       "min    361.000000\n",
       "25%    534.000000\n",
       "50%    624.500000\n",
       "75%    710.500000\n",
       "max    770.000000"
      ]
     },
     "metadata": {},
     "output_type": "display_data"
    },
    {
     "name": "stdout",
     "output_type": "stream",
     "text": [
      "\n",
      "\n",
      "<class 'pandas.core.frame.DataFrame'>\n",
      "RangeIndex: 62 entries, 0 to 61\n",
      "Data columns (total 3 columns):\n",
      " #   Column  Non-Null Count  Dtype         \n",
      "---  ------  --------------  -----         \n",
      " 0   date    62 non-null     datetime64[ns]\n",
      " 1   group   62 non-null     object        \n",
      " 2   visits  62 non-null     int64         \n",
      "dtypes: datetime64[ns](1), int64(1), object(1)\n",
      "memory usage: 1.6+ KB\n"
     ]
    },
    {
     "data": {
      "text/plain": [
       "None"
      ]
     },
     "metadata": {},
     "output_type": "display_data"
    },
    {
     "name": "stdout",
     "output_type": "stream",
     "text": [
      "\n",
      "\n",
      "Number of duplicates:\n"
     ]
    },
    {
     "data": {
      "text/plain": [
       "0"
      ]
     },
     "metadata": {},
     "output_type": "display_data"
    },
    {
     "name": "stdout",
     "output_type": "stream",
     "text": [
      "\n",
      "\n",
      "Number of N/A\n",
      "date      0\n",
      "group     0\n",
      "visits    0\n",
      "dtype: int64\n"
     ]
    }
   ],
   "source": [
    "# Movemos esta seccion acorde a los comentarios de revisor\n",
    "\n",
    "# Carga y analisis nuestros datasets\n",
    "\n",
    "orders= pd.read_csv('/datasets/orders_us.csv')\n",
    "orders['date'] = pd.to_datetime(orders['date'], format='%Y-%m-%d')\n",
    "\n",
    "visits= pd.read_csv('/datasets/visits_us.csv')\n",
    "visits['date'] = pd.to_datetime(visits['date'],format='%Y-%m-%d')\n",
    "\n",
    "print('Resume of Orders:')\n",
    "EDA(orders)\n",
    "print()\n",
    "print('Resume of Visits:')\n",
    "EDA(visits)"
   ]
  },
  {
   "cell_type": "markdown",
   "metadata": {},
   "source": [
    "Recuerda que el índice ICE se calcula para cada hipótesis para ayudarlas a clasificar y decidir cuál tiene más prioridad en función de su impacto, confianza y esfuerzo, la formula es ice= impact * confidence / effort\n",
    "\n",
    "Y RICE se utiliza para priorizar hipótesis, proyectos o tareas de manera similar al índice ICE, pero con una diferencia clave: incorpora una métrica adicional llamada Reach (alcance), la  formula es RICE = Reach * Impact * Confience / Effort\n",
    "\n",
    "Aplicar el framework ICE para priorizar hipótesis. Ordenarlas en orden descendente de prioridad.\n",
    "Aplicar el framework RICE para priorizar hipótesis. Ordenarlas en orden descendente de prioridad.\n",
    "Mostrar cómo cambia la priorización de hipótesis cuando utilizas RICE en lugar de ICE. Proporcionar una explicación de los cambios."
   ]
  },
  {
   "cell_type": "code",
   "execution_count": 3,
   "metadata": {},
   "outputs": [
    {
     "data": {
      "text/html": [
       "<div>\n",
       "<style scoped>\n",
       "    .dataframe tbody tr th:only-of-type {\n",
       "        vertical-align: middle;\n",
       "    }\n",
       "\n",
       "    .dataframe tbody tr th {\n",
       "        vertical-align: top;\n",
       "    }\n",
       "\n",
       "    .dataframe thead th {\n",
       "        text-align: right;\n",
       "    }\n",
       "</style>\n",
       "<table border=\"1\" class=\"dataframe\">\n",
       "  <thead>\n",
       "    <tr style=\"text-align: right;\">\n",
       "      <th></th>\n",
       "      <th>Hypothesis</th>\n",
       "      <th>Reach</th>\n",
       "      <th>Impact</th>\n",
       "      <th>Confidence</th>\n",
       "      <th>Effort</th>\n",
       "      <th>ICE</th>\n",
       "    </tr>\n",
       "  </thead>\n",
       "  <tbody>\n",
       "    <tr>\n",
       "      <th>0</th>\n",
       "      <td>Add two new channels for attracting traffic. T...</td>\n",
       "      <td>3</td>\n",
       "      <td>10</td>\n",
       "      <td>8</td>\n",
       "      <td>6</td>\n",
       "      <td>8.23</td>\n",
       "    </tr>\n",
       "    <tr>\n",
       "      <th>1</th>\n",
       "      <td>Launch your own delivery service. This will sh...</td>\n",
       "      <td>2</td>\n",
       "      <td>5</td>\n",
       "      <td>4</td>\n",
       "      <td>10</td>\n",
       "      <td>1.23</td>\n",
       "    </tr>\n",
       "    <tr>\n",
       "      <th>2</th>\n",
       "      <td>Add product recommendation blocks to the store...</td>\n",
       "      <td>8</td>\n",
       "      <td>3</td>\n",
       "      <td>7</td>\n",
       "      <td>3</td>\n",
       "      <td>4.32</td>\n",
       "    </tr>\n",
       "    <tr>\n",
       "      <th>3</th>\n",
       "      <td>Change the category structure. This will incre...</td>\n",
       "      <td>8</td>\n",
       "      <td>3</td>\n",
       "      <td>3</td>\n",
       "      <td>8</td>\n",
       "      <td>0.69</td>\n",
       "    </tr>\n",
       "    <tr>\n",
       "      <th>4</th>\n",
       "      <td>Change the background color on the main page. ...</td>\n",
       "      <td>3</td>\n",
       "      <td>1</td>\n",
       "      <td>1</td>\n",
       "      <td>1</td>\n",
       "      <td>0.62</td>\n",
       "    </tr>\n",
       "  </tbody>\n",
       "</table>\n",
       "</div>"
      ],
      "text/plain": [
       "                                          Hypothesis  Reach  Impact  \\\n",
       "0  Add two new channels for attracting traffic. T...      3      10   \n",
       "1  Launch your own delivery service. This will sh...      2       5   \n",
       "2  Add product recommendation blocks to the store...      8       3   \n",
       "3  Change the category structure. This will incre...      8       3   \n",
       "4  Change the background color on the main page. ...      3       1   \n",
       "\n",
       "   Confidence  Effort   ICE  \n",
       "0           8       6  8.23  \n",
       "1           4      10  1.23  \n",
       "2           7       3  4.32  \n",
       "3           3       8  0.69  \n",
       "4           1       1  0.62  "
      ]
     },
     "execution_count": 3,
     "metadata": {},
     "output_type": "execute_result"
    }
   ],
   "source": [
    "# Aplicar el framework ICE para priorizar hipótesis. Ordenarlas en orden descendente de prioridad.\n",
    "\n",
    "# ICE\n",
    "hypotheses_us['ICE'] = (hypotheses_us['Impact'] * hypotheses_us['Confidence']) / hypotheses_us['Effort']\n",
    "hypotheses_us['ICE'] = (hypotheses_us['ICE'] * 10 / hypotheses_us['ICE'].max()).round(2)\n",
    "\n",
    "hypotheses_us.head()"
   ]
  },
  {
   "cell_type": "code",
   "execution_count": 4,
   "metadata": {},
   "outputs": [
    {
     "data": {
      "text/html": [
       "<div>\n",
       "<style scoped>\n",
       "    .dataframe tbody tr th:only-of-type {\n",
       "        vertical-align: middle;\n",
       "    }\n",
       "\n",
       "    .dataframe tbody tr th {\n",
       "        vertical-align: top;\n",
       "    }\n",
       "\n",
       "    .dataframe thead th {\n",
       "        text-align: right;\n",
       "    }\n",
       "</style>\n",
       "<table border=\"1\" class=\"dataframe\">\n",
       "  <thead>\n",
       "    <tr style=\"text-align: right;\">\n",
       "      <th></th>\n",
       "      <th>Hypothesis</th>\n",
       "      <th>Reach</th>\n",
       "      <th>Impact</th>\n",
       "      <th>Confidence</th>\n",
       "      <th>Effort</th>\n",
       "      <th>ICE</th>\n",
       "      <th>RICE</th>\n",
       "    </tr>\n",
       "  </thead>\n",
       "  <tbody>\n",
       "    <tr>\n",
       "      <th>7</th>\n",
       "      <td>Add a subscription form to all the main pages....</td>\n",
       "      <td>10</td>\n",
       "      <td>7</td>\n",
       "      <td>8</td>\n",
       "      <td>5</td>\n",
       "      <td>6.91</td>\n",
       "      <td>10.00</td>\n",
       "    </tr>\n",
       "    <tr>\n",
       "      <th>2</th>\n",
       "      <td>Add product recommendation blocks to the store...</td>\n",
       "      <td>8</td>\n",
       "      <td>3</td>\n",
       "      <td>7</td>\n",
       "      <td>3</td>\n",
       "      <td>4.32</td>\n",
       "      <td>5.00</td>\n",
       "    </tr>\n",
       "    <tr>\n",
       "      <th>0</th>\n",
       "      <td>Add two new channels for attracting traffic. T...</td>\n",
       "      <td>3</td>\n",
       "      <td>10</td>\n",
       "      <td>8</td>\n",
       "      <td>6</td>\n",
       "      <td>8.23</td>\n",
       "      <td>3.57</td>\n",
       "    </tr>\n",
       "    <tr>\n",
       "      <th>6</th>\n",
       "      <td>Show banners with current offers and sales on ...</td>\n",
       "      <td>5</td>\n",
       "      <td>3</td>\n",
       "      <td>8</td>\n",
       "      <td>3</td>\n",
       "      <td>4.94</td>\n",
       "      <td>3.57</td>\n",
       "    </tr>\n",
       "    <tr>\n",
       "      <th>8</th>\n",
       "      <td>Launch a promotion that gives users discounts ...</td>\n",
       "      <td>1</td>\n",
       "      <td>9</td>\n",
       "      <td>9</td>\n",
       "      <td>5</td>\n",
       "      <td>10.00</td>\n",
       "      <td>1.45</td>\n",
       "    </tr>\n",
       "    <tr>\n",
       "      <th>3</th>\n",
       "      <td>Change the category structure. This will incre...</td>\n",
       "      <td>8</td>\n",
       "      <td>3</td>\n",
       "      <td>3</td>\n",
       "      <td>8</td>\n",
       "      <td>0.69</td>\n",
       "      <td>0.80</td>\n",
       "    </tr>\n",
       "    <tr>\n",
       "      <th>1</th>\n",
       "      <td>Launch your own delivery service. This will sh...</td>\n",
       "      <td>2</td>\n",
       "      <td>5</td>\n",
       "      <td>4</td>\n",
       "      <td>10</td>\n",
       "      <td>1.23</td>\n",
       "      <td>0.36</td>\n",
       "    </tr>\n",
       "    <tr>\n",
       "      <th>5</th>\n",
       "      <td>Add a customer review page. This will increase...</td>\n",
       "      <td>3</td>\n",
       "      <td>2</td>\n",
       "      <td>2</td>\n",
       "      <td>3</td>\n",
       "      <td>0.82</td>\n",
       "      <td>0.36</td>\n",
       "    </tr>\n",
       "    <tr>\n",
       "      <th>4</th>\n",
       "      <td>Change the background color on the main page. ...</td>\n",
       "      <td>3</td>\n",
       "      <td>1</td>\n",
       "      <td>1</td>\n",
       "      <td>1</td>\n",
       "      <td>0.62</td>\n",
       "      <td>0.27</td>\n",
       "    </tr>\n",
       "  </tbody>\n",
       "</table>\n",
       "</div>"
      ],
      "text/plain": [
       "                                          Hypothesis  Reach  Impact  \\\n",
       "7  Add a subscription form to all the main pages....     10       7   \n",
       "2  Add product recommendation blocks to the store...      8       3   \n",
       "0  Add two new channels for attracting traffic. T...      3      10   \n",
       "6  Show banners with current offers and sales on ...      5       3   \n",
       "8  Launch a promotion that gives users discounts ...      1       9   \n",
       "3  Change the category structure. This will incre...      8       3   \n",
       "1  Launch your own delivery service. This will sh...      2       5   \n",
       "5  Add a customer review page. This will increase...      3       2   \n",
       "4  Change the background color on the main page. ...      3       1   \n",
       "\n",
       "   Confidence  Effort    ICE   RICE  \n",
       "7           8       5   6.91  10.00  \n",
       "2           7       3   4.32   5.00  \n",
       "0           8       6   8.23   3.57  \n",
       "6           8       3   4.94   3.57  \n",
       "8           9       5  10.00   1.45  \n",
       "3           3       8   0.69   0.80  \n",
       "1           4      10   1.23   0.36  \n",
       "5           2       3   0.82   0.36  \n",
       "4           1       1   0.62   0.27  "
      ]
     },
     "metadata": {},
     "output_type": "display_data"
    }
   ],
   "source": [
    "# RICE \n",
    "\n",
    "hypotheses_us['RICE'] = (hypotheses_us['Reach'] * hypotheses_us ['Impact'] * hypotheses_us ['Confidence']) / hypotheses_us['Effort']\n",
    "hypotheses_us['RICE'] = (hypotheses_us['RICE']*10 / hypotheses_us['RICE'].max()).round(2)\n",
    "\n",
    "\n",
    "display(hypotheses_us.sort_values(by=['RICE'], ascending=[False]))"
   ]
  },
  {
   "cell_type": "code",
   "execution_count": 5,
   "metadata": {},
   "outputs": [
    {
     "data": {
      "image/png": "[encoded data removed]",
      "text/plain": [
       "<Figure size 1000x600 with 1 Axes>"
      ]
     },
     "metadata": {},
     "output_type": "display_data"
    }
   ],
   "source": [
    "# Grafiquemos para hacer mucho mas visual\n",
    "# vamos a recortar el nombre de las hipotesis porque estan muy largas (codigo con ayuda forum)\n",
    "hypotheses_us['Hypothesis'] = hypotheses_us['Hypothesis'].apply(lambda x: x[:15] + '...' if len(x) > 15 else x)\n",
    "\n",
    "plt.figure(figsize=(10, 6))  # Ajustamos el tamaño de la figura\n",
    "sns.barplot(x='Hypothesis', y='ICE', data=hypotheses_us, color='pink')\n",
    "plt.title('Best Hypothesis according to ICE')\n",
    "plt.xlabel('Hypothesis')\n",
    "plt.ylabel('ICE Value')\n",
    "plt.xticks(rotation=45, ha='right')  # Rotamos las etiquetas del eje x para mayor legibilidad\n",
    "\n",
    "plt.show()\n",
    "\n"
   ]
  },
  {
   "cell_type": "code",
   "execution_count": 6,
   "metadata": {},
   "outputs": [
    {
     "data": {
      "image/png": "[encoded data removed]",
      "text/plain": [
       "<Figure size 1000x600 with 1 Axes>"
      ]
     },
     "metadata": {},
     "output_type": "display_data"
    }
   ],
   "source": [
    "# Graficamos ahora RICE \n",
    "plt.figure(figsize=(10, 6))\n",
    "sns.barplot(x='Hypothesis',y='RICE',data=hypotheses_us,color='blue')\n",
    "plt.title('Best Hypothesis accordng to RICE')\n",
    "plt.xlabel('Hypothesis')\n",
    "plt.ylabel('RICE value')\n",
    "plt.xticks(rotation=45, ha='right')\n",
    "\n",
    "\n",
    "plt.show()"
   ]
  },
  {
   "cell_type": "markdown",
   "metadata": {},
   "source": [
    "Valor Alto en ICE/RICE: Si una hipótesis tiene un valor alto de ICE o RICE, significa que tiene un gran impacto con una alta confianza y requiere menos esfuerzo para implementarse, lo que la hace prioritaria.\n",
    "\n",
    "Valor Bajo en ICE/RICE: Si una hipótesis tiene un valor bajo de ICE o RICE, significa que o bien tiene un bajo impacto, baja confianza o requiere más esfuerzo. Estas hipótesis serán menos prioritarias.\n",
    "\n",
    "podemos dar conclusiones mas adelante conforme avancemos."
   ]
  },
  {
   "cell_type": "markdown",
   "metadata": {},
   "source": [
    "<div class=\"alert alert-block alert-success\">\n",
    "<b>Comentario del revisor (1ra Iteracion)</b> <a class=“tocSkip”></a>\n",
    "\n",
    "Muy bien! El cálculo es correcto y con las gráficas es mucho más sencillo poder realizar la comparación entre los dos frameworks\n",
    "</div>"
   ]
  },
  {
   "cell_type": "markdown",
   "metadata": {},
   "source": [
    "# Parte 2. Análisis del test A/B\n",
    "\n",
    "Realizaste una prueba A/B y obtuviste los resultados descritos en los archivos orders_us.csv y visits_us.csv.\n",
    "\n",
    "Ejercicio\n",
    "\n",
    "Analiza el test A/B:\n",
    "\n",
    "Representa gráficamente el ingreso acumulado por grupo. Haz conclusiones y conjeturas.\n",
    "Representa gráficamente el tamaño de pedido promedio acumulado por grupo. Haz conclusiones y conjeturas.\n",
    "Representa gráficamente la diferencia relativa en el tamaño de pedido promedio acumulado para el grupo B en comparación con el grupo A. Haz conclusiones y conjeturas.\n",
    "Calcula la tasa de conversión de cada grupo como la relación entre los pedidos y el número de visitas de cada día. Representa gráficamente las tasas de conversión diarias de los dos grupos y describe la diferencia. Saca conclusiones y haz conjeturas.\n",
    "Traza un gráfico de dispersión del número de pedidos por usuario. Haz conclusiones y conjeturas.\n",
    "Calcula los percentiles 95 y 99 del número de pedidos por usuario. Define el punto en el cual un punto de datos se convierte en una anomalía.\n",
    "Traza un gráfico de dispersión de los precios de los pedidos. Haz conclusiones y conjeturas.\n",
    "Calcula los percentiles 95 y 99 de los precios de los pedidos. Define el punto en el cual un punto de datos se convierte en una anomalía.\n",
    "Encuentra la significancia estadística de la diferencia en la conversión entre los grupos utilizando los datos en bruto. Haz conclusiones y conjeturas.\n",
    "Encuentra la significancia estadística de la diferencia en el tamaño promedio de pedido entre los grupos utilizando los datos en bruto. Haz conclusiones y conjeturas.\n",
    "Encuentra la significancia estadística de la diferencia en la conversión entre los grupos utilizando los datos filtrados. Haz conclusiones y conjeturas.\n",
    "Encuentra la significancia estadística de la diferencia en el tamaño promedio de pedido entre los grupos utilizando los datos filtrados. Haz conclusiones y conjeturas.\n",
    "Toma una decisión basada en los resultados de la prueba. Las decisiones posibles son: 1. Parar la prueba, considerar a uno de los grupos como líder. 2. Parar la prueba, concluir que no hay diferencia entre los grupos. 3. Continuar la prueba."
   ]
  },
  {
   "cell_type": "markdown",
   "metadata": {},
   "source": [
    "<div class=\"alert alert-block alert-warning\">\n",
    "<b>Comentario del revisor (1ra Iteracion)</b> <a class=“tocSkip”></a>\n",
    "\n",
    "Para mantener un mejor orden, siempre realiza la carga de datos al inicio y la exploración inicial en una sóla sección después de cargar los datos\n",
    "</div>"
   ]
  },
  {
   "cell_type": "code",
   "execution_count": 7,
   "metadata": {},
   "outputs": [
    {
     "name": "stdout",
     "output_type": "stream",
     "text": [
      "         date group  revenue  transactionId  visitorId\n",
      "0  2019-08-01     A   2356.8             24         20\n",
      "1  2019-08-01     B   1620.0             21         20\n",
      "2  2019-08-02     A   1503.5             20         19\n",
      "3  2019-08-02     B   2623.8             24         23\n",
      "4  2019-08-03     A   1815.2             24         24\n",
      "..        ...   ...      ...            ...        ...\n",
      "57 2019-08-29     B   3623.7             20         20\n",
      "58 2019-08-30     A   1364.3             11         10\n",
      "59 2019-08-30     B   3393.3             24         24\n",
      "60 2019-08-31     A    991.4             12         12\n",
      "61 2019-08-31     B   2104.3             20         20\n",
      "\n",
      "[62 rows x 5 columns]\n"
     ]
    },
    {
     "data": {
      "text/html": [
       "<div>\n",
       "<style scoped>\n",
       "    .dataframe tbody tr th:only-of-type {\n",
       "        vertical-align: middle;\n",
       "    }\n",
       "\n",
       "    .dataframe tbody tr th {\n",
       "        vertical-align: top;\n",
       "    }\n",
       "\n",
       "    .dataframe thead th {\n",
       "        text-align: right;\n",
       "    }\n",
       "</style>\n",
       "<table border=\"1\" class=\"dataframe\">\n",
       "  <thead>\n",
       "    <tr style=\"text-align: right;\">\n",
       "      <th></th>\n",
       "      <th>date</th>\n",
       "      <th>group</th>\n",
       "      <th>visits</th>\n",
       "    </tr>\n",
       "  </thead>\n",
       "  <tbody>\n",
       "    <tr>\n",
       "      <th>0</th>\n",
       "      <td>2019-08-01</td>\n",
       "      <td>A</td>\n",
       "      <td>719</td>\n",
       "    </tr>\n",
       "    <tr>\n",
       "      <th>1</th>\n",
       "      <td>2019-08-02</td>\n",
       "      <td>A</td>\n",
       "      <td>619</td>\n",
       "    </tr>\n",
       "    <tr>\n",
       "      <th>2</th>\n",
       "      <td>2019-08-03</td>\n",
       "      <td>A</td>\n",
       "      <td>507</td>\n",
       "    </tr>\n",
       "    <tr>\n",
       "      <th>3</th>\n",
       "      <td>2019-08-04</td>\n",
       "      <td>A</td>\n",
       "      <td>717</td>\n",
       "    </tr>\n",
       "    <tr>\n",
       "      <th>4</th>\n",
       "      <td>2019-08-05</td>\n",
       "      <td>A</td>\n",
       "      <td>756</td>\n",
       "    </tr>\n",
       "    <tr>\n",
       "      <th>...</th>\n",
       "      <td>...</td>\n",
       "      <td>...</td>\n",
       "      <td>...</td>\n",
       "    </tr>\n",
       "    <tr>\n",
       "      <th>57</th>\n",
       "      <td>2019-08-27</td>\n",
       "      <td>B</td>\n",
       "      <td>720</td>\n",
       "    </tr>\n",
       "    <tr>\n",
       "      <th>58</th>\n",
       "      <td>2019-08-28</td>\n",
       "      <td>B</td>\n",
       "      <td>654</td>\n",
       "    </tr>\n",
       "    <tr>\n",
       "      <th>59</th>\n",
       "      <td>2019-08-29</td>\n",
       "      <td>B</td>\n",
       "      <td>531</td>\n",
       "    </tr>\n",
       "    <tr>\n",
       "      <th>60</th>\n",
       "      <td>2019-08-30</td>\n",
       "      <td>B</td>\n",
       "      <td>490</td>\n",
       "    </tr>\n",
       "    <tr>\n",
       "      <th>61</th>\n",
       "      <td>2019-08-31</td>\n",
       "      <td>B</td>\n",
       "      <td>718</td>\n",
       "    </tr>\n",
       "  </tbody>\n",
       "</table>\n",
       "<p>62 rows × 3 columns</p>\n",
       "</div>"
      ],
      "text/plain": [
       "         date group  visits\n",
       "0  2019-08-01     A     719\n",
       "1  2019-08-02     A     619\n",
       "2  2019-08-03     A     507\n",
       "3  2019-08-04     A     717\n",
       "4  2019-08-05     A     756\n",
       "..        ...   ...     ...\n",
       "57 2019-08-27     B     720\n",
       "58 2019-08-28     B     654\n",
       "59 2019-08-29     B     531\n",
       "60 2019-08-30     B     490\n",
       "61 2019-08-31     B     718\n",
       "\n",
       "[62 rows x 3 columns]"
      ]
     },
     "execution_count": 7,
     "metadata": {},
     "output_type": "execute_result"
    }
   ],
   "source": [
    "# Comenzaremos a hacer pivot tables para ambos datasets\n",
    "\n",
    "orders_pivot = orders.pivot_table(index=['date','group'],\n",
    "                                  values=['transactionId','visitorId','revenue'],\n",
    "                                  aggfunc= {'transactionId':pd.Series.nunique, 'visitorId':pd.Series.nunique,'revenue':'sum'}).reset_index().sort_values(by=['date','group'])\n",
    "\n",
    "visits_pivot =  visits.pivot_table(index='date',\n",
    "                                   columns='group',\n",
    "                                   values='visits',\n",
    "                                   aggfunc='sum').fillna(0).reset_index()\n",
    "\n",
    "#visits_pivot.columns = ['date', 'A_visits', 'B_visits']\n",
    "visits_pivot = visits_pivot.melt(id_vars='date', value_vars=['A', 'B'], var_name='group', value_name='visits')\n",
    "print(orders_pivot)\n",
    "visits_pivot"
   ]
  },
  {
   "cell_type": "code",
   "execution_count": 8,
   "metadata": {},
   "outputs": [
    {
     "data": {
      "text/html": [
       "<div>\n",
       "<style scoped>\n",
       "    .dataframe tbody tr th:only-of-type {\n",
       "        vertical-align: middle;\n",
       "    }\n",
       "\n",
       "    .dataframe tbody tr th {\n",
       "        vertical-align: top;\n",
       "    }\n",
       "\n",
       "    .dataframe thead th {\n",
       "        text-align: right;\n",
       "    }\n",
       "</style>\n",
       "<table border=\"1\" class=\"dataframe\">\n",
       "  <thead>\n",
       "    <tr style=\"text-align: right;\">\n",
       "      <th></th>\n",
       "      <th>date</th>\n",
       "      <th>group</th>\n",
       "      <th>orders</th>\n",
       "      <th>buyers</th>\n",
       "      <th>revenue</th>\n",
       "      <th>visitors</th>\n",
       "      <th>ave_ord_size</th>\n",
       "    </tr>\n",
       "  </thead>\n",
       "  <tbody>\n",
       "    <tr>\n",
       "      <th>0</th>\n",
       "      <td>2019-08-01</td>\n",
       "      <td>A</td>\n",
       "      <td>2356.8</td>\n",
       "      <td>24</td>\n",
       "      <td>20</td>\n",
       "      <td>719</td>\n",
       "      <td>0.008486</td>\n",
       "    </tr>\n",
       "    <tr>\n",
       "      <th>1</th>\n",
       "      <td>2019-08-01</td>\n",
       "      <td>B</td>\n",
       "      <td>1620.0</td>\n",
       "      <td>21</td>\n",
       "      <td>20</td>\n",
       "      <td>713</td>\n",
       "      <td>0.012346</td>\n",
       "    </tr>\n",
       "    <tr>\n",
       "      <th>2</th>\n",
       "      <td>2019-08-02</td>\n",
       "      <td>A</td>\n",
       "      <td>1503.5</td>\n",
       "      <td>20</td>\n",
       "      <td>19</td>\n",
       "      <td>619</td>\n",
       "      <td>0.012637</td>\n",
       "    </tr>\n",
       "    <tr>\n",
       "      <th>3</th>\n",
       "      <td>2019-08-02</td>\n",
       "      <td>B</td>\n",
       "      <td>2623.8</td>\n",
       "      <td>24</td>\n",
       "      <td>23</td>\n",
       "      <td>581</td>\n",
       "      <td>0.008766</td>\n",
       "    </tr>\n",
       "    <tr>\n",
       "      <th>4</th>\n",
       "      <td>2019-08-03</td>\n",
       "      <td>A</td>\n",
       "      <td>1815.2</td>\n",
       "      <td>24</td>\n",
       "      <td>24</td>\n",
       "      <td>507</td>\n",
       "      <td>0.013222</td>\n",
       "    </tr>\n",
       "    <tr>\n",
       "      <th>...</th>\n",
       "      <td>...</td>\n",
       "      <td>...</td>\n",
       "      <td>...</td>\n",
       "      <td>...</td>\n",
       "      <td>...</td>\n",
       "      <td>...</td>\n",
       "      <td>...</td>\n",
       "    </tr>\n",
       "    <tr>\n",
       "      <th>57</th>\n",
       "      <td>2019-08-29</td>\n",
       "      <td>B</td>\n",
       "      <td>3623.7</td>\n",
       "      <td>20</td>\n",
       "      <td>20</td>\n",
       "      <td>531</td>\n",
       "      <td>0.005519</td>\n",
       "    </tr>\n",
       "    <tr>\n",
       "      <th>58</th>\n",
       "      <td>2019-08-30</td>\n",
       "      <td>A</td>\n",
       "      <td>1364.3</td>\n",
       "      <td>11</td>\n",
       "      <td>10</td>\n",
       "      <td>490</td>\n",
       "      <td>0.007330</td>\n",
       "    </tr>\n",
       "    <tr>\n",
       "      <th>59</th>\n",
       "      <td>2019-08-30</td>\n",
       "      <td>B</td>\n",
       "      <td>3393.3</td>\n",
       "      <td>24</td>\n",
       "      <td>24</td>\n",
       "      <td>490</td>\n",
       "      <td>0.007073</td>\n",
       "    </tr>\n",
       "    <tr>\n",
       "      <th>60</th>\n",
       "      <td>2019-08-31</td>\n",
       "      <td>A</td>\n",
       "      <td>991.4</td>\n",
       "      <td>12</td>\n",
       "      <td>12</td>\n",
       "      <td>699</td>\n",
       "      <td>0.012104</td>\n",
       "    </tr>\n",
       "    <tr>\n",
       "      <th>61</th>\n",
       "      <td>2019-08-31</td>\n",
       "      <td>B</td>\n",
       "      <td>2104.3</td>\n",
       "      <td>20</td>\n",
       "      <td>20</td>\n",
       "      <td>718</td>\n",
       "      <td>0.009504</td>\n",
       "    </tr>\n",
       "  </tbody>\n",
       "</table>\n",
       "<p>62 rows × 7 columns</p>\n",
       "</div>"
      ],
      "text/plain": [
       "         date group  orders  buyers  revenue  visitors  ave_ord_size\n",
       "0  2019-08-01     A  2356.8      24       20       719      0.008486\n",
       "1  2019-08-01     B  1620.0      21       20       713      0.012346\n",
       "2  2019-08-02     A  1503.5      20       19       619      0.012637\n",
       "3  2019-08-02     B  2623.8      24       23       581      0.008766\n",
       "4  2019-08-03     A  1815.2      24       24       507      0.013222\n",
       "..        ...   ...     ...     ...      ...       ...           ...\n",
       "57 2019-08-29     B  3623.7      20       20       531      0.005519\n",
       "58 2019-08-30     A  1364.3      11       10       490      0.007330\n",
       "59 2019-08-30     B  3393.3      24       24       490      0.007073\n",
       "60 2019-08-31     A   991.4      12       12       699      0.012104\n",
       "61 2019-08-31     B  2104.3      20       20       718      0.009504\n",
       "\n",
       "[62 rows x 7 columns]"
      ]
     },
     "metadata": {},
     "output_type": "display_data"
    }
   ],
   "source": [
    "#  fusionemos ambas tablas\n",
    "\n",
    "merged_data = orders_pivot.merge(visits_pivot, left_on=['date', 'group'], right_on=['date', 'group'])\n",
    "merged_data.columns = ['date', 'group','orders', 'buyers', 'revenue', 'visitors']\n",
    "\n",
    "merged_data['ave_ord_size'] = merged_data['revenue'] / merged_data['orders'] #calculamos el tamaño promedio de las ordenes\n",
    "\n",
    "display(merged_data)"
   ]
  },
  {
   "cell_type": "markdown",
   "metadata": {},
   "source": [
    "# Representa gráficamente el ingreso acumulado por grupo. Haz conclusiones y conjeturas\n",
    "\n",
    "print('Revenue by group')\n",
    "sns.lineplot(x='date',y='revenue',data=merged_data,hue='group')\n",
    "plt.title('Revenue by group')\n",
    "plt.xlabel('date')\n",
    "plt.ylabel('revenue')\n",
    "plt.xticks(rotation=45)\n",
    "\n",
    "plt.show()"
   ]
  },
  {
   "cell_type": "code",
   "execution_count": 9,
   "metadata": {},
   "outputs": [
    {
     "data": {
      "image/png": "[encoded data removed]",
      "text/plain": [
       "<Figure size 640x480 with 1 Axes>"
      ]
     },
     "metadata": {},
     "output_type": "display_data"
    }
   ],
   "source": [
    "# Representa gráficamente el ingreso acumulado por grupo. Haz conclusiones y conjeturas\n",
    "# utilizamos comsum como medida del revisor \n",
    "\n",
    "merged_data['cumulative_revenue'] = merged_data.groupby('group')['revenue'].cumsum()\n",
    "\n",
    "sns.lineplot(x='date', y='cumulative_revenue', data=merged_data, hue='group')\n",
    "plt.title('Cumulative Revenue by group')\n",
    "plt.xlabel('Date')\n",
    "plt.ylabel('Cumulative Revenue')\n",
    "plt.xticks(rotation=45)\n",
    "plt.show()\n",
    "\n",
    "#El grupo B genero consistentemente mas ingresos acumulados que el grupo A a lo largo del tiempo. La brecha entre ambos grupos se amplia progresivamenteindicando un mejor rendimiento del grupo B.\n"
   ]
  },
  {
   "cell_type": "markdown",
   "metadata": {},
   "source": [
    "<div class=\"alert alert-block alert-danger\">\n",
    "<b>Comentario del revisor (1ra Iteracion)</b> <a class=“tocSkip”></a>\n",
    "\n",
    "Esto no presenta el gráfico acumulado, est presenta sólo el total de revenue por cada día. Te sugiero revisar `cumsum()` para estos gráficos   \n",
    "</div>"
   ]
  },
  {
   "cell_type": "markdown",
   "metadata": {},
   "source": [
    "<div class=\"alert alert-block alert-success\">\n",
    "<b>Comentario del revisor (2da Iteracion)</b> <a class=“tocSkip”></a>\n",
    "\n",
    "Así está mucho mejor\n",
    "</div>"
   ]
  },
  {
   "cell_type": "code",
   "execution_count": 10,
   "metadata": {},
   "outputs": [
    {
     "name": "stdout",
     "output_type": "stream",
     "text": [
      "Average size of orders by group \n"
     ]
    },
    {
     "data": {
      "image/png": "[encoded data removed]",
      "text/plain": [
       "<Figure size 640x480 with 1 Axes>"
      ]
     },
     "metadata": {},
     "output_type": "display_data"
    }
   ],
   "source": [
    "# Representa gráficamente el tamaño de pedido promedio acumulado por grupo. Haz conclusiones y conjeturas.\n",
    "print('Average size of orders by group ')\n",
    "\n",
    "sns.lineplot(x='date',y='ave_ord_size',data=merged_data,hue='group')\n",
    "plt.xlabel('date')\n",
    "plt.ylabel('average revenue by order')\n",
    "plt.xticks(rotation=45)\n",
    "plt.show()\n",
    "\n",
    "# Podemos ver un average revenue by order mucho mayor en el grupo B "
   ]
  },
  {
   "cell_type": "code",
   "execution_count": 11,
   "metadata": {},
   "outputs": [
    {
     "data": {
      "image/png": "[encoded data removed]",
      "text/plain": [
       "<Figure size 640x480 with 1 Axes>"
      ]
     },
     "metadata": {},
     "output_type": "display_data"
    }
   ],
   "source": [
    "# Representa gráficamente la diferencia relativa en el tamaño de pedido promedio acumulado para el grupo B en comparación con el grupo A. Haz conclusiones y conjeturas\n",
    "\n",
    "merged_a = merged_data[merged_data['group'] == 'A']\n",
    "merged_b = merged_data[merged_data['group'] == 'B']\n",
    "\n",
    "merged_revenue = merged_a.merge(merged_b, left_on='date', right_on='date', how='left', suffixes=['A', 'B'])\n",
    "\n",
    "# Graficamos\n",
    "plt.plot(merged_revenue['date'], (merged_revenue['revenueB']/merged_revenue['ordersB'])/(merged_revenue['revenueA']/merged_revenue['ordersA'])-1)\n",
    "plt.axhline(y=0, color='black', linestyle='--') # linea puntiaguda\n",
    "plt.xticks(rotation=45)\n",
    "plt.title('Relative revenue difference between A and B group')\n",
    "plt.show()"
   ]
  },
  {
   "cell_type": "markdown",
   "metadata": {},
   "source": [
    "Que podemos observar? Mayor ventaja para el grupo A en ciertos momentos: Alrededor del 9 y 13 de agosto, la diferencia es positiva y alta, lo que sugiere que el grupo A tuvo un mejor rendimiento en términos de ingresos en esos días.\n",
    "\n",
    "pero después del 13 de agosto se observa una caída pronunciada justo desps del pico, lo que podría indicar un evento o cambio que afectó el rendimiento del grupo A en comparacion con B."
   ]
  },
  {
   "cell_type": "code",
   "execution_count": 12,
   "metadata": {},
   "outputs": [
    {
     "data": {
      "image/png": "[encoded data removed]",
      "text/plain": [
       "<Figure size 1200x600 with 1 Axes>"
      ]
     },
     "metadata": {},
     "output_type": "display_data"
    },
    {
     "name": "stdout",
     "output_type": "stream",
     "text": [
      "difference between conversion rate for A and B group:\n",
      "1.7727220481154733\n",
      "El grupo B tiene un rendimiento superior en terminos de conversion.\n"
     ]
    }
   ],
   "source": [
    "# Calcula la tasa de conversión de cada grupo como la relación entre los pedidos y el número de visitas de cada día. Representa gráficamente las tasas de conversión diarias de los dos grupos y describe la diferencia. Saca conclusiones y haz conjeturas.\n",
    "\n",
    "# Calcula la tasa de conversión diaria para cada grupo\n",
    "merged_data['conversion'] = merged_data['orders'] / merged_data['visitors']\n",
    "\n",
    "# Filtra los datos por grupo\n",
    "conversion_a = merged_data[merged_data['group'] == 'A'][['date', 'conversion']]\n",
    "conversion_b = merged_data[merged_data['group'] == 'B'][['date', 'conversion']]\n",
    "\n",
    "# Grafica\n",
    "plt.figure(figsize=(12, 6))\n",
    "sns.lineplot(data=conversion_a, x='date', y='conversion', label='Grupo A')\n",
    "sns.lineplot(data=conversion_b, x='date', y='conversion', label='Grupo B')\n",
    "plt.xticks(rotation=45)\n",
    "plt.title('Daily convertion per group')\n",
    "plt.xlabel('Date')\n",
    "plt.ylabel('Convertion Rate')\n",
    "plt.legend()\n",
    "plt.show()\n",
    "\n",
    "diferencia = conversion_b['conversion'].mean() - conversion_a['conversion'].mean()\n",
    "print('difference between conversion rate for A and B group:')\n",
    "print(diferencia)\n",
    "print('El grupo B tiene un rendimiento superior en terminos de conversion.')\n",
    "\n",
    "# conclusion en la mayoria del periodo ambos grupos muestran variabilidad sin una diferencia extrema pero el grupo B sigue liderandocon una taza de conversion alta "
   ]
  },
  {
   "cell_type": "markdown",
   "metadata": {},
   "source": [
    "<div class=\"alert alert-block alert-danger\">\n",
    "<b>Comentario del revisor (1ra Iteracion)</b> <a class=“tocSkip”></a>\n",
    "\n",
    "Hace falta redactar tus conclusiones y conjeturas de lo que se muestra en el gráfico y el resultado obtenido\n",
    "</div>"
   ]
  },
  {
   "cell_type": "markdown",
   "metadata": {},
   "source": [
    "<div class=\"alert alert-block alert-warning\">\n",
    "<b>Comentario del revisor (2da Iteracion)</b> <a class=“tocSkip”></a>\n",
    "\n",
    "Procura redactar las interpretaciones de cada gráfica, no sólo una\n",
    "</div>"
   ]
  },
  {
   "cell_type": "code",
   "execution_count": 13,
   "metadata": {},
   "outputs": [
    {
     "data": {
      "image/png": "[encoded data removed]",
      "text/plain": [
       "<Figure size 1200x600 with 1 Axes>"
      ]
     },
     "metadata": {},
     "output_type": "display_data"
    }
   ],
   "source": [
    "# Traza un gráfico de dispersión del número de pedidos por usuario. Haz conclusiones y conjeturas.\n",
    "\n",
    "# Calcula el número de pedidos por usuario\n",
    "orders_user = orders.groupby('visitorId').agg({'transactionId': 'nunique'}).reset_index()\n",
    "orders_user.columns = ['visitorId', 'orders']\n",
    "\n",
    "plt.figure(figsize=(12, 6))\n",
    "plt.scatter(orders_user['visitorId'], orders_user['orders'])\n",
    "plt.title('Number of orders by users')\n",
    "plt.xlabel('ID')\n",
    "plt.ylabel('Number of orders')\n",
    "plt.show()\n",
    "\n",
    "\n",
    "# Hay algunos valores atípicos, particularmente uno que supera los 20 v000 en costo, lo que podría indicar un pedido excepcionalmente grande"
   ]
  },
  {
   "cell_type": "code",
   "execution_count": 14,
   "metadata": {},
   "outputs": [
    {
     "name": "stdout",
     "output_type": "stream",
     "text": [
      "[1. 2. 4.]\n",
      "el 95% de los usuarios hacen no más de dos pedidos\n"
     ]
    }
   ],
   "source": [
    "#checa ipybn num 10 ctrl f = 'percentil'\n",
    "# Calcula los percentiles 95 y 99 del número de pedidos por usuario. Define el punto en el cual un punto de datos se convierte en una anomalía.\n",
    "print(np.percentile(orders_user['orders'], [90, 95, 99])) \n",
    "print('el 95% de los usuarios hacen no más de dos pedidos')"
   ]
  },
  {
   "cell_type": "code",
   "execution_count": 15,
   "metadata": {},
   "outputs": [
    {
     "data": {
      "image/png": "[encoded data removed]",
      "text/plain": [
       "<Figure size 1200x600 with 1 Axes>"
      ]
     },
     "metadata": {},
     "output_type": "display_data"
    }
   ],
   "source": [
    "# Traza un gráfico de dispersión de los precios de los pedidos. Haz conclusiones y conjeturas.\n",
    "\n",
    "price_of_orders = orders.groupby('transactionId').agg({'revenue': 'max'}).reset_index()\n",
    "price_of_orders.columns = ['transactionId', 'Cost']\n",
    "plt.figure(figsize=(12, 6))\n",
    "plt.scatter(price_of_orders['transactionId'], price_of_orders['Cost'])\n",
    "plt.xlabel('Order')\n",
    "plt.ylabel('Cost')\n",
    "plt.title('Cost of orders')\n",
    "plt.show()\n",
    "\n",
    "# La mayoría de los usuarios han realizado solo una o dos órdenes. Hay algunos usuarios que han realizado muchas más ordenes lo que sugiere clientes frecuentes o mayor lealtad de ciertos usuarios."
   ]
  },
  {
   "cell_type": "code",
   "execution_count": 16,
   "metadata": {
    "scrolled": true
   },
   "outputs": [
    {
     "name": "stdout",
     "output_type": "stream",
     "text": [
      "[282.48  435.54  900.904]\n",
      "el 95% de los usuarios no gasta más de $435.54\n"
     ]
    }
   ],
   "source": [
    "# Calcula los percentiles 95 y 99 de los precios de los pedidos. Define el punto en el cual un punto de datos se convierte en una anomalía.\n",
    "print(np.percentile(price_of_orders['Cost'], [90, 95, 99]))\n",
    "print('el 95% de los usuarios no gasta más de $435.54')"
   ]
  },
  {
   "cell_type": "markdown",
   "metadata": {},
   "source": [
    "<div class=\"alert alert-block alert-success\">\n",
    "<b>Comentario del revisor (1ra Iteracion)</b> <a class=“tocSkip”></a>\n",
    "\n",
    "Muy bien, revisar los valores atípicos que hay en los datos ayuda a que los cálculos no se vean afectados por un valor muy alto o muy bajo en esa columna\n",
    "</div>"
   ]
  },
  {
   "cell_type": "code",
   "execution_count": 17,
   "metadata": {},
   "outputs": [
    {
     "name": "stdout",
     "output_type": "stream",
     "text": [
      "Encuentra la significancia estadística de la diferencia en la conversión entre los grupos:\n",
      "0.1676789684746155\n",
      "Encuentra la significancia estadística de la diferencia en el tamaño promedio de pedido entre los grupos:\n",
      "0.6915246773264736\n"
     ]
    }
   ],
   "source": [
    "print('Encuentra la significancia estadística de la diferencia en la conversión entre los grupos:')\n",
    "print(format(stats.mannwhitneyu(conversion_a['conversion'], conversion_b['conversion'])[1]))\n",
    "\n",
    "\n",
    "print('Encuentra la significancia estadística de la diferencia en el tamaño promedio de pedido entre los grupos:')\n",
    "print(format(stats.mannwhitneyu(orders[orders['group'] == 'A']['revenue'], orders[orders['group'] == 'B']['revenue'])[1]))"
   ]
  },
  {
   "cell_type": "code",
   "execution_count": 18,
   "metadata": {},
   "outputs": [
    {
     "name": "stdout",
     "output_type": "stream",
     "text": [
      "significancia estadística de la diferencia en la conversión entre los grupos utilizando los datos filtrados:\n",
      "0.03470480567628018\n"
     ]
    }
   ],
   "source": [
    "# Encuentra la significancia estadística de la diferencia en la conversión entre los grupos utilizando los datos filtrados. Haz conclusiones y conjeturas.\n",
    "\n",
    "more_orders = orders_user[orders_user['orders'] > 2]['visitorId'] # selecciona los de mas de 2\n",
    "expensive_orders = orders[orders['revenue'] > np.percentile(orders['revenue'], 95)]['visitorId']\n",
    "\n",
    "abnormal_numbers = pd.concat([more_orders, expensive_orders]).drop_duplicates()\n",
    "normal_numbers = orders[np.logical_not(orders['visitorId'].isin(abnormal_numbers))]\n",
    "\n",
    "# Calcula la tasa de conversión diaria para cada grupo con los datos filtrados\n",
    "daily_convertion_rate = normal_numbers.groupby(['date', 'group']).agg({\n",
    "    'transactionId': 'nunique',\n",
    "    'visitorId': 'nunique',\n",
    "    'revenue': 'sum'\n",
    "}).reset_index()\n",
    "\n",
    "# checar aqui\n",
    "final_data = daily_convertion_rate.merge(visits, on=['date', 'group'])\n",
    "final_data.columns = ['date', 'group', 'orders', 'buyers', 'revenue', 'visitors']\n",
    "final_data['conversion'] = final_data['orders'] / final_data['visitors']\n",
    "\n",
    "#filtramos en grupos\n",
    "final_a = final_data[final_data['group'] == 'A'][['date', 'conversion']]\n",
    "final_b = final_data[final_data['group'] == 'B'][['date', 'conversion']]\n",
    "\n",
    "print('significancia estadística de la diferencia en la conversión entre los grupos utilizando los datos filtrados:')\n",
    "print(stats.mannwhitneyu(final_a['conversion'], final_b['conversion'])[1])"
   ]
  },
  {
   "cell_type": "code",
   "execution_count": 19,
   "metadata": {},
   "outputs": [
    {
     "name": "stdout",
     "output_type": "stream",
     "text": [
      "Significancia de la diferencia del tamaño promedio de pedido entre los grupos:\n",
      "0.8092414994580307\n"
     ]
    }
   ],
   "source": [
    "# Encuentra la significancia estadística de la diferencia en el tamaño promedio de pedido entre los grupos utilizando los datos filtrados. Haz conclusiones y conjeturas.\n",
    "orders_size = orders[orders['revenue'] <\n",
    "                    np.percentile(price_of_orders['Cost'],95)]\n",
    "\n",
    "print('Significancia de la diferencia del tamaño promedio de pedido entre los grupos:')\n",
    "print(stats.mannwhitneyu(orders_size[orders_size['group'] == 'A']['revenue'], orders_size[orders_size['group'] == 'B']['revenue'])[1])"
   ]
  },
  {
   "cell_type": "code",
   "execution_count": 20,
   "metadata": {},
   "outputs": [
    {
     "name": "stdout",
     "output_type": "stream",
     "text": [
      "Percentage for A group: 4.67%\n",
      "Percentage for B group: 5.31%\n"
     ]
    }
   ],
   "source": [
    "# Final step: \n",
    "# Toma una decisión basada en los resultados de la prueba. Las decisiones posibles son: \n",
    "# Parar la prueba, considerar a uno de los grupos como líder.\n",
    "# Parar la prueba, concluir que no hay diferencia entre los grupos \n",
    "# Continuar la prueba\n",
    "\n",
    "\n",
    "# Filtra los datos por grupo\n",
    "revenue_a = orders[orders['group'] == 'A']['revenue']\n",
    "revenue_b = orders[orders['group'] == 'B']['revenue']\n",
    "\n",
    "# Calcula el porcentaje de datos en revenue mayor a 435.54 para cada grupo\n",
    "percentage_a = (revenue_a > 435.54).mean() * 100\n",
    "percentage_b = (revenue_b > 435.54).mean() * 100\n",
    "\n",
    "print(f\"Percentage for A group: {percentage_a:.2f}%\")\n",
    "print(f\"Percentage for B group: {percentage_b:.2f}%\")"
   ]
  },
  {
   "cell_type": "markdown",
   "metadata": {},
   "source": [
    "# Conlcusiones\n",
    "\n",
    "Después de analizar los datos, se observa que el porcentaje de ingresos mayores a 435.54 es ligeramente superior en el grupo B (5.31%) en comparación con el grupo A (4.67%). Aunque esta diferencia es pequeña, podría indicar una ligera ventaja de la estrategia publicitaria B en generar compras de mayor valor.\n",
    "\n",
    "\n",
    "Dado que la conversión en el grupo B ha mostrado un mejor desempeño, se sugiere explorar estrategias complementarias que puedan potenciar tanto el volumen de compras como el ingreso generado por usuario. Esto permitiría optimizar el impacto económico de la estrategia publicitaria seleccionada :)"
   ]
  },
  {
   "cell_type": "markdown",
   "metadata": {},
   "source": [
    "<div class=\"alert alert-block alert-danger\">\n",
    "<b>Comentario general (1ra Iteracion)</b> <a class=“tocSkip”></a>\n",
    "\n",
    "Tienes un buen avance, sólo hay un par de puntos que necesitan unos cambios para que el proyecto esté completo. Por otro lado, podrías ser un poco más detallado en las conclusiones ya que estas deben resaltar los hallazgos a lo largo del notebook. Saludos!\n",
    "</div>"
   ]
  },
  {
   "cell_type": "markdown",
   "metadata": {},
   "source": [
    "<div class=\"alert alert-block alert-success\">\n",
    "<b>Comentario del revisor (2da Iteracion)</b> <a class=“tocSkip”></a>\n",
    "\n",
    "Bu\n",
    "</div>"
   ]
  }
 ],
 "metadata": {
  "ExecuteTimeLog": [
   {
    "duration": 334,
    "start_time": "2025-02-05T19:08:36.720Z"
   },
   {
    "duration": 7,
    "start_time": "2025-02-05T19:08:43.653Z"
   },
   {
    "duration": 11,
    "start_time": "2025-02-05T19:08:48.500Z"
   },
   {
    "duration": 6,
    "start_time": "2025-02-05T19:09:12.200Z"
   },
   {
    "duration": 4,
    "start_time": "2025-02-05T19:09:16.804Z"
   },
   {
    "duration": 4,
    "start_time": "2025-02-05T19:09:28.045Z"
   },
   {
    "duration": 200,
    "start_time": "2025-02-05T19:09:36.394Z"
   },
   {
    "duration": 10,
    "start_time": "2025-02-05T19:09:41.258Z"
   },
   {
    "duration": 2773,
    "start_time": "2025-02-05T19:16:34.519Z"
   },
   {
    "duration": 33,
    "start_time": "2025-02-05T19:17:52.420Z"
   },
   {
    "duration": 619,
    "start_time": "2025-02-05T19:40:07.039Z"
   },
   {
    "duration": 35,
    "start_time": "2025-02-05T19:40:22.187Z"
   },
   {
    "duration": 10,
    "start_time": "2025-02-05T19:40:43.863Z"
   },
   {
    "duration": 22,
    "start_time": "2025-02-05T19:41:09.076Z"
   },
   {
    "duration": 9,
    "start_time": "2025-02-05T19:41:32.054Z"
   },
   {
    "duration": 20,
    "start_time": "2025-02-05T19:41:40.382Z"
   },
   {
    "duration": 11,
    "start_time": "2025-02-05T19:42:00.627Z"
   },
   {
    "duration": 9,
    "start_time": "2025-02-05T19:42:15.647Z"
   },
   {
    "duration": 34,
    "start_time": "2025-02-05T19:42:18.964Z"
   },
   {
    "duration": 9,
    "start_time": "2025-02-05T19:42:22.083Z"
   },
   {
    "duration": 30,
    "start_time": "2025-02-05T19:47:44.979Z"
   },
   {
    "duration": 11,
    "start_time": "2025-02-05T19:48:03.620Z"
   },
   {
    "duration": 0,
    "start_time": "2025-02-05T19:48:35.334Z"
   },
   {
    "duration": 42,
    "start_time": "2025-02-05T19:48:42.736Z"
   },
   {
    "duration": 10,
    "start_time": "2025-02-05T19:49:48.974Z"
   },
   {
    "duration": 0,
    "start_time": "2025-02-05T19:50:04.891Z"
   },
   {
    "duration": 49,
    "start_time": "2025-02-05T19:50:08.537Z"
   },
   {
    "duration": 28,
    "start_time": "2025-02-05T19:50:20.767Z"
   },
   {
    "duration": 5,
    "start_time": "2025-02-05T19:53:43.938Z"
   },
   {
    "duration": 9,
    "start_time": "2025-02-05T19:53:51.745Z"
   },
   {
    "duration": 12,
    "start_time": "2025-02-05T19:53:56.037Z"
   },
   {
    "duration": 10,
    "start_time": "2025-02-05T19:54:34.927Z"
   },
   {
    "duration": 5,
    "start_time": "2025-02-05T19:58:32.809Z"
   },
   {
    "duration": 12,
    "start_time": "2025-02-05T19:58:37.965Z"
   },
   {
    "duration": 9,
    "start_time": "2025-02-05T19:59:05.194Z"
   },
   {
    "duration": 12,
    "start_time": "2025-02-05T19:59:09.251Z"
   },
   {
    "duration": 11,
    "start_time": "2025-02-05T19:59:50.740Z"
   },
   {
    "duration": 598,
    "start_time": "2025-02-05T20:02:04.589Z"
   },
   {
    "duration": 392,
    "start_time": "2025-02-05T20:02:45.671Z"
   },
   {
    "duration": 166,
    "start_time": "2025-02-05T20:04:18.916Z"
   },
   {
    "duration": 260,
    "start_time": "2025-02-05T20:05:32.846Z"
   },
   {
    "duration": 46,
    "start_time": "2025-02-05T20:07:20.046Z"
   },
   {
    "duration": 158,
    "start_time": "2025-02-05T20:07:29.659Z"
   },
   {
    "duration": 146,
    "start_time": "2025-02-05T20:14:40.026Z"
   },
   {
    "duration": 159,
    "start_time": "2025-02-05T20:14:52.075Z"
   },
   {
    "duration": 164,
    "start_time": "2025-02-05T20:15:27.677Z"
   },
   {
    "duration": 67,
    "start_time": "2025-02-05T20:23:41.458Z"
   },
   {
    "duration": 149,
    "start_time": "2025-02-05T20:24:40.000Z"
   },
   {
    "duration": 147,
    "start_time": "2025-02-05T20:24:50.808Z"
   },
   {
    "duration": 381,
    "start_time": "2025-02-05T20:24:56.598Z"
   },
   {
    "duration": 178,
    "start_time": "2025-02-05T20:25:06.527Z"
   },
   {
    "duration": 308,
    "start_time": "2025-02-05T20:34:18.406Z"
   },
   {
    "duration": 52,
    "start_time": "2025-02-05T20:34:54.253Z"
   },
   {
    "duration": 52,
    "start_time": "2025-02-05T20:36:12.568Z"
   },
   {
    "duration": 51,
    "start_time": "2025-02-05T20:36:28.848Z"
   },
   {
    "duration": 31,
    "start_time": "2025-02-05T20:42:25.559Z"
   },
   {
    "duration": 54,
    "start_time": "2025-02-05T20:42:44.612Z"
   },
   {
    "duration": 198,
    "start_time": "2025-02-05T21:14:31.435Z"
   },
   {
    "duration": 32,
    "start_time": "2025-02-05T21:14:57.076Z"
   },
   {
    "duration": 4,
    "start_time": "2025-02-05T21:27:40.802Z"
   },
   {
    "duration": 38,
    "start_time": "2025-02-05T21:27:48.449Z"
   },
   {
    "duration": 40,
    "start_time": "2025-02-05T21:28:24.203Z"
   },
   {
    "duration": 37,
    "start_time": "2025-02-05T21:28:39.737Z"
   },
   {
    "duration": 44,
    "start_time": "2025-02-05T21:29:02.027Z"
   },
   {
    "duration": 91,
    "start_time": "2025-02-05T21:31:15.728Z"
   },
   {
    "duration": 40,
    "start_time": "2025-02-05T21:32:38.126Z"
   },
   {
    "duration": 44,
    "start_time": "2025-02-05T21:32:49.180Z"
   },
   {
    "duration": 41,
    "start_time": "2025-02-05T21:33:39.150Z"
   },
   {
    "duration": 16,
    "start_time": "2025-02-05T21:39:35.560Z"
   },
   {
    "duration": 14,
    "start_time": "2025-02-05T21:39:42.394Z"
   },
   {
    "duration": 27,
    "start_time": "2025-02-05T21:39:52.952Z"
   },
   {
    "duration": 50,
    "start_time": "2025-02-05T21:40:53.387Z"
   },
   {
    "duration": 18,
    "start_time": "2025-02-05T21:40:56.666Z"
   },
   {
    "duration": 17,
    "start_time": "2025-02-05T21:41:13.351Z"
   },
   {
    "duration": 7,
    "start_time": "2025-02-05T21:41:18.049Z"
   },
   {
    "duration": 39,
    "start_time": "2025-02-05T21:44:11.799Z"
   },
   {
    "duration": 8,
    "start_time": "2025-02-05T21:44:20.238Z"
   },
   {
    "duration": 10,
    "start_time": "2025-02-05T21:45:27.334Z"
   },
   {
    "duration": 38,
    "start_time": "2025-02-05T21:46:44.164Z"
   },
   {
    "duration": 8,
    "start_time": "2025-02-05T21:46:46.257Z"
   },
   {
    "duration": 9,
    "start_time": "2025-02-05T21:53:16.922Z"
   },
   {
    "duration": 13,
    "start_time": "2025-02-05T21:53:27.629Z"
   },
   {
    "duration": 35,
    "start_time": "2025-02-05T21:57:03.261Z"
   },
   {
    "duration": 38,
    "start_time": "2025-02-05T21:57:50.798Z"
   },
   {
    "duration": 9,
    "start_time": "2025-02-05T21:58:13.472Z"
   },
   {
    "duration": 11,
    "start_time": "2025-02-05T21:58:23.276Z"
   },
   {
    "duration": 42,
    "start_time": "2025-02-05T21:59:04.091Z"
   },
   {
    "duration": 42,
    "start_time": "2025-02-05T21:59:15.869Z"
   },
   {
    "duration": 4,
    "start_time": "2025-02-05T22:01:45.161Z"
   },
   {
    "duration": 13,
    "start_time": "2025-02-05T22:01:49.025Z"
   },
   {
    "duration": 11,
    "start_time": "2025-02-05T22:01:51.436Z"
   },
   {
    "duration": 16,
    "start_time": "2025-02-05T22:02:02.545Z"
   },
   {
    "duration": 14,
    "start_time": "2025-02-05T22:08:18.831Z"
   },
   {
    "duration": 165,
    "start_time": "2025-02-05T22:08:32.037Z"
   },
   {
    "duration": 649,
    "start_time": "2025-02-05T22:08:39.458Z"
   },
   {
    "duration": 162,
    "start_time": "2025-02-05T22:08:48.839Z"
   },
   {
    "duration": 306,
    "start_time": "2025-02-05T22:16:38.136Z"
   },
   {
    "duration": 209,
    "start_time": "2025-02-05T22:17:11.007Z"
   },
   {
    "duration": 383,
    "start_time": "2025-02-05T22:18:09.705Z"
   },
   {
    "duration": 180,
    "start_time": "2025-02-05T22:18:39.996Z"
   },
   {
    "duration": 178,
    "start_time": "2025-02-05T22:19:00.614Z"
   },
   {
    "duration": 4,
    "start_time": "2025-02-05T22:20:18.351Z"
   },
   {
    "duration": 183,
    "start_time": "2025-02-05T22:20:26.826Z"
   },
   {
    "duration": 173,
    "start_time": "2025-02-05T22:21:36.056Z"
   },
   {
    "duration": 178,
    "start_time": "2025-02-05T22:21:49.110Z"
   },
   {
    "duration": 236,
    "start_time": "2025-02-05T22:27:37.262Z"
   },
   {
    "duration": 897,
    "start_time": "2025-02-05T22:28:29.814Z"
   },
   {
    "duration": 12,
    "start_time": "2025-02-05T22:28:30.713Z"
   },
   {
    "duration": 15,
    "start_time": "2025-02-05T22:28:30.727Z"
   },
   {
    "duration": 218,
    "start_time": "2025-02-05T22:28:30.745Z"
   },
   {
    "duration": 168,
    "start_time": "2025-02-05T22:28:30.965Z"
   },
   {
    "duration": 72,
    "start_time": "2025-02-05T22:28:31.135Z"
   },
   {
    "duration": 135,
    "start_time": "2025-02-05T22:28:31.209Z"
   },
   {
    "duration": 38,
    "start_time": "2025-02-05T22:28:31.346Z"
   },
   {
    "duration": 205,
    "start_time": "2025-02-05T22:28:31.386Z"
   },
   {
    "duration": 184,
    "start_time": "2025-02-05T22:28:31.597Z"
   },
   {
    "duration": 229,
    "start_time": "2025-02-05T22:51:43.138Z"
   },
   {
    "duration": 13,
    "start_time": "2025-02-05T22:51:48.135Z"
   },
   {
    "duration": 5,
    "start_time": "2025-02-05T22:52:35.794Z"
   },
   {
    "duration": 10,
    "start_time": "2025-02-05T22:53:17.574Z"
   },
   {
    "duration": 25,
    "start_time": "2025-02-05T22:53:22.717Z"
   },
   {
    "duration": 167,
    "start_time": "2025-02-05T22:55:51.498Z"
   },
   {
    "duration": 4,
    "start_time": "2025-02-05T22:59:40.095Z"
   },
   {
    "duration": 217,
    "start_time": "2025-02-05T22:59:46.790Z"
   },
   {
    "duration": 237,
    "start_time": "2025-02-05T23:07:07.900Z"
   },
   {
    "duration": 366,
    "start_time": "2025-02-05T23:10:42.232Z"
   },
   {
    "duration": 250,
    "start_time": "2025-02-05T23:10:56.304Z"
   },
   {
    "duration": 305,
    "start_time": "2025-02-05T23:11:43.714Z"
   },
   {
    "duration": 226,
    "start_time": "2025-02-05T23:13:52.270Z"
   },
   {
    "duration": 236,
    "start_time": "2025-02-05T23:14:02.866Z"
   },
   {
    "duration": 144,
    "start_time": "2025-02-05T23:16:33.520Z"
   },
   {
    "duration": 4,
    "start_time": "2025-02-05T23:17:09.297Z"
   },
   {
    "duration": 7,
    "start_time": "2025-02-05T23:18:14.190Z"
   },
   {
    "duration": 18,
    "start_time": "2025-02-05T23:21:15.789Z"
   },
   {
    "duration": 156,
    "start_time": "2025-02-05T23:21:24.254Z"
   },
   {
    "duration": 5,
    "start_time": "2025-02-05T23:21:29.092Z"
   },
   {
    "duration": 4,
    "start_time": "2025-02-05T23:22:37.105Z"
   },
   {
    "duration": 4,
    "start_time": "2025-02-05T23:22:50.150Z"
   },
   {
    "duration": 7,
    "start_time": "2025-02-05T23:22:55.627Z"
   },
   {
    "duration": 9,
    "start_time": "2025-02-05T23:25:42.659Z"
   },
   {
    "duration": 8,
    "start_time": "2025-02-05T23:25:50.305Z"
   },
   {
    "duration": 8,
    "start_time": "2025-02-05T23:26:14.258Z"
   },
   {
    "duration": 5,
    "start_time": "2025-02-05T23:29:09.092Z"
   },
   {
    "duration": 19,
    "start_time": "2025-02-05T23:29:50.282Z"
   },
   {
    "duration": 13,
    "start_time": "2025-02-05T23:29:57.268Z"
   },
   {
    "duration": 7,
    "start_time": "2025-02-05T23:38:09.414Z"
   },
   {
    "duration": 7,
    "start_time": "2025-02-05T23:38:25.501Z"
   },
   {
    "duration": 37,
    "start_time": "2025-02-05T23:38:29.006Z"
   },
   {
    "duration": 311,
    "start_time": "2025-02-05T23:39:15.717Z"
   },
   {
    "duration": 10,
    "start_time": "2025-02-06T14:07:05.110Z"
   },
   {
    "duration": 158,
    "start_time": "2025-02-06T14:07:09.208Z"
   },
   {
    "duration": 2670,
    "start_time": "2025-02-06T14:08:05.203Z"
   },
   {
    "duration": 11,
    "start_time": "2025-02-06T14:08:07.875Z"
   },
   {
    "duration": 30,
    "start_time": "2025-02-06T14:08:07.888Z"
   },
   {
    "duration": 181,
    "start_time": "2025-02-06T14:08:07.921Z"
   },
   {
    "duration": 161,
    "start_time": "2025-02-06T14:08:08.104Z"
   },
   {
    "duration": 76,
    "start_time": "2025-02-06T14:08:08.267Z"
   },
   {
    "duration": 77,
    "start_time": "2025-02-06T14:08:08.345Z"
   },
   {
    "duration": 16,
    "start_time": "2025-02-06T14:08:08.424Z"
   },
   {
    "duration": 206,
    "start_time": "2025-02-06T14:08:08.442Z"
   },
   {
    "duration": 231,
    "start_time": "2025-02-06T14:08:08.652Z"
   },
   {
    "duration": 229,
    "start_time": "2025-02-06T14:08:08.885Z"
   },
   {
    "duration": 217,
    "start_time": "2025-02-06T14:08:09.116Z"
   },
   {
    "duration": 135,
    "start_time": "2025-02-06T14:08:09.335Z"
   },
   {
    "duration": 4,
    "start_time": "2025-02-06T14:08:09.472Z"
   },
   {
    "duration": 147,
    "start_time": "2025-02-06T14:08:09.478Z"
   },
   {
    "duration": 4,
    "start_time": "2025-02-06T14:08:09.627Z"
   },
   {
    "duration": 8,
    "start_time": "2025-02-06T14:08:09.633Z"
   },
   {
    "duration": 462,
    "start_time": "2025-02-06T14:08:09.643Z"
   },
   {
    "duration": 13,
    "start_time": "2025-02-06T14:18:24.395Z"
   },
   {
    "duration": 12,
    "start_time": "2025-02-06T14:18:28.079Z"
   },
   {
    "duration": 9,
    "start_time": "2025-02-06T14:19:25.423Z"
   },
   {
    "duration": 8,
    "start_time": "2025-02-06T14:20:17.655Z"
   },
   {
    "duration": 18,
    "start_time": "2025-02-06T14:35:17.745Z"
   },
   {
    "duration": 8,
    "start_time": "2025-02-06T14:39:18.596Z"
   },
   {
    "duration": 3,
    "start_time": "2025-02-06T14:40:20.868Z"
   },
   {
    "duration": 8,
    "start_time": "2025-02-06T14:40:28.017Z"
   },
   {
    "duration": 7,
    "start_time": "2025-02-06T14:43:53.944Z"
   },
   {
    "duration": 6,
    "start_time": "2025-02-06T14:44:39.542Z"
   },
   {
    "duration": 7,
    "start_time": "2025-02-06T14:46:26.827Z"
   },
   {
    "duration": 7,
    "start_time": "2025-02-06T14:46:34.609Z"
   },
   {
    "duration": 6,
    "start_time": "2025-02-06T14:46:43.213Z"
   },
   {
    "duration": 2,
    "start_time": "2025-02-06T14:47:24.177Z"
   },
   {
    "duration": 166,
    "start_time": "2025-02-06T18:47:36.470Z"
   },
   {
    "duration": 2633,
    "start_time": "2025-02-06T18:47:59.654Z"
   },
   {
    "duration": 18,
    "start_time": "2025-02-06T18:48:02.289Z"
   },
   {
    "duration": 10,
    "start_time": "2025-02-06T18:48:02.308Z"
   },
   {
    "duration": 185,
    "start_time": "2025-02-06T18:48:02.320Z"
   },
   {
    "duration": 158,
    "start_time": "2025-02-06T18:48:02.506Z"
   },
   {
    "duration": 67,
    "start_time": "2025-02-06T18:48:02.666Z"
   },
   {
    "duration": 112,
    "start_time": "2025-02-06T18:48:02.737Z"
   },
   {
    "duration": 15,
    "start_time": "2025-02-06T18:48:02.851Z"
   },
   {
    "duration": 227,
    "start_time": "2025-02-06T18:48:02.867Z"
   },
   {
    "duration": 172,
    "start_time": "2025-02-06T18:48:03.097Z"
   },
   {
    "duration": 236,
    "start_time": "2025-02-06T18:48:03.271Z"
   },
   {
    "duration": 201,
    "start_time": "2025-02-06T18:48:03.508Z"
   },
   {
    "duration": 128,
    "start_time": "2025-02-06T18:48:03.711Z"
   },
   {
    "duration": 5,
    "start_time": "2025-02-06T18:48:03.840Z"
   },
   {
    "duration": 143,
    "start_time": "2025-02-06T18:48:03.846Z"
   },
   {
    "duration": 4,
    "start_time": "2025-02-06T18:48:03.991Z"
   },
   {
    "duration": 14,
    "start_time": "2025-02-06T18:48:03.996Z"
   },
   {
    "duration": 19,
    "start_time": "2025-02-06T18:48:04.012Z"
   },
   {
    "duration": 7,
    "start_time": "2025-02-06T18:48:04.033Z"
   },
   {
    "duration": 6,
    "start_time": "2025-02-06T18:48:04.041Z"
   },
   {
    "duration": 4,
    "start_time": "2025-02-06T18:48:04.048Z"
   },
   {
    "duration": 170,
    "start_time": "2025-02-06T18:56:04.605Z"
   },
   {
    "duration": 6,
    "start_time": "2025-02-06T19:41:08.866Z"
   },
   {
    "duration": 4,
    "start_time": "2025-02-06T19:41:19.352Z"
   },
   {
    "duration": 3,
    "start_time": "2025-02-06T19:41:31.744Z"
   },
   {
    "duration": 8,
    "start_time": "2025-02-06T19:41:47.088Z"
   },
   {
    "duration": 19,
    "start_time": "2025-02-06T19:43:50.479Z"
   },
   {
    "duration": 2654,
    "start_time": "2025-02-07T19:23:43.831Z"
   },
   {
    "duration": 10,
    "start_time": "2025-02-07T19:23:46.487Z"
   },
   {
    "duration": 10,
    "start_time": "2025-02-07T19:23:46.509Z"
   },
   {
    "duration": 175,
    "start_time": "2025-02-07T19:23:46.520Z"
   },
   {
    "duration": 156,
    "start_time": "2025-02-07T19:23:46.708Z"
   },
   {
    "duration": 71,
    "start_time": "2025-02-07T19:23:46.866Z"
   },
   {
    "duration": 74,
    "start_time": "2025-02-07T19:23:46.941Z"
   },
   {
    "duration": 18,
    "start_time": "2025-02-07T19:23:47.017Z"
   },
   {
    "duration": 232,
    "start_time": "2025-02-07T19:23:47.037Z"
   },
   {
    "duration": 179,
    "start_time": "2025-02-07T19:23:47.271Z"
   },
   {
    "duration": 246,
    "start_time": "2025-02-07T19:23:47.452Z"
   },
   {
    "duration": 279,
    "start_time": "2025-02-07T19:23:47.708Z"
   },
   {
    "duration": 137,
    "start_time": "2025-02-07T19:23:47.989Z"
   },
   {
    "duration": 4,
    "start_time": "2025-02-07T19:23:48.129Z"
   },
   {
    "duration": 142,
    "start_time": "2025-02-07T19:23:48.135Z"
   },
   {
    "duration": 5,
    "start_time": "2025-02-07T19:23:48.278Z"
   },
   {
    "duration": 8,
    "start_time": "2025-02-07T19:23:48.284Z"
   },
   {
    "duration": 19,
    "start_time": "2025-02-07T19:23:48.308Z"
   },
   {
    "duration": 8,
    "start_time": "2025-02-07T19:23:48.328Z"
   },
   {
    "duration": 6,
    "start_time": "2025-02-07T19:23:48.338Z"
   },
   {
    "duration": 192,
    "start_time": "2025-02-09T23:28:52.415Z"
   },
   {
    "duration": 2995,
    "start_time": "2025-02-09T23:29:00.066Z"
   },
   {
    "duration": 84,
    "start_time": "2025-02-09T23:29:03.064Z"
   },
   {
    "duration": 18,
    "start_time": "2025-02-09T23:29:03.150Z"
   },
   {
    "duration": 11,
    "start_time": "2025-02-09T23:29:03.173Z"
   },
   {
    "duration": 172,
    "start_time": "2025-02-09T23:29:03.186Z"
   },
   {
    "duration": 174,
    "start_time": "2025-02-09T23:29:03.360Z"
   },
   {
    "duration": 107,
    "start_time": "2025-02-09T23:29:03.536Z"
   },
   {
    "duration": 20,
    "start_time": "2025-02-09T23:29:03.646Z"
   },
   {
    "duration": 198,
    "start_time": "2025-02-09T23:29:03.667Z"
   },
   {
    "duration": 191,
    "start_time": "2025-02-09T23:29:03.868Z"
   },
   {
    "duration": 273,
    "start_time": "2025-02-09T23:29:04.061Z"
   },
   {
    "duration": 231,
    "start_time": "2025-02-09T23:29:04.336Z"
   },
   {
    "duration": 136,
    "start_time": "2025-02-09T23:29:04.570Z"
   },
   {
    "duration": 5,
    "start_time": "2025-02-09T23:29:04.710Z"
   },
   {
    "duration": 152,
    "start_time": "2025-02-09T23:29:04.717Z"
   },
   {
    "duration": 4,
    "start_time": "2025-02-09T23:29:04.871Z"
   },
   {
    "duration": 10,
    "start_time": "2025-02-09T23:29:04.877Z"
   },
   {
    "duration": 18,
    "start_time": "2025-02-09T23:29:04.889Z"
   },
   {
    "duration": 7,
    "start_time": "2025-02-09T23:29:04.908Z"
   },
   {
    "duration": 6,
    "start_time": "2025-02-09T23:29:04.943Z"
   }
  ],
  "kernelspec": {
   "display_name": "Python 3 (ipykernel)",
   "language": "python",
   "name": "python3"
  },
  "language_info": {
   "codemirror_mode": {
    "name": "ipython",
    "version": 3
   },
   "file_extension": ".py",
   "mimetype": "text/x-python",
   "name": "python",
   "nbconvert_exporter": "python",
   "pygments_lexer": "ipython3",
   "version": "3.9.19"
  },
  "toc": {
   "base_numbering": 1,
   "nav_menu": {},
   "number_sections": true,
   "sideBar": true,
   "skip_h1_title": true,
   "title_cell": "Table of Contents",
   "title_sidebar": "Contents",
   "toc_cell": false,
   "toc_position": {},
   "toc_section_display": true,
   "toc_window_display": false
  }
 },
 "nbformat": 4,
 "nbformat_minor": 2
}
